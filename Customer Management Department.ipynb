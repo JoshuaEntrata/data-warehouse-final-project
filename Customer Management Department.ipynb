{
 "cells": [
  {
   "cell_type": "code",
   "execution_count": 1,
   "id": "8ff60291-52d6-4ffa-9dc1-c695c8476c79",
   "metadata": {},
   "outputs": [],
   "source": [
    "import pandas as pd\n",
    "import numpy as np"
   ]
  },
  {
   "cell_type": "markdown",
   "id": "f49ae384-d873-4cc4-ac58-58c0e857ea9c",
   "metadata": {},
   "source": [
    "# User Credit Card\n"
   ]
  },
  {
   "cell_type": "code",
   "execution_count": 2,
   "id": "00c1acf2-1843-4751-80a9-2858e54c0c9e",
   "metadata": {},
   "outputs": [
    {
     "name": "stdout",
     "output_type": "stream",
     "text": [
      "        user_id              name  credit_card_number   issuing_bank\n",
      "0     USER40678        Zion Feest          4294956114            bpi\n",
      "1     USER08728  Kattie Bergstrom          2742902159            bdo\n",
      "2     USER29759      Aiden Corwin          1917471950            bdo\n",
      "3     USER16806    Vince Gislason          3290792253      chinabank\n",
      "4     USER27644     Adele Okuneva          2313395832      chinabank\n",
      "...         ...               ...                 ...            ...\n",
      "4995  USER49969   Kendall Waelchi          1870581879      chinabank\n",
      "4996  USER57209  Lucious Kshlerin          1139377065       mayabank\n",
      "4997  USER36424    Cordie Jenkins          2187584552  robinsonsbank\n",
      "4998  USER45166        Tyrel Feil          2542420860            bdo\n",
      "4999  USER54154       Betty Zieme          4104712921   securitybank\n",
      "\n",
      "[5000 rows x 4 columns]\n",
      "Index(['user_id', 'name', 'credit_card_number', 'issuing_bank'], dtype='object')\n"
     ]
    }
   ],
   "source": [
    "df_user_cc = pd.read_pickle(\n",
    "    'Customer Management Department/user_credit_card.pickle')\n",
    "\n",
    "\n",
    "print(df_user_cc)\n",
    "\n",
    "\n",
    "print(df_user_cc.columns.ravel())"
   ]
  },
  {
   "cell_type": "markdown",
   "metadata": {},
   "source": [
    "## Fix the naming of name and issuing_bank\n"
   ]
  },
  {
   "cell_type": "code",
   "execution_count": 3,
   "metadata": {},
   "outputs": [
    {
     "data": {
      "text/plain": [
       "array(['bpi', 'bdo', 'chinabank', 'metrobank', 'mayabank',\n",
       "       'robinsonsbank', 'securitybank', 'eastwest'], dtype=object)"
      ]
     },
     "execution_count": 3,
     "metadata": {},
     "output_type": "execute_result"
    }
   ],
   "source": [
    "unique_issuing_banks = df_user_cc['issuing_bank'].unique()\n",
    "unique_issuing_banks"
   ]
  },
  {
   "cell_type": "markdown",
   "metadata": {},
   "source": [
    "#### Fix the name of the banks\n"
   ]
  },
  {
   "cell_type": "code",
   "execution_count": 4,
   "metadata": {},
   "outputs": [
    {
     "name": "stdout",
     "output_type": "stream",
     "text": [
      "['BPI' 'BDO' 'China Bank' 'Metrobank' 'Maya Bank' 'Robinsons Bank'\n",
      " 'Security Bank' 'EastWest']\n"
     ]
    }
   ],
   "source": [
    "df_user_cc['issuing_bank'] = df_user_cc['issuing_bank'].replace({'chinabank': 'China Bank', 'bpi': 'BPI', 'bdo': 'BDO', 'metrobank': 'Metrobank',\n",
    "                                                                'mayabank': 'Maya Bank', 'robinsonsbank': 'Robinsons Bank', 'securitybank': 'Security Bank', 'eastwest': 'EastWest'})\n",
    "\n",
    "unique_issuing_banks = df_user_cc['issuing_bank'].unique()\n",
    "print(unique_issuing_banks)"
   ]
  },
  {
   "cell_type": "markdown",
   "metadata": {},
   "source": [
    "#### Convert name to title case\n"
   ]
  },
  {
   "cell_type": "code",
   "execution_count": 5,
   "metadata": {},
   "outputs": [
    {
     "data": {
      "text/plain": [
       "array(['Zion Feest', 'Kattie Bergstrom', 'Aiden Corwin', ...,\n",
       "       'Cordie Jenkins', 'Tyrel Feil', 'Betty Zieme'], dtype=object)"
      ]
     },
     "execution_count": 5,
     "metadata": {},
     "output_type": "execute_result"
    }
   ],
   "source": [
    "df_user_cc['name'] = df_user_cc['name'].str.title()\n",
    "unique_issuing_names = df_user_cc['name'].unique()\n",
    "unique_issuing_names"
   ]
  },
  {
   "cell_type": "markdown",
   "metadata": {},
   "source": [
    "#### Check for special characters\n"
   ]
  },
  {
   "cell_type": "code",
   "execution_count": 6,
   "metadata": {},
   "outputs": [
    {
     "name": "stdout",
     "output_type": "stream",
     "text": [
      "Empty DataFrame\n",
      "Columns: [user_id, name, credit_card_number, issuing_bank]\n",
      "Index: []\n"
     ]
    }
   ],
   "source": [
    "special_chars_check = df_user_cc['name'].str.contains(\n",
    "    r'[^A-Za-z0-9\\s]', regex=True)\n",
    "print(df_user_cc[special_chars_check])"
   ]
  },
  {
   "cell_type": "code",
   "execution_count": 7,
   "metadata": {},
   "outputs": [
    {
     "data": {
      "text/html": [
       "<div>\n",
       "<style scoped>\n",
       "    .dataframe tbody tr th:only-of-type {\n",
       "        vertical-align: middle;\n",
       "    }\n",
       "\n",
       "    .dataframe tbody tr th {\n",
       "        vertical-align: top;\n",
       "    }\n",
       "\n",
       "    .dataframe thead th {\n",
       "        text-align: right;\n",
       "    }\n",
       "</style>\n",
       "<table border=\"1\" class=\"dataframe\">\n",
       "  <thead>\n",
       "    <tr style=\"text-align: right;\">\n",
       "      <th></th>\n",
       "      <th>user_id</th>\n",
       "      <th>name</th>\n",
       "      <th>credit_card_number</th>\n",
       "      <th>issuing_bank</th>\n",
       "    </tr>\n",
       "  </thead>\n",
       "  <tbody>\n",
       "    <tr>\n",
       "      <th>0</th>\n",
       "      <td>USER40678</td>\n",
       "      <td>Zion Feest</td>\n",
       "      <td>4294956114</td>\n",
       "      <td>BPI</td>\n",
       "    </tr>\n",
       "    <tr>\n",
       "      <th>1</th>\n",
       "      <td>USER08728</td>\n",
       "      <td>Kattie Bergstrom</td>\n",
       "      <td>2742902159</td>\n",
       "      <td>BDO</td>\n",
       "    </tr>\n",
       "    <tr>\n",
       "      <th>2</th>\n",
       "      <td>USER29759</td>\n",
       "      <td>Aiden Corwin</td>\n",
       "      <td>1917471950</td>\n",
       "      <td>BDO</td>\n",
       "    </tr>\n",
       "    <tr>\n",
       "      <th>3</th>\n",
       "      <td>USER16806</td>\n",
       "      <td>Vince Gislason</td>\n",
       "      <td>3290792253</td>\n",
       "      <td>China Bank</td>\n",
       "    </tr>\n",
       "    <tr>\n",
       "      <th>4</th>\n",
       "      <td>USER27644</td>\n",
       "      <td>Adele Okuneva</td>\n",
       "      <td>2313395832</td>\n",
       "      <td>China Bank</td>\n",
       "    </tr>\n",
       "    <tr>\n",
       "      <th>...</th>\n",
       "      <td>...</td>\n",
       "      <td>...</td>\n",
       "      <td>...</td>\n",
       "      <td>...</td>\n",
       "    </tr>\n",
       "    <tr>\n",
       "      <th>4995</th>\n",
       "      <td>USER49969</td>\n",
       "      <td>Kendall Waelchi</td>\n",
       "      <td>1870581879</td>\n",
       "      <td>China Bank</td>\n",
       "    </tr>\n",
       "    <tr>\n",
       "      <th>4996</th>\n",
       "      <td>USER57209</td>\n",
       "      <td>Lucious Kshlerin</td>\n",
       "      <td>1139377065</td>\n",
       "      <td>Maya Bank</td>\n",
       "    </tr>\n",
       "    <tr>\n",
       "      <th>4997</th>\n",
       "      <td>USER36424</td>\n",
       "      <td>Cordie Jenkins</td>\n",
       "      <td>2187584552</td>\n",
       "      <td>Robinsons Bank</td>\n",
       "    </tr>\n",
       "    <tr>\n",
       "      <th>4998</th>\n",
       "      <td>USER45166</td>\n",
       "      <td>Tyrel Feil</td>\n",
       "      <td>2542420860</td>\n",
       "      <td>BDO</td>\n",
       "    </tr>\n",
       "    <tr>\n",
       "      <th>4999</th>\n",
       "      <td>USER54154</td>\n",
       "      <td>Betty Zieme</td>\n",
       "      <td>4104712921</td>\n",
       "      <td>Security Bank</td>\n",
       "    </tr>\n",
       "  </tbody>\n",
       "</table>\n",
       "<p>5000 rows × 4 columns</p>\n",
       "</div>"
      ],
      "text/plain": [
       "        user_id              name  credit_card_number    issuing_bank\n",
       "0     USER40678        Zion Feest          4294956114             BPI\n",
       "1     USER08728  Kattie Bergstrom          2742902159             BDO\n",
       "2     USER29759      Aiden Corwin          1917471950             BDO\n",
       "3     USER16806    Vince Gislason          3290792253      China Bank\n",
       "4     USER27644     Adele Okuneva          2313395832      China Bank\n",
       "...         ...               ...                 ...             ...\n",
       "4995  USER49969   Kendall Waelchi          1870581879      China Bank\n",
       "4996  USER57209  Lucious Kshlerin          1139377065       Maya Bank\n",
       "4997  USER36424    Cordie Jenkins          2187584552  Robinsons Bank\n",
       "4998  USER45166        Tyrel Feil          2542420860             BDO\n",
       "4999  USER54154       Betty Zieme          4104712921   Security Bank\n",
       "\n",
       "[5000 rows x 4 columns]"
      ]
     },
     "execution_count": 7,
     "metadata": {},
     "output_type": "execute_result"
    }
   ],
   "source": [
    "df_user_cc"
   ]
  },
  {
   "cell_type": "markdown",
   "metadata": {},
   "source": [
    "## Remove invalid credit card number\n"
   ]
  },
  {
   "cell_type": "markdown",
   "metadata": {},
   "source": [
    "Check if there are credit card numbers that is not 10 digits\n"
   ]
  },
  {
   "cell_type": "code",
   "execution_count": 8,
   "metadata": {},
   "outputs": [
    {
     "name": "stdout",
     "output_type": "stream",
     "text": [
      "        user_id              name credit_card_number   issuing_bank\n",
      "10    USER02300   Aubrey Mitchell          779912290      Metrobank\n",
      "12    USER15171    Junius Watsica          489754926      Maya Bank\n",
      "15    USER29028       Cali Walker          786901098  Security Bank\n",
      "23    USER23143       Dora Jacobs          660162130       EastWest\n",
      "38    USER24767      Pink Schmitt          276041500  Security Bank\n",
      "...         ...               ...                ...            ...\n",
      "4976  USER04133       Kenyon King          629941793  Security Bank\n",
      "4977  USER24235  Calista Prohaska          633907739  Security Bank\n",
      "4978  USER05332   Benton Kassulke          195020692       EastWest\n",
      "4985  USER44983       Rahul Olson          106565871      Metrobank\n",
      "4986  USER47658      Jerrell Veum          597295254            BPI\n",
      "\n",
      "[1115 rows x 4 columns]\n"
     ]
    }
   ],
   "source": [
    "df_user_cc['credit_card_number'] = df_user_cc['credit_card_number'].astype(str)\n",
    "\n",
    "not_ten_digits_check = ~df_user_cc['credit_card_number'].str.match(r'^\\d{10}$')\n",
    "\n",
    "print(df_user_cc[not_ten_digits_check])"
   ]
  },
  {
   "cell_type": "markdown",
   "metadata": {},
   "source": [
    "Remove rows that are not 10 digits in credit card number\n"
   ]
  },
  {
   "cell_type": "code",
   "execution_count": 9,
   "metadata": {},
   "outputs": [
    {
     "name": "stdout",
     "output_type": "stream",
     "text": [
      "Empty DataFrame\n",
      "Columns: [user_id, name, credit_card_number, issuing_bank]\n",
      "Index: []\n"
     ]
    },
    {
     "name": "stderr",
     "output_type": "stream",
     "text": [
      "C:\\Users\\JOSHUA KYLE\\AppData\\Local\\Temp\\ipykernel_18984\\2513970000.py:4: SettingWithCopyWarning: \n",
      "A value is trying to be set on a copy of a slice from a DataFrame.\n",
      "Try using .loc[row_indexer,col_indexer] = value instead\n",
      "\n",
      "See the caveats in the documentation: https://pandas.pydata.org/pandas-docs/stable/user_guide/indexing.html#returning-a-view-versus-a-copy\n",
      "  df_user_cc['credit_card_number'] = df_user_cc['credit_card_number'].astype(str)\n"
     ]
    }
   ],
   "source": [
    "df_user_cc = df_user_cc[df_user_cc['credit_card_number'].astype(\n",
    "    str).apply(len) == 10]\n",
    "\n",
    "df_user_cc['credit_card_number'] = df_user_cc['credit_card_number'].astype(str)\n",
    "not_ten_digits_check = ~df_user_cc['credit_card_number'].str.match(r'^\\d{10}$')\n",
    "print(df_user_cc[not_ten_digits_check])"
   ]
  },
  {
   "cell_type": "markdown",
   "metadata": {},
   "source": [
    "## Check for rows with same credit card number but different names\n"
   ]
  },
  {
   "cell_type": "code",
   "execution_count": 10,
   "metadata": {},
   "outputs": [
    {
     "name": "stdout",
     "output_type": "stream",
     "text": [
      "Empty DataFrame\n",
      "Columns: [user_id, name, credit_card_number, issuing_bank]\n",
      "Index: []\n"
     ]
    }
   ],
   "source": [
    "\n",
    "duplicate_credit_cards = df_user_cc[df_user_cc.duplicated(\n",
    "    'credit_card_number', keep=False)]\n",
    "\n",
    "print(duplicate_credit_cards)"
   ]
  },
  {
   "cell_type": "markdown",
   "metadata": {},
   "source": [
    "## Check for different user id but same name, credit card number, and issuing bank\n"
   ]
  },
  {
   "cell_type": "code",
   "execution_count": 11,
   "metadata": {},
   "outputs": [
    {
     "name": "stdout",
     "output_type": "stream",
     "text": [
      "Empty DataFrame\n",
      "Columns: [user_id, name, credit_card_number, issuing_bank]\n",
      "Index: []\n"
     ]
    }
   ],
   "source": [
    "duplicate_rows_diff_id = df_user_cc[df_user_cc.duplicated(\n",
    "    ['name', 'credit_card_number', 'issuing_bank'], keep=False)]\n",
    "\n",
    "print(duplicate_rows_diff_id)"
   ]
  },
  {
   "cell_type": "markdown",
   "metadata": {},
   "source": [
    "## Check for duplicate user id\n"
   ]
  },
  {
   "cell_type": "code",
   "execution_count": 12,
   "metadata": {},
   "outputs": [
    {
     "name": "stderr",
     "output_type": "stream",
     "text": [
      "C:\\Users\\JOSHUA KYLE\\AppData\\Local\\Temp\\ipykernel_18984\\1830357865.py:4: SettingWithCopyWarning: \n",
      "A value is trying to be set on a copy of a slice from a DataFrame\n",
      "\n",
      "See the caveats in the documentation: https://pandas.pydata.org/pandas-docs/stable/user_guide/indexing.html#returning-a-view-versus-a-copy\n",
      "  duplicate_user_ids.sort_values(by='user_id', inplace=True)\n"
     ]
    },
    {
     "data": {
      "text/html": [
       "<div>\n",
       "<style scoped>\n",
       "    .dataframe tbody tr th:only-of-type {\n",
       "        vertical-align: middle;\n",
       "    }\n",
       "\n",
       "    .dataframe tbody tr th {\n",
       "        vertical-align: top;\n",
       "    }\n",
       "\n",
       "    .dataframe thead th {\n",
       "        text-align: right;\n",
       "    }\n",
       "</style>\n",
       "<table border=\"1\" class=\"dataframe\">\n",
       "  <thead>\n",
       "    <tr style=\"text-align: right;\">\n",
       "      <th></th>\n",
       "      <th>user_id</th>\n",
       "      <th>name</th>\n",
       "      <th>credit_card_number</th>\n",
       "      <th>issuing_bank</th>\n",
       "    </tr>\n",
       "  </thead>\n",
       "  <tbody>\n",
       "    <tr>\n",
       "      <th>366</th>\n",
       "      <td>USER00304</td>\n",
       "      <td>Tom Welch</td>\n",
       "      <td>1356102080</td>\n",
       "      <td>BDO</td>\n",
       "    </tr>\n",
       "    <tr>\n",
       "      <th>554</th>\n",
       "      <td>USER00304</td>\n",
       "      <td>Mariam Kemmer</td>\n",
       "      <td>2209453432</td>\n",
       "      <td>EastWest</td>\n",
       "    </tr>\n",
       "    <tr>\n",
       "      <th>440</th>\n",
       "      <td>USER00393</td>\n",
       "      <td>Liliane Smith</td>\n",
       "      <td>2345218200</td>\n",
       "      <td>BDO</td>\n",
       "    </tr>\n",
       "    <tr>\n",
       "      <th>1230</th>\n",
       "      <td>USER00393</td>\n",
       "      <td>Shaina Bailey</td>\n",
       "      <td>2603941907</td>\n",
       "      <td>BDO</td>\n",
       "    </tr>\n",
       "    <tr>\n",
       "      <th>2551</th>\n",
       "      <td>USER00473</td>\n",
       "      <td>Landen Mayer</td>\n",
       "      <td>1873877802</td>\n",
       "      <td>BDO</td>\n",
       "    </tr>\n",
       "    <tr>\n",
       "      <th>...</th>\n",
       "      <td>...</td>\n",
       "      <td>...</td>\n",
       "      <td>...</td>\n",
       "      <td>...</td>\n",
       "    </tr>\n",
       "    <tr>\n",
       "      <th>3803</th>\n",
       "      <td>USER63701</td>\n",
       "      <td>Johan Hirthe</td>\n",
       "      <td>2728919776</td>\n",
       "      <td>BDO</td>\n",
       "    </tr>\n",
       "    <tr>\n",
       "      <th>1124</th>\n",
       "      <td>USER63839</td>\n",
       "      <td>Carole Jewess</td>\n",
       "      <td>1030639809</td>\n",
       "      <td>Robinsons Bank</td>\n",
       "    </tr>\n",
       "    <tr>\n",
       "      <th>1446</th>\n",
       "      <td>USER63839</td>\n",
       "      <td>Jairo Greenholt</td>\n",
       "      <td>3194193845</td>\n",
       "      <td>China Bank</td>\n",
       "    </tr>\n",
       "    <tr>\n",
       "      <th>738</th>\n",
       "      <td>USER64913</td>\n",
       "      <td>Madisen Bahringer</td>\n",
       "      <td>2256946049</td>\n",
       "      <td>China Bank</td>\n",
       "    </tr>\n",
       "    <tr>\n",
       "      <th>4214</th>\n",
       "      <td>USER64913</td>\n",
       "      <td>Petra Hansen</td>\n",
       "      <td>3820689844</td>\n",
       "      <td>BDO</td>\n",
       "    </tr>\n",
       "  </tbody>\n",
       "</table>\n",
       "<p>237 rows × 4 columns</p>\n",
       "</div>"
      ],
      "text/plain": [
       "        user_id               name credit_card_number    issuing_bank\n",
       "366   USER00304          Tom Welch         1356102080             BDO\n",
       "554   USER00304      Mariam Kemmer         2209453432        EastWest\n",
       "440   USER00393      Liliane Smith         2345218200             BDO\n",
       "1230  USER00393      Shaina Bailey         2603941907             BDO\n",
       "2551  USER00473       Landen Mayer         1873877802             BDO\n",
       "...         ...                ...                ...             ...\n",
       "3803  USER63701       Johan Hirthe         2728919776             BDO\n",
       "1124  USER63839      Carole Jewess         1030639809  Robinsons Bank\n",
       "1446  USER63839    Jairo Greenholt         3194193845      China Bank\n",
       "738   USER64913  Madisen Bahringer         2256946049      China Bank\n",
       "4214  USER64913       Petra Hansen         3820689844             BDO\n",
       "\n",
       "[237 rows x 4 columns]"
      ]
     },
     "execution_count": 12,
     "metadata": {},
     "output_type": "execute_result"
    }
   ],
   "source": [
    "duplicate_user_ids = df_user_cc[df_user_cc.duplicated(\n",
    "    subset='user_id', keep=False)]\n",
    "\n",
    "duplicate_user_ids.sort_values(by='user_id', inplace=True)\n",
    "duplicate_user_ids"
   ]
  },
  {
   "cell_type": "code",
   "execution_count": 13,
   "metadata": {},
   "outputs": [
    {
     "name": "stderr",
     "output_type": "stream",
     "text": [
      "C:\\Users\\JOSHUA KYLE\\AppData\\Local\\Temp\\ipykernel_18984\\1426785187.py:1: SettingWithCopyWarning: \n",
      "A value is trying to be set on a copy of a slice from a DataFrame.\n",
      "Try using .loc[row_indexer,col_indexer] = value instead\n",
      "\n",
      "See the caveats in the documentation: https://pandas.pydata.org/pandas-docs/stable/user_guide/indexing.html#returning-a-view-versus-a-copy\n",
      "  df_user_cc['user_id'] = df_user_cc['user_id'].str.replace(\n"
     ]
    },
    {
     "data": {
      "text/html": [
       "<div>\n",
       "<style scoped>\n",
       "    .dataframe tbody tr th:only-of-type {\n",
       "        vertical-align: middle;\n",
       "    }\n",
       "\n",
       "    .dataframe tbody tr th {\n",
       "        vertical-align: top;\n",
       "    }\n",
       "\n",
       "    .dataframe thead th {\n",
       "        text-align: right;\n",
       "    }\n",
       "</style>\n",
       "<table border=\"1\" class=\"dataframe\">\n",
       "  <thead>\n",
       "    <tr style=\"text-align: right;\">\n",
       "      <th></th>\n",
       "      <th>user_id</th>\n",
       "      <th>name</th>\n",
       "      <th>credit_card_number</th>\n",
       "      <th>issuing_bank</th>\n",
       "    </tr>\n",
       "  </thead>\n",
       "  <tbody>\n",
       "    <tr>\n",
       "      <th>0</th>\n",
       "      <td>40678</td>\n",
       "      <td>Zion Feest</td>\n",
       "      <td>4294956114</td>\n",
       "      <td>BPI</td>\n",
       "    </tr>\n",
       "    <tr>\n",
       "      <th>1</th>\n",
       "      <td>8728</td>\n",
       "      <td>Kattie Bergstrom</td>\n",
       "      <td>2742902159</td>\n",
       "      <td>BDO</td>\n",
       "    </tr>\n",
       "    <tr>\n",
       "      <th>2</th>\n",
       "      <td>29759</td>\n",
       "      <td>Aiden Corwin</td>\n",
       "      <td>1917471950</td>\n",
       "      <td>BDO</td>\n",
       "    </tr>\n",
       "    <tr>\n",
       "      <th>3</th>\n",
       "      <td>16806</td>\n",
       "      <td>Vince Gislason</td>\n",
       "      <td>3290792253</td>\n",
       "      <td>China Bank</td>\n",
       "    </tr>\n",
       "    <tr>\n",
       "      <th>4</th>\n",
       "      <td>27644</td>\n",
       "      <td>Adele Okuneva</td>\n",
       "      <td>2313395832</td>\n",
       "      <td>China Bank</td>\n",
       "    </tr>\n",
       "    <tr>\n",
       "      <th>...</th>\n",
       "      <td>...</td>\n",
       "      <td>...</td>\n",
       "      <td>...</td>\n",
       "      <td>...</td>\n",
       "    </tr>\n",
       "    <tr>\n",
       "      <th>4995</th>\n",
       "      <td>49969</td>\n",
       "      <td>Kendall Waelchi</td>\n",
       "      <td>1870581879</td>\n",
       "      <td>China Bank</td>\n",
       "    </tr>\n",
       "    <tr>\n",
       "      <th>4996</th>\n",
       "      <td>57209</td>\n",
       "      <td>Lucious Kshlerin</td>\n",
       "      <td>1139377065</td>\n",
       "      <td>Maya Bank</td>\n",
       "    </tr>\n",
       "    <tr>\n",
       "      <th>4997</th>\n",
       "      <td>36424</td>\n",
       "      <td>Cordie Jenkins</td>\n",
       "      <td>2187584552</td>\n",
       "      <td>Robinsons Bank</td>\n",
       "    </tr>\n",
       "    <tr>\n",
       "      <th>4998</th>\n",
       "      <td>45166</td>\n",
       "      <td>Tyrel Feil</td>\n",
       "      <td>2542420860</td>\n",
       "      <td>BDO</td>\n",
       "    </tr>\n",
       "    <tr>\n",
       "      <th>4999</th>\n",
       "      <td>54154</td>\n",
       "      <td>Betty Zieme</td>\n",
       "      <td>4104712921</td>\n",
       "      <td>Security Bank</td>\n",
       "    </tr>\n",
       "  </tbody>\n",
       "</table>\n",
       "<p>3885 rows × 4 columns</p>\n",
       "</div>"
      ],
      "text/plain": [
       "      user_id              name credit_card_number    issuing_bank\n",
       "0       40678        Zion Feest         4294956114             BPI\n",
       "1        8728  Kattie Bergstrom         2742902159             BDO\n",
       "2       29759      Aiden Corwin         1917471950             BDO\n",
       "3       16806    Vince Gislason         3290792253      China Bank\n",
       "4       27644     Adele Okuneva         2313395832      China Bank\n",
       "...       ...               ...                ...             ...\n",
       "4995    49969   Kendall Waelchi         1870581879      China Bank\n",
       "4996    57209  Lucious Kshlerin         1139377065       Maya Bank\n",
       "4997    36424    Cordie Jenkins         2187584552  Robinsons Bank\n",
       "4998    45166        Tyrel Feil         2542420860             BDO\n",
       "4999    54154       Betty Zieme         4104712921   Security Bank\n",
       "\n",
       "[3885 rows x 4 columns]"
      ]
     },
     "execution_count": 13,
     "metadata": {},
     "output_type": "execute_result"
    }
   ],
   "source": [
    "df_user_cc['user_id'] = df_user_cc['user_id'].str.replace(\n",
    "    'USER', '').astype(int)\n",
    "df_user_cc"
   ]
  },
  {
   "cell_type": "code",
   "execution_count": 14,
   "metadata": {},
   "outputs": [
    {
     "name": "stderr",
     "output_type": "stream",
     "text": [
      "C:\\Users\\JOSHUA KYLE\\AppData\\Local\\Temp\\ipykernel_18984\\451319896.py:1: SettingWithCopyWarning: \n",
      "A value is trying to be set on a copy of a slice from a DataFrame.\n",
      "Try using .loc[row_indexer,col_indexer] = value instead\n",
      "\n",
      "See the caveats in the documentation: https://pandas.pydata.org/pandas-docs/stable/user_guide/indexing.html#returning-a-view-versus-a-copy\n",
      "  df_user_cc['user_id'] = df_user_cc.groupby('user_id').cumcount().add(\n"
     ]
    }
   ],
   "source": [
    "df_user_cc['user_id'] = df_user_cc.groupby('user_id').cumcount().add(\n",
    "    1).astype(str).radd('USER') + df_user_cc['user_id'].astype(str)"
   ]
  },
  {
   "cell_type": "code",
   "execution_count": 15,
   "metadata": {},
   "outputs": [
    {
     "name": "stderr",
     "output_type": "stream",
     "text": [
      "C:\\Users\\JOSHUA KYLE\\AppData\\Local\\Temp\\ipykernel_18984\\1830357865.py:4: SettingWithCopyWarning: \n",
      "A value is trying to be set on a copy of a slice from a DataFrame\n",
      "\n",
      "See the caveats in the documentation: https://pandas.pydata.org/pandas-docs/stable/user_guide/indexing.html#returning-a-view-versus-a-copy\n",
      "  duplicate_user_ids.sort_values(by='user_id', inplace=True)\n"
     ]
    },
    {
     "data": {
      "text/html": [
       "<div>\n",
       "<style scoped>\n",
       "    .dataframe tbody tr th:only-of-type {\n",
       "        vertical-align: middle;\n",
       "    }\n",
       "\n",
       "    .dataframe tbody tr th {\n",
       "        vertical-align: top;\n",
       "    }\n",
       "\n",
       "    .dataframe thead th {\n",
       "        text-align: right;\n",
       "    }\n",
       "</style>\n",
       "<table border=\"1\" class=\"dataframe\">\n",
       "  <thead>\n",
       "    <tr style=\"text-align: right;\">\n",
       "      <th></th>\n",
       "      <th>user_id</th>\n",
       "      <th>name</th>\n",
       "      <th>credit_card_number</th>\n",
       "      <th>issuing_bank</th>\n",
       "    </tr>\n",
       "  </thead>\n",
       "  <tbody>\n",
       "  </tbody>\n",
       "</table>\n",
       "</div>"
      ],
      "text/plain": [
       "Empty DataFrame\n",
       "Columns: [user_id, name, credit_card_number, issuing_bank]\n",
       "Index: []"
      ]
     },
     "execution_count": 15,
     "metadata": {},
     "output_type": "execute_result"
    }
   ],
   "source": [
    "duplicate_user_ids = df_user_cc[df_user_cc.duplicated(\n",
    "    subset='user_id', keep=False)]\n",
    "\n",
    "duplicate_user_ids.sort_values(by='user_id', inplace=True)\n",
    "duplicate_user_ids"
   ]
  },
  {
   "cell_type": "code",
   "execution_count": 16,
   "metadata": {},
   "outputs": [
    {
     "name": "stdout",
     "output_type": "stream",
     "text": [
      "There are no duplicate user IDs.\n"
     ]
    }
   ],
   "source": [
    "duplicate_check = df_user_cc.duplicated('user_id', keep=False)\n",
    "\n",
    "if duplicate_check.any():\n",
    "    print(\"There are still duplicate user IDs.\")\n",
    "else:\n",
    "    print(\"There are no duplicate user IDs.\")"
   ]
  },
  {
   "cell_type": "markdown",
   "id": "faf01cc9-8ab1-4cac-a5f5-f37b80bdd4ee",
   "metadata": {},
   "source": [
    "## Checking for Nulls\n"
   ]
  },
  {
   "cell_type": "code",
   "execution_count": 17,
   "id": "1ba89503-2e8e-4d30-bf4a-0d0110177fb8",
   "metadata": {},
   "outputs": [
    {
     "data": {
      "text/plain": [
       "user_id               0\n",
       "name                  0\n",
       "credit_card_number    0\n",
       "issuing_bank          0\n",
       "dtype: int64"
      ]
     },
     "execution_count": 17,
     "metadata": {},
     "output_type": "execute_result"
    }
   ],
   "source": [
    "df_user_cc.isnull().sum()"
   ]
  },
  {
   "cell_type": "code",
   "execution_count": 18,
   "metadata": {},
   "outputs": [
    {
     "data": {
      "text/html": [
       "<div>\n",
       "<style scoped>\n",
       "    .dataframe tbody tr th:only-of-type {\n",
       "        vertical-align: middle;\n",
       "    }\n",
       "\n",
       "    .dataframe tbody tr th {\n",
       "        vertical-align: top;\n",
       "    }\n",
       "\n",
       "    .dataframe thead th {\n",
       "        text-align: right;\n",
       "    }\n",
       "</style>\n",
       "<table border=\"1\" class=\"dataframe\">\n",
       "  <thead>\n",
       "    <tr style=\"text-align: right;\">\n",
       "      <th></th>\n",
       "      <th>user_id</th>\n",
       "      <th>name</th>\n",
       "      <th>credit_card_number</th>\n",
       "      <th>issuing_bank</th>\n",
       "    </tr>\n",
       "  </thead>\n",
       "  <tbody>\n",
       "    <tr>\n",
       "      <th>0</th>\n",
       "      <td>USER140678</td>\n",
       "      <td>Zion Feest</td>\n",
       "      <td>4294956114</td>\n",
       "      <td>BPI</td>\n",
       "    </tr>\n",
       "    <tr>\n",
       "      <th>1</th>\n",
       "      <td>USER18728</td>\n",
       "      <td>Kattie Bergstrom</td>\n",
       "      <td>2742902159</td>\n",
       "      <td>BDO</td>\n",
       "    </tr>\n",
       "    <tr>\n",
       "      <th>2</th>\n",
       "      <td>USER129759</td>\n",
       "      <td>Aiden Corwin</td>\n",
       "      <td>1917471950</td>\n",
       "      <td>BDO</td>\n",
       "    </tr>\n",
       "    <tr>\n",
       "      <th>3</th>\n",
       "      <td>USER116806</td>\n",
       "      <td>Vince Gislason</td>\n",
       "      <td>3290792253</td>\n",
       "      <td>China Bank</td>\n",
       "    </tr>\n",
       "    <tr>\n",
       "      <th>4</th>\n",
       "      <td>USER127644</td>\n",
       "      <td>Adele Okuneva</td>\n",
       "      <td>2313395832</td>\n",
       "      <td>China Bank</td>\n",
       "    </tr>\n",
       "    <tr>\n",
       "      <th>...</th>\n",
       "      <td>...</td>\n",
       "      <td>...</td>\n",
       "      <td>...</td>\n",
       "      <td>...</td>\n",
       "    </tr>\n",
       "    <tr>\n",
       "      <th>4995</th>\n",
       "      <td>USER149969</td>\n",
       "      <td>Kendall Waelchi</td>\n",
       "      <td>1870581879</td>\n",
       "      <td>China Bank</td>\n",
       "    </tr>\n",
       "    <tr>\n",
       "      <th>4996</th>\n",
       "      <td>USER157209</td>\n",
       "      <td>Lucious Kshlerin</td>\n",
       "      <td>1139377065</td>\n",
       "      <td>Maya Bank</td>\n",
       "    </tr>\n",
       "    <tr>\n",
       "      <th>4997</th>\n",
       "      <td>USER236424</td>\n",
       "      <td>Cordie Jenkins</td>\n",
       "      <td>2187584552</td>\n",
       "      <td>Robinsons Bank</td>\n",
       "    </tr>\n",
       "    <tr>\n",
       "      <th>4998</th>\n",
       "      <td>USER145166</td>\n",
       "      <td>Tyrel Feil</td>\n",
       "      <td>2542420860</td>\n",
       "      <td>BDO</td>\n",
       "    </tr>\n",
       "    <tr>\n",
       "      <th>4999</th>\n",
       "      <td>USER154154</td>\n",
       "      <td>Betty Zieme</td>\n",
       "      <td>4104712921</td>\n",
       "      <td>Security Bank</td>\n",
       "    </tr>\n",
       "  </tbody>\n",
       "</table>\n",
       "<p>3885 rows × 4 columns</p>\n",
       "</div>"
      ],
      "text/plain": [
       "         user_id              name credit_card_number    issuing_bank\n",
       "0     USER140678        Zion Feest         4294956114             BPI\n",
       "1      USER18728  Kattie Bergstrom         2742902159             BDO\n",
       "2     USER129759      Aiden Corwin         1917471950             BDO\n",
       "3     USER116806    Vince Gislason         3290792253      China Bank\n",
       "4     USER127644     Adele Okuneva         2313395832      China Bank\n",
       "...          ...               ...                ...             ...\n",
       "4995  USER149969   Kendall Waelchi         1870581879      China Bank\n",
       "4996  USER157209  Lucious Kshlerin         1139377065       Maya Bank\n",
       "4997  USER236424    Cordie Jenkins         2187584552  Robinsons Bank\n",
       "4998  USER145166        Tyrel Feil         2542420860             BDO\n",
       "4999  USER154154       Betty Zieme         4104712921   Security Bank\n",
       "\n",
       "[3885 rows x 4 columns]"
      ]
     },
     "execution_count": 18,
     "metadata": {},
     "output_type": "execute_result"
    }
   ],
   "source": [
    "df_user_cc"
   ]
  },
  {
   "cell_type": "markdown",
   "metadata": {},
   "source": [
    "## Convert to parquet\n"
   ]
  },
  {
   "cell_type": "code",
   "execution_count": 19,
   "metadata": {},
   "outputs": [],
   "source": [
    "df_user_cc.to_parquet(\n",
    "    'Customer Management Department/user_credit_card.parquet', index=False)"
   ]
  },
  {
   "cell_type": "markdown",
   "id": "9f2135a5-1d12-4cc0-83f1-223a6d15d2bf",
   "metadata": {},
   "source": [
    "# User Data\n"
   ]
  },
  {
   "cell_type": "code",
   "execution_count": 20,
   "id": "b5b2bd54-4f17-43e3-a012-e4f67139ec55",
   "metadata": {},
   "outputs": [
    {
     "data": {
      "text/html": [
       "<div>\n",
       "<style scoped>\n",
       "    .dataframe tbody tr th:only-of-type {\n",
       "        vertical-align: middle;\n",
       "    }\n",
       "\n",
       "    .dataframe tbody tr th {\n",
       "        vertical-align: top;\n",
       "    }\n",
       "\n",
       "    .dataframe thead th {\n",
       "        text-align: right;\n",
       "    }\n",
       "</style>\n",
       "<table border=\"1\" class=\"dataframe\">\n",
       "  <thead>\n",
       "    <tr style=\"text-align: right;\">\n",
       "      <th></th>\n",
       "      <th>user_id</th>\n",
       "      <th>creation_date</th>\n",
       "      <th>name</th>\n",
       "      <th>street</th>\n",
       "      <th>state</th>\n",
       "      <th>city</th>\n",
       "      <th>country</th>\n",
       "      <th>birthdate</th>\n",
       "      <th>gender</th>\n",
       "      <th>device_address</th>\n",
       "      <th>user_type</th>\n",
       "    </tr>\n",
       "  </thead>\n",
       "  <tbody>\n",
       "    <tr>\n",
       "      <th>0</th>\n",
       "      <td>USER40678</td>\n",
       "      <td>2021-03-17 22:56:13</td>\n",
       "      <td>Zion Feest</td>\n",
       "      <td>14938 West Trace side</td>\n",
       "      <td>New Jersey</td>\n",
       "      <td>Birmingham</td>\n",
       "      <td>Hong Kong</td>\n",
       "      <td>1998-04-06 05:29:37</td>\n",
       "      <td>male</td>\n",
       "      <td>17:fb:f2:60:94:4b</td>\n",
       "      <td>basic</td>\n",
       "    </tr>\n",
       "    <tr>\n",
       "      <th>1</th>\n",
       "      <td>USER08728</td>\n",
       "      <td>2022-10-10 12:53:20</td>\n",
       "      <td>Kattie Bergstrom</td>\n",
       "      <td>4476 West Haven fort</td>\n",
       "      <td>Alabama</td>\n",
       "      <td>Irvine</td>\n",
       "      <td>Mayotte</td>\n",
       "      <td>2003-05-22 11:16:19</td>\n",
       "      <td>male</td>\n",
       "      <td>b0:17:a7:0b:d6:67</td>\n",
       "      <td>premium</td>\n",
       "    </tr>\n",
       "    <tr>\n",
       "      <th>2</th>\n",
       "      <td>USER29759</td>\n",
       "      <td>2020-05-20 04:34:44</td>\n",
       "      <td>Aiden Corwin</td>\n",
       "      <td>59980 North Crest chester</td>\n",
       "      <td>North Carolina</td>\n",
       "      <td>Tampa</td>\n",
       "      <td>Iraq</td>\n",
       "      <td>2008-08-29 16:42:05</td>\n",
       "      <td>female</td>\n",
       "      <td>24:f2:0b:88:2f:bd</td>\n",
       "      <td>basic</td>\n",
       "    </tr>\n",
       "    <tr>\n",
       "      <th>3</th>\n",
       "      <td>USER16806</td>\n",
       "      <td>2021-05-28 07:36:30</td>\n",
       "      <td>Vince Gislason</td>\n",
       "      <td>541 Radial mouth</td>\n",
       "      <td>Illinois</td>\n",
       "      <td>Orlando</td>\n",
       "      <td>New Zealand</td>\n",
       "      <td>2012-02-09 14:12:37</td>\n",
       "      <td>male</td>\n",
       "      <td>a4:f5:fd:fe:07:f9</td>\n",
       "      <td>basic</td>\n",
       "    </tr>\n",
       "    <tr>\n",
       "      <th>4</th>\n",
       "      <td>USER27644</td>\n",
       "      <td>2023-03-16 19:25:35</td>\n",
       "      <td>Adele Okuneva</td>\n",
       "      <td>896 Glen bury</td>\n",
       "      <td>Arizona</td>\n",
       "      <td>Reno</td>\n",
       "      <td>Mexico</td>\n",
       "      <td>1976-10-13 00:53:54</td>\n",
       "      <td>male</td>\n",
       "      <td>ac:80:b3:bc:8d:5f</td>\n",
       "      <td>premium</td>\n",
       "    </tr>\n",
       "  </tbody>\n",
       "</table>\n",
       "</div>"
      ],
      "text/plain": [
       "     user_id        creation_date              name  \\\n",
       "0  USER40678  2021-03-17 22:56:13        Zion Feest   \n",
       "1  USER08728  2022-10-10 12:53:20  Kattie Bergstrom   \n",
       "2  USER29759  2020-05-20 04:34:44      Aiden Corwin   \n",
       "3  USER16806  2021-05-28 07:36:30    Vince Gislason   \n",
       "4  USER27644  2023-03-16 19:25:35     Adele Okuneva   \n",
       "\n",
       "                      street           state        city      country  \\\n",
       "0      14938 West Trace side      New Jersey  Birmingham    Hong Kong   \n",
       "1       4476 West Haven fort         Alabama      Irvine      Mayotte   \n",
       "2  59980 North Crest chester  North Carolina       Tampa         Iraq   \n",
       "3           541 Radial mouth        Illinois     Orlando  New Zealand   \n",
       "4              896 Glen bury         Arizona        Reno       Mexico   \n",
       "\n",
       "             birthdate  gender     device_address user_type  \n",
       "0  1998-04-06 05:29:37    male  17:fb:f2:60:94:4b     basic  \n",
       "1  2003-05-22 11:16:19    male  b0:17:a7:0b:d6:67   premium  \n",
       "2  2008-08-29 16:42:05  female  24:f2:0b:88:2f:bd     basic  \n",
       "3  2012-02-09 14:12:37    male  a4:f5:fd:fe:07:f9     basic  \n",
       "4  1976-10-13 00:53:54    male  ac:80:b3:bc:8d:5f   premium  "
      ]
     },
     "execution_count": 20,
     "metadata": {},
     "output_type": "execute_result"
    }
   ],
   "source": [
    "df_user_data = pd.read_json('Customer Management Department/user_data.json')\n",
    "df_user_data.head()"
   ]
  },
  {
   "cell_type": "markdown",
   "metadata": {},
   "source": [
    "## Fix the naming of name, street, state, city, country, gender, and user type\n"
   ]
  },
  {
   "cell_type": "markdown",
   "metadata": {},
   "source": [
    "#### Convert them to title case\n"
   ]
  },
  {
   "cell_type": "code",
   "execution_count": 55,
   "metadata": {},
   "outputs": [
    {
     "data": {
      "text/html": [
       "<div>\n",
       "<style scoped>\n",
       "    .dataframe tbody tr th:only-of-type {\n",
       "        vertical-align: middle;\n",
       "    }\n",
       "\n",
       "    .dataframe tbody tr th {\n",
       "        vertical-align: top;\n",
       "    }\n",
       "\n",
       "    .dataframe thead th {\n",
       "        text-align: right;\n",
       "    }\n",
       "</style>\n",
       "<table border=\"1\" class=\"dataframe\">\n",
       "  <thead>\n",
       "    <tr style=\"text-align: right;\">\n",
       "      <th></th>\n",
       "      <th>user_id</th>\n",
       "      <th>creation_date</th>\n",
       "      <th>name</th>\n",
       "      <th>street</th>\n",
       "      <th>state</th>\n",
       "      <th>city</th>\n",
       "      <th>country</th>\n",
       "      <th>birthdate</th>\n",
       "      <th>gender</th>\n",
       "      <th>device_address</th>\n",
       "      <th>user_type</th>\n",
       "    </tr>\n",
       "  </thead>\n",
       "  <tbody>\n",
       "    <tr>\n",
       "      <th>0</th>\n",
       "      <td>USER140678</td>\n",
       "      <td>2021-03-17 22:56:13</td>\n",
       "      <td>Zion Feest</td>\n",
       "      <td>14938 West Trace Side</td>\n",
       "      <td>New Jersey</td>\n",
       "      <td>Birmingham</td>\n",
       "      <td>Hong Kong</td>\n",
       "      <td>1998-04-06 05:29:37</td>\n",
       "      <td>Male</td>\n",
       "      <td>17:fb:f2:60:94:4b</td>\n",
       "      <td>Basic</td>\n",
       "    </tr>\n",
       "    <tr>\n",
       "      <th>1</th>\n",
       "      <td>USER18728</td>\n",
       "      <td>2022-10-10 12:53:20</td>\n",
       "      <td>Kattie Bergstrom</td>\n",
       "      <td>4476 West Haven Fort</td>\n",
       "      <td>Alabama</td>\n",
       "      <td>Irvine</td>\n",
       "      <td>Mayotte</td>\n",
       "      <td>2003-05-22 11:16:19</td>\n",
       "      <td>Male</td>\n",
       "      <td>b0:17:a7:0b:d6:67</td>\n",
       "      <td>Premium</td>\n",
       "    </tr>\n",
       "    <tr>\n",
       "      <th>2</th>\n",
       "      <td>USER129759</td>\n",
       "      <td>2020-05-20 04:34:44</td>\n",
       "      <td>Aiden Corwin</td>\n",
       "      <td>59980 North Crest Chester</td>\n",
       "      <td>North Carolina</td>\n",
       "      <td>Tampa</td>\n",
       "      <td>Iraq</td>\n",
       "      <td>2008-08-29 16:42:05</td>\n",
       "      <td>Female</td>\n",
       "      <td>24:f2:0b:88:2f:bd</td>\n",
       "      <td>Basic</td>\n",
       "    </tr>\n",
       "    <tr>\n",
       "      <th>3</th>\n",
       "      <td>USER116806</td>\n",
       "      <td>2021-05-28 07:36:30</td>\n",
       "      <td>Vince Gislason</td>\n",
       "      <td>541 Radial Mouth</td>\n",
       "      <td>Illinois</td>\n",
       "      <td>Orlando</td>\n",
       "      <td>New Zealand</td>\n",
       "      <td>2012-02-09 14:12:37</td>\n",
       "      <td>Male</td>\n",
       "      <td>a4:f5:fd:fe:07:f9</td>\n",
       "      <td>Basic</td>\n",
       "    </tr>\n",
       "    <tr>\n",
       "      <th>4</th>\n",
       "      <td>USER127644</td>\n",
       "      <td>2023-03-16 19:25:35</td>\n",
       "      <td>Adele Okuneva</td>\n",
       "      <td>896 Glen Bury</td>\n",
       "      <td>Arizona</td>\n",
       "      <td>Reno</td>\n",
       "      <td>Mexico</td>\n",
       "      <td>1976-10-13 00:53:54</td>\n",
       "      <td>Male</td>\n",
       "      <td>ac:80:b3:bc:8d:5f</td>\n",
       "      <td>Premium</td>\n",
       "    </tr>\n",
       "    <tr>\n",
       "      <th>...</th>\n",
       "      <td>...</td>\n",
       "      <td>...</td>\n",
       "      <td>...</td>\n",
       "      <td>...</td>\n",
       "      <td>...</td>\n",
       "      <td>...</td>\n",
       "      <td>...</td>\n",
       "      <td>...</td>\n",
       "      <td>...</td>\n",
       "      <td>...</td>\n",
       "      <td>...</td>\n",
       "    </tr>\n",
       "    <tr>\n",
       "      <th>4995</th>\n",
       "      <td>USER149969</td>\n",
       "      <td>2021-11-18 19:04:30</td>\n",
       "      <td>Kendall Waelchi</td>\n",
       "      <td>792 North Manors Haven</td>\n",
       "      <td>Florida</td>\n",
       "      <td>San Diego</td>\n",
       "      <td>Jersey</td>\n",
       "      <td>1996-03-11 09:05:32</td>\n",
       "      <td>Female</td>\n",
       "      <td>8e:57:7e:62:90:b4</td>\n",
       "      <td>Basic</td>\n",
       "    </tr>\n",
       "    <tr>\n",
       "      <th>4996</th>\n",
       "      <td>USER157209</td>\n",
       "      <td>2022-03-27 09:17:43</td>\n",
       "      <td>Lucious Kshlerin</td>\n",
       "      <td>48282 Burgs Chester</td>\n",
       "      <td>Kentucky</td>\n",
       "      <td>Garland</td>\n",
       "      <td>Ethiopia</td>\n",
       "      <td>2013-07-07 08:53:27</td>\n",
       "      <td>Female</td>\n",
       "      <td>00:35:b5:e4:e1:aa</td>\n",
       "      <td>Basic</td>\n",
       "    </tr>\n",
       "    <tr>\n",
       "      <th>4997</th>\n",
       "      <td>USER236424</td>\n",
       "      <td>2022-10-05 21:36:56</td>\n",
       "      <td>Cordie Jenkins</td>\n",
       "      <td>8928 North Mountains Haven</td>\n",
       "      <td>North Dakota</td>\n",
       "      <td>Scottsdale</td>\n",
       "      <td>Tonga</td>\n",
       "      <td>1991-05-18 05:07:36</td>\n",
       "      <td>Male</td>\n",
       "      <td>0b:0d:57:d6:c1:ab</td>\n",
       "      <td>Basic</td>\n",
       "    </tr>\n",
       "    <tr>\n",
       "      <th>4998</th>\n",
       "      <td>USER245166</td>\n",
       "      <td>2020-07-20 03:51:41</td>\n",
       "      <td>Tyrel Feil</td>\n",
       "      <td>920 New Manor Port</td>\n",
       "      <td>Rhode Island</td>\n",
       "      <td>Arlington</td>\n",
       "      <td>Virgin Islands (U.S.)</td>\n",
       "      <td>1975-12-19 02:27:16</td>\n",
       "      <td>Male</td>\n",
       "      <td>83:c9:1e:4e:52:f4</td>\n",
       "      <td>Premium</td>\n",
       "    </tr>\n",
       "    <tr>\n",
       "      <th>4999</th>\n",
       "      <td>USER154154</td>\n",
       "      <td>2020-05-13 08:43:26</td>\n",
       "      <td>Betty Zieme</td>\n",
       "      <td>19808 North Pass Side</td>\n",
       "      <td>Colorado</td>\n",
       "      <td>Detroit</td>\n",
       "      <td>Zambia</td>\n",
       "      <td>2010-02-21 02:56:06</td>\n",
       "      <td>Female</td>\n",
       "      <td>4c:fb:dc:fb:b7:e7</td>\n",
       "      <td>Premium</td>\n",
       "    </tr>\n",
       "  </tbody>\n",
       "</table>\n",
       "<p>5000 rows × 11 columns</p>\n",
       "</div>"
      ],
      "text/plain": [
       "         user_id       creation_date              name  \\\n",
       "0     USER140678 2021-03-17 22:56:13        Zion Feest   \n",
       "1      USER18728 2022-10-10 12:53:20  Kattie Bergstrom   \n",
       "2     USER129759 2020-05-20 04:34:44      Aiden Corwin   \n",
       "3     USER116806 2021-05-28 07:36:30    Vince Gislason   \n",
       "4     USER127644 2023-03-16 19:25:35     Adele Okuneva   \n",
       "...          ...                 ...               ...   \n",
       "4995  USER149969 2021-11-18 19:04:30   Kendall Waelchi   \n",
       "4996  USER157209 2022-03-27 09:17:43  Lucious Kshlerin   \n",
       "4997  USER236424 2022-10-05 21:36:56    Cordie Jenkins   \n",
       "4998  USER245166 2020-07-20 03:51:41        Tyrel Feil   \n",
       "4999  USER154154 2020-05-13 08:43:26       Betty Zieme   \n",
       "\n",
       "                          street           state        city  \\\n",
       "0          14938 West Trace Side      New Jersey  Birmingham   \n",
       "1           4476 West Haven Fort         Alabama      Irvine   \n",
       "2      59980 North Crest Chester  North Carolina       Tampa   \n",
       "3               541 Radial Mouth        Illinois     Orlando   \n",
       "4                  896 Glen Bury         Arizona        Reno   \n",
       "...                          ...             ...         ...   \n",
       "4995      792 North Manors Haven         Florida   San Diego   \n",
       "4996         48282 Burgs Chester        Kentucky     Garland   \n",
       "4997  8928 North Mountains Haven    North Dakota  Scottsdale   \n",
       "4998          920 New Manor Port    Rhode Island   Arlington   \n",
       "4999       19808 North Pass Side        Colorado     Detroit   \n",
       "\n",
       "                    country           birthdate  gender     device_address  \\\n",
       "0                 Hong Kong 1998-04-06 05:29:37    Male  17:fb:f2:60:94:4b   \n",
       "1                   Mayotte 2003-05-22 11:16:19    Male  b0:17:a7:0b:d6:67   \n",
       "2                      Iraq 2008-08-29 16:42:05  Female  24:f2:0b:88:2f:bd   \n",
       "3               New Zealand 2012-02-09 14:12:37    Male  a4:f5:fd:fe:07:f9   \n",
       "4                    Mexico 1976-10-13 00:53:54    Male  ac:80:b3:bc:8d:5f   \n",
       "...                     ...                 ...     ...                ...   \n",
       "4995                 Jersey 1996-03-11 09:05:32  Female  8e:57:7e:62:90:b4   \n",
       "4996               Ethiopia 2013-07-07 08:53:27  Female  00:35:b5:e4:e1:aa   \n",
       "4997                  Tonga 1991-05-18 05:07:36    Male  0b:0d:57:d6:c1:ab   \n",
       "4998  Virgin Islands (U.S.) 1975-12-19 02:27:16    Male  83:c9:1e:4e:52:f4   \n",
       "4999                 Zambia 2010-02-21 02:56:06  Female  4c:fb:dc:fb:b7:e7   \n",
       "\n",
       "     user_type  \n",
       "0        Basic  \n",
       "1      Premium  \n",
       "2        Basic  \n",
       "3        Basic  \n",
       "4      Premium  \n",
       "...        ...  \n",
       "4995     Basic  \n",
       "4996     Basic  \n",
       "4997     Basic  \n",
       "4998   Premium  \n",
       "4999   Premium  \n",
       "\n",
       "[5000 rows x 11 columns]"
      ]
     },
     "execution_count": 55,
     "metadata": {},
     "output_type": "execute_result"
    }
   ],
   "source": [
    "df_user_data['name'] = df_user_data['name'].str.title()\n",
    "df_user_data['street'] = df_user_data['street'].str.title()\n",
    "df_user_data['state'] = df_user_data['state'].str.title()\n",
    "df_user_data['city'] = df_user_data['city'].str.title()\n",
    "df_user_data['country'] = df_user_data['country'].str.title()\n",
    "df_user_data['gender'] = df_user_data['gender'].str.title()\n",
    "df_user_data['user_type'] = df_user_data['user_type'].str.title()\n",
    "\n",
    "df_user_data"
   ]
  },
  {
   "cell_type": "markdown",
   "metadata": {},
   "source": [
    "#### Check for special characters\n"
   ]
  },
  {
   "cell_type": "code",
   "execution_count": 22,
   "metadata": {},
   "outputs": [
    {
     "data": {
      "text/html": [
       "<div>\n",
       "<style scoped>\n",
       "    .dataframe tbody tr th:only-of-type {\n",
       "        vertical-align: middle;\n",
       "    }\n",
       "\n",
       "    .dataframe tbody tr th {\n",
       "        vertical-align: top;\n",
       "    }\n",
       "\n",
       "    .dataframe thead th {\n",
       "        text-align: right;\n",
       "    }\n",
       "</style>\n",
       "<table border=\"1\" class=\"dataframe\">\n",
       "  <thead>\n",
       "    <tr style=\"text-align: right;\">\n",
       "      <th></th>\n",
       "      <th>user_id</th>\n",
       "      <th>creation_date</th>\n",
       "      <th>name</th>\n",
       "      <th>street</th>\n",
       "      <th>state</th>\n",
       "      <th>city</th>\n",
       "      <th>country</th>\n",
       "      <th>birthdate</th>\n",
       "      <th>gender</th>\n",
       "      <th>device_address</th>\n",
       "      <th>user_type</th>\n",
       "    </tr>\n",
       "  </thead>\n",
       "  <tbody>\n",
       "  </tbody>\n",
       "</table>\n",
       "</div>"
      ],
      "text/plain": [
       "Empty DataFrame\n",
       "Columns: [user_id, creation_date, name, street, state, city, country, birthdate, gender, device_address, user_type]\n",
       "Index: []"
      ]
     },
     "execution_count": 22,
     "metadata": {},
     "output_type": "execute_result"
    }
   ],
   "source": [
    "special_chars_regex = r'[^A-Za-z0-9\\s]'\n",
    "\n",
    "special_chars_check = df_user_data['name'].str.contains(\n",
    "    special_chars_regex, regex=True)\n",
    "rows_with_special_chars = df_user_data[special_chars_check]\n",
    "rows_with_special_chars"
   ]
  },
  {
   "cell_type": "markdown",
   "metadata": {},
   "source": [
    "## Check for duplicate rows with different user id\n"
   ]
  },
  {
   "cell_type": "code",
   "execution_count": 23,
   "metadata": {},
   "outputs": [
    {
     "name": "stdout",
     "output_type": "stream",
     "text": [
      "Empty DataFrame\n",
      "Columns: [user_id, creation_date, name, street, state, city, country, birthdate, gender, device_address, user_type]\n",
      "Index: []\n"
     ]
    }
   ],
   "source": [
    "duplicate_rows = df_user_data[df_user_data.duplicated(\n",
    "    subset=df_user_data.columns.difference(['user_id']), keep=False)]\n",
    "\n",
    "print(duplicate_rows)"
   ]
  },
  {
   "cell_type": "markdown",
   "metadata": {},
   "source": [
    "## Check if creation date and birthdate is valid\n"
   ]
  },
  {
   "cell_type": "code",
   "execution_count": 24,
   "metadata": {},
   "outputs": [
    {
     "name": "stdout",
     "output_type": "stream",
     "text": [
      "creation_date is a valid datetime.\n",
      "birthdate is a valid datetime.\n"
     ]
    }
   ],
   "source": [
    "date_columns = ['creation_date', 'birthdate']\n",
    "\n",
    "for column in date_columns:\n",
    "    try:\n",
    "        df_user_data[column] = pd.to_datetime(df_user_data[column])\n",
    "        print(f\"{column} is a valid datetime.\")\n",
    "    except ValueError:\n",
    "        print(f\"{column} contains invalid datetime values.\")"
   ]
  },
  {
   "cell_type": "markdown",
   "metadata": {},
   "source": [
    "#### Check if there are creation date before birthdate\n"
   ]
  },
  {
   "cell_type": "code",
   "execution_count": 25,
   "metadata": {},
   "outputs": [
    {
     "name": "stdout",
     "output_type": "stream",
     "text": [
      "Empty DataFrame\n",
      "Columns: [user_id, creation_date, name, street, state, city, country, birthdate, gender, device_address, user_type]\n",
      "Index: []\n"
     ]
    }
   ],
   "source": [
    "invalid_dates = df_user_data[df_user_data['creation_date']\n",
    "                             <= df_user_data['birthdate']]\n",
    "\n",
    "print(invalid_dates)"
   ]
  },
  {
   "cell_type": "markdown",
   "metadata": {},
   "source": [
    "Remove future dates\n"
   ]
  },
  {
   "cell_type": "code",
   "execution_count": 56,
   "metadata": {},
   "outputs": [
    {
     "data": {
      "text/html": [
       "<div>\n",
       "<style scoped>\n",
       "    .dataframe tbody tr th:only-of-type {\n",
       "        vertical-align: middle;\n",
       "    }\n",
       "\n",
       "    .dataframe tbody tr th {\n",
       "        vertical-align: top;\n",
       "    }\n",
       "\n",
       "    .dataframe thead th {\n",
       "        text-align: right;\n",
       "    }\n",
       "</style>\n",
       "<table border=\"1\" class=\"dataframe\">\n",
       "  <thead>\n",
       "    <tr style=\"text-align: right;\">\n",
       "      <th></th>\n",
       "      <th>user_id</th>\n",
       "      <th>creation_date</th>\n",
       "      <th>name</th>\n",
       "      <th>street</th>\n",
       "      <th>state</th>\n",
       "      <th>city</th>\n",
       "      <th>country</th>\n",
       "      <th>birthdate</th>\n",
       "      <th>gender</th>\n",
       "      <th>device_address</th>\n",
       "      <th>user_type</th>\n",
       "    </tr>\n",
       "  </thead>\n",
       "  <tbody>\n",
       "    <tr>\n",
       "      <th>0</th>\n",
       "      <td>USER140678</td>\n",
       "      <td>2021-03-17 22:56:13</td>\n",
       "      <td>Zion Feest</td>\n",
       "      <td>14938 West Trace Side</td>\n",
       "      <td>New Jersey</td>\n",
       "      <td>Birmingham</td>\n",
       "      <td>Hong Kong</td>\n",
       "      <td>1998-04-06 05:29:37</td>\n",
       "      <td>Male</td>\n",
       "      <td>17:fb:f2:60:94:4b</td>\n",
       "      <td>Basic</td>\n",
       "    </tr>\n",
       "    <tr>\n",
       "      <th>1</th>\n",
       "      <td>USER18728</td>\n",
       "      <td>2022-10-10 12:53:20</td>\n",
       "      <td>Kattie Bergstrom</td>\n",
       "      <td>4476 West Haven Fort</td>\n",
       "      <td>Alabama</td>\n",
       "      <td>Irvine</td>\n",
       "      <td>Mayotte</td>\n",
       "      <td>2003-05-22 11:16:19</td>\n",
       "      <td>Male</td>\n",
       "      <td>b0:17:a7:0b:d6:67</td>\n",
       "      <td>Premium</td>\n",
       "    </tr>\n",
       "    <tr>\n",
       "      <th>2</th>\n",
       "      <td>USER129759</td>\n",
       "      <td>2020-05-20 04:34:44</td>\n",
       "      <td>Aiden Corwin</td>\n",
       "      <td>59980 North Crest Chester</td>\n",
       "      <td>North Carolina</td>\n",
       "      <td>Tampa</td>\n",
       "      <td>Iraq</td>\n",
       "      <td>2008-08-29 16:42:05</td>\n",
       "      <td>Female</td>\n",
       "      <td>24:f2:0b:88:2f:bd</td>\n",
       "      <td>Basic</td>\n",
       "    </tr>\n",
       "    <tr>\n",
       "      <th>3</th>\n",
       "      <td>USER116806</td>\n",
       "      <td>2021-05-28 07:36:30</td>\n",
       "      <td>Vince Gislason</td>\n",
       "      <td>541 Radial Mouth</td>\n",
       "      <td>Illinois</td>\n",
       "      <td>Orlando</td>\n",
       "      <td>New Zealand</td>\n",
       "      <td>2012-02-09 14:12:37</td>\n",
       "      <td>Male</td>\n",
       "      <td>a4:f5:fd:fe:07:f9</td>\n",
       "      <td>Basic</td>\n",
       "    </tr>\n",
       "    <tr>\n",
       "      <th>4</th>\n",
       "      <td>USER127644</td>\n",
       "      <td>2023-03-16 19:25:35</td>\n",
       "      <td>Adele Okuneva</td>\n",
       "      <td>896 Glen Bury</td>\n",
       "      <td>Arizona</td>\n",
       "      <td>Reno</td>\n",
       "      <td>Mexico</td>\n",
       "      <td>1976-10-13 00:53:54</td>\n",
       "      <td>Male</td>\n",
       "      <td>ac:80:b3:bc:8d:5f</td>\n",
       "      <td>Premium</td>\n",
       "    </tr>\n",
       "    <tr>\n",
       "      <th>...</th>\n",
       "      <td>...</td>\n",
       "      <td>...</td>\n",
       "      <td>...</td>\n",
       "      <td>...</td>\n",
       "      <td>...</td>\n",
       "      <td>...</td>\n",
       "      <td>...</td>\n",
       "      <td>...</td>\n",
       "      <td>...</td>\n",
       "      <td>...</td>\n",
       "      <td>...</td>\n",
       "    </tr>\n",
       "    <tr>\n",
       "      <th>4995</th>\n",
       "      <td>USER149969</td>\n",
       "      <td>2021-11-18 19:04:30</td>\n",
       "      <td>Kendall Waelchi</td>\n",
       "      <td>792 North Manors Haven</td>\n",
       "      <td>Florida</td>\n",
       "      <td>San Diego</td>\n",
       "      <td>Jersey</td>\n",
       "      <td>1996-03-11 09:05:32</td>\n",
       "      <td>Female</td>\n",
       "      <td>8e:57:7e:62:90:b4</td>\n",
       "      <td>Basic</td>\n",
       "    </tr>\n",
       "    <tr>\n",
       "      <th>4996</th>\n",
       "      <td>USER157209</td>\n",
       "      <td>2022-03-27 09:17:43</td>\n",
       "      <td>Lucious Kshlerin</td>\n",
       "      <td>48282 Burgs Chester</td>\n",
       "      <td>Kentucky</td>\n",
       "      <td>Garland</td>\n",
       "      <td>Ethiopia</td>\n",
       "      <td>2013-07-07 08:53:27</td>\n",
       "      <td>Female</td>\n",
       "      <td>00:35:b5:e4:e1:aa</td>\n",
       "      <td>Basic</td>\n",
       "    </tr>\n",
       "    <tr>\n",
       "      <th>4997</th>\n",
       "      <td>USER236424</td>\n",
       "      <td>2022-10-05 21:36:56</td>\n",
       "      <td>Cordie Jenkins</td>\n",
       "      <td>8928 North Mountains Haven</td>\n",
       "      <td>North Dakota</td>\n",
       "      <td>Scottsdale</td>\n",
       "      <td>Tonga</td>\n",
       "      <td>1991-05-18 05:07:36</td>\n",
       "      <td>Male</td>\n",
       "      <td>0b:0d:57:d6:c1:ab</td>\n",
       "      <td>Basic</td>\n",
       "    </tr>\n",
       "    <tr>\n",
       "      <th>4998</th>\n",
       "      <td>USER245166</td>\n",
       "      <td>2020-07-20 03:51:41</td>\n",
       "      <td>Tyrel Feil</td>\n",
       "      <td>920 New Manor Port</td>\n",
       "      <td>Rhode Island</td>\n",
       "      <td>Arlington</td>\n",
       "      <td>Virgin Islands (U.S.)</td>\n",
       "      <td>1975-12-19 02:27:16</td>\n",
       "      <td>Male</td>\n",
       "      <td>83:c9:1e:4e:52:f4</td>\n",
       "      <td>Premium</td>\n",
       "    </tr>\n",
       "    <tr>\n",
       "      <th>4999</th>\n",
       "      <td>USER154154</td>\n",
       "      <td>2020-05-13 08:43:26</td>\n",
       "      <td>Betty Zieme</td>\n",
       "      <td>19808 North Pass Side</td>\n",
       "      <td>Colorado</td>\n",
       "      <td>Detroit</td>\n",
       "      <td>Zambia</td>\n",
       "      <td>2010-02-21 02:56:06</td>\n",
       "      <td>Female</td>\n",
       "      <td>4c:fb:dc:fb:b7:e7</td>\n",
       "      <td>Premium</td>\n",
       "    </tr>\n",
       "  </tbody>\n",
       "</table>\n",
       "<p>5000 rows × 11 columns</p>\n",
       "</div>"
      ],
      "text/plain": [
       "         user_id       creation_date              name  \\\n",
       "0     USER140678 2021-03-17 22:56:13        Zion Feest   \n",
       "1      USER18728 2022-10-10 12:53:20  Kattie Bergstrom   \n",
       "2     USER129759 2020-05-20 04:34:44      Aiden Corwin   \n",
       "3     USER116806 2021-05-28 07:36:30    Vince Gislason   \n",
       "4     USER127644 2023-03-16 19:25:35     Adele Okuneva   \n",
       "...          ...                 ...               ...   \n",
       "4995  USER149969 2021-11-18 19:04:30   Kendall Waelchi   \n",
       "4996  USER157209 2022-03-27 09:17:43  Lucious Kshlerin   \n",
       "4997  USER236424 2022-10-05 21:36:56    Cordie Jenkins   \n",
       "4998  USER245166 2020-07-20 03:51:41        Tyrel Feil   \n",
       "4999  USER154154 2020-05-13 08:43:26       Betty Zieme   \n",
       "\n",
       "                          street           state        city  \\\n",
       "0          14938 West Trace Side      New Jersey  Birmingham   \n",
       "1           4476 West Haven Fort         Alabama      Irvine   \n",
       "2      59980 North Crest Chester  North Carolina       Tampa   \n",
       "3               541 Radial Mouth        Illinois     Orlando   \n",
       "4                  896 Glen Bury         Arizona        Reno   \n",
       "...                          ...             ...         ...   \n",
       "4995      792 North Manors Haven         Florida   San Diego   \n",
       "4996         48282 Burgs Chester        Kentucky     Garland   \n",
       "4997  8928 North Mountains Haven    North Dakota  Scottsdale   \n",
       "4998          920 New Manor Port    Rhode Island   Arlington   \n",
       "4999       19808 North Pass Side        Colorado     Detroit   \n",
       "\n",
       "                    country           birthdate  gender     device_address  \\\n",
       "0                 Hong Kong 1998-04-06 05:29:37    Male  17:fb:f2:60:94:4b   \n",
       "1                   Mayotte 2003-05-22 11:16:19    Male  b0:17:a7:0b:d6:67   \n",
       "2                      Iraq 2008-08-29 16:42:05  Female  24:f2:0b:88:2f:bd   \n",
       "3               New Zealand 2012-02-09 14:12:37    Male  a4:f5:fd:fe:07:f9   \n",
       "4                    Mexico 1976-10-13 00:53:54    Male  ac:80:b3:bc:8d:5f   \n",
       "...                     ...                 ...     ...                ...   \n",
       "4995                 Jersey 1996-03-11 09:05:32  Female  8e:57:7e:62:90:b4   \n",
       "4996               Ethiopia 2013-07-07 08:53:27  Female  00:35:b5:e4:e1:aa   \n",
       "4997                  Tonga 1991-05-18 05:07:36    Male  0b:0d:57:d6:c1:ab   \n",
       "4998  Virgin Islands (U.S.) 1975-12-19 02:27:16    Male  83:c9:1e:4e:52:f4   \n",
       "4999                 Zambia 2010-02-21 02:56:06  Female  4c:fb:dc:fb:b7:e7   \n",
       "\n",
       "     user_type  \n",
       "0        Basic  \n",
       "1      Premium  \n",
       "2        Basic  \n",
       "3        Basic  \n",
       "4      Premium  \n",
       "...        ...  \n",
       "4995     Basic  \n",
       "4996     Basic  \n",
       "4997     Basic  \n",
       "4998   Premium  \n",
       "4999   Premium  \n",
       "\n",
       "[5000 rows x 11 columns]"
      ]
     },
     "execution_count": 56,
     "metadata": {},
     "output_type": "execute_result"
    }
   ],
   "source": [
    "df_user_data = df_user_data[(df_user_data['creation_date'] <= pd.to_datetime(\n",
    "    'now')) & (df_user_data['birthdate'] <= pd.to_datetime('now'))]\n",
    "\n",
    "df_user_data"
   ]
  },
  {
   "cell_type": "markdown",
   "metadata": {},
   "source": [
    "## Check for invalid device address\n"
   ]
  },
  {
   "cell_type": "code",
   "execution_count": 26,
   "metadata": {},
   "outputs": [
    {
     "name": "stdout",
     "output_type": "stream",
     "text": [
      "Empty DataFrame\n",
      "Columns: [user_id, creation_date, name, street, state, city, country, birthdate, gender, device_address, user_type]\n",
      "Index: []\n"
     ]
    }
   ],
   "source": [
    "device_address_pattern = r'^([0-9A-Fa-f]{2}[:-]){5}([0-9A-Fa-f]{2})$'\n",
    "\n",
    "invalid_device_address = df_user_data[~df_user_data['device_address'].str.match(\n",
    "    device_address_pattern)]\n",
    "\n",
    "print(invalid_device_address)"
   ]
  },
  {
   "cell_type": "markdown",
   "metadata": {},
   "source": [
    "## Fix for duplicate user id\n"
   ]
  },
  {
   "cell_type": "code",
   "execution_count": 27,
   "metadata": {},
   "outputs": [
    {
     "data": {
      "text/html": [
       "<div>\n",
       "<style scoped>\n",
       "    .dataframe tbody tr th:only-of-type {\n",
       "        vertical-align: middle;\n",
       "    }\n",
       "\n",
       "    .dataframe tbody tr th {\n",
       "        vertical-align: top;\n",
       "    }\n",
       "\n",
       "    .dataframe thead th {\n",
       "        text-align: right;\n",
       "    }\n",
       "</style>\n",
       "<table border=\"1\" class=\"dataframe\">\n",
       "  <thead>\n",
       "    <tr style=\"text-align: right;\">\n",
       "      <th></th>\n",
       "      <th>user_id</th>\n",
       "      <th>creation_date</th>\n",
       "      <th>name</th>\n",
       "      <th>street</th>\n",
       "      <th>state</th>\n",
       "      <th>city</th>\n",
       "      <th>country</th>\n",
       "      <th>birthdate</th>\n",
       "      <th>gender</th>\n",
       "      <th>device_address</th>\n",
       "      <th>user_type</th>\n",
       "    </tr>\n",
       "  </thead>\n",
       "  <tbody>\n",
       "    <tr>\n",
       "      <th>366</th>\n",
       "      <td>USER00304</td>\n",
       "      <td>2022-02-26 23:45:04</td>\n",
       "      <td>Tom Welch</td>\n",
       "      <td>6161 Lake Plains Haven</td>\n",
       "      <td>New Mexico</td>\n",
       "      <td>Charlotte</td>\n",
       "      <td>Seychelles</td>\n",
       "      <td>1990-05-31 21:51:53</td>\n",
       "      <td>Male</td>\n",
       "      <td>3f:ac:2b:19:0e:a5</td>\n",
       "      <td>Basic</td>\n",
       "    </tr>\n",
       "    <tr>\n",
       "      <th>554</th>\n",
       "      <td>USER00304</td>\n",
       "      <td>2020-09-24 17:46:58</td>\n",
       "      <td>Mariam Kemmer</td>\n",
       "      <td>8376 Hill Ton</td>\n",
       "      <td>Colorado</td>\n",
       "      <td>Indianapolis</td>\n",
       "      <td>Mali</td>\n",
       "      <td>1973-06-25 19:24:02</td>\n",
       "      <td>Male</td>\n",
       "      <td>ab:80:d2:7c:98:76</td>\n",
       "      <td>Basic</td>\n",
       "    </tr>\n",
       "    <tr>\n",
       "      <th>440</th>\n",
       "      <td>USER00393</td>\n",
       "      <td>2022-10-16 17:26:09</td>\n",
       "      <td>Liliane Smith</td>\n",
       "      <td>4315 West Lodge Town</td>\n",
       "      <td>Florida</td>\n",
       "      <td>Cincinnati</td>\n",
       "      <td>Iraq</td>\n",
       "      <td>1973-06-08 08:48:19</td>\n",
       "      <td>Male</td>\n",
       "      <td>31:c7:99:cf:1f:cb</td>\n",
       "      <td>Verified</td>\n",
       "    </tr>\n",
       "    <tr>\n",
       "      <th>1230</th>\n",
       "      <td>USER00393</td>\n",
       "      <td>2022-08-06 02:47:01</td>\n",
       "      <td>Shaina Bailey</td>\n",
       "      <td>27558 Shores Furt</td>\n",
       "      <td>Alabama</td>\n",
       "      <td>Mesa</td>\n",
       "      <td>Brazil</td>\n",
       "      <td>1995-01-15 16:28:17</td>\n",
       "      <td>Female</td>\n",
       "      <td>a5:25:61:fd:a3:9f</td>\n",
       "      <td>Basic</td>\n",
       "    </tr>\n",
       "    <tr>\n",
       "      <th>775</th>\n",
       "      <td>USER00473</td>\n",
       "      <td>2023-03-10 07:52:20</td>\n",
       "      <td>Camron Stehr</td>\n",
       "      <td>9987 Port Neck Side</td>\n",
       "      <td>California</td>\n",
       "      <td>Anaheim</td>\n",
       "      <td>Brazil</td>\n",
       "      <td>1988-12-12 01:34:45</td>\n",
       "      <td>Male</td>\n",
       "      <td>86:ee:ae:92:d0:53</td>\n",
       "      <td>Basic</td>\n",
       "    </tr>\n",
       "  </tbody>\n",
       "</table>\n",
       "</div>"
      ],
      "text/plain": [
       "        user_id       creation_date           name                  street  \\\n",
       "366   USER00304 2022-02-26 23:45:04      Tom Welch  6161 Lake Plains Haven   \n",
       "554   USER00304 2020-09-24 17:46:58  Mariam Kemmer           8376 Hill Ton   \n",
       "440   USER00393 2022-10-16 17:26:09  Liliane Smith    4315 West Lodge Town   \n",
       "1230  USER00393 2022-08-06 02:47:01  Shaina Bailey       27558 Shores Furt   \n",
       "775   USER00473 2023-03-10 07:52:20   Camron Stehr     9987 Port Neck Side   \n",
       "\n",
       "           state          city     country           birthdate  gender  \\\n",
       "366   New Mexico     Charlotte  Seychelles 1990-05-31 21:51:53    Male   \n",
       "554     Colorado  Indianapolis        Mali 1973-06-25 19:24:02    Male   \n",
       "440      Florida    Cincinnati        Iraq 1973-06-08 08:48:19    Male   \n",
       "1230     Alabama          Mesa      Brazil 1995-01-15 16:28:17  Female   \n",
       "775   California       Anaheim      Brazil 1988-12-12 01:34:45    Male   \n",
       "\n",
       "         device_address user_type  \n",
       "366   3f:ac:2b:19:0e:a5     Basic  \n",
       "554   ab:80:d2:7c:98:76     Basic  \n",
       "440   31:c7:99:cf:1f:cb  Verified  \n",
       "1230  a5:25:61:fd:a3:9f     Basic  \n",
       "775   86:ee:ae:92:d0:53     Basic  "
      ]
     },
     "execution_count": 27,
     "metadata": {},
     "output_type": "execute_result"
    }
   ],
   "source": [
    "duplicate_user_ids = df_user_data[df_user_data.duplicated(\n",
    "    subset=['user_id'], keep=False)]\n",
    "\n",
    "sorted_duplicate_user_ids = duplicate_user_ids.sort_values(by=['user_id'])\n",
    "\n",
    "sorted_duplicate_user_ids.head()"
   ]
  },
  {
   "cell_type": "code",
   "execution_count": 28,
   "metadata": {},
   "outputs": [
    {
     "data": {
      "text/html": [
       "<div>\n",
       "<style scoped>\n",
       "    .dataframe tbody tr th:only-of-type {\n",
       "        vertical-align: middle;\n",
       "    }\n",
       "\n",
       "    .dataframe tbody tr th {\n",
       "        vertical-align: top;\n",
       "    }\n",
       "\n",
       "    .dataframe thead th {\n",
       "        text-align: right;\n",
       "    }\n",
       "</style>\n",
       "<table border=\"1\" class=\"dataframe\">\n",
       "  <thead>\n",
       "    <tr style=\"text-align: right;\">\n",
       "      <th></th>\n",
       "      <th>user_id</th>\n",
       "      <th>creation_date</th>\n",
       "      <th>name</th>\n",
       "      <th>street</th>\n",
       "      <th>state</th>\n",
       "      <th>city</th>\n",
       "      <th>country</th>\n",
       "      <th>birthdate</th>\n",
       "      <th>gender</th>\n",
       "      <th>device_address</th>\n",
       "      <th>user_type</th>\n",
       "    </tr>\n",
       "  </thead>\n",
       "  <tbody>\n",
       "    <tr>\n",
       "      <th>0</th>\n",
       "      <td>40678</td>\n",
       "      <td>2021-03-17 22:56:13</td>\n",
       "      <td>Zion Feest</td>\n",
       "      <td>14938 West Trace Side</td>\n",
       "      <td>New Jersey</td>\n",
       "      <td>Birmingham</td>\n",
       "      <td>Hong Kong</td>\n",
       "      <td>1998-04-06 05:29:37</td>\n",
       "      <td>Male</td>\n",
       "      <td>17:fb:f2:60:94:4b</td>\n",
       "      <td>Basic</td>\n",
       "    </tr>\n",
       "    <tr>\n",
       "      <th>1</th>\n",
       "      <td>8728</td>\n",
       "      <td>2022-10-10 12:53:20</td>\n",
       "      <td>Kattie Bergstrom</td>\n",
       "      <td>4476 West Haven Fort</td>\n",
       "      <td>Alabama</td>\n",
       "      <td>Irvine</td>\n",
       "      <td>Mayotte</td>\n",
       "      <td>2003-05-22 11:16:19</td>\n",
       "      <td>Male</td>\n",
       "      <td>b0:17:a7:0b:d6:67</td>\n",
       "      <td>Premium</td>\n",
       "    </tr>\n",
       "    <tr>\n",
       "      <th>2</th>\n",
       "      <td>29759</td>\n",
       "      <td>2020-05-20 04:34:44</td>\n",
       "      <td>Aiden Corwin</td>\n",
       "      <td>59980 North Crest Chester</td>\n",
       "      <td>North Carolina</td>\n",
       "      <td>Tampa</td>\n",
       "      <td>Iraq</td>\n",
       "      <td>2008-08-29 16:42:05</td>\n",
       "      <td>Female</td>\n",
       "      <td>24:f2:0b:88:2f:bd</td>\n",
       "      <td>Basic</td>\n",
       "    </tr>\n",
       "    <tr>\n",
       "      <th>3</th>\n",
       "      <td>16806</td>\n",
       "      <td>2021-05-28 07:36:30</td>\n",
       "      <td>Vince Gislason</td>\n",
       "      <td>541 Radial Mouth</td>\n",
       "      <td>Illinois</td>\n",
       "      <td>Orlando</td>\n",
       "      <td>New Zealand</td>\n",
       "      <td>2012-02-09 14:12:37</td>\n",
       "      <td>Male</td>\n",
       "      <td>a4:f5:fd:fe:07:f9</td>\n",
       "      <td>Basic</td>\n",
       "    </tr>\n",
       "    <tr>\n",
       "      <th>4</th>\n",
       "      <td>27644</td>\n",
       "      <td>2023-03-16 19:25:35</td>\n",
       "      <td>Adele Okuneva</td>\n",
       "      <td>896 Glen Bury</td>\n",
       "      <td>Arizona</td>\n",
       "      <td>Reno</td>\n",
       "      <td>Mexico</td>\n",
       "      <td>1976-10-13 00:53:54</td>\n",
       "      <td>Male</td>\n",
       "      <td>ac:80:b3:bc:8d:5f</td>\n",
       "      <td>Premium</td>\n",
       "    </tr>\n",
       "  </tbody>\n",
       "</table>\n",
       "</div>"
      ],
      "text/plain": [
       "   user_id       creation_date              name                     street  \\\n",
       "0    40678 2021-03-17 22:56:13        Zion Feest      14938 West Trace Side   \n",
       "1     8728 2022-10-10 12:53:20  Kattie Bergstrom       4476 West Haven Fort   \n",
       "2    29759 2020-05-20 04:34:44      Aiden Corwin  59980 North Crest Chester   \n",
       "3    16806 2021-05-28 07:36:30    Vince Gislason           541 Radial Mouth   \n",
       "4    27644 2023-03-16 19:25:35     Adele Okuneva              896 Glen Bury   \n",
       "\n",
       "            state        city      country           birthdate  gender  \\\n",
       "0      New Jersey  Birmingham    Hong Kong 1998-04-06 05:29:37    Male   \n",
       "1         Alabama      Irvine      Mayotte 2003-05-22 11:16:19    Male   \n",
       "2  North Carolina       Tampa         Iraq 2008-08-29 16:42:05  Female   \n",
       "3        Illinois     Orlando  New Zealand 2012-02-09 14:12:37    Male   \n",
       "4         Arizona        Reno       Mexico 1976-10-13 00:53:54    Male   \n",
       "\n",
       "      device_address user_type  \n",
       "0  17:fb:f2:60:94:4b     Basic  \n",
       "1  b0:17:a7:0b:d6:67   Premium  \n",
       "2  24:f2:0b:88:2f:bd     Basic  \n",
       "3  a4:f5:fd:fe:07:f9     Basic  \n",
       "4  ac:80:b3:bc:8d:5f   Premium  "
      ]
     },
     "execution_count": 28,
     "metadata": {},
     "output_type": "execute_result"
    }
   ],
   "source": [
    "df_user_data['user_id'] = df_user_data['user_id'].str.replace(\n",
    "    'USER', '').astype(int)\n",
    "df_user_data.head()"
   ]
  },
  {
   "cell_type": "code",
   "execution_count": 29,
   "metadata": {},
   "outputs": [],
   "source": [
    "df_user_data['user_id'] = df_user_data.groupby('user_id').cumcount().add(\n",
    "    1).astype(str).radd('USER') + df_user_data['user_id'].astype(str)"
   ]
  },
  {
   "cell_type": "code",
   "execution_count": 30,
   "metadata": {},
   "outputs": [
    {
     "name": "stdout",
     "output_type": "stream",
     "text": [
      "There are no duplicate user IDs.\n"
     ]
    }
   ],
   "source": [
    "duplicate_check = df_user_data.duplicated('user_id', keep=False)\n",
    "\n",
    "if duplicate_check.any():\n",
    "    print(\"There are still duplicate user IDs.\")\n",
    "else:\n",
    "    print(\"There are no duplicate user IDs.\")"
   ]
  },
  {
   "cell_type": "code",
   "execution_count": 31,
   "metadata": {},
   "outputs": [
    {
     "data": {
      "text/html": [
       "<div>\n",
       "<style scoped>\n",
       "    .dataframe tbody tr th:only-of-type {\n",
       "        vertical-align: middle;\n",
       "    }\n",
       "\n",
       "    .dataframe tbody tr th {\n",
       "        vertical-align: top;\n",
       "    }\n",
       "\n",
       "    .dataframe thead th {\n",
       "        text-align: right;\n",
       "    }\n",
       "</style>\n",
       "<table border=\"1\" class=\"dataframe\">\n",
       "  <thead>\n",
       "    <tr style=\"text-align: right;\">\n",
       "      <th></th>\n",
       "      <th>user_id</th>\n",
       "      <th>creation_date</th>\n",
       "      <th>name</th>\n",
       "      <th>street</th>\n",
       "      <th>state</th>\n",
       "      <th>city</th>\n",
       "      <th>country</th>\n",
       "      <th>birthdate</th>\n",
       "      <th>gender</th>\n",
       "      <th>device_address</th>\n",
       "      <th>user_type</th>\n",
       "    </tr>\n",
       "  </thead>\n",
       "  <tbody>\n",
       "    <tr>\n",
       "      <th>0</th>\n",
       "      <td>USER140678</td>\n",
       "      <td>2021-03-17 22:56:13</td>\n",
       "      <td>Zion Feest</td>\n",
       "      <td>14938 West Trace Side</td>\n",
       "      <td>New Jersey</td>\n",
       "      <td>Birmingham</td>\n",
       "      <td>Hong Kong</td>\n",
       "      <td>1998-04-06 05:29:37</td>\n",
       "      <td>Male</td>\n",
       "      <td>17:fb:f2:60:94:4b</td>\n",
       "      <td>Basic</td>\n",
       "    </tr>\n",
       "    <tr>\n",
       "      <th>1</th>\n",
       "      <td>USER18728</td>\n",
       "      <td>2022-10-10 12:53:20</td>\n",
       "      <td>Kattie Bergstrom</td>\n",
       "      <td>4476 West Haven Fort</td>\n",
       "      <td>Alabama</td>\n",
       "      <td>Irvine</td>\n",
       "      <td>Mayotte</td>\n",
       "      <td>2003-05-22 11:16:19</td>\n",
       "      <td>Male</td>\n",
       "      <td>b0:17:a7:0b:d6:67</td>\n",
       "      <td>Premium</td>\n",
       "    </tr>\n",
       "    <tr>\n",
       "      <th>2</th>\n",
       "      <td>USER129759</td>\n",
       "      <td>2020-05-20 04:34:44</td>\n",
       "      <td>Aiden Corwin</td>\n",
       "      <td>59980 North Crest Chester</td>\n",
       "      <td>North Carolina</td>\n",
       "      <td>Tampa</td>\n",
       "      <td>Iraq</td>\n",
       "      <td>2008-08-29 16:42:05</td>\n",
       "      <td>Female</td>\n",
       "      <td>24:f2:0b:88:2f:bd</td>\n",
       "      <td>Basic</td>\n",
       "    </tr>\n",
       "    <tr>\n",
       "      <th>3</th>\n",
       "      <td>USER116806</td>\n",
       "      <td>2021-05-28 07:36:30</td>\n",
       "      <td>Vince Gislason</td>\n",
       "      <td>541 Radial Mouth</td>\n",
       "      <td>Illinois</td>\n",
       "      <td>Orlando</td>\n",
       "      <td>New Zealand</td>\n",
       "      <td>2012-02-09 14:12:37</td>\n",
       "      <td>Male</td>\n",
       "      <td>a4:f5:fd:fe:07:f9</td>\n",
       "      <td>Basic</td>\n",
       "    </tr>\n",
       "    <tr>\n",
       "      <th>4</th>\n",
       "      <td>USER127644</td>\n",
       "      <td>2023-03-16 19:25:35</td>\n",
       "      <td>Adele Okuneva</td>\n",
       "      <td>896 Glen Bury</td>\n",
       "      <td>Arizona</td>\n",
       "      <td>Reno</td>\n",
       "      <td>Mexico</td>\n",
       "      <td>1976-10-13 00:53:54</td>\n",
       "      <td>Male</td>\n",
       "      <td>ac:80:b3:bc:8d:5f</td>\n",
       "      <td>Premium</td>\n",
       "    </tr>\n",
       "  </tbody>\n",
       "</table>\n",
       "</div>"
      ],
      "text/plain": [
       "      user_id       creation_date              name  \\\n",
       "0  USER140678 2021-03-17 22:56:13        Zion Feest   \n",
       "1   USER18728 2022-10-10 12:53:20  Kattie Bergstrom   \n",
       "2  USER129759 2020-05-20 04:34:44      Aiden Corwin   \n",
       "3  USER116806 2021-05-28 07:36:30    Vince Gislason   \n",
       "4  USER127644 2023-03-16 19:25:35     Adele Okuneva   \n",
       "\n",
       "                      street           state        city      country  \\\n",
       "0      14938 West Trace Side      New Jersey  Birmingham    Hong Kong   \n",
       "1       4476 West Haven Fort         Alabama      Irvine      Mayotte   \n",
       "2  59980 North Crest Chester  North Carolina       Tampa         Iraq   \n",
       "3           541 Radial Mouth        Illinois     Orlando  New Zealand   \n",
       "4              896 Glen Bury         Arizona        Reno       Mexico   \n",
       "\n",
       "            birthdate  gender     device_address user_type  \n",
       "0 1998-04-06 05:29:37    Male  17:fb:f2:60:94:4b     Basic  \n",
       "1 2003-05-22 11:16:19    Male  b0:17:a7:0b:d6:67   Premium  \n",
       "2 2008-08-29 16:42:05  Female  24:f2:0b:88:2f:bd     Basic  \n",
       "3 2012-02-09 14:12:37    Male  a4:f5:fd:fe:07:f9     Basic  \n",
       "4 1976-10-13 00:53:54    Male  ac:80:b3:bc:8d:5f   Premium  "
      ]
     },
     "execution_count": 31,
     "metadata": {},
     "output_type": "execute_result"
    }
   ],
   "source": [
    "df_user_data.head()"
   ]
  },
  {
   "cell_type": "markdown",
   "id": "43c6aebf-b4e8-414a-8d44-04b687048373",
   "metadata": {
    "jp-MarkdownHeadingCollapsed": true
   },
   "source": [
    "## Checking For Nulls\n"
   ]
  },
  {
   "cell_type": "code",
   "execution_count": 32,
   "id": "59070770-1bc4-4f30-8d7b-38dca9122405",
   "metadata": {
    "scrolled": true
   },
   "outputs": [
    {
     "data": {
      "text/plain": [
       "user_id           0\n",
       "creation_date     0\n",
       "name              0\n",
       "street            0\n",
       "state             0\n",
       "city              0\n",
       "country           0\n",
       "birthdate         0\n",
       "gender            0\n",
       "device_address    0\n",
       "user_type         0\n",
       "dtype: int64"
      ]
     },
     "execution_count": 32,
     "metadata": {},
     "output_type": "execute_result"
    }
   ],
   "source": [
    "df_user_data.isnull().sum()"
   ]
  },
  {
   "cell_type": "code",
   "execution_count": 33,
   "id": "fd22423c",
   "metadata": {},
   "outputs": [
    {
     "name": "stdout",
     "output_type": "stream",
     "text": [
      "0\n"
     ]
    }
   ],
   "source": [
    "print(df_user_data.duplicated().sum())"
   ]
  },
  {
   "cell_type": "markdown",
   "metadata": {},
   "source": [
    "## Convert to parquet\n"
   ]
  },
  {
   "cell_type": "code",
   "execution_count": 34,
   "metadata": {},
   "outputs": [],
   "source": [
    "df_user_data.to_parquet(\n",
    "    'Customer Management Department/user_data.parquet', index=False)"
   ]
  },
  {
   "cell_type": "markdown",
   "id": "79c2697a-7277-4144-b8f3-7d47ca743cc6",
   "metadata": {},
   "source": [
    "# User Job\n"
   ]
  },
  {
   "cell_type": "code",
   "execution_count": 35,
   "id": "85df4d89-0a18-4bb6-a5bd-fe589f00e327",
   "metadata": {},
   "outputs": [
    {
     "name": "stdout",
     "output_type": "stream",
     "text": [
      "      Unnamed: 0    user_id              name       job_title   job_level\n",
      "0              0  USER40678        Zion Feest      Technician    Accounts\n",
      "1              1  USER08728  Kattie Bergstrom      Technician   Solutions\n",
      "2              2  USER29759      Aiden Corwin         Student         NaN\n",
      "3              3  USER16806    Vince Gislason         Student         NaN\n",
      "4              4  USER27644     Adele Okuneva       Associate   Usability\n",
      "...          ...        ...               ...             ...         ...\n",
      "4995        4995  USER49969   Kendall Waelchi     Facilitator  Directives\n",
      "4996        4996  USER57209  Lucious Kshlerin         Student         NaN\n",
      "4997        4997  USER36424    Cordie Jenkins  Representative  Directives\n",
      "4998        4998  USER45166        Tyrel Feil      Supervisor     Metrics\n",
      "4999        4999  USER54154       Betty Zieme         Student         NaN\n",
      "\n",
      "[5000 rows x 5 columns]\n",
      "Index(['Unnamed: 0', 'user_id', 'name', 'job_title', 'job_level'], dtype='object')\n"
     ]
    }
   ],
   "source": [
    "df_user_job = pd.read_csv('Customer Management Department/user_job.csv')\n",
    "print(df_user_job)\n",
    "print(df_user_job.columns.ravel())"
   ]
  },
  {
   "cell_type": "code",
   "execution_count": 36,
   "metadata": {},
   "outputs": [
    {
     "data": {
      "text/html": [
       "<div>\n",
       "<style scoped>\n",
       "    .dataframe tbody tr th:only-of-type {\n",
       "        vertical-align: middle;\n",
       "    }\n",
       "\n",
       "    .dataframe tbody tr th {\n",
       "        vertical-align: top;\n",
       "    }\n",
       "\n",
       "    .dataframe thead th {\n",
       "        text-align: right;\n",
       "    }\n",
       "</style>\n",
       "<table border=\"1\" class=\"dataframe\">\n",
       "  <thead>\n",
       "    <tr style=\"text-align: right;\">\n",
       "      <th></th>\n",
       "      <th>Unnamed: 0</th>\n",
       "      <th>user_id</th>\n",
       "      <th>name</th>\n",
       "      <th>job_title</th>\n",
       "      <th>job_level</th>\n",
       "    </tr>\n",
       "  </thead>\n",
       "  <tbody>\n",
       "    <tr>\n",
       "      <th>0</th>\n",
       "      <td>0</td>\n",
       "      <td>USER40678</td>\n",
       "      <td>Zion Feest</td>\n",
       "      <td>Technician</td>\n",
       "      <td>Accounts</td>\n",
       "    </tr>\n",
       "    <tr>\n",
       "      <th>1</th>\n",
       "      <td>1</td>\n",
       "      <td>USER08728</td>\n",
       "      <td>Kattie Bergstrom</td>\n",
       "      <td>Technician</td>\n",
       "      <td>Solutions</td>\n",
       "    </tr>\n",
       "    <tr>\n",
       "      <th>2</th>\n",
       "      <td>2</td>\n",
       "      <td>USER29759</td>\n",
       "      <td>Aiden Corwin</td>\n",
       "      <td>Student</td>\n",
       "      <td>NaN</td>\n",
       "    </tr>\n",
       "    <tr>\n",
       "      <th>3</th>\n",
       "      <td>3</td>\n",
       "      <td>USER16806</td>\n",
       "      <td>Vince Gislason</td>\n",
       "      <td>Student</td>\n",
       "      <td>NaN</td>\n",
       "    </tr>\n",
       "    <tr>\n",
       "      <th>4</th>\n",
       "      <td>4</td>\n",
       "      <td>USER27644</td>\n",
       "      <td>Adele Okuneva</td>\n",
       "      <td>Associate</td>\n",
       "      <td>Usability</td>\n",
       "    </tr>\n",
       "    <tr>\n",
       "      <th>...</th>\n",
       "      <td>...</td>\n",
       "      <td>...</td>\n",
       "      <td>...</td>\n",
       "      <td>...</td>\n",
       "      <td>...</td>\n",
       "    </tr>\n",
       "    <tr>\n",
       "      <th>4995</th>\n",
       "      <td>4995</td>\n",
       "      <td>USER49969</td>\n",
       "      <td>Kendall Waelchi</td>\n",
       "      <td>Facilitator</td>\n",
       "      <td>Directives</td>\n",
       "    </tr>\n",
       "    <tr>\n",
       "      <th>4996</th>\n",
       "      <td>4996</td>\n",
       "      <td>USER57209</td>\n",
       "      <td>Lucious Kshlerin</td>\n",
       "      <td>Student</td>\n",
       "      <td>NaN</td>\n",
       "    </tr>\n",
       "    <tr>\n",
       "      <th>4997</th>\n",
       "      <td>4997</td>\n",
       "      <td>USER36424</td>\n",
       "      <td>Cordie Jenkins</td>\n",
       "      <td>Representative</td>\n",
       "      <td>Directives</td>\n",
       "    </tr>\n",
       "    <tr>\n",
       "      <th>4998</th>\n",
       "      <td>4998</td>\n",
       "      <td>USER45166</td>\n",
       "      <td>Tyrel Feil</td>\n",
       "      <td>Supervisor</td>\n",
       "      <td>Metrics</td>\n",
       "    </tr>\n",
       "    <tr>\n",
       "      <th>4999</th>\n",
       "      <td>4999</td>\n",
       "      <td>USER54154</td>\n",
       "      <td>Betty Zieme</td>\n",
       "      <td>Student</td>\n",
       "      <td>NaN</td>\n",
       "    </tr>\n",
       "  </tbody>\n",
       "</table>\n",
       "<p>5000 rows × 5 columns</p>\n",
       "</div>"
      ],
      "text/plain": [
       "      Unnamed: 0    user_id              name       job_title   job_level\n",
       "0              0  USER40678        Zion Feest      Technician    Accounts\n",
       "1              1  USER08728  Kattie Bergstrom      Technician   Solutions\n",
       "2              2  USER29759      Aiden Corwin         Student         NaN\n",
       "3              3  USER16806    Vince Gislason         Student         NaN\n",
       "4              4  USER27644     Adele Okuneva       Associate   Usability\n",
       "...          ...        ...               ...             ...         ...\n",
       "4995        4995  USER49969   Kendall Waelchi     Facilitator  Directives\n",
       "4996        4996  USER57209  Lucious Kshlerin         Student         NaN\n",
       "4997        4997  USER36424    Cordie Jenkins  Representative  Directives\n",
       "4998        4998  USER45166        Tyrel Feil      Supervisor     Metrics\n",
       "4999        4999  USER54154       Betty Zieme         Student         NaN\n",
       "\n",
       "[5000 rows x 5 columns]"
      ]
     },
     "execution_count": 36,
     "metadata": {},
     "output_type": "execute_result"
    }
   ],
   "source": [
    "df_user_job"
   ]
  },
  {
   "cell_type": "markdown",
   "metadata": {},
   "source": [
    "## Drop Unnamed column\n"
   ]
  },
  {
   "cell_type": "code",
   "execution_count": 37,
   "metadata": {},
   "outputs": [
    {
     "data": {
      "text/html": [
       "<div>\n",
       "<style scoped>\n",
       "    .dataframe tbody tr th:only-of-type {\n",
       "        vertical-align: middle;\n",
       "    }\n",
       "\n",
       "    .dataframe tbody tr th {\n",
       "        vertical-align: top;\n",
       "    }\n",
       "\n",
       "    .dataframe thead th {\n",
       "        text-align: right;\n",
       "    }\n",
       "</style>\n",
       "<table border=\"1\" class=\"dataframe\">\n",
       "  <thead>\n",
       "    <tr style=\"text-align: right;\">\n",
       "      <th></th>\n",
       "      <th>user_id</th>\n",
       "      <th>name</th>\n",
       "      <th>job_title</th>\n",
       "      <th>job_level</th>\n",
       "    </tr>\n",
       "  </thead>\n",
       "  <tbody>\n",
       "    <tr>\n",
       "      <th>0</th>\n",
       "      <td>USER40678</td>\n",
       "      <td>Zion Feest</td>\n",
       "      <td>Technician</td>\n",
       "      <td>Accounts</td>\n",
       "    </tr>\n",
       "    <tr>\n",
       "      <th>1</th>\n",
       "      <td>USER08728</td>\n",
       "      <td>Kattie Bergstrom</td>\n",
       "      <td>Technician</td>\n",
       "      <td>Solutions</td>\n",
       "    </tr>\n",
       "    <tr>\n",
       "      <th>2</th>\n",
       "      <td>USER29759</td>\n",
       "      <td>Aiden Corwin</td>\n",
       "      <td>Student</td>\n",
       "      <td>NaN</td>\n",
       "    </tr>\n",
       "    <tr>\n",
       "      <th>3</th>\n",
       "      <td>USER16806</td>\n",
       "      <td>Vince Gislason</td>\n",
       "      <td>Student</td>\n",
       "      <td>NaN</td>\n",
       "    </tr>\n",
       "    <tr>\n",
       "      <th>4</th>\n",
       "      <td>USER27644</td>\n",
       "      <td>Adele Okuneva</td>\n",
       "      <td>Associate</td>\n",
       "      <td>Usability</td>\n",
       "    </tr>\n",
       "    <tr>\n",
       "      <th>...</th>\n",
       "      <td>...</td>\n",
       "      <td>...</td>\n",
       "      <td>...</td>\n",
       "      <td>...</td>\n",
       "    </tr>\n",
       "    <tr>\n",
       "      <th>4995</th>\n",
       "      <td>USER49969</td>\n",
       "      <td>Kendall Waelchi</td>\n",
       "      <td>Facilitator</td>\n",
       "      <td>Directives</td>\n",
       "    </tr>\n",
       "    <tr>\n",
       "      <th>4996</th>\n",
       "      <td>USER57209</td>\n",
       "      <td>Lucious Kshlerin</td>\n",
       "      <td>Student</td>\n",
       "      <td>NaN</td>\n",
       "    </tr>\n",
       "    <tr>\n",
       "      <th>4997</th>\n",
       "      <td>USER36424</td>\n",
       "      <td>Cordie Jenkins</td>\n",
       "      <td>Representative</td>\n",
       "      <td>Directives</td>\n",
       "    </tr>\n",
       "    <tr>\n",
       "      <th>4998</th>\n",
       "      <td>USER45166</td>\n",
       "      <td>Tyrel Feil</td>\n",
       "      <td>Supervisor</td>\n",
       "      <td>Metrics</td>\n",
       "    </tr>\n",
       "    <tr>\n",
       "      <th>4999</th>\n",
       "      <td>USER54154</td>\n",
       "      <td>Betty Zieme</td>\n",
       "      <td>Student</td>\n",
       "      <td>NaN</td>\n",
       "    </tr>\n",
       "  </tbody>\n",
       "</table>\n",
       "<p>5000 rows × 4 columns</p>\n",
       "</div>"
      ],
      "text/plain": [
       "        user_id              name       job_title   job_level\n",
       "0     USER40678        Zion Feest      Technician    Accounts\n",
       "1     USER08728  Kattie Bergstrom      Technician   Solutions\n",
       "2     USER29759      Aiden Corwin         Student         NaN\n",
       "3     USER16806    Vince Gislason         Student         NaN\n",
       "4     USER27644     Adele Okuneva       Associate   Usability\n",
       "...         ...               ...             ...         ...\n",
       "4995  USER49969   Kendall Waelchi     Facilitator  Directives\n",
       "4996  USER57209  Lucious Kshlerin         Student         NaN\n",
       "4997  USER36424    Cordie Jenkins  Representative  Directives\n",
       "4998  USER45166        Tyrel Feil      Supervisor     Metrics\n",
       "4999  USER54154       Betty Zieme         Student         NaN\n",
       "\n",
       "[5000 rows x 4 columns]"
      ]
     },
     "execution_count": 37,
     "metadata": {},
     "output_type": "execute_result"
    }
   ],
   "source": [
    "df_user_job = df_user_job.drop(columns=['Unnamed: 0'])\n",
    "df_user_job"
   ]
  },
  {
   "cell_type": "markdown",
   "metadata": {},
   "source": [
    "## Check unique values of job title and job level\n"
   ]
  },
  {
   "cell_type": "code",
   "execution_count": 38,
   "metadata": {},
   "outputs": [
    {
     "name": "stdout",
     "output_type": "stream",
     "text": [
      "Unique Job Titles:\n",
      "['Technician' 'Student' 'Associate' 'Liaison' 'Director' 'Producer'\n",
      " 'Executive' 'Strategist' 'Planner' 'Facilitator' 'Designer'\n",
      " 'Orchestrator' 'Developer' 'Manager' 'Consultant' 'Engineer' 'Assistant'\n",
      " 'Supervisor' 'Representative' 'Specialist' 'Analyst' 'Coordinator'\n",
      " 'Architect' 'Agent' 'Officer' 'Administrator']\n",
      "\n",
      "Unique Job Levels:\n",
      "['Accounts' 'Solutions' nan 'Usability' 'Mobility' 'Operations' 'Security'\n",
      " 'Assurance' 'Markets' 'Implementation' 'Paradigm' 'Creative' 'Response'\n",
      " 'Accountability' 'Interactions' 'Directives' 'Intranet' 'Configuration'\n",
      " 'Integration' 'Program' 'Identity' 'Factors' 'Division' 'Research'\n",
      " 'Brand' 'Tactics' 'Quality' 'Data' 'Optimization' 'Metrics'\n",
      " 'Infrastructure' 'Applications' 'Branding' 'Web' 'Communications'\n",
      " 'Marketing' 'Functionality' 'Group']\n"
     ]
    }
   ],
   "source": [
    "unique_job_titles = df_user_job['job_title'].unique()\n",
    "unique_job_levels = df_user_job['job_level'].unique()\n",
    "\n",
    "print(\"Unique Job Titles:\")\n",
    "print(unique_job_titles)\n",
    "\n",
    "print(\"\\nUnique Job Levels:\")\n",
    "print(unique_job_levels)"
   ]
  },
  {
   "cell_type": "markdown",
   "metadata": {},
   "source": [
    "#### Check unique combinations of job title and job level\n"
   ]
  },
  {
   "cell_type": "code",
   "execution_count": 39,
   "metadata": {},
   "outputs": [
    {
     "name": "stdout",
     "output_type": "stream",
     "text": [
      "Unique Combinations of Job Title and Job Level:\n",
      "        job_title   job_level\n",
      "0      Technician    Accounts\n",
      "1      Technician   Solutions\n",
      "2         Student         NaN\n",
      "4       Associate   Usability\n",
      "6      Technician    Mobility\n",
      "...           ...         ...\n",
      "4559  Facilitator  Operations\n",
      "4673      Manager    Security\n",
      "4821    Associate    Division\n",
      "4857      Manager    Branding\n",
      "4998   Supervisor     Metrics\n",
      "\n",
      "[897 rows x 2 columns]\n"
     ]
    }
   ],
   "source": [
    "unique_combinations = df_user_job[['job_title', 'job_level']].drop_duplicates()\n",
    "\n",
    "print(\"Unique Combinations of Job Title and Job Level:\")\n",
    "print(unique_combinations)"
   ]
  },
  {
   "cell_type": "code",
   "execution_count": 40,
   "metadata": {},
   "outputs": [
    {
     "name": "stdout",
     "output_type": "stream",
     "text": [
      "Unique Combinations of Student and Job Level:\n",
      "  job_title job_level\n",
      "2   Student       NaN\n"
     ]
    }
   ],
   "source": [
    "student_job_combinations = df_user_job[df_user_job['job_title'] == 'Student'][[\n",
    "    'job_title', 'job_level']].drop_duplicates()\n",
    "\n",
    "print(\"Unique Combinations of Student and Job Level:\")\n",
    "print(student_job_combinations)"
   ]
  },
  {
   "cell_type": "markdown",
   "metadata": {},
   "source": [
    "## Check for invalid names\n"
   ]
  },
  {
   "cell_type": "code",
   "execution_count": 41,
   "metadata": {},
   "outputs": [
    {
     "name": "stdout",
     "output_type": "stream",
     "text": [
      "Rows with Special Characters in the Name Column:\n",
      "Empty DataFrame\n",
      "Columns: [user_id, name, job_title, job_level]\n",
      "Index: []\n"
     ]
    }
   ],
   "source": [
    "df_user_job['name'] = df_user_job['name'].str.title()\n",
    "special_chars_check = df_user_job['name'].str.contains(\n",
    "    r'[^A-Za-z0-9\\s]', regex=True)\n",
    "\n",
    "rows_with_special_chars = df_user_job[special_chars_check]\n",
    "print(\"Rows with Special Characters in the Name Column:\")\n",
    "print(rows_with_special_chars)"
   ]
  },
  {
   "cell_type": "markdown",
   "metadata": {},
   "source": [
    "## Check for duplicate rows with different user id\n"
   ]
  },
  {
   "cell_type": "code",
   "execution_count": 42,
   "metadata": {},
   "outputs": [
    {
     "name": "stdout",
     "output_type": "stream",
     "text": [
      "        user_id           name job_title job_level\n",
      "2036  USER45050  Nya Abernathy   Student       NaN\n",
      "2293  USER44994  Nya Abernathy   Student       NaN\n"
     ]
    }
   ],
   "source": [
    "duplicate_rows = df_user_job[df_user_job.duplicated(\n",
    "    subset=df_user_job.columns.difference(['user_id']), keep=False)]\n",
    "\n",
    "print(duplicate_rows)"
   ]
  },
  {
   "cell_type": "markdown",
   "metadata": {},
   "source": [
    "#### Remove duplicate row with different user id\n"
   ]
  },
  {
   "cell_type": "code",
   "execution_count": 43,
   "metadata": {},
   "outputs": [
    {
     "name": "stdout",
     "output_type": "stream",
     "text": [
      "Empty DataFrame\n",
      "Columns: [user_id, name, job_title, job_level]\n",
      "Index: []\n"
     ]
    }
   ],
   "source": [
    "df_user_job = df_user_job.drop_duplicates(\n",
    "    subset=['name', 'job_title', 'job_level'], keep='first')\n",
    "\n",
    "duplicate_rows = df_user_job[df_user_job.duplicated(\n",
    "    subset=df_user_job.columns.difference(['user_id']), keep=False)]\n",
    "\n",
    "print(duplicate_rows)"
   ]
  },
  {
   "cell_type": "markdown",
   "metadata": {},
   "source": [
    "## Check for duplicate user id\n"
   ]
  },
  {
   "cell_type": "code",
   "execution_count": 44,
   "metadata": {},
   "outputs": [
    {
     "data": {
      "text/html": [
       "<div>\n",
       "<style scoped>\n",
       "    .dataframe tbody tr th:only-of-type {\n",
       "        vertical-align: middle;\n",
       "    }\n",
       "\n",
       "    .dataframe tbody tr th {\n",
       "        vertical-align: top;\n",
       "    }\n",
       "\n",
       "    .dataframe thead th {\n",
       "        text-align: right;\n",
       "    }\n",
       "</style>\n",
       "<table border=\"1\" class=\"dataframe\">\n",
       "  <thead>\n",
       "    <tr style=\"text-align: right;\">\n",
       "      <th></th>\n",
       "      <th>user_id</th>\n",
       "      <th>name</th>\n",
       "      <th>job_title</th>\n",
       "      <th>job_level</th>\n",
       "    </tr>\n",
       "  </thead>\n",
       "  <tbody>\n",
       "    <tr>\n",
       "      <th>366</th>\n",
       "      <td>USER00304</td>\n",
       "      <td>Tom Welch</td>\n",
       "      <td>Liaison</td>\n",
       "      <td>Integration</td>\n",
       "    </tr>\n",
       "    <tr>\n",
       "      <th>554</th>\n",
       "      <td>USER00304</td>\n",
       "      <td>Mariam Kemmer</td>\n",
       "      <td>Associate</td>\n",
       "      <td>Usability</td>\n",
       "    </tr>\n",
       "    <tr>\n",
       "      <th>440</th>\n",
       "      <td>USER00393</td>\n",
       "      <td>Liliane Smith</td>\n",
       "      <td>Orchestrator</td>\n",
       "      <td>Applications</td>\n",
       "    </tr>\n",
       "    <tr>\n",
       "      <th>1230</th>\n",
       "      <td>USER00393</td>\n",
       "      <td>Shaina Bailey</td>\n",
       "      <td>Specialist</td>\n",
       "      <td>Research</td>\n",
       "    </tr>\n",
       "    <tr>\n",
       "      <th>775</th>\n",
       "      <td>USER00473</td>\n",
       "      <td>Camron Stehr</td>\n",
       "      <td>Facilitator</td>\n",
       "      <td>Configuration</td>\n",
       "    </tr>\n",
       "    <tr>\n",
       "      <th>...</th>\n",
       "      <td>...</td>\n",
       "      <td>...</td>\n",
       "      <td>...</td>\n",
       "      <td>...</td>\n",
       "    </tr>\n",
       "    <tr>\n",
       "      <th>3764</th>\n",
       "      <td>USER64103</td>\n",
       "      <td>Ed Conroy</td>\n",
       "      <td>Student</td>\n",
       "      <td>NaN</td>\n",
       "    </tr>\n",
       "    <tr>\n",
       "      <th>3671</th>\n",
       "      <td>USER64103</td>\n",
       "      <td>Cristopher Padberg</td>\n",
       "      <td>Student</td>\n",
       "      <td>NaN</td>\n",
       "    </tr>\n",
       "    <tr>\n",
       "      <th>4104</th>\n",
       "      <td>USER64913</td>\n",
       "      <td>Kaia Heaney</td>\n",
       "      <td>Executive</td>\n",
       "      <td>Branding</td>\n",
       "    </tr>\n",
       "    <tr>\n",
       "      <th>4214</th>\n",
       "      <td>USER64913</td>\n",
       "      <td>Petra Hansen</td>\n",
       "      <td>Orchestrator</td>\n",
       "      <td>Mobility</td>\n",
       "    </tr>\n",
       "    <tr>\n",
       "      <th>738</th>\n",
       "      <td>USER64913</td>\n",
       "      <td>Madisen Bahringer</td>\n",
       "      <td>Planner</td>\n",
       "      <td>Security</td>\n",
       "    </tr>\n",
       "  </tbody>\n",
       "</table>\n",
       "<p>412 rows × 4 columns</p>\n",
       "</div>"
      ],
      "text/plain": [
       "        user_id                name     job_title      job_level\n",
       "366   USER00304           Tom Welch       Liaison    Integration\n",
       "554   USER00304       Mariam Kemmer     Associate      Usability\n",
       "440   USER00393       Liliane Smith  Orchestrator   Applications\n",
       "1230  USER00393       Shaina Bailey    Specialist       Research\n",
       "775   USER00473        Camron Stehr   Facilitator  Configuration\n",
       "...         ...                 ...           ...            ...\n",
       "3764  USER64103           Ed Conroy       Student            NaN\n",
       "3671  USER64103  Cristopher Padberg       Student            NaN\n",
       "4104  USER64913         Kaia Heaney     Executive       Branding\n",
       "4214  USER64913        Petra Hansen  Orchestrator       Mobility\n",
       "738   USER64913   Madisen Bahringer       Planner       Security\n",
       "\n",
       "[412 rows x 4 columns]"
      ]
     },
     "execution_count": 44,
     "metadata": {},
     "output_type": "execute_result"
    }
   ],
   "source": [
    "duplicate_user_jobs = df_user_job[df_user_job.duplicated(\n",
    "    subset=['user_id'], keep=False)]\n",
    "\n",
    "sorted_duplicate_user_jobs = duplicate_user_jobs.sort_values(by=['user_id'])\n",
    "\n",
    "sorted_duplicate_user_jobs"
   ]
  },
  {
   "cell_type": "code",
   "execution_count": 45,
   "metadata": {},
   "outputs": [
    {
     "name": "stderr",
     "output_type": "stream",
     "text": [
      "C:\\Users\\JOSHUA KYLE\\AppData\\Local\\Temp\\ipykernel_18984\\3485010201.py:1: SettingWithCopyWarning: \n",
      "A value is trying to be set on a copy of a slice from a DataFrame.\n",
      "Try using .loc[row_indexer,col_indexer] = value instead\n",
      "\n",
      "See the caveats in the documentation: https://pandas.pydata.org/pandas-docs/stable/user_guide/indexing.html#returning-a-view-versus-a-copy\n",
      "  df_user_job['user_id'] = df_user_job['user_id'].str.replace(\n"
     ]
    },
    {
     "data": {
      "text/html": [
       "<div>\n",
       "<style scoped>\n",
       "    .dataframe tbody tr th:only-of-type {\n",
       "        vertical-align: middle;\n",
       "    }\n",
       "\n",
       "    .dataframe tbody tr th {\n",
       "        vertical-align: top;\n",
       "    }\n",
       "\n",
       "    .dataframe thead th {\n",
       "        text-align: right;\n",
       "    }\n",
       "</style>\n",
       "<table border=\"1\" class=\"dataframe\">\n",
       "  <thead>\n",
       "    <tr style=\"text-align: right;\">\n",
       "      <th></th>\n",
       "      <th>user_id</th>\n",
       "      <th>name</th>\n",
       "      <th>job_title</th>\n",
       "      <th>job_level</th>\n",
       "    </tr>\n",
       "  </thead>\n",
       "  <tbody>\n",
       "    <tr>\n",
       "      <th>0</th>\n",
       "      <td>40678</td>\n",
       "      <td>Zion Feest</td>\n",
       "      <td>Technician</td>\n",
       "      <td>Accounts</td>\n",
       "    </tr>\n",
       "    <tr>\n",
       "      <th>1</th>\n",
       "      <td>8728</td>\n",
       "      <td>Kattie Bergstrom</td>\n",
       "      <td>Technician</td>\n",
       "      <td>Solutions</td>\n",
       "    </tr>\n",
       "    <tr>\n",
       "      <th>2</th>\n",
       "      <td>29759</td>\n",
       "      <td>Aiden Corwin</td>\n",
       "      <td>Student</td>\n",
       "      <td>NaN</td>\n",
       "    </tr>\n",
       "    <tr>\n",
       "      <th>3</th>\n",
       "      <td>16806</td>\n",
       "      <td>Vince Gislason</td>\n",
       "      <td>Student</td>\n",
       "      <td>NaN</td>\n",
       "    </tr>\n",
       "    <tr>\n",
       "      <th>4</th>\n",
       "      <td>27644</td>\n",
       "      <td>Adele Okuneva</td>\n",
       "      <td>Associate</td>\n",
       "      <td>Usability</td>\n",
       "    </tr>\n",
       "    <tr>\n",
       "      <th>...</th>\n",
       "      <td>...</td>\n",
       "      <td>...</td>\n",
       "      <td>...</td>\n",
       "      <td>...</td>\n",
       "    </tr>\n",
       "    <tr>\n",
       "      <th>4995</th>\n",
       "      <td>49969</td>\n",
       "      <td>Kendall Waelchi</td>\n",
       "      <td>Facilitator</td>\n",
       "      <td>Directives</td>\n",
       "    </tr>\n",
       "    <tr>\n",
       "      <th>4996</th>\n",
       "      <td>57209</td>\n",
       "      <td>Lucious Kshlerin</td>\n",
       "      <td>Student</td>\n",
       "      <td>NaN</td>\n",
       "    </tr>\n",
       "    <tr>\n",
       "      <th>4997</th>\n",
       "      <td>36424</td>\n",
       "      <td>Cordie Jenkins</td>\n",
       "      <td>Representative</td>\n",
       "      <td>Directives</td>\n",
       "    </tr>\n",
       "    <tr>\n",
       "      <th>4998</th>\n",
       "      <td>45166</td>\n",
       "      <td>Tyrel Feil</td>\n",
       "      <td>Supervisor</td>\n",
       "      <td>Metrics</td>\n",
       "    </tr>\n",
       "    <tr>\n",
       "      <th>4999</th>\n",
       "      <td>54154</td>\n",
       "      <td>Betty Zieme</td>\n",
       "      <td>Student</td>\n",
       "      <td>NaN</td>\n",
       "    </tr>\n",
       "  </tbody>\n",
       "</table>\n",
       "<p>4999 rows × 4 columns</p>\n",
       "</div>"
      ],
      "text/plain": [
       "      user_id              name       job_title   job_level\n",
       "0       40678        Zion Feest      Technician    Accounts\n",
       "1        8728  Kattie Bergstrom      Technician   Solutions\n",
       "2       29759      Aiden Corwin         Student         NaN\n",
       "3       16806    Vince Gislason         Student         NaN\n",
       "4       27644     Adele Okuneva       Associate   Usability\n",
       "...       ...               ...             ...         ...\n",
       "4995    49969   Kendall Waelchi     Facilitator  Directives\n",
       "4996    57209  Lucious Kshlerin         Student         NaN\n",
       "4997    36424    Cordie Jenkins  Representative  Directives\n",
       "4998    45166        Tyrel Feil      Supervisor     Metrics\n",
       "4999    54154       Betty Zieme         Student         NaN\n",
       "\n",
       "[4999 rows x 4 columns]"
      ]
     },
     "execution_count": 45,
     "metadata": {},
     "output_type": "execute_result"
    }
   ],
   "source": [
    "df_user_job['user_id'] = df_user_job['user_id'].str.replace(\n",
    "    'USER', '').astype(int)\n",
    "df_user_job"
   ]
  },
  {
   "cell_type": "code",
   "execution_count": 46,
   "metadata": {},
   "outputs": [
    {
     "name": "stderr",
     "output_type": "stream",
     "text": [
      "C:\\Users\\JOSHUA KYLE\\AppData\\Local\\Temp\\ipykernel_18984\\1603582346.py:1: SettingWithCopyWarning: \n",
      "A value is trying to be set on a copy of a slice from a DataFrame.\n",
      "Try using .loc[row_indexer,col_indexer] = value instead\n",
      "\n",
      "See the caveats in the documentation: https://pandas.pydata.org/pandas-docs/stable/user_guide/indexing.html#returning-a-view-versus-a-copy\n",
      "  df_user_job['user_id'] = df_user_job.groupby('user_id').cumcount().add(\n"
     ]
    }
   ],
   "source": [
    "df_user_job['user_id'] = df_user_job.groupby('user_id').cumcount().add(\n",
    "    1).astype(str).radd('USER') + df_user_job['user_id'].astype(str)"
   ]
  },
  {
   "cell_type": "code",
   "execution_count": 47,
   "metadata": {},
   "outputs": [
    {
     "name": "stdout",
     "output_type": "stream",
     "text": [
      "There are no duplicate user IDs.\n"
     ]
    }
   ],
   "source": [
    "duplicate_check = df_user_job.duplicated('user_id', keep=False)\n",
    "\n",
    "if duplicate_check.any():\n",
    "    print(\"There are still duplicate user IDs.\")\n",
    "else:\n",
    "    print(\"There are no duplicate user IDs.\")"
   ]
  },
  {
   "cell_type": "markdown",
   "id": "1d7e1ba7-4237-4353-87a4-32ef453763ea",
   "metadata": {
    "jp-MarkdownHeadingCollapsed": true
   },
   "source": [
    "## Checking for Nulls\n"
   ]
  },
  {
   "cell_type": "code",
   "execution_count": 48,
   "id": "90a93337-9010-48b4-9275-58e564725b01",
   "metadata": {},
   "outputs": [
    {
     "data": {
      "text/plain": [
       "user_id         0\n",
       "name            0\n",
       "job_title       0\n",
       "job_level    1628\n",
       "dtype: int64"
      ]
     },
     "execution_count": 48,
     "metadata": {},
     "output_type": "execute_result"
    }
   ],
   "source": [
    "df_user_job.isnull().sum()"
   ]
  },
  {
   "cell_type": "code",
   "execution_count": 49,
   "id": "9844204f-813b-451b-b244-05eaea0035de",
   "metadata": {},
   "outputs": [
    {
     "data": {
      "text/html": [
       "<div>\n",
       "<style scoped>\n",
       "    .dataframe tbody tr th:only-of-type {\n",
       "        vertical-align: middle;\n",
       "    }\n",
       "\n",
       "    .dataframe tbody tr th {\n",
       "        vertical-align: top;\n",
       "    }\n",
       "\n",
       "    .dataframe thead th {\n",
       "        text-align: right;\n",
       "    }\n",
       "</style>\n",
       "<table border=\"1\" class=\"dataframe\">\n",
       "  <thead>\n",
       "    <tr style=\"text-align: right;\">\n",
       "      <th></th>\n",
       "      <th>user_id</th>\n",
       "      <th>name</th>\n",
       "      <th>job_title</th>\n",
       "      <th>job_level</th>\n",
       "    </tr>\n",
       "  </thead>\n",
       "  <tbody>\n",
       "    <tr>\n",
       "      <th>0</th>\n",
       "      <td>USER140678</td>\n",
       "      <td>Zion Feest</td>\n",
       "      <td>Technician</td>\n",
       "      <td>Accounts</td>\n",
       "    </tr>\n",
       "    <tr>\n",
       "      <th>1</th>\n",
       "      <td>USER18728</td>\n",
       "      <td>Kattie Bergstrom</td>\n",
       "      <td>Technician</td>\n",
       "      <td>Solutions</td>\n",
       "    </tr>\n",
       "    <tr>\n",
       "      <th>2</th>\n",
       "      <td>USER129759</td>\n",
       "      <td>Aiden Corwin</td>\n",
       "      <td>Student</td>\n",
       "      <td>NaN</td>\n",
       "    </tr>\n",
       "    <tr>\n",
       "      <th>3</th>\n",
       "      <td>USER116806</td>\n",
       "      <td>Vince Gislason</td>\n",
       "      <td>Student</td>\n",
       "      <td>NaN</td>\n",
       "    </tr>\n",
       "    <tr>\n",
       "      <th>4</th>\n",
       "      <td>USER127644</td>\n",
       "      <td>Adele Okuneva</td>\n",
       "      <td>Associate</td>\n",
       "      <td>Usability</td>\n",
       "    </tr>\n",
       "    <tr>\n",
       "      <th>...</th>\n",
       "      <td>...</td>\n",
       "      <td>...</td>\n",
       "      <td>...</td>\n",
       "      <td>...</td>\n",
       "    </tr>\n",
       "    <tr>\n",
       "      <th>4995</th>\n",
       "      <td>USER149969</td>\n",
       "      <td>Kendall Waelchi</td>\n",
       "      <td>Facilitator</td>\n",
       "      <td>Directives</td>\n",
       "    </tr>\n",
       "    <tr>\n",
       "      <th>4996</th>\n",
       "      <td>USER157209</td>\n",
       "      <td>Lucious Kshlerin</td>\n",
       "      <td>Student</td>\n",
       "      <td>NaN</td>\n",
       "    </tr>\n",
       "    <tr>\n",
       "      <th>4997</th>\n",
       "      <td>USER236424</td>\n",
       "      <td>Cordie Jenkins</td>\n",
       "      <td>Representative</td>\n",
       "      <td>Directives</td>\n",
       "    </tr>\n",
       "    <tr>\n",
       "      <th>4998</th>\n",
       "      <td>USER245166</td>\n",
       "      <td>Tyrel Feil</td>\n",
       "      <td>Supervisor</td>\n",
       "      <td>Metrics</td>\n",
       "    </tr>\n",
       "    <tr>\n",
       "      <th>4999</th>\n",
       "      <td>USER154154</td>\n",
       "      <td>Betty Zieme</td>\n",
       "      <td>Student</td>\n",
       "      <td>NaN</td>\n",
       "    </tr>\n",
       "  </tbody>\n",
       "</table>\n",
       "<p>4999 rows × 4 columns</p>\n",
       "</div>"
      ],
      "text/plain": [
       "         user_id              name       job_title   job_level\n",
       "0     USER140678        Zion Feest      Technician    Accounts\n",
       "1      USER18728  Kattie Bergstrom      Technician   Solutions\n",
       "2     USER129759      Aiden Corwin         Student         NaN\n",
       "3     USER116806    Vince Gislason         Student         NaN\n",
       "4     USER127644     Adele Okuneva       Associate   Usability\n",
       "...          ...               ...             ...         ...\n",
       "4995  USER149969   Kendall Waelchi     Facilitator  Directives\n",
       "4996  USER157209  Lucious Kshlerin         Student         NaN\n",
       "4997  USER236424    Cordie Jenkins  Representative  Directives\n",
       "4998  USER245166        Tyrel Feil      Supervisor     Metrics\n",
       "4999  USER154154       Betty Zieme         Student         NaN\n",
       "\n",
       "[4999 rows x 4 columns]"
      ]
     },
     "execution_count": 49,
     "metadata": {},
     "output_type": "execute_result"
    }
   ],
   "source": [
    "df_user_job"
   ]
  },
  {
   "cell_type": "markdown",
   "metadata": {},
   "source": [
    "## Convert to parquet\n"
   ]
  },
  {
   "cell_type": "code",
   "execution_count": 50,
   "metadata": {},
   "outputs": [],
   "source": [
    "df_user_job.to_parquet(\n",
    "    'Customer Management Department/user_job.parquet', index=False)"
   ]
  },
  {
   "cell_type": "code",
   "execution_count": null,
   "metadata": {},
   "outputs": [],
   "source": []
  }
 ],
 "metadata": {
  "kernelspec": {
   "display_name": "Python 3 (ipykernel)",
   "language": "python",
   "name": "python3"
  },
  "language_info": {
   "codemirror_mode": {
    "name": "ipython",
    "version": 3
   },
   "file_extension": ".py",
   "mimetype": "text/x-python",
   "name": "python",
   "nbconvert_exporter": "python",
   "pygments_lexer": "ipython3",
   "version": "3.11.4"
  }
 },
 "nbformat": 4,
 "nbformat_minor": 5
}
