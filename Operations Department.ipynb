{
 "cells": [
  {
   "cell_type": "code",
   "execution_count": 141,
   "id": "ac1c7d61-edb2-428b-b044-35709917ef92",
   "metadata": {
    "vscode": {
     "languageId": "python"
    }
   },
   "outputs": [],
   "source": [
    "import pandas as pd\n",
    "import numpy as np\n",
    "import openpyxl\n",
    "import html5lib\n",
    "import lxml\n",
    "from bs4 import BeautifulSoup"
   ]
  },
  {
   "cell_type": "markdown",
   "id": "dd26082e-10d8-4276-b8b7-11f90e098955",
   "metadata": {},
   "source": [
    "## Line Item Data Price 1"
   ]
  },
  {
   "cell_type": "code",
   "execution_count": 142,
   "id": "a387b146-af5c-4e20-b24d-0e6fd5963b34",
   "metadata": {
    "vscode": {
     "languageId": "python"
    }
   },
   "outputs": [
    {
     "name": "stdout",
     "output_type": "stream",
     "text": [
      "        Unnamed: 0                              order_id  price quantity\n",
      "0                0  8d8acbac-ccbb-4609-a978-98dee3ac3088  12.81      6px\n",
      "1                1  59e4c308-5262-486d-9f1a-12b1278e3c44  14.00  6pieces\n",
      "2                2  30fc1b76-c488-4077-8d70-3236e3afc990   6.78     4pcs\n",
      "3                3  6b273d38-b472-4bb2-8b74-a26705c707fa   8.72      4px\n",
      "4                4  6b273d38-b472-4bb2-8b74-a26705c707fa   8.83  5pieces\n",
      "...            ...                                   ...    ...      ...\n",
      "499995      499995  61c1751e-f17b-494a-a9a2-33c6694d6036  38.07   1piece\n",
      "499996      499996  61c1751e-f17b-494a-a9a2-33c6694d6036  38.07     3pcs\n",
      "499997      499997  44f739c2-73f4-491c-a932-c1362831e0e3  38.07  1pieces\n",
      "499998      499998  44f739c2-73f4-491c-a932-c1362831e0e3  38.07      1PC\n",
      "499999      499999  f1c591a5-fd7c-498f-ae4e-2739334878ce  38.07  1pieces\n",
      "\n",
      "[500000 rows x 4 columns]\n",
      "Index(['Unnamed: 0', 'order_id', 'price', 'quantity'], dtype='object')\n"
     ]
    },
    {
     "data": {
      "text/plain": [
       "Unnamed: 0    0\n",
       "order_id      0\n",
       "price         0\n",
       "quantity      0\n",
       "dtype: int64"
      ]
     },
     "execution_count": 142,
     "metadata": {},
     "output_type": "execute_result"
    }
   ],
   "source": [
    "df_line_item_prices1 = pd.read_csv('Operations Department/line_item_data_prices1.csv')\n",
    "print(df_line_item_prices1)\n",
    "print(df_line_item_prices1.columns.ravel())\n",
    "df_line_item_prices1.isnull().sum()"
   ]
  },
  {
   "cell_type": "markdown",
   "id": "a4903e25-acc6-4621-8ac0-4060a2c4b3a5",
   "metadata": {},
   "source": [
    "## Line Item Data Price 2"
   ]
  },
  {
   "cell_type": "code",
   "execution_count": 143,
   "id": "7692cc42-edf0-4d0e-9ac1-621d975bf8b7",
   "metadata": {
    "vscode": {
     "languageId": "python"
    }
   },
   "outputs": [
    {
     "name": "stdout",
     "output_type": "stream",
     "text": [
      "        Unnamed: 0                              order_id  price quantity\n",
      "0           500000  f1c591a5-fd7c-498f-ae4e-2739334878ce  38.07      4PC\n",
      "1           500001  8a720341-a145-4a7c-b2d5-ac3c6e0d8da8  38.07     4pcs\n",
      "2           500002  8a720341-a145-4a7c-b2d5-ac3c6e0d8da8  38.07     4PCs\n",
      "3           500003  fd365f1c-9c25-4544-b4b2-fd9f55d3e6e2  38.07     2PCs\n",
      "4           500004  fd365f1c-9c25-4544-b4b2-fd9f55d3e6e2  38.07  4pieces\n",
      "...            ...                                   ...    ...      ...\n",
      "499995      999995  1e199808-c7b5-4fba-ab74-6ff46d3195fb  38.62   5piece\n",
      "499996      999996  552e5cdc-6e1d-4b90-a721-012644ffc42f  36.11     9PCs\n",
      "499997      999997  552e5cdc-6e1d-4b90-a721-012644ffc42f  36.11     5pcs\n",
      "499998      999998  060d9363-3ce4-4acf-9195-5c9e6d835fc5  52.55      5PC\n",
      "499999      999999  060d9363-3ce4-4acf-9195-5c9e6d835fc5  52.55    10pcs\n",
      "\n",
      "[500000 rows x 4 columns]\n",
      "Index(['Unnamed: 0', 'order_id', 'price', 'quantity'], dtype='object')\n"
     ]
    },
    {
     "data": {
      "text/plain": [
       "Unnamed: 0    0\n",
       "order_id      0\n",
       "price         0\n",
       "quantity      0\n",
       "dtype: int64"
      ]
     },
     "execution_count": 143,
     "metadata": {},
     "output_type": "execute_result"
    }
   ],
   "source": [
    "df_line_item_prices2 = pd.read_csv('Operations Department/line_item_data_prices2.csv')\n",
    "print(df_line_item_prices2)\n",
    "print(df_line_item_prices2.columns.ravel())\n",
    "df_line_item_prices2.isnull().sum()"
   ]
  },
  {
   "cell_type": "markdown",
   "id": "394860d1-c976-4d49-807f-5916ec335629",
   "metadata": {},
   "source": [
    "## Line Item Data Price 3"
   ]
  },
  {
   "cell_type": "code",
   "execution_count": 144,
   "id": "d3d299b3-35e4-4552-9578-ba05fc009bf2",
   "metadata": {
    "vscode": {
     "languageId": "python"
    }
   },
   "outputs": [
    {
     "name": "stdout",
     "output_type": "stream",
     "text": [
      "        Unnamed: 0                              order_id  price quantity\n",
      "0          1000000  dc70f978-3a6b-4baf-b97e-4a88690a34fe  42.13      8PC\n",
      "1          1000001  dc70f978-3a6b-4baf-b97e-4a88690a34fe  42.13   5piece\n",
      "2          1000002  3556b3e7-046a-4148-b1cb-d86ee7ee5421  42.13     10PC\n",
      "3          1000003  3556b3e7-046a-4148-b1cb-d86ee7ee5421  42.13     5pcs\n",
      "4          1000004  29b63149-3b3c-4309-a751-7d0a563f7c12  40.87      5PC\n",
      "...            ...                                   ...    ...      ...\n",
      "997169     1997169  8a985165-e1b4-4f91-a8c4-86f54c806a9c  17.28     5pcs\n",
      "997170     1997170  7285b9ed-a45a-4aa0-86fb-2abae50780f8  17.28   5piece\n",
      "997171     1997171  35ad8f1d-9014-4430-bed3-f803b46d48a6  38.07     6PCs\n",
      "997172     1997172  38320c44-fea2-46b1-adfc-c4be22865c78  17.28  3pieces\n",
      "997173     1997173  0446efea-bbb6-4d85-aa6e-51381f440595  17.28   4piece\n",
      "\n",
      "[997174 rows x 4 columns]\n",
      "Index(['Unnamed: 0', 'order_id', 'price', 'quantity'], dtype='object')\n"
     ]
    },
    {
     "data": {
      "text/plain": [
       "Unnamed: 0    0\n",
       "order_id      0\n",
       "price         0\n",
       "quantity      0\n",
       "dtype: int64"
      ]
     },
     "execution_count": 144,
     "metadata": {},
     "output_type": "execute_result"
    }
   ],
   "source": [
    "df_line_item_prices3 = pd.read_parquet('Operations Department/line_item_data_prices3.parquet')\n",
    "print(df_line_item_prices3)\n",
    "print(df_line_item_prices3.columns.ravel())\n",
    "df_line_item_prices3.isnull().sum()"
   ]
  },
  {
   "cell_type": "code",
   "execution_count": 145,
   "id": "2d761494-d700-4c08-a1f1-14bd36c11cd6",
   "metadata": {},
   "outputs": [
    {
     "name": "stdout",
     "output_type": "stream",
     "text": [
      "Export complete\n"
     ]
    }
   ],
   "source": [
    "df_line_item_prices1.to_parquet(\"Operations Department/parquets/df_line_item_prices1.parquet\")\n",
    "df_line_item_prices2.to_parquet(\"Operations Department/parquets/df_line_item_prices2.parquet\")\n",
    "df_line_item_prices3.to_parquet(\"Operations Department/parquets/df_line_item_prices3.parquet\")\n",
    "print(\"Export complete\")"
   ]
  },
  {
   "cell_type": "code",
   "execution_count": 146,
   "id": "66c9f645-a749-4fb5-b9bc-d0fb37352165",
   "metadata": {},
   "outputs": [],
   "source": [
    "p_item_prices1 = pd.read_parquet(\"Operations Department/parquets/df_line_item_prices1.parquet\")\n",
    "p_item_prices2 = pd.read_parquet(\"Operations Department/parquets/df_line_item_prices2.parquet\")\n",
    "p_item_prices3 = pd.read_parquet(\"Operations Department/parquets/df_line_item_prices3.parquet\")\n",
    "\n",
    "framesIP = [p_item_prices1, p_item_prices2, p_item_prices3]\n",
    "all_item_prices = pd.concat(framesIP)"
   ]
  },
  {
   "cell_type": "code",
   "execution_count": 147,
   "id": "89e2d454-0979-4f54-940e-6bc24834b31d",
   "metadata": {},
   "outputs": [
    {
     "data": {
      "text/html": [
       "<div>\n",
       "<style scoped>\n",
       "    .dataframe tbody tr th:only-of-type {\n",
       "        vertical-align: middle;\n",
       "    }\n",
       "\n",
       "    .dataframe tbody tr th {\n",
       "        vertical-align: top;\n",
       "    }\n",
       "\n",
       "    .dataframe thead th {\n",
       "        text-align: right;\n",
       "    }\n",
       "</style>\n",
       "<table border=\"1\" class=\"dataframe\">\n",
       "  <thead>\n",
       "    <tr style=\"text-align: right;\">\n",
       "      <th></th>\n",
       "      <th>Unnamed: 0</th>\n",
       "      <th>order_id</th>\n",
       "      <th>price</th>\n",
       "      <th>quantity</th>\n",
       "    </tr>\n",
       "  </thead>\n",
       "  <tbody>\n",
       "    <tr>\n",
       "      <th>499870</th>\n",
       "      <td>999870</td>\n",
       "      <td>060d9363-3ce4-4acf-9195-5c9e6d835fc5</td>\n",
       "      <td>7.65</td>\n",
       "      <td>7PCs</td>\n",
       "    </tr>\n",
       "    <tr>\n",
       "      <th>499871</th>\n",
       "      <td>999871</td>\n",
       "      <td>060d9363-3ce4-4acf-9195-5c9e6d835fc5</td>\n",
       "      <td>7.65</td>\n",
       "      <td>8pcs</td>\n",
       "    </tr>\n",
       "    <tr>\n",
       "      <th>499998</th>\n",
       "      <td>999998</td>\n",
       "      <td>060d9363-3ce4-4acf-9195-5c9e6d835fc5</td>\n",
       "      <td>52.55</td>\n",
       "      <td>5PC</td>\n",
       "    </tr>\n",
       "    <tr>\n",
       "      <th>499999</th>\n",
       "      <td>999999</td>\n",
       "      <td>060d9363-3ce4-4acf-9195-5c9e6d835fc5</td>\n",
       "      <td>52.55</td>\n",
       "      <td>10pcs</td>\n",
       "    </tr>\n",
       "    <tr>\n",
       "      <th>168</th>\n",
       "      <td>1000168</td>\n",
       "      <td>060d9363-3ce4-4acf-9195-5c9e6d835fc5</td>\n",
       "      <td>17.28</td>\n",
       "      <td>6pieces</td>\n",
       "    </tr>\n",
       "  </tbody>\n",
       "</table>\n",
       "</div>"
      ],
      "text/plain": [
       "        Unnamed: 0                              order_id  price quantity\n",
       "499870      999870  060d9363-3ce4-4acf-9195-5c9e6d835fc5   7.65     7PCs\n",
       "499871      999871  060d9363-3ce4-4acf-9195-5c9e6d835fc5   7.65     8pcs\n",
       "499998      999998  060d9363-3ce4-4acf-9195-5c9e6d835fc5  52.55      5PC\n",
       "499999      999999  060d9363-3ce4-4acf-9195-5c9e6d835fc5  52.55    10pcs\n",
       "168        1000168  060d9363-3ce4-4acf-9195-5c9e6d835fc5  17.28  6pieces"
      ]
     },
     "execution_count": 147,
     "metadata": {},
     "output_type": "execute_result"
    }
   ],
   "source": [
    "all_item_prices[all_item_prices['order_id'] == \"060d9363-3ce4-4acf-9195-5c9e6d835fc5\"].head()\n"
   ]
  },
  {
   "cell_type": "markdown",
   "id": "2a97ac36-525a-4e96-9005-b66b672f74be",
   "metadata": {},
   "source": [
    "## Line Item Data Products 1"
   ]
  },
  {
   "cell_type": "code",
   "execution_count": 148,
   "id": "1fff0993-0321-4d8d-b319-ab11f0913e51",
   "metadata": {
    "vscode": {
     "languageId": "python"
    }
   },
   "outputs": [
    {
     "name": "stdout",
     "output_type": "stream",
     "text": [
      "        Unnamed: 0                              order_id  \\\n",
      "0                0  8d8acbac-ccbb-4609-a978-98dee3ac3088   \n",
      "1                1  59e4c308-5262-486d-9f1a-12b1278e3c44   \n",
      "2                2  30fc1b76-c488-4077-8d70-3236e3afc990   \n",
      "3                3  6b273d38-b472-4bb2-8b74-a26705c707fa   \n",
      "4                4  6b273d38-b472-4bb2-8b74-a26705c707fa   \n",
      "...            ...                                   ...   \n",
      "499995      499995  61c1751e-f17b-494a-a9a2-33c6694d6036   \n",
      "499996      499996  61c1751e-f17b-494a-a9a2-33c6694d6036   \n",
      "499997      499997  44f739c2-73f4-491c-a932-c1362831e0e3   \n",
      "499998      499998  44f739c2-73f4-491c-a932-c1362831e0e3   \n",
      "499999      499999  f1c591a5-fd7c-498f-ae4e-2739334878ce   \n",
      "\n",
      "                          product_name    product_id  \n",
      "0       Grandmas swedish thin pancakes  PRODUCT16794  \n",
      "1            Blackberry breakfast bars  PRODUCT56387  \n",
      "2                 Moms cheat doughnuts  PRODUCT26612  \n",
      "3            Baked swiss cheese omelet  PRODUCT17344  \n",
      "4                          Egg flowers  PRODUCT07816  \n",
      "...                                ...           ...  \n",
      "499995                           clock  PRODUCT14601  \n",
      "499996                           clock  PRODUCT14601  \n",
      "499997                           clock  PRODUCT14601  \n",
      "499998                           clock  PRODUCT14601  \n",
      "499999                           clock  PRODUCT14601  \n",
      "\n",
      "[500000 rows x 4 columns]\n",
      "Index(['Unnamed: 0', 'order_id', 'product_name', 'product_id'], dtype='object')\n"
     ]
    },
    {
     "data": {
      "text/plain": [
       "Unnamed: 0      0\n",
       "order_id        0\n",
       "product_name    0\n",
       "product_id      0\n",
       "dtype: int64"
      ]
     },
     "execution_count": 148,
     "metadata": {},
     "output_type": "execute_result"
    }
   ],
   "source": [
    "df_line_item_products1 = pd.read_csv('Operations Department/line_item_data_products1.csv')\n",
    "print(df_line_item_products1)\n",
    "print(df_line_item_products1.columns.ravel())\n",
    "df_line_item_products1.isnull().sum()"
   ]
  },
  {
   "cell_type": "markdown",
   "id": "50282b97-c9d9-4917-b0c1-3b52ac394e92",
   "metadata": {},
   "source": [
    "## Line Item Data Products 2"
   ]
  },
  {
   "cell_type": "code",
   "execution_count": 149,
   "id": "1c83f33f-385d-458c-a37c-cb85647f6ec7",
   "metadata": {
    "vscode": {
     "languageId": "python"
    }
   },
   "outputs": [
    {
     "name": "stdout",
     "output_type": "stream",
     "text": [
      "        Unnamed: 0                              order_id  \\\n",
      "0           500000  f1c591a5-fd7c-498f-ae4e-2739334878ce   \n",
      "1           500001  8a720341-a145-4a7c-b2d5-ac3c6e0d8da8   \n",
      "2           500002  8a720341-a145-4a7c-b2d5-ac3c6e0d8da8   \n",
      "3           500003  fd365f1c-9c25-4544-b4b2-fd9f55d3e6e2   \n",
      "4           500004  fd365f1c-9c25-4544-b4b2-fd9f55d3e6e2   \n",
      "...            ...                                   ...   \n",
      "499995      999995  1e199808-c7b5-4fba-ab74-6ff46d3195fb   \n",
      "499996      999996  552e5cdc-6e1d-4b90-a721-012644ffc42f   \n",
      "499997      999997  552e5cdc-6e1d-4b90-a721-012644ffc42f   \n",
      "499998      999998  060d9363-3ce4-4acf-9195-5c9e6d835fc5   \n",
      "499999      999999  060d9363-3ce4-4acf-9195-5c9e6d835fc5   \n",
      "\n",
      "                                   product_name    product_id  \n",
      "0                                         clock  PRODUCT14601  \n",
      "1                                 book of jokes  PRODUCT63300  \n",
      "2                                 book of jokes  PRODUCT63300  \n",
      "3                                 book of jokes  PRODUCT63300  \n",
      "4                                 book of jokes  PRODUCT63300  \n",
      "...                                         ...           ...  \n",
      "499995  Goat cheese black olive mashed potatoes  PRODUCT23102  \n",
      "499996                             Maple coffee  PRODUCT26180  \n",
      "499997                             Maple coffee  PRODUCT26180  \n",
      "499998       Sweet onion and mashed potato bake  PRODUCT22318  \n",
      "499999       Sweet onion and mashed potato bake  PRODUCT22318  \n",
      "\n",
      "[500000 rows x 4 columns]\n",
      "Index(['Unnamed: 0', 'order_id', 'product_name', 'product_id'], dtype='object')\n"
     ]
    },
    {
     "data": {
      "text/plain": [
       "Unnamed: 0      0\n",
       "order_id        0\n",
       "product_name    0\n",
       "product_id      0\n",
       "dtype: int64"
      ]
     },
     "execution_count": 149,
     "metadata": {},
     "output_type": "execute_result"
    }
   ],
   "source": [
    "df_line_item_products2 = pd.read_csv('Operations Department/line_item_data_products2.csv')\n",
    "print(df_line_item_products2)\n",
    "print(df_line_item_products2.columns.ravel())\n",
    "df_line_item_products2.isnull().sum()"
   ]
  },
  {
   "cell_type": "markdown",
   "id": "e0ccaea9-0c4f-4f27-b2d3-78f013c3503a",
   "metadata": {},
   "source": [
    "## Line Item Data Products 3"
   ]
  },
  {
   "cell_type": "code",
   "execution_count": null,
   "id": "7f59e2ce-64b8-42ac-920f-4b04c9db0900",
   "metadata": {},
   "outputs": [],
   "source": []
  },
  {
   "cell_type": "code",
   "execution_count": 150,
   "id": "ae60198c-36d0-48b7-9b11-21851d7a471f",
   "metadata": {
    "vscode": {
     "languageId": "python"
    }
   },
   "outputs": [
    {
     "name": "stdout",
     "output_type": "stream",
     "text": [
      "        Unnamed: 0                              order_id  \\\n",
      "0          1000000  dc70f978-3a6b-4baf-b97e-4a88690a34fe   \n",
      "1          1000001  dc70f978-3a6b-4baf-b97e-4a88690a34fe   \n",
      "2          1000002  3556b3e7-046a-4148-b1cb-d86ee7ee5421   \n",
      "3          1000003  3556b3e7-046a-4148-b1cb-d86ee7ee5421   \n",
      "4          1000004  29b63149-3b3c-4309-a751-7d0a563f7c12   \n",
      "...            ...                                   ...   \n",
      "997169     1997169  8a985165-e1b4-4f91-a8c4-86f54c806a9c   \n",
      "997170     1997170  7285b9ed-a45a-4aa0-86fb-2abae50780f8   \n",
      "997171     1997171  35ad8f1d-9014-4430-bed3-f803b46d48a6   \n",
      "997172     1997172  38320c44-fea2-46b1-adfc-c4be22865c78   \n",
      "997173     1997173  0446efea-bbb6-4d85-aa6e-51381f440595   \n",
      "\n",
      "                             product_name    product_id  \n",
      "0       Swedish cucumber salad pressgurka  PRODUCT20506  \n",
      "1       Swedish cucumber salad pressgurka  PRODUCT20506  \n",
      "2       Swedish cucumber salad pressgurka  PRODUCT20506  \n",
      "3       Swedish cucumber salad pressgurka  PRODUCT20506  \n",
      "4                       Savory pita chips  PRODUCT34708  \n",
      "...                                   ...           ...  \n",
      "997169                             tomato  PRODUCT35203  \n",
      "997170                             tomato  PRODUCT35203  \n",
      "997171                       dehumidifier  PRODUCT07137  \n",
      "997172                               rice  PRODUCT29484  \n",
      "997173                               rice  PRODUCT29484  \n",
      "\n",
      "[997174 rows x 4 columns]\n",
      "Index(['Unnamed: 0', 'order_id', 'product_name', 'product_id'], dtype='object')\n"
     ]
    },
    {
     "data": {
      "text/plain": [
       "Unnamed: 0      0\n",
       "order_id        0\n",
       "product_name    0\n",
       "product_id      0\n",
       "dtype: int64"
      ]
     },
     "execution_count": 150,
     "metadata": {},
     "output_type": "execute_result"
    }
   ],
   "source": [
    "df_line_item_products3 = pd.read_parquet('Operations Department/line_item_data_products3.parquet')\n",
    "print(df_line_item_products3)\n",
    "print(df_line_item_products3.columns.ravel())\n",
    "df_line_item_products3.isnull().sum()"
   ]
  },
  {
   "cell_type": "code",
   "execution_count": 151,
   "id": "23a38638-f0e1-44b7-85ee-07b6ab59328c",
   "metadata": {},
   "outputs": [],
   "source": [
    "df_line_item_products1.to_parquet(\"Operations Department/parquets/df_line_item_products1.parquet\")\n",
    "df_line_item_products2.to_parquet(\"Operations Department/parquets/df_line_item_products2.parquet\")\n",
    "df_line_item_products3.to_parquet(\"Operations Department/parquets/df_line_item_products3.parquet\")\n"
   ]
  },
  {
   "cell_type": "markdown",
   "id": "71c131fe-1787-4d0e-9170-3599db2b0ed8",
   "metadata": {},
   "source": [
    "## Order Data - January 01, 2020 - July 01, 2020"
   ]
  },
  {
   "cell_type": "code",
   "execution_count": 152,
   "id": "266410a8-4f22-4160-b9fd-c20bdecca22b",
   "metadata": {
    "vscode": {
     "languageId": "python"
    }
   },
   "outputs": [
    {
     "name": "stdout",
     "output_type": "stream",
     "text": [
      "                                    order_id    user_id estimated arrival  \\\n",
      "12      0248bb48-d0d0-4a11-a158-f620640a757a  USER16283            13days   \n",
      "19      14473b59-6c4f-429e-89ef-ce920b209df3  USER08179             8days   \n",
      "25      62b8fabf-4e0a-4383-8b3a-7276c77f9e8c  USER55688            10days   \n",
      "29      96a01cee-071d-4e10-a9e4-56a31b82a9d5  USER34967             8days   \n",
      "37      479b1a6c-3a76-41a7-b15d-71acd4045080  USER07130            15days   \n",
      "...                                      ...        ...               ...   \n",
      "499969  8e35842b-c688-47da-b61f-cfd436f2edde  USER23432            15days   \n",
      "499980  05ca3879-4ca4-4f53-a94c-13c3de8c92a7  USER36687             8days   \n",
      "499983  ca6d1f78-97c9-4ece-9c36-eb6b98d8c02d  USER24773             6days   \n",
      "499984  c2232dd6-cc44-4ec7-a079-1ad1724cb487  USER43039             4days   \n",
      "499995  ba506489-1505-481d-b0b1-8cdbf04a515f  USER02322             6days   \n",
      "\n",
      "       transaction_date  \n",
      "12           2020-06-04  \n",
      "19           2020-04-07  \n",
      "25           2020-05-07  \n",
      "29           2020-06-05  \n",
      "37           2020-05-24  \n",
      "...                 ...  \n",
      "499969       2020-02-10  \n",
      "499980       2020-02-24  \n",
      "499983       2020-05-16  \n",
      "499984       2020-06-04  \n",
      "499995       2020-04-12  \n",
      "\n",
      "[63024 rows x 4 columns]\n",
      "Index(['order_id', 'user_id', 'estimated arrival', 'transaction_date'], dtype='object')\n"
     ]
    },
    {
     "data": {
      "text/plain": [
       "order_id             0\n",
       "user_id              0\n",
       "estimated arrival    0\n",
       "transaction_date     0\n",
       "dtype: int64"
      ]
     },
     "execution_count": 152,
     "metadata": {},
     "output_type": "execute_result"
    }
   ],
   "source": [
    "df_order_data1 = pd.read_parquet('Operations Department/order_data_20200101-20200701.parquet')\n",
    "print(df_order_data1)\n",
    "print(df_order_data1.columns.ravel())\n",
    "df_order_data1.isnull().sum()\n"
   ]
  },
  {
   "cell_type": "markdown",
   "id": "3638f075-b1cd-4871-a3c5-a0fb092b5efa",
   "metadata": {},
   "source": [
    "## Order Data - July 01, 2020 - October 01, 2021"
   ]
  },
  {
   "cell_type": "code",
   "execution_count": 153,
   "id": "8354b24b-0e3b-482c-a34d-95164903b1da",
   "metadata": {
    "vscode": {
     "languageId": "python"
    }
   },
   "outputs": [
    {
     "name": "stdout",
     "output_type": "stream",
     "text": [
      "                                    order_id    user_id estimated arrival  \\\n",
      "1       e1beaf61-e687-4e70-bdd4-3ea338139a0b  USER36309            13days   \n",
      "10      4cad07a9-dca9-47a0-86f1-f83671d05260  USER46704             5days   \n",
      "14      8750f8c5-380c-4bbd-bb54-8a2b5e5958ac  USER32071            10days   \n",
      "15      3d77b756-0f11-4145-9fac-8f229611ac39  USER47160             3days   \n",
      "16      3312851e-28dc-4508-8003-09ba304ce9e2  USER15307            11days   \n",
      "...                                      ...        ...               ...   \n",
      "499964  b638ebb0-396b-48c3-b0e5-286c5976be33  USER34485             4days   \n",
      "499970  61aa91d0-c989-452b-a688-bb326bb1c440  USER43788            12days   \n",
      "499979  188833ff-44ee-442d-b405-5ac0be71233e  USER26701             9days   \n",
      "499985  3e259fd4-8079-4181-b2b9-d8b3db7ca8bd  USER11796             6days   \n",
      "499996  551a54f1-1a7f-4a1d-a7c7-62afb433b4f4  USER13970            15days   \n",
      "\n",
      "       transaction_date  \n",
      "1            2021-01-01  \n",
      "10           2021-09-22  \n",
      "14           2020-07-06  \n",
      "15           2021-09-25  \n",
      "16           2020-07-01  \n",
      "...                 ...  \n",
      "499964       2020-11-30  \n",
      "499970       2020-10-11  \n",
      "499979       2021-08-31  \n",
      "499985       2021-08-09  \n",
      "499996       2021-02-26  \n",
      "\n",
      "[159725 rows x 4 columns]\n",
      "Index(['order_id', 'user_id', 'estimated arrival', 'transaction_date'], dtype='object')\n"
     ]
    },
    {
     "data": {
      "text/plain": [
       "order_id             0\n",
       "user_id              0\n",
       "estimated arrival    0\n",
       "transaction_date     0\n",
       "dtype: int64"
      ]
     },
     "execution_count": 153,
     "metadata": {},
     "output_type": "execute_result"
    }
   ],
   "source": [
    "df_order_data2 = pd.read_pickle('Operations Department/order_data_20200701-20211001.pickle')\n",
    "print(df_order_data2)\n",
    "print(df_order_data2.columns.ravel())\n",
    "df_order_data2.isnull().sum()"
   ]
  },
  {
   "cell_type": "markdown",
   "id": "58c445f0-986f-4ef1-bb7c-fbb356c65044",
   "metadata": {},
   "source": [
    "## Order Data - October 01, 2021 - January 01, 2022"
   ]
  },
  {
   "cell_type": "code",
   "execution_count": 154,
   "id": "73320bee-29df-478f-b322-9482012022c9",
   "metadata": {
    "vscode": {
     "languageId": "python"
    }
   },
   "outputs": [
    {
     "name": "stdout",
     "output_type": "stream",
     "text": [
      "       Unnamed: 0                              order_id    user_id  \\\n",
      "0               4  b4c411de-2fd3-4806-91ae-165edc9baa12  USER28531   \n",
      "1               7  d42d7e7a-71bd-43aa-8bed-49d52b74d4eb  USER56935   \n",
      "2              41  84295de8-90c2-4e67-a1d9-b1ffab45623f  USER11824   \n",
      "3              43  74a59808-b7f5-4dc1-b441-a8e0e15b49b6  USER51578   \n",
      "4              61  b3965e7d-23d7-475b-93f0-13b49a999030  USER51925   \n",
      "...           ...                                   ...        ...   \n",
      "32283      499959  a5021293-525b-4f3d-8d6a-16b70bbef542  USER46830   \n",
      "32284      499965  d5dbea32-829e-474c-8d88-cadcb993a944  USER23251   \n",
      "32285      499966  590caead-83dd-4273-820c-5bd2c84a92a6  USER14981   \n",
      "32286      499976  833311eb-cc8d-4348-b7d7-0aecba5b577e  USER62122   \n",
      "32287      499993  4d0570e9-d6cc-4ef7-95c1-e8c5ec810d37  USER24281   \n",
      "\n",
      "      estimated arrival transaction_date  \n",
      "0                13days       2021-10-12  \n",
      "1                13days       2021-10-15  \n",
      "2                13days       2021-10-11  \n",
      "3                15days       2021-10-22  \n",
      "4                 9days       2021-10-09  \n",
      "...                 ...              ...  \n",
      "32283             7days       2021-12-03  \n",
      "32284             8days       2021-11-23  \n",
      "32285            12days       2021-11-24  \n",
      "32286            12days       2021-11-26  \n",
      "32287             6days       2021-12-06  \n",
      "\n",
      "[32288 rows x 5 columns]\n",
      "Index(['Unnamed: 0', 'order_id', 'user_id', 'estimated arrival',\n",
      "       'transaction_date'],\n",
      "      dtype='object')\n"
     ]
    },
    {
     "data": {
      "text/plain": [
       "Unnamed: 0           0\n",
       "order_id             0\n",
       "user_id              0\n",
       "estimated arrival    0\n",
       "transaction_date     0\n",
       "dtype: int64"
      ]
     },
     "execution_count": 154,
     "metadata": {},
     "output_type": "execute_result"
    }
   ],
   "source": [
    "df_order_data3 = pd.read_csv('Operations Department/order_data_20211001-20220101.csv')\n",
    "print(df_order_data3)\n",
    "print(df_order_data3.columns.ravel())\n",
    "df_order_data3.isnull().sum()"
   ]
  },
  {
   "cell_type": "markdown",
   "id": "95aadfa3-608d-4916-b4a9-21fe47e62bc8",
   "metadata": {},
   "source": [
    "## Order Data - January 01, 2022 - December 01, 2022"
   ]
  },
  {
   "cell_type": "code",
   "execution_count": 155,
   "id": "6e5e8507-241a-4421-be49-6a7aeb145ed9",
   "metadata": {
    "vscode": {
     "languageId": "python"
    }
   },
   "outputs": [
    {
     "name": "stdout",
     "output_type": "stream",
     "text": [
      "        Unnamed: 0                              order_id    user_id  \\\n",
      "0                0  eac330c0-457a-4faa-b15a-52a3c440e7f3  USER23985   \n",
      "1                3  a800f0d9-47d8-455b-b096-622e76156705  USER44549   \n",
      "2                8  26b60a4e-aafe-4b99-bace-034d088a4a53  USER53013   \n",
      "3               13  96c718b3-0de0-482c-8b05-9081d47314c6  USER55595   \n",
      "4               21  0e6eeff9-dc85-4e22-9d0d-0758f2e321f6  USER29425   \n",
      "...            ...                                   ...        ...   \n",
      "117168      499982  ceafa665-307f-4c9e-b1bd-79577a450eb9  USER17572   \n",
      "117169      499986  f628455c-ad0a-444f-96c3-931f6a1912e9  USER21194   \n",
      "117170      499987  38973532-903e-49e6-9d13-61dd5fdebf6e  USER14772   \n",
      "117171      499990  6a5163c2-ba62-461c-a729-5b06fe266bd9  USER40321   \n",
      "117172      499991  883e2fe2-bbdf-4b5e-8348-c2bcba07da0e  USER54177   \n",
      "\n",
      "       estimated arrival transaction_date  \n",
      "0                 12days       2022-08-13  \n",
      "1                  9days       2022-11-11  \n",
      "2                  8days       2022-01-05  \n",
      "3                  8days       2022-05-29  \n",
      "4                  8days       2022-11-17  \n",
      "...                  ...              ...  \n",
      "117168            12days       2022-02-14  \n",
      "117169             9days       2022-01-23  \n",
      "117170            11days       2022-06-06  \n",
      "117171            12days       2022-04-14  \n",
      "117172            15days       2022-11-23  \n",
      "\n",
      "[117173 rows x 5 columns]\n",
      "Index(['Unnamed: 0', 'order_id', 'user_id', 'estimated arrival',\n",
      "       'transaction_date'],\n",
      "      dtype='object')\n"
     ]
    }
   ],
   "source": [
    "df_order_data4 = pd.read_excel('Operations Department/order_data_20220101-20221201.xlsx', engine = 'openpyxl')\n",
    "print(df_order_data4)\n",
    "print(df_order_data4.columns.ravel())\n",
    "df_order_data4.isnull().sum()\n",
    "df_order_data4 = pd.DataFrame(df_order_data4)"
   ]
  },
  {
   "cell_type": "markdown",
   "id": "51289a27-1e2b-4d55-86ee-2469a68d654e",
   "metadata": {},
   "source": [
    "## Order Data - December 01, 2022 - June 01, 2023"
   ]
  },
  {
   "cell_type": "code",
   "execution_count": 156,
   "id": "2124a611-ecc1-439a-a102-68ded0311bdf",
   "metadata": {
    "vscode": {
     "languageId": "python"
    }
   },
   "outputs": [
    {
     "name": "stdout",
     "output_type": "stream",
     "text": [
      "                                    order_id    user_id estimated arrival  \\\n",
      "6       26de6b40-db2d-40b9-a64c-58736eaf0381  USER36943             3days   \n",
      "11      71ef25bd-1146-4ac9-b371-ede0cda08093  USER10211             7days   \n",
      "34      d06a6ad2-b254-4cc6-8397-4c9bf1a2823e  USER28839             3days   \n",
      "44      8bfbd31b-5a72-4c80-9e95-9168e9d822e3  USER00089             4days   \n",
      "45      3fab0712-4542-4779-89cc-29518063ce8f  USER63283            12days   \n",
      "...                                      ...        ...               ...   \n",
      "499975  1823e6f4-8ce3-4e20-b147-afa70f0e6fc1  USER34522             8days   \n",
      "499988  222f2012-ca46-4822-ad1a-ed8d80b824b7  USER31933            13days   \n",
      "499994  1043b5cf-7940-4b3e-93b2-2bdc5d7b7b52  USER59787            14days   \n",
      "499997  2b2e775f-d6cd-4659-9a88-b4950bc326c0  USER55001            15days   \n",
      "499999  4d1c5613-a48e-4b18-b016-bb639a1d5490  USER38370            12days   \n",
      "\n",
      "       transaction_date  \n",
      "6            2023-01-30  \n",
      "11           2023-04-13  \n",
      "34           2023-04-05  \n",
      "44           2023-04-07  \n",
      "45           2023-04-18  \n",
      "...                 ...  \n",
      "499975       2023-02-12  \n",
      "499988       2022-12-23  \n",
      "499994       2023-03-23  \n",
      "499997       2023-03-24  \n",
      "499999       2023-04-03  \n",
      "\n",
      "[63744 rows x 4 columns]\n",
      "Index(['order_id', 'user_id', 'estimated arrival', 'transaction_date'], dtype='object')\n"
     ]
    },
    {
     "data": {
      "text/plain": [
       "order_id             0\n",
       "user_id              0\n",
       "estimated arrival    0\n",
       "transaction_date     0\n",
       "dtype: int64"
      ]
     },
     "execution_count": 156,
     "metadata": {},
     "output_type": "execute_result"
    }
   ],
   "source": [
    "df_order_data5 = pd.read_json('Operations Department/order_data_20221201-20230601.json')\n",
    "print(df_order_data5)\n",
    "print(df_order_data5.columns.ravel())\n",
    "df_order_data5.isnull().sum()"
   ]
  },
  {
   "cell_type": "markdown",
   "id": "4b121ac5-a8d2-4404-92e6-0d19a40041b1",
   "metadata": {},
   "source": [
    "## Order Data - June 01, 2023 - January 01, 2024"
   ]
  },
  {
   "cell_type": "code",
   "execution_count": 157,
   "id": "93ff6804-6c31-42f7-aba5-93deafc6a1b3",
   "metadata": {
    "vscode": {
     "languageId": "python"
    }
   },
   "outputs": [
    {
     "name": "stdout",
     "output_type": "stream",
     "text": [
      "       Unnamed: 0                              order_id    user_id  \\\n",
      "0               2  0612c246-57f1-40e8-9993-0f8d41992049  USER24284   \n",
      "1               5  74e7c07a-d266-492f-a8f7-22987013d7e1  USER47513   \n",
      "2               9  4aab29ae-e610-46bf-92af-199f6f420cee  USER50778   \n",
      "3              18  89c3c238-2ae5-4883-bba5-08e23dbedee3  USER44062   \n",
      "4              20  03c25b03-a7cc-4758-8490-cdd5dd492646  USER48153   \n",
      "...           ...                                   ...        ...   \n",
      "64041      499974  567ef043-cc78-42af-90cc-9e92a240479f  USER28093   \n",
      "64042      499981  8fd537e1-a0b6-434f-a928-f37a19c54c05  USER14801   \n",
      "64043      499989  a2561340-c850-4f85-8e20-e9ceccd10608  USER05932   \n",
      "64044      499992  575b0a2d-5539-4565-a10b-1f4f6516cd27  USER59342   \n",
      "64045      499998  949eb760-8022-4f0b-9e6c-3ddb049a25fd  USER04177   \n",
      "\n",
      "      estimated arrival transaction_date  \n",
      "0                10days       2023-08-14  \n",
      "1                15days       2023-10-30  \n",
      "2                14days       2023-09-19  \n",
      "3                 8days       2023-07-11  \n",
      "4                15days       2023-07-21  \n",
      "...                 ...              ...  \n",
      "64041             3days       2023-10-08  \n",
      "64042             3days       2023-10-13  \n",
      "64043             3days       2023-11-07  \n",
      "64044            12days       2023-07-28  \n",
      "64045             4days       2023-08-16  \n",
      "\n",
      "[64046 rows x 5 columns]\n"
     ]
    }
   ],
   "source": [
    "df_order_data6 = pd.read_html('Operations Department/order_data_20230601-20240101.html')\n",
    "df_order_data6 = pd.DataFrame(df_order_data6[0])\n",
    "print(df_order_data6)\n"
   ]
  },
  {
   "cell_type": "markdown",
   "id": "d8dfe63c-d554-4682-aa0e-c9c7d63441eb",
   "metadata": {},
   "source": [
    "## Order Delay"
   ]
  },
  {
   "cell_type": "code",
   "execution_count": 158,
   "id": "9b5a3efd",
   "metadata": {
    "vscode": {
     "languageId": "python"
    }
   },
   "outputs": [
    {
     "data": {
      "text/html": [
       "<div>\n",
       "<style scoped>\n",
       "    .dataframe tbody tr th:only-of-type {\n",
       "        vertical-align: middle;\n",
       "    }\n",
       "\n",
       "    .dataframe tbody tr th {\n",
       "        vertical-align: top;\n",
       "    }\n",
       "\n",
       "    .dataframe thead th {\n",
       "        text-align: right;\n",
       "    }\n",
       "</style>\n",
       "<table border=\"1\" class=\"dataframe\">\n",
       "  <thead>\n",
       "    <tr style=\"text-align: right;\">\n",
       "      <th></th>\n",
       "      <th>Unnamed: 0</th>\n",
       "      <th>order_id</th>\n",
       "      <th>delay in days</th>\n",
       "    </tr>\n",
       "  </thead>\n",
       "  <tbody>\n",
       "    <tr>\n",
       "      <th>0</th>\n",
       "      <td>24261</td>\n",
       "      <td>a0c62902-2728-4b38-bf40-89816ebe183f</td>\n",
       "      <td>9</td>\n",
       "    </tr>\n",
       "    <tr>\n",
       "      <th>1</th>\n",
       "      <td>345824</td>\n",
       "      <td>17902aef-e623-48c0-a865-ab427be0f114</td>\n",
       "      <td>7</td>\n",
       "    </tr>\n",
       "    <tr>\n",
       "      <th>2</th>\n",
       "      <td>398475</td>\n",
       "      <td>ce47737b-2253-4ff6-90c6-2b5955d1de1e</td>\n",
       "      <td>7</td>\n",
       "    </tr>\n",
       "    <tr>\n",
       "      <th>3</th>\n",
       "      <td>241232</td>\n",
       "      <td>fc3312cf-f014-4c14-a04d-b26403835c03</td>\n",
       "      <td>5</td>\n",
       "    </tr>\n",
       "    <tr>\n",
       "      <th>4</th>\n",
       "      <td>446720</td>\n",
       "      <td>c0053e4c-5b10-4e31-97f6-2d60866e2fbb</td>\n",
       "      <td>6</td>\n",
       "    </tr>\n",
       "  </tbody>\n",
       "</table>\n",
       "</div>"
      ],
      "text/plain": [
       "   Unnamed: 0                              order_id  delay in days\n",
       "0       24261  a0c62902-2728-4b38-bf40-89816ebe183f              9\n",
       "1      345824  17902aef-e623-48c0-a865-ab427be0f114              7\n",
       "2      398475  ce47737b-2253-4ff6-90c6-2b5955d1de1e              7\n",
       "3      241232  fc3312cf-f014-4c14-a04d-b26403835c03              5\n",
       "4      446720  c0053e4c-5b10-4e31-97f6-2d60866e2fbb              6"
      ]
     },
     "execution_count": 158,
     "metadata": {},
     "output_type": "execute_result"
    }
   ],
   "source": [
    "df_order_delays = pd.read_html('Operations Department/order_delays.html')\n",
    "df_order_delays[0]\n",
    "df_order_delays = pd.DataFrame(df_order_delays[0])\n",
    "df_order_delays.head()"
   ]
  },
  {
   "cell_type": "markdown",
   "id": "db9d052e",
   "metadata": {},
   "source": [
    "## Merge all order_data"
   ]
  },
  {
   "cell_type": "markdown",
   "id": "ed047bf9",
   "metadata": {},
   "source": [
    "#### Convert all order data to parquets"
   ]
  },
  {
   "cell_type": "code",
   "execution_count": 159,
   "id": "f8995ff7",
   "metadata": {
    "vscode": {
     "languageId": "python"
    }
   },
   "outputs": [],
   "source": [
    "df_order_data1.to_parquet(\"Operations Department/parquets/df_order_1.parquet\")\n",
    "df_order_data2.to_parquet(\"Operations Department/parquets/df_order_2.parquet\")\n",
    "df_order_data3.to_parquet(\"Operations Department/parquets/df_order_3.parquet\")\n",
    "df_order_data4.to_parquet(\"Operations Department/parquets/df_order_4.parquet\")\n",
    "df_order_data5.to_parquet(\"Operations Department/parquets/df_order_5.parquet\")\n",
    "df_order_data6.to_parquet(\"Operations Department/parquets/df_order_6.parquet\")"
   ]
  },
  {
   "cell_type": "markdown",
   "id": "fbd73b44",
   "metadata": {},
   "source": [
    "#### Merge all parquets"
   ]
  },
  {
   "cell_type": "code",
   "execution_count": 160,
   "id": "43fb4774",
   "metadata": {
    "vscode": {
     "languageId": "python"
    }
   },
   "outputs": [],
   "source": [
    "p_order_1 = pd.read_parquet(\"Operations Department/parquets/df_order_1.parquet\")\n",
    "p_order_2 = pd.read_parquet(\"Operations Department/parquets/df_order_2.parquet\")\n",
    "p_order_3 = pd.read_parquet(\"Operations Department/parquets/df_order_3.parquet\")\n",
    "p_order_4 = pd.read_parquet(\"Operations Department/parquets/df_order_4.parquet\")\n",
    "p_order_5 = pd.read_parquet(\"Operations Department/parquets/df_order_5.parquet\")\n",
    "p_order_6 = pd.read_parquet(\"Operations Department/parquets/df_order_6.parquet\")\n",
    "\n",
    "frames = [p_order_1, p_order_2, p_order_3, p_order_4, p_order_5, p_order_6]\n",
    "all_Order_data = pd.concat(frames)"
   ]
  },
  {
   "cell_type": "code",
   "execution_count": 161,
   "id": "8fb95794",
   "metadata": {
    "vscode": {
     "languageId": "python"
    }
   },
   "outputs": [
    {
     "name": "stdout",
     "output_type": "stream",
     "text": [
      "                                   order_id    user_id estimated arrival  \\\n",
      "12     0248bb48-d0d0-4a11-a158-f620640a757a  USER16283            13days   \n",
      "19     14473b59-6c4f-429e-89ef-ce920b209df3  USER08179             8days   \n",
      "25     62b8fabf-4e0a-4383-8b3a-7276c77f9e8c  USER55688            10days   \n",
      "29     96a01cee-071d-4e10-a9e4-56a31b82a9d5  USER34967             8days   \n",
      "37     479b1a6c-3a76-41a7-b15d-71acd4045080  USER07130            15days   \n",
      "...                                     ...        ...               ...   \n",
      "64041  567ef043-cc78-42af-90cc-9e92a240479f  USER28093             3days   \n",
      "64042  8fd537e1-a0b6-434f-a928-f37a19c54c05  USER14801             3days   \n",
      "64043  a2561340-c850-4f85-8e20-e9ceccd10608  USER05932             3days   \n",
      "64044  575b0a2d-5539-4565-a10b-1f4f6516cd27  USER59342            12days   \n",
      "64045  949eb760-8022-4f0b-9e6c-3ddb049a25fd  USER04177             4days   \n",
      "\n",
      "      transaction_date  Unnamed: 0  \n",
      "12          2020-06-04         NaN  \n",
      "19          2020-04-07         NaN  \n",
      "25          2020-05-07         NaN  \n",
      "29          2020-06-05         NaN  \n",
      "37          2020-05-24         NaN  \n",
      "...                ...         ...  \n",
      "64041       2023-10-08    499974.0  \n",
      "64042       2023-10-13    499981.0  \n",
      "64043       2023-11-07    499989.0  \n",
      "64044       2023-07-28    499992.0  \n",
      "64045       2023-08-16    499998.0  \n",
      "\n",
      "[500000 rows x 5 columns]\n"
     ]
    }
   ],
   "source": [
    "print(all_Order_data)"
   ]
  },
  {
   "cell_type": "markdown",
   "id": "096d7074",
   "metadata": {},
   "source": [
    "## Merge all order data and delayed through order_id"
   ]
  },
  {
   "cell_type": "code",
   "execution_count": 162,
   "id": "3d8d30fb",
   "metadata": {
    "vscode": {
     "languageId": "python"
    }
   },
   "outputs": [
    {
     "data": {
      "text/html": [
       "<div>\n",
       "<style scoped>\n",
       "    .dataframe tbody tr th:only-of-type {\n",
       "        vertical-align: middle;\n",
       "    }\n",
       "\n",
       "    .dataframe tbody tr th {\n",
       "        vertical-align: top;\n",
       "    }\n",
       "\n",
       "    .dataframe thead th {\n",
       "        text-align: right;\n",
       "    }\n",
       "</style>\n",
       "<table border=\"1\" class=\"dataframe\">\n",
       "  <thead>\n",
       "    <tr style=\"text-align: right;\">\n",
       "      <th></th>\n",
       "      <th>order_id</th>\n",
       "      <th>user_id</th>\n",
       "      <th>estimated arrival</th>\n",
       "      <th>transaction_date</th>\n",
       "      <th>Unnamed: 0_x</th>\n",
       "      <th>Unnamed: 0_y</th>\n",
       "      <th>delay in days</th>\n",
       "    </tr>\n",
       "  </thead>\n",
       "  <tbody>\n",
       "    <tr>\n",
       "      <th>14</th>\n",
       "      <td>4a500282-9581-49bd-9e1a-8dd5ef9cb1c9</td>\n",
       "      <td>USER61761</td>\n",
       "      <td>6days</td>\n",
       "      <td>2020-04-19</td>\n",
       "      <td>NaN</td>\n",
       "      <td>340</td>\n",
       "      <td>0</td>\n",
       "    </tr>\n",
       "    <tr>\n",
       "      <th>15</th>\n",
       "      <td>01fb171d-36f3-4943-b5d7-3f0b44234309</td>\n",
       "      <td>USER09322</td>\n",
       "      <td>9days</td>\n",
       "      <td>2020-05-05</td>\n",
       "      <td>NaN</td>\n",
       "      <td>347</td>\n",
       "      <td>0</td>\n",
       "    </tr>\n",
       "    <tr>\n",
       "      <th>38</th>\n",
       "      <td>7b97d8be-2445-4141-a007-b7ffc483e11e</td>\n",
       "      <td>USER09918</td>\n",
       "      <td>12days</td>\n",
       "      <td>2020-04-23</td>\n",
       "      <td>NaN</td>\n",
       "      <td>821</td>\n",
       "      <td>0</td>\n",
       "    </tr>\n",
       "    <tr>\n",
       "      <th>55</th>\n",
       "      <td>d296ffaf-8539-48d5-99b9-1855facc101d</td>\n",
       "      <td>USER12116</td>\n",
       "      <td>3days</td>\n",
       "      <td>2020-06-27</td>\n",
       "      <td>NaN</td>\n",
       "      <td>1243</td>\n",
       "      <td>0</td>\n",
       "    </tr>\n",
       "    <tr>\n",
       "      <th>59</th>\n",
       "      <td>530b7c78-4b1c-4e08-bafd-381305b3dfea</td>\n",
       "      <td>USER57291</td>\n",
       "      <td>13days</td>\n",
       "      <td>2020-04-11</td>\n",
       "      <td>NaN</td>\n",
       "      <td>1358</td>\n",
       "      <td>0</td>\n",
       "    </tr>\n",
       "  </tbody>\n",
       "</table>\n",
       "</div>"
      ],
      "text/plain": [
       "                                order_id    user_id estimated arrival  \\\n",
       "14  4a500282-9581-49bd-9e1a-8dd5ef9cb1c9  USER61761             6days   \n",
       "15  01fb171d-36f3-4943-b5d7-3f0b44234309  USER09322             9days   \n",
       "38  7b97d8be-2445-4141-a007-b7ffc483e11e  USER09918            12days   \n",
       "55  d296ffaf-8539-48d5-99b9-1855facc101d  USER12116             3days   \n",
       "59  530b7c78-4b1c-4e08-bafd-381305b3dfea  USER57291            13days   \n",
       "\n",
       "   transaction_date  Unnamed: 0_x  Unnamed: 0_y  delay in days  \n",
       "14       2020-04-19           NaN           340              0  \n",
       "15       2020-05-05           NaN           347              0  \n",
       "38       2020-04-23           NaN           821              0  \n",
       "55       2020-06-27           NaN          1243              0  \n",
       "59       2020-04-11           NaN          1358              0  "
      ]
     },
     "execution_count": 162,
     "metadata": {},
     "output_type": "execute_result"
    }
   ],
   "source": [
    "merged_data = pd.merge(all_Order_data, df_order_delays, on=\"order_id\")\n",
    "merged_data[merged_data['delay in days'] <= 0].head()"
   ]
  },
  {
   "cell_type": "code",
   "execution_count": 163,
   "id": "be9753f3-522b-4264-af63-b1377c3037d0",
   "metadata": {},
   "outputs": [],
   "source": [
    "## COMBINE ALLL DATA"
   ]
  },
  {
   "cell_type": "code",
   "execution_count": 164,
   "id": "11799da6-423b-472d-b0da-2232f5d2761d",
   "metadata": {},
   "outputs": [],
   "source": [
    "p_item_prices1 = pd.read_parquet(\"Operations Department/parquets/df_line_item_prices1.parquet\")\n",
    "p_item_prices2 = pd.read_parquet(\"Operations Department/parquets/df_line_item_prices2.parquet\")\n",
    "p_item_prices3 = pd.read_parquet(\"Operations Department/parquets/df_line_item_prices3.parquet\")\n",
    "p_order_1 = pd.read_parquet(\"Operations Department/parquets/df_order_1.parquet\")\n",
    "p_order_2 = pd.read_parquet(\"Operations Department/parquets/df_order_2.parquet\")\n",
    "p_order_3 = pd.read_parquet(\"Operations Department/parquets/df_order_3.parquet\")\n",
    "p_order_4 = pd.read_parquet(\"Operations Department/parquets/df_order_4.parquet\")\n",
    "p_order_5 = pd.read_parquet(\"Operations Department/parquets/df_order_5.parquet\")\n",
    "p_order_6 = pd.read_parquet(\"Operations Department/parquets/df_order_6.parquet\")\n",
    "p_line_item_products1 = pd.read_parquet(\"Operations Department/parquets/df_line_item_products1.parquet\")\n",
    "p_line_item_products2 = pd.read_parquet(\"Operations Department/parquets/df_line_item_products2.parquet\")\n",
    "p_line_item_products3 = pd.read_parquet(\"Operations Department/parquets/df_line_item_products3.parquet\")\n",
    "\n",
    "frame1 = [p_item_prices1, p_item_prices2, p_item_prices3]\n",
    "frame2 = [p_order_1, p_order_2, p_order_3, p_order_4, p_order_5, p_order_6]\n",
    "frame3 = [p_line_item_products1, p_line_item_products2, p_line_item_products3]\n",
    "conFrame1 = pd.concat(frame1)\n",
    "conFrame2 = pd.concat(frame2)\n",
    "conFrame3 = pd.concat(frame3)\n",
    "\n",
    "Merged1 = pd.merge(conFrame1, conFrame2, on=\"order_id\")\n",
    "FinalMerged = pd.merge(Merged1, conFrame3, on=\"order_id\")\n",
    "\n",
    "# WALANG PRICE POTANG INA "
   ]
  },
  {
   "cell_type": "code",
   "execution_count": 165,
   "id": "db582387-354c-49cb-be20-5f6f9e275601",
   "metadata": {},
   "outputs": [
    {
     "data": {
      "text/html": [
       "<div>\n",
       "<style scoped>\n",
       "    .dataframe tbody tr th:only-of-type {\n",
       "        vertical-align: middle;\n",
       "    }\n",
       "\n",
       "    .dataframe tbody tr th {\n",
       "        vertical-align: top;\n",
       "    }\n",
       "\n",
       "    .dataframe thead th {\n",
       "        text-align: right;\n",
       "    }\n",
       "</style>\n",
       "<table border=\"1\" class=\"dataframe\">\n",
       "  <thead>\n",
       "    <tr style=\"text-align: right;\">\n",
       "      <th></th>\n",
       "      <th>Unnamed: 0_x</th>\n",
       "      <th>order_id</th>\n",
       "      <th>price</th>\n",
       "      <th>quantity</th>\n",
       "      <th>user_id</th>\n",
       "      <th>estimated arrival</th>\n",
       "      <th>transaction_date</th>\n",
       "      <th>Unnamed: 0_y</th>\n",
       "    </tr>\n",
       "  </thead>\n",
       "  <tbody>\n",
       "    <tr>\n",
       "      <th>0</th>\n",
       "      <td>0</td>\n",
       "      <td>8d8acbac-ccbb-4609-a978-98dee3ac3088</td>\n",
       "      <td>12.81</td>\n",
       "      <td>6px</td>\n",
       "      <td>USER13754</td>\n",
       "      <td>9days</td>\n",
       "      <td>2023-10-11</td>\n",
       "      <td>136.0</td>\n",
       "    </tr>\n",
       "    <tr>\n",
       "      <th>1</th>\n",
       "      <td>1</td>\n",
       "      <td>59e4c308-5262-486d-9f1a-12b1278e3c44</td>\n",
       "      <td>14.00</td>\n",
       "      <td>6pieces</td>\n",
       "      <td>USER13754</td>\n",
       "      <td>5days</td>\n",
       "      <td>2023-06-05</td>\n",
       "      <td>309929.0</td>\n",
       "    </tr>\n",
       "    <tr>\n",
       "      <th>2</th>\n",
       "      <td>77</td>\n",
       "      <td>59e4c308-5262-486d-9f1a-12b1278e3c44</td>\n",
       "      <td>5.74</td>\n",
       "      <td>5px</td>\n",
       "      <td>USER13754</td>\n",
       "      <td>5days</td>\n",
       "      <td>2023-06-05</td>\n",
       "      <td>309929.0</td>\n",
       "    </tr>\n",
       "    <tr>\n",
       "      <th>3</th>\n",
       "      <td>237</td>\n",
       "      <td>59e4c308-5262-486d-9f1a-12b1278e3c44</td>\n",
       "      <td>17.28</td>\n",
       "      <td>3pcs</td>\n",
       "      <td>USER13754</td>\n",
       "      <td>5days</td>\n",
       "      <td>2023-06-05</td>\n",
       "      <td>309929.0</td>\n",
       "    </tr>\n",
       "    <tr>\n",
       "      <th>4</th>\n",
       "      <td>274</td>\n",
       "      <td>59e4c308-5262-486d-9f1a-12b1278e3c44</td>\n",
       "      <td>38.07</td>\n",
       "      <td>4pcs</td>\n",
       "      <td>USER13754</td>\n",
       "      <td>5days</td>\n",
       "      <td>2023-06-05</td>\n",
       "      <td>309929.0</td>\n",
       "    </tr>\n",
       "  </tbody>\n",
       "</table>\n",
       "</div>"
      ],
      "text/plain": [
       "   Unnamed: 0_x                              order_id  price quantity  \\\n",
       "0             0  8d8acbac-ccbb-4609-a978-98dee3ac3088  12.81      6px   \n",
       "1             1  59e4c308-5262-486d-9f1a-12b1278e3c44  14.00  6pieces   \n",
       "2            77  59e4c308-5262-486d-9f1a-12b1278e3c44   5.74      5px   \n",
       "3           237  59e4c308-5262-486d-9f1a-12b1278e3c44  17.28     3pcs   \n",
       "4           274  59e4c308-5262-486d-9f1a-12b1278e3c44  38.07     4pcs   \n",
       "\n",
       "     user_id estimated arrival transaction_date  Unnamed: 0_y  \n",
       "0  USER13754             9days       2023-10-11         136.0  \n",
       "1  USER13754             5days       2023-06-05      309929.0  \n",
       "2  USER13754             5days       2023-06-05      309929.0  \n",
       "3  USER13754             5days       2023-06-05      309929.0  \n",
       "4  USER13754             5days       2023-06-05      309929.0  "
      ]
     },
     "execution_count": 165,
     "metadata": {},
     "output_type": "execute_result"
    }
   ],
   "source": [
    "Merged1.head()"
   ]
  },
  {
   "cell_type": "code",
   "execution_count": 166,
   "id": "a33b095f-183a-4883-8216-3f081dee6fa6",
   "metadata": {},
   "outputs": [
    {
     "data": {
      "text/html": [
       "<div>\n",
       "<style scoped>\n",
       "    .dataframe tbody tr th:only-of-type {\n",
       "        vertical-align: middle;\n",
       "    }\n",
       "\n",
       "    .dataframe tbody tr th {\n",
       "        vertical-align: top;\n",
       "    }\n",
       "\n",
       "    .dataframe thead th {\n",
       "        text-align: right;\n",
       "    }\n",
       "</style>\n",
       "<table border=\"1\" class=\"dataframe\">\n",
       "  <thead>\n",
       "    <tr style=\"text-align: right;\">\n",
       "      <th></th>\n",
       "      <th>Unnamed: 0_x</th>\n",
       "      <th>order_id</th>\n",
       "      <th>price</th>\n",
       "      <th>quantity</th>\n",
       "      <th>user_id</th>\n",
       "      <th>estimated arrival</th>\n",
       "      <th>transaction_date</th>\n",
       "      <th>Unnamed: 0_y</th>\n",
       "      <th>Unnamed: 0</th>\n",
       "      <th>product_name</th>\n",
       "      <th>product_id</th>\n",
       "    </tr>\n",
       "  </thead>\n",
       "  <tbody>\n",
       "    <tr>\n",
       "      <th>0</th>\n",
       "      <td>0</td>\n",
       "      <td>8d8acbac-ccbb-4609-a978-98dee3ac3088</td>\n",
       "      <td>12.81</td>\n",
       "      <td>6px</td>\n",
       "      <td>USER13754</td>\n",
       "      <td>9days</td>\n",
       "      <td>2023-10-11</td>\n",
       "      <td>136.0</td>\n",
       "      <td>0</td>\n",
       "      <td>Grandmas swedish thin pancakes</td>\n",
       "      <td>PRODUCT16794</td>\n",
       "    </tr>\n",
       "    <tr>\n",
       "      <th>1</th>\n",
       "      <td>1</td>\n",
       "      <td>59e4c308-5262-486d-9f1a-12b1278e3c44</td>\n",
       "      <td>14.00</td>\n",
       "      <td>6pieces</td>\n",
       "      <td>USER13754</td>\n",
       "      <td>5days</td>\n",
       "      <td>2023-06-05</td>\n",
       "      <td>309929.0</td>\n",
       "      <td>1</td>\n",
       "      <td>Blackberry breakfast bars</td>\n",
       "      <td>PRODUCT56387</td>\n",
       "    </tr>\n",
       "    <tr>\n",
       "      <th>2</th>\n",
       "      <td>1</td>\n",
       "      <td>59e4c308-5262-486d-9f1a-12b1278e3c44</td>\n",
       "      <td>14.00</td>\n",
       "      <td>6pieces</td>\n",
       "      <td>USER13754</td>\n",
       "      <td>5days</td>\n",
       "      <td>2023-06-05</td>\n",
       "      <td>309929.0</td>\n",
       "      <td>77</td>\n",
       "      <td>bookmark</td>\n",
       "      <td>PRODUCT47288</td>\n",
       "    </tr>\n",
       "    <tr>\n",
       "      <th>3</th>\n",
       "      <td>1</td>\n",
       "      <td>59e4c308-5262-486d-9f1a-12b1278e3c44</td>\n",
       "      <td>14.00</td>\n",
       "      <td>6pieces</td>\n",
       "      <td>USER13754</td>\n",
       "      <td>5days</td>\n",
       "      <td>2023-06-05</td>\n",
       "      <td>309929.0</td>\n",
       "      <td>237</td>\n",
       "      <td>saw</td>\n",
       "      <td>PRODUCT33489</td>\n",
       "    </tr>\n",
       "    <tr>\n",
       "      <th>4</th>\n",
       "      <td>1</td>\n",
       "      <td>59e4c308-5262-486d-9f1a-12b1278e3c44</td>\n",
       "      <td>14.00</td>\n",
       "      <td>6pieces</td>\n",
       "      <td>USER13754</td>\n",
       "      <td>5days</td>\n",
       "      <td>2023-06-05</td>\n",
       "      <td>309929.0</td>\n",
       "      <td>274</td>\n",
       "      <td>air fryer</td>\n",
       "      <td>PRODUCT49814</td>\n",
       "    </tr>\n",
       "  </tbody>\n",
       "</table>\n",
       "</div>"
      ],
      "text/plain": [
       "   Unnamed: 0_x                              order_id  price quantity  \\\n",
       "0             0  8d8acbac-ccbb-4609-a978-98dee3ac3088  12.81      6px   \n",
       "1             1  59e4c308-5262-486d-9f1a-12b1278e3c44  14.00  6pieces   \n",
       "2             1  59e4c308-5262-486d-9f1a-12b1278e3c44  14.00  6pieces   \n",
       "3             1  59e4c308-5262-486d-9f1a-12b1278e3c44  14.00  6pieces   \n",
       "4             1  59e4c308-5262-486d-9f1a-12b1278e3c44  14.00  6pieces   \n",
       "\n",
       "     user_id estimated arrival transaction_date  Unnamed: 0_y  Unnamed: 0  \\\n",
       "0  USER13754             9days       2023-10-11         136.0           0   \n",
       "1  USER13754             5days       2023-06-05      309929.0           1   \n",
       "2  USER13754             5days       2023-06-05      309929.0          77   \n",
       "3  USER13754             5days       2023-06-05      309929.0         237   \n",
       "4  USER13754             5days       2023-06-05      309929.0         274   \n",
       "\n",
       "                     product_name    product_id  \n",
       "0  Grandmas swedish thin pancakes  PRODUCT16794  \n",
       "1       Blackberry breakfast bars  PRODUCT56387  \n",
       "2                        bookmark  PRODUCT47288  \n",
       "3                             saw  PRODUCT33489  \n",
       "4                       air fryer  PRODUCT49814  "
      ]
     },
     "execution_count": 166,
     "metadata": {},
     "output_type": "execute_result"
    }
   ],
   "source": [
    "FinalMerged.head()"
   ]
  },
  {
   "cell_type": "code",
   "execution_count": 167,
   "id": "4c541f86-3877-4c5b-b186-7b111f45d0f5",
   "metadata": {},
   "outputs": [
    {
     "data": {
      "text/html": [
       "<div>\n",
       "<style scoped>\n",
       "    .dataframe tbody tr th:only-of-type {\n",
       "        vertical-align: middle;\n",
       "    }\n",
       "\n",
       "    .dataframe tbody tr th {\n",
       "        vertical-align: top;\n",
       "    }\n",
       "\n",
       "    .dataframe thead th {\n",
       "        text-align: right;\n",
       "    }\n",
       "</style>\n",
       "<table border=\"1\" class=\"dataframe\">\n",
       "  <thead>\n",
       "    <tr style=\"text-align: right;\">\n",
       "      <th></th>\n",
       "      <th>Unnamed: 0_x</th>\n",
       "      <th>order_id</th>\n",
       "      <th>price</th>\n",
       "      <th>quantity</th>\n",
       "      <th>user_id</th>\n",
       "      <th>estimated arrival</th>\n",
       "      <th>transaction_date</th>\n",
       "      <th>Unnamed: 0_y</th>\n",
       "      <th>Unnamed: 0</th>\n",
       "      <th>product_name</th>\n",
       "      <th>product_id</th>\n",
       "    </tr>\n",
       "  </thead>\n",
       "  <tbody>\n",
       "    <tr>\n",
       "      <th>1</th>\n",
       "      <td>1</td>\n",
       "      <td>59e4c308-5262-486d-9f1a-12b1278e3c44</td>\n",
       "      <td>14.0</td>\n",
       "      <td>6pieces</td>\n",
       "      <td>USER13754</td>\n",
       "      <td>5days</td>\n",
       "      <td>2023-06-05</td>\n",
       "      <td>309929.0</td>\n",
       "      <td>1</td>\n",
       "      <td>Blackberry breakfast bars</td>\n",
       "      <td>PRODUCT56387</td>\n",
       "    </tr>\n",
       "    <tr>\n",
       "      <th>2</th>\n",
       "      <td>1</td>\n",
       "      <td>59e4c308-5262-486d-9f1a-12b1278e3c44</td>\n",
       "      <td>14.0</td>\n",
       "      <td>6pieces</td>\n",
       "      <td>USER13754</td>\n",
       "      <td>5days</td>\n",
       "      <td>2023-06-05</td>\n",
       "      <td>309929.0</td>\n",
       "      <td>77</td>\n",
       "      <td>bookmark</td>\n",
       "      <td>PRODUCT47288</td>\n",
       "    </tr>\n",
       "    <tr>\n",
       "      <th>3</th>\n",
       "      <td>1</td>\n",
       "      <td>59e4c308-5262-486d-9f1a-12b1278e3c44</td>\n",
       "      <td>14.0</td>\n",
       "      <td>6pieces</td>\n",
       "      <td>USER13754</td>\n",
       "      <td>5days</td>\n",
       "      <td>2023-06-05</td>\n",
       "      <td>309929.0</td>\n",
       "      <td>237</td>\n",
       "      <td>saw</td>\n",
       "      <td>PRODUCT33489</td>\n",
       "    </tr>\n",
       "    <tr>\n",
       "      <th>4</th>\n",
       "      <td>1</td>\n",
       "      <td>59e4c308-5262-486d-9f1a-12b1278e3c44</td>\n",
       "      <td>14.0</td>\n",
       "      <td>6pieces</td>\n",
       "      <td>USER13754</td>\n",
       "      <td>5days</td>\n",
       "      <td>2023-06-05</td>\n",
       "      <td>309929.0</td>\n",
       "      <td>274</td>\n",
       "      <td>air fryer</td>\n",
       "      <td>PRODUCT49814</td>\n",
       "    </tr>\n",
       "    <tr>\n",
       "      <th>5</th>\n",
       "      <td>1</td>\n",
       "      <td>59e4c308-5262-486d-9f1a-12b1278e3c44</td>\n",
       "      <td>14.0</td>\n",
       "      <td>6pieces</td>\n",
       "      <td>USER13754</td>\n",
       "      <td>5days</td>\n",
       "      <td>2023-06-05</td>\n",
       "      <td>309929.0</td>\n",
       "      <td>350</td>\n",
       "      <td>handheld game system</td>\n",
       "      <td>PRODUCT27609</td>\n",
       "    </tr>\n",
       "  </tbody>\n",
       "</table>\n",
       "</div>"
      ],
      "text/plain": [
       "   Unnamed: 0_x                              order_id  price quantity  \\\n",
       "1             1  59e4c308-5262-486d-9f1a-12b1278e3c44   14.0  6pieces   \n",
       "2             1  59e4c308-5262-486d-9f1a-12b1278e3c44   14.0  6pieces   \n",
       "3             1  59e4c308-5262-486d-9f1a-12b1278e3c44   14.0  6pieces   \n",
       "4             1  59e4c308-5262-486d-9f1a-12b1278e3c44   14.0  6pieces   \n",
       "5             1  59e4c308-5262-486d-9f1a-12b1278e3c44   14.0  6pieces   \n",
       "\n",
       "     user_id estimated arrival transaction_date  Unnamed: 0_y  Unnamed: 0  \\\n",
       "1  USER13754             5days       2023-06-05      309929.0           1   \n",
       "2  USER13754             5days       2023-06-05      309929.0          77   \n",
       "3  USER13754             5days       2023-06-05      309929.0         237   \n",
       "4  USER13754             5days       2023-06-05      309929.0         274   \n",
       "5  USER13754             5days       2023-06-05      309929.0         350   \n",
       "\n",
       "                product_name    product_id  \n",
       "1  Blackberry breakfast bars  PRODUCT56387  \n",
       "2                   bookmark  PRODUCT47288  \n",
       "3                        saw  PRODUCT33489  \n",
       "4                  air fryer  PRODUCT49814  \n",
       "5       handheld game system  PRODUCT27609  "
      ]
     },
     "execution_count": 167,
     "metadata": {},
     "output_type": "execute_result"
    }
   ],
   "source": [
    "FinalMerged[FinalMerged['order_id'] == '59e4c308-5262-486d-9f1a-12b1278e3c44'].head()"
   ]
  },
  {
   "cell_type": "code",
   "execution_count": 168,
   "id": "0d520436-885f-4d72-9c68-3c76c51625e7",
   "metadata": {},
   "outputs": [],
   "source": [
    "## One price and one quantity combining all of the items "
   ]
  },
  {
   "cell_type": "code",
   "execution_count": 169,
   "id": "986aace7-2d0f-4bd9-bfe1-e2d87016b5a6",
   "metadata": {},
   "outputs": [
    {
     "data": {
      "text/html": [
       "<div>\n",
       "<style scoped>\n",
       "    .dataframe tbody tr th:only-of-type {\n",
       "        vertical-align: middle;\n",
       "    }\n",
       "\n",
       "    .dataframe tbody tr th {\n",
       "        vertical-align: top;\n",
       "    }\n",
       "\n",
       "    .dataframe thead th {\n",
       "        text-align: right;\n",
       "    }\n",
       "</style>\n",
       "<table border=\"1\" class=\"dataframe\">\n",
       "  <thead>\n",
       "    <tr style=\"text-align: right;\">\n",
       "      <th></th>\n",
       "      <th>Unnamed: 0_x</th>\n",
       "      <th>order_id</th>\n",
       "      <th>price</th>\n",
       "      <th>quantity</th>\n",
       "      <th>user_id</th>\n",
       "      <th>estimated arrival</th>\n",
       "      <th>transaction_date</th>\n",
       "      <th>Unnamed: 0_y</th>\n",
       "      <th>Unnamed: 0</th>\n",
       "      <th>product_name</th>\n",
       "      <th>product_id</th>\n",
       "    </tr>\n",
       "  </thead>\n",
       "  <tbody>\n",
       "    <tr>\n",
       "      <th>0</th>\n",
       "      <td>0</td>\n",
       "      <td>8d8acbac-ccbb-4609-a978-98dee3ac3088</td>\n",
       "      <td>12.81</td>\n",
       "      <td>6px</td>\n",
       "      <td>USER13754</td>\n",
       "      <td>9days</td>\n",
       "      <td>2023-10-11</td>\n",
       "      <td>136.0</td>\n",
       "      <td>0</td>\n",
       "      <td>Grandmas swedish thin pancakes</td>\n",
       "      <td>PRODUCT16794</td>\n",
       "    </tr>\n",
       "  </tbody>\n",
       "</table>\n",
       "</div>"
      ],
      "text/plain": [
       "   Unnamed: 0_x                              order_id  price quantity  \\\n",
       "0             0  8d8acbac-ccbb-4609-a978-98dee3ac3088  12.81      6px   \n",
       "\n",
       "     user_id estimated arrival transaction_date  Unnamed: 0_y  Unnamed: 0  \\\n",
       "0  USER13754             9days       2023-10-11         136.0           0   \n",
       "\n",
       "                     product_name    product_id  \n",
       "0  Grandmas swedish thin pancakes  PRODUCT16794  "
      ]
     },
     "execution_count": 169,
     "metadata": {},
     "output_type": "execute_result"
    }
   ],
   "source": [
    "FinalMerged[FinalMerged['order_id'] == '8d8acbac-ccbb-4609-a978-98dee3ac3088'].head()"
   ]
  },
  {
   "cell_type": "code",
   "execution_count": 170,
   "id": "90a46696-63c4-44e3-baa7-05cffff361b7",
   "metadata": {},
   "outputs": [
    {
     "data": {
      "text/html": [
       "<div>\n",
       "<style scoped>\n",
       "    .dataframe tbody tr th:only-of-type {\n",
       "        vertical-align: middle;\n",
       "    }\n",
       "\n",
       "    .dataframe tbody tr th {\n",
       "        vertical-align: top;\n",
       "    }\n",
       "\n",
       "    .dataframe thead th {\n",
       "        text-align: right;\n",
       "    }\n",
       "</style>\n",
       "<table border=\"1\" class=\"dataframe\">\n",
       "  <thead>\n",
       "    <tr style=\"text-align: right;\">\n",
       "      <th></th>\n",
       "      <th>Unnamed: 0</th>\n",
       "      <th>order_id</th>\n",
       "      <th>product_name</th>\n",
       "      <th>product_id</th>\n",
       "    </tr>\n",
       "  </thead>\n",
       "  <tbody>\n",
       "    <tr>\n",
       "      <th>532034</th>\n",
       "      <td>1532034</td>\n",
       "      <td>0612c246-57f1-40e8-9993-0f8d41992049</td>\n",
       "      <td>carton of ice cream</td>\n",
       "      <td>PRODUCT08237</td>\n",
       "    </tr>\n",
       "    <tr>\n",
       "      <th>532051</th>\n",
       "      <td>1532051</td>\n",
       "      <td>0612c246-57f1-40e8-9993-0f8d41992049</td>\n",
       "      <td>sponge</td>\n",
       "      <td>PRODUCT46596</td>\n",
       "    </tr>\n",
       "    <tr>\n",
       "      <th>532206</th>\n",
       "      <td>1532206</td>\n",
       "      <td>0612c246-57f1-40e8-9993-0f8d41992049</td>\n",
       "      <td>jar of jam</td>\n",
       "      <td>PRODUCT38404</td>\n",
       "    </tr>\n",
       "    <tr>\n",
       "      <th>532213</th>\n",
       "      <td>1532213</td>\n",
       "      <td>0612c246-57f1-40e8-9993-0f8d41992049</td>\n",
       "      <td>vodafone mobile phone</td>\n",
       "      <td>PRODUCT49554</td>\n",
       "    </tr>\n",
       "    <tr>\n",
       "      <th>532283</th>\n",
       "      <td>1532283</td>\n",
       "      <td>0612c246-57f1-40e8-9993-0f8d41992049</td>\n",
       "      <td>tomato</td>\n",
       "      <td>PRODUCT35203</td>\n",
       "    </tr>\n",
       "  </tbody>\n",
       "</table>\n",
       "</div>"
      ],
      "text/plain": [
       "        Unnamed: 0                              order_id  \\\n",
       "532034     1532034  0612c246-57f1-40e8-9993-0f8d41992049   \n",
       "532051     1532051  0612c246-57f1-40e8-9993-0f8d41992049   \n",
       "532206     1532206  0612c246-57f1-40e8-9993-0f8d41992049   \n",
       "532213     1532213  0612c246-57f1-40e8-9993-0f8d41992049   \n",
       "532283     1532283  0612c246-57f1-40e8-9993-0f8d41992049   \n",
       "\n",
       "                 product_name    product_id  \n",
       "532034    carton of ice cream  PRODUCT08237  \n",
       "532051                 sponge  PRODUCT46596  \n",
       "532206             jar of jam  PRODUCT38404  \n",
       "532213  vodafone mobile phone  PRODUCT49554  \n",
       "532283                 tomato  PRODUCT35203  "
      ]
     },
     "execution_count": 170,
     "metadata": {},
     "output_type": "execute_result"
    }
   ],
   "source": [
    "conFrame3[conFrame3['order_id'] == '0612c246-57f1-40e8-9993-0f8d41992049'].head()"
   ]
  },
  {
   "cell_type": "code",
   "execution_count": null,
   "id": "ec445699-16e0-4e97-9fe0-a8a1af6a7a1c",
   "metadata": {},
   "outputs": [],
   "source": []
  },
  {
   "cell_type": "code",
   "execution_count": null,
   "id": "3b2e6911-8095-465b-b469-d50e516a7a09",
   "metadata": {},
   "outputs": [],
   "source": []
  },
  {
   "cell_type": "code",
   "execution_count": null,
   "id": "81b5f3b2-2b4c-4d85-9a8f-ccbdc9a3c592",
   "metadata": {},
   "outputs": [],
   "source": []
  }
 ],
 "metadata": {
  "kernelspec": {
   "display_name": "Python 3 (ipykernel)",
   "language": "python",
   "name": "python3"
  },
  "language_info": {
   "codemirror_mode": {
    "name": "ipython",
    "version": 3
   },
   "file_extension": ".py",
   "mimetype": "text/x-python",
   "name": "python",
   "nbconvert_exporter": "python",
   "pygments_lexer": "ipython3",
   "version": "3.12.0"
  }
 },
 "nbformat": 4,
 "nbformat_minor": 5
}
