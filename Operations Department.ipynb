{
 "cells": [
  {
   "cell_type": "code",
   "execution_count": 1,
   "id": "ac1c7d61-edb2-428b-b044-35709917ef92",
   "metadata": {},
   "outputs": [],
   "source": [
    "import pandas as pd\n",
    "import numpy as np\n",
    "import openpyxl\n",
    "import html5lib\n",
    "import lxml\n",
    "from bs4 import BeautifulSoup"
   ]
  },
  {
   "cell_type": "markdown",
   "id": "dd26082e-10d8-4276-b8b7-11f90e098955",
   "metadata": {},
   "source": [
    "## Line Item Data Price 1"
   ]
  },
  {
   "cell_type": "code",
   "execution_count": 2,
   "id": "a387b146-af5c-4e20-b24d-0e6fd5963b34",
   "metadata": {},
   "outputs": [
    {
     "name": "stdout",
     "output_type": "stream",
     "text": [
      "        Unnamed: 0                              order_id  price quantity\n",
      "0                0  8d8acbac-ccbb-4609-a978-98dee3ac3088  12.81      6px\n",
      "1                1  59e4c308-5262-486d-9f1a-12b1278e3c44  14.00  6pieces\n",
      "2                2  30fc1b76-c488-4077-8d70-3236e3afc990   6.78     4pcs\n",
      "3                3  6b273d38-b472-4bb2-8b74-a26705c707fa   8.72      4px\n",
      "4                4  6b273d38-b472-4bb2-8b74-a26705c707fa   8.83  5pieces\n",
      "...            ...                                   ...    ...      ...\n",
      "499995      499995  61c1751e-f17b-494a-a9a2-33c6694d6036  38.07   1piece\n",
      "499996      499996  61c1751e-f17b-494a-a9a2-33c6694d6036  38.07     3pcs\n",
      "499997      499997  44f739c2-73f4-491c-a932-c1362831e0e3  38.07  1pieces\n",
      "499998      499998  44f739c2-73f4-491c-a932-c1362831e0e3  38.07      1PC\n",
      "499999      499999  f1c591a5-fd7c-498f-ae4e-2739334878ce  38.07  1pieces\n",
      "\n",
      "[500000 rows x 4 columns]\n",
      "Index(['Unnamed: 0', 'order_id', 'price', 'quantity'], dtype='object')\n"
     ]
    },
    {
     "data": {
      "text/plain": [
       "Unnamed: 0    0\n",
       "order_id      0\n",
       "price         0\n",
       "quantity      0\n",
       "dtype: int64"
      ]
     },
     "execution_count": 2,
     "metadata": {},
     "output_type": "execute_result"
    }
   ],
   "source": [
    "df_line_item_prices1 = pd.read_csv('Operations Department/line_item_data_prices1.csv')\n",
    "print(df_line_item_prices1)\n",
    "print(df_line_item_prices1.columns.ravel())\n",
    "df_line_item_prices1.isnull().sum()"
   ]
  },
  {
   "cell_type": "markdown",
   "id": "a4903e25-acc6-4621-8ac0-4060a2c4b3a5",
   "metadata": {},
   "source": [
    "## Line Item Data Price 2"
   ]
  },
  {
   "cell_type": "code",
   "execution_count": 3,
   "id": "7692cc42-edf0-4d0e-9ac1-621d975bf8b7",
   "metadata": {},
   "outputs": [
    {
     "name": "stdout",
     "output_type": "stream",
     "text": [
      "        Unnamed: 0                              order_id  price quantity\n",
      "0           500000  f1c591a5-fd7c-498f-ae4e-2739334878ce  38.07      4PC\n",
      "1           500001  8a720341-a145-4a7c-b2d5-ac3c6e0d8da8  38.07     4pcs\n",
      "2           500002  8a720341-a145-4a7c-b2d5-ac3c6e0d8da8  38.07     4PCs\n",
      "3           500003  fd365f1c-9c25-4544-b4b2-fd9f55d3e6e2  38.07     2PCs\n",
      "4           500004  fd365f1c-9c25-4544-b4b2-fd9f55d3e6e2  38.07  4pieces\n",
      "...            ...                                   ...    ...      ...\n",
      "499995      999995  1e199808-c7b5-4fba-ab74-6ff46d3195fb  38.62   5piece\n",
      "499996      999996  552e5cdc-6e1d-4b90-a721-012644ffc42f  36.11     9PCs\n",
      "499997      999997  552e5cdc-6e1d-4b90-a721-012644ffc42f  36.11     5pcs\n",
      "499998      999998  060d9363-3ce4-4acf-9195-5c9e6d835fc5  52.55      5PC\n",
      "499999      999999  060d9363-3ce4-4acf-9195-5c9e6d835fc5  52.55    10pcs\n",
      "\n",
      "[500000 rows x 4 columns]\n",
      "Index(['Unnamed: 0', 'order_id', 'price', 'quantity'], dtype='object')\n"
     ]
    },
    {
     "data": {
      "text/plain": [
       "Unnamed: 0    0\n",
       "order_id      0\n",
       "price         0\n",
       "quantity      0\n",
       "dtype: int64"
      ]
     },
     "execution_count": 3,
     "metadata": {},
     "output_type": "execute_result"
    }
   ],
   "source": [
    "df_line_item_prices2 = pd.read_csv('Operations Department/line_item_data_prices2.csv')\n",
    "print(df_line_item_prices2)\n",
    "print(df_line_item_prices2.columns.ravel())\n",
    "df_line_item_prices2.isnull().sum()"
   ]
  },
  {
   "cell_type": "markdown",
   "id": "394860d1-c976-4d49-807f-5916ec335629",
   "metadata": {},
   "source": [
    "## Line Item Data Price 3"
   ]
  },
  {
   "cell_type": "code",
   "execution_count": 4,
   "id": "d3d299b3-35e4-4552-9578-ba05fc009bf2",
   "metadata": {},
   "outputs": [
    {
     "name": "stdout",
     "output_type": "stream",
     "text": [
      "        Unnamed: 0                              order_id  price quantity\n",
      "0          1000000  dc70f978-3a6b-4baf-b97e-4a88690a34fe  42.13      8PC\n",
      "1          1000001  dc70f978-3a6b-4baf-b97e-4a88690a34fe  42.13   5piece\n",
      "2          1000002  3556b3e7-046a-4148-b1cb-d86ee7ee5421  42.13     10PC\n",
      "3          1000003  3556b3e7-046a-4148-b1cb-d86ee7ee5421  42.13     5pcs\n",
      "4          1000004  29b63149-3b3c-4309-a751-7d0a563f7c12  40.87      5PC\n",
      "...            ...                                   ...    ...      ...\n",
      "997169     1997169  8a985165-e1b4-4f91-a8c4-86f54c806a9c  17.28     5pcs\n",
      "997170     1997170  7285b9ed-a45a-4aa0-86fb-2abae50780f8  17.28   5piece\n",
      "997171     1997171  35ad8f1d-9014-4430-bed3-f803b46d48a6  38.07     6PCs\n",
      "997172     1997172  38320c44-fea2-46b1-adfc-c4be22865c78  17.28  3pieces\n",
      "997173     1997173  0446efea-bbb6-4d85-aa6e-51381f440595  17.28   4piece\n",
      "\n",
      "[997174 rows x 4 columns]\n",
      "Index(['Unnamed: 0', 'order_id', 'price', 'quantity'], dtype='object')\n"
     ]
    },
    {
     "data": {
      "text/plain": [
       "Unnamed: 0    0\n",
       "order_id      0\n",
       "price         0\n",
       "quantity      0\n",
       "dtype: int64"
      ]
     },
     "execution_count": 4,
     "metadata": {},
     "output_type": "execute_result"
    }
   ],
   "source": [
    "df_line_item_prices3 = pd.read_parquet('Operations Department/line_item_data_prices3.parquet')\n",
    "print(df_line_item_prices3)\n",
    "print(df_line_item_prices3.columns.ravel())\n",
    "df_line_item_prices3.isnull().sum()"
   ]
  },
  {
   "cell_type": "markdown",
   "id": "2a97ac36-525a-4e96-9005-b66b672f74be",
   "metadata": {},
   "source": [
    "## Line Item Data Products 1"
   ]
  },
  {
   "cell_type": "code",
   "execution_count": 5,
   "id": "1fff0993-0321-4d8d-b319-ab11f0913e51",
   "metadata": {},
   "outputs": [
    {
     "name": "stdout",
     "output_type": "stream",
     "text": [
      "        Unnamed: 0                              order_id  \\\n",
      "0                0  8d8acbac-ccbb-4609-a978-98dee3ac3088   \n",
      "1                1  59e4c308-5262-486d-9f1a-12b1278e3c44   \n",
      "2                2  30fc1b76-c488-4077-8d70-3236e3afc990   \n",
      "3                3  6b273d38-b472-4bb2-8b74-a26705c707fa   \n",
      "4                4  6b273d38-b472-4bb2-8b74-a26705c707fa   \n",
      "...            ...                                   ...   \n",
      "499995      499995  61c1751e-f17b-494a-a9a2-33c6694d6036   \n",
      "499996      499996  61c1751e-f17b-494a-a9a2-33c6694d6036   \n",
      "499997      499997  44f739c2-73f4-491c-a932-c1362831e0e3   \n",
      "499998      499998  44f739c2-73f4-491c-a932-c1362831e0e3   \n",
      "499999      499999  f1c591a5-fd7c-498f-ae4e-2739334878ce   \n",
      "\n",
      "                          product_name    product_id  \n",
      "0       Grandmas swedish thin pancakes  PRODUCT16794  \n",
      "1            Blackberry breakfast bars  PRODUCT56387  \n",
      "2                 Moms cheat doughnuts  PRODUCT26612  \n",
      "3            Baked swiss cheese omelet  PRODUCT17344  \n",
      "4                          Egg flowers  PRODUCT07816  \n",
      "...                                ...           ...  \n",
      "499995                           clock  PRODUCT14601  \n",
      "499996                           clock  PRODUCT14601  \n",
      "499997                           clock  PRODUCT14601  \n",
      "499998                           clock  PRODUCT14601  \n",
      "499999                           clock  PRODUCT14601  \n",
      "\n",
      "[500000 rows x 4 columns]\n",
      "Index(['Unnamed: 0', 'order_id', 'product_name', 'product_id'], dtype='object')\n"
     ]
    },
    {
     "data": {
      "text/plain": [
       "Unnamed: 0      0\n",
       "order_id        0\n",
       "product_name    0\n",
       "product_id      0\n",
       "dtype: int64"
      ]
     },
     "execution_count": 5,
     "metadata": {},
     "output_type": "execute_result"
    }
   ],
   "source": [
    "df_line_item_products1 = pd.read_csv('Operations Department/line_item_data_products1.csv')\n",
    "print(df_line_item_products1)\n",
    "print(df_line_item_products1.columns.ravel())\n",
    "df_line_item_products1.isnull().sum()"
   ]
  },
  {
   "cell_type": "markdown",
   "id": "50282b97-c9d9-4917-b0c1-3b52ac394e92",
   "metadata": {
    "jp-MarkdownHeadingCollapsed": true
   },
   "source": [
    "## Line Item Data Products 2"
   ]
  },
  {
   "cell_type": "code",
   "execution_count": 6,
   "id": "1c83f33f-385d-458c-a37c-cb85647f6ec7",
   "metadata": {},
   "outputs": [
    {
     "name": "stdout",
     "output_type": "stream",
     "text": [
      "        Unnamed: 0                              order_id  \\\n",
      "0           500000  f1c591a5-fd7c-498f-ae4e-2739334878ce   \n",
      "1           500001  8a720341-a145-4a7c-b2d5-ac3c6e0d8da8   \n",
      "2           500002  8a720341-a145-4a7c-b2d5-ac3c6e0d8da8   \n",
      "3           500003  fd365f1c-9c25-4544-b4b2-fd9f55d3e6e2   \n",
      "4           500004  fd365f1c-9c25-4544-b4b2-fd9f55d3e6e2   \n",
      "...            ...                                   ...   \n",
      "499995      999995  1e199808-c7b5-4fba-ab74-6ff46d3195fb   \n",
      "499996      999996  552e5cdc-6e1d-4b90-a721-012644ffc42f   \n",
      "499997      999997  552e5cdc-6e1d-4b90-a721-012644ffc42f   \n",
      "499998      999998  060d9363-3ce4-4acf-9195-5c9e6d835fc5   \n",
      "499999      999999  060d9363-3ce4-4acf-9195-5c9e6d835fc5   \n",
      "\n",
      "                                   product_name    product_id  \n",
      "0                                         clock  PRODUCT14601  \n",
      "1                                 book of jokes  PRODUCT63300  \n",
      "2                                 book of jokes  PRODUCT63300  \n",
      "3                                 book of jokes  PRODUCT63300  \n",
      "4                                 book of jokes  PRODUCT63300  \n",
      "...                                         ...           ...  \n",
      "499995  Goat cheese black olive mashed potatoes  PRODUCT23102  \n",
      "499996                             Maple coffee  PRODUCT26180  \n",
      "499997                             Maple coffee  PRODUCT26180  \n",
      "499998       Sweet onion and mashed potato bake  PRODUCT22318  \n",
      "499999       Sweet onion and mashed potato bake  PRODUCT22318  \n",
      "\n",
      "[500000 rows x 4 columns]\n",
      "Index(['Unnamed: 0', 'order_id', 'product_name', 'product_id'], dtype='object')\n"
     ]
    },
    {
     "data": {
      "text/plain": [
       "Unnamed: 0      0\n",
       "order_id        0\n",
       "product_name    0\n",
       "product_id      0\n",
       "dtype: int64"
      ]
     },
     "execution_count": 6,
     "metadata": {},
     "output_type": "execute_result"
    }
   ],
   "source": [
    "df_line_item_products2 = pd.read_csv('Operations Department/line_item_data_products2.csv')\n",
    "print(df_line_item_products2)\n",
    "print(df_line_item_products2.columns.ravel())\n",
    "df_line_item_products2.isnull().sum()"
   ]
  },
  {
   "cell_type": "markdown",
   "id": "e0ccaea9-0c4f-4f27-b2d3-78f013c3503a",
   "metadata": {
    "jp-MarkdownHeadingCollapsed": true
   },
   "source": [
    "## Line Item Data Products 3"
   ]
  },
  {
   "cell_type": "code",
   "execution_count": 7,
   "id": "ae60198c-36d0-48b7-9b11-21851d7a471f",
   "metadata": {},
   "outputs": [
    {
     "name": "stdout",
     "output_type": "stream",
     "text": [
      "        Unnamed: 0                              order_id  \\\n",
      "0          1000000  dc70f978-3a6b-4baf-b97e-4a88690a34fe   \n",
      "1          1000001  dc70f978-3a6b-4baf-b97e-4a88690a34fe   \n",
      "2          1000002  3556b3e7-046a-4148-b1cb-d86ee7ee5421   \n",
      "3          1000003  3556b3e7-046a-4148-b1cb-d86ee7ee5421   \n",
      "4          1000004  29b63149-3b3c-4309-a751-7d0a563f7c12   \n",
      "...            ...                                   ...   \n",
      "997169     1997169  8a985165-e1b4-4f91-a8c4-86f54c806a9c   \n",
      "997170     1997170  7285b9ed-a45a-4aa0-86fb-2abae50780f8   \n",
      "997171     1997171  35ad8f1d-9014-4430-bed3-f803b46d48a6   \n",
      "997172     1997172  38320c44-fea2-46b1-adfc-c4be22865c78   \n",
      "997173     1997173  0446efea-bbb6-4d85-aa6e-51381f440595   \n",
      "\n",
      "                             product_name    product_id  \n",
      "0       Swedish cucumber salad pressgurka  PRODUCT20506  \n",
      "1       Swedish cucumber salad pressgurka  PRODUCT20506  \n",
      "2       Swedish cucumber salad pressgurka  PRODUCT20506  \n",
      "3       Swedish cucumber salad pressgurka  PRODUCT20506  \n",
      "4                       Savory pita chips  PRODUCT34708  \n",
      "...                                   ...           ...  \n",
      "997169                             tomato  PRODUCT35203  \n",
      "997170                             tomato  PRODUCT35203  \n",
      "997171                       dehumidifier  PRODUCT07137  \n",
      "997172                               rice  PRODUCT29484  \n",
      "997173                               rice  PRODUCT29484  \n",
      "\n",
      "[997174 rows x 4 columns]\n",
      "Index(['Unnamed: 0', 'order_id', 'product_name', 'product_id'], dtype='object')\n"
     ]
    },
    {
     "data": {
      "text/plain": [
       "Unnamed: 0      0\n",
       "order_id        0\n",
       "product_name    0\n",
       "product_id      0\n",
       "dtype: int64"
      ]
     },
     "execution_count": 7,
     "metadata": {},
     "output_type": "execute_result"
    }
   ],
   "source": [
    "df_line_item_products3 = pd.read_parquet('Operations Department/line_item_data_products3.parquet')\n",
    "print(df_line_item_products3)\n",
    "print(df_line_item_products3.columns.ravel())\n",
    "df_line_item_products3.isnull().sum()"
   ]
  },
  {
   "cell_type": "markdown",
   "id": "71c131fe-1787-4d0e-9170-3599db2b0ed8",
   "metadata": {},
   "source": [
    "## Order Data - January 01, 2020 - July 01, 2020"
   ]
  },
  {
   "cell_type": "code",
   "execution_count": 8,
   "id": "266410a8-4f22-4160-b9fd-c20bdecca22b",
   "metadata": {},
   "outputs": [
    {
     "name": "stdout",
     "output_type": "stream",
     "text": [
      "                                    order_id    user_id estimated arrival  \\\n",
      "12      0248bb48-d0d0-4a11-a158-f620640a757a  USER16283            13days   \n",
      "19      14473b59-6c4f-429e-89ef-ce920b209df3  USER08179             8days   \n",
      "25      62b8fabf-4e0a-4383-8b3a-7276c77f9e8c  USER55688            10days   \n",
      "29      96a01cee-071d-4e10-a9e4-56a31b82a9d5  USER34967             8days   \n",
      "37      479b1a6c-3a76-41a7-b15d-71acd4045080  USER07130            15days   \n",
      "...                                      ...        ...               ...   \n",
      "499969  8e35842b-c688-47da-b61f-cfd436f2edde  USER23432            15days   \n",
      "499980  05ca3879-4ca4-4f53-a94c-13c3de8c92a7  USER36687             8days   \n",
      "499983  ca6d1f78-97c9-4ece-9c36-eb6b98d8c02d  USER24773             6days   \n",
      "499984  c2232dd6-cc44-4ec7-a079-1ad1724cb487  USER43039             4days   \n",
      "499995  ba506489-1505-481d-b0b1-8cdbf04a515f  USER02322             6days   \n",
      "\n",
      "       transaction_date  \n",
      "12           2020-06-04  \n",
      "19           2020-04-07  \n",
      "25           2020-05-07  \n",
      "29           2020-06-05  \n",
      "37           2020-05-24  \n",
      "...                 ...  \n",
      "499969       2020-02-10  \n",
      "499980       2020-02-24  \n",
      "499983       2020-05-16  \n",
      "499984       2020-06-04  \n",
      "499995       2020-04-12  \n",
      "\n",
      "[63024 rows x 4 columns]\n",
      "Index(['order_id', 'user_id', 'estimated arrival', 'transaction_date'], dtype='object')\n"
     ]
    },
    {
     "data": {
      "text/plain": [
       "order_id             0\n",
       "user_id              0\n",
       "estimated arrival    0\n",
       "transaction_date     0\n",
       "dtype: int64"
      ]
     },
     "execution_count": 8,
     "metadata": {},
     "output_type": "execute_result"
    }
   ],
   "source": [
    "df_order_data1 = pd.read_parquet('Operations Department/order_data_20200101-20200701.parquet')\n",
    "print(df_order_data1)\n",
    "print(df_order_data1.columns.ravel())\n",
    "df_order_data1.isnull().sum()"
   ]
  },
  {
   "cell_type": "markdown",
   "id": "3638f075-b1cd-4871-a3c5-a0fb092b5efa",
   "metadata": {},
   "source": [
    "## Order Data - July 01, 2020 - October 01, 2021"
   ]
  },
  {
   "cell_type": "code",
   "execution_count": 9,
   "id": "8354b24b-0e3b-482c-a34d-95164903b1da",
   "metadata": {},
   "outputs": [
    {
     "name": "stdout",
     "output_type": "stream",
     "text": [
      "                                    order_id    user_id estimated arrival  \\\n",
      "1       e1beaf61-e687-4e70-bdd4-3ea338139a0b  USER36309            13days   \n",
      "10      4cad07a9-dca9-47a0-86f1-f83671d05260  USER46704             5days   \n",
      "14      8750f8c5-380c-4bbd-bb54-8a2b5e5958ac  USER32071            10days   \n",
      "15      3d77b756-0f11-4145-9fac-8f229611ac39  USER47160             3days   \n",
      "16      3312851e-28dc-4508-8003-09ba304ce9e2  USER15307            11days   \n",
      "...                                      ...        ...               ...   \n",
      "499964  b638ebb0-396b-48c3-b0e5-286c5976be33  USER34485             4days   \n",
      "499970  61aa91d0-c989-452b-a688-bb326bb1c440  USER43788            12days   \n",
      "499979  188833ff-44ee-442d-b405-5ac0be71233e  USER26701             9days   \n",
      "499985  3e259fd4-8079-4181-b2b9-d8b3db7ca8bd  USER11796             6days   \n",
      "499996  551a54f1-1a7f-4a1d-a7c7-62afb433b4f4  USER13970            15days   \n",
      "\n",
      "       transaction_date  \n",
      "1            2021-01-01  \n",
      "10           2021-09-22  \n",
      "14           2020-07-06  \n",
      "15           2021-09-25  \n",
      "16           2020-07-01  \n",
      "...                 ...  \n",
      "499964       2020-11-30  \n",
      "499970       2020-10-11  \n",
      "499979       2021-08-31  \n",
      "499985       2021-08-09  \n",
      "499996       2021-02-26  \n",
      "\n",
      "[159725 rows x 4 columns]\n",
      "Index(['order_id', 'user_id', 'estimated arrival', 'transaction_date'], dtype='object')\n"
     ]
    },
    {
     "data": {
      "text/plain": [
       "order_id             0\n",
       "user_id              0\n",
       "estimated arrival    0\n",
       "transaction_date     0\n",
       "dtype: int64"
      ]
     },
     "execution_count": 9,
     "metadata": {},
     "output_type": "execute_result"
    }
   ],
   "source": [
    "df_order_data2 = pd.read_pickle('Operations Department/order_data_20200701-20211001.pickle')\n",
    "print(df_order_data2)\n",
    "print(df_order_data2.columns.ravel())\n",
    "df_order_data2.isnull().sum()"
   ]
  },
  {
   "cell_type": "markdown",
   "id": "58c445f0-986f-4ef1-bb7c-fbb356c65044",
   "metadata": {},
   "source": [
    "## Order Data - October 01, 2021 - January 01, 2022"
   ]
  },
  {
   "cell_type": "code",
   "execution_count": 10,
   "id": "73320bee-29df-478f-b322-9482012022c9",
   "metadata": {},
   "outputs": [
    {
     "name": "stdout",
     "output_type": "stream",
     "text": [
      "       Unnamed: 0                              order_id    user_id  \\\n",
      "0               4  b4c411de-2fd3-4806-91ae-165edc9baa12  USER28531   \n",
      "1               7  d42d7e7a-71bd-43aa-8bed-49d52b74d4eb  USER56935   \n",
      "2              41  84295de8-90c2-4e67-a1d9-b1ffab45623f  USER11824   \n",
      "3              43  74a59808-b7f5-4dc1-b441-a8e0e15b49b6  USER51578   \n",
      "4              61  b3965e7d-23d7-475b-93f0-13b49a999030  USER51925   \n",
      "...           ...                                   ...        ...   \n",
      "32283      499959  a5021293-525b-4f3d-8d6a-16b70bbef542  USER46830   \n",
      "32284      499965  d5dbea32-829e-474c-8d88-cadcb993a944  USER23251   \n",
      "32285      499966  590caead-83dd-4273-820c-5bd2c84a92a6  USER14981   \n",
      "32286      499976  833311eb-cc8d-4348-b7d7-0aecba5b577e  USER62122   \n",
      "32287      499993  4d0570e9-d6cc-4ef7-95c1-e8c5ec810d37  USER24281   \n",
      "\n",
      "      estimated arrival transaction_date  \n",
      "0                13days       2021-10-12  \n",
      "1                13days       2021-10-15  \n",
      "2                13days       2021-10-11  \n",
      "3                15days       2021-10-22  \n",
      "4                 9days       2021-10-09  \n",
      "...                 ...              ...  \n",
      "32283             7days       2021-12-03  \n",
      "32284             8days       2021-11-23  \n",
      "32285            12days       2021-11-24  \n",
      "32286            12days       2021-11-26  \n",
      "32287             6days       2021-12-06  \n",
      "\n",
      "[32288 rows x 5 columns]\n",
      "Index(['Unnamed: 0', 'order_id', 'user_id', 'estimated arrival',\n",
      "       'transaction_date'],\n",
      "      dtype='object')\n"
     ]
    },
    {
     "data": {
      "text/plain": [
       "Unnamed: 0           0\n",
       "order_id             0\n",
       "user_id              0\n",
       "estimated arrival    0\n",
       "transaction_date     0\n",
       "dtype: int64"
      ]
     },
     "execution_count": 10,
     "metadata": {},
     "output_type": "execute_result"
    }
   ],
   "source": [
    "df_order_data3 = pd.read_csv('Operations Department/order_data_20211001-20220101.csv')\n",
    "print(df_order_data3)\n",
    "print(df_order_data3.columns.ravel())\n",
    "df_order_data3.isnull().sum()"
   ]
  },
  {
   "cell_type": "markdown",
   "id": "95aadfa3-608d-4916-b4a9-21fe47e62bc8",
   "metadata": {},
   "source": [
    "## Order Data - January 01, 2022 - December 01, 2022"
   ]
  },
  {
   "cell_type": "code",
   "execution_count": 11,
   "id": "6e5e8507-241a-4421-be49-6a7aeb145ed9",
   "metadata": {},
   "outputs": [
    {
     "name": "stdout",
     "output_type": "stream",
     "text": [
      "        Unnamed: 0                              order_id    user_id  \\\n",
      "0                0  eac330c0-457a-4faa-b15a-52a3c440e7f3  USER23985   \n",
      "1                3  a800f0d9-47d8-455b-b096-622e76156705  USER44549   \n",
      "2                8  26b60a4e-aafe-4b99-bace-034d088a4a53  USER53013   \n",
      "3               13  96c718b3-0de0-482c-8b05-9081d47314c6  USER55595   \n",
      "4               21  0e6eeff9-dc85-4e22-9d0d-0758f2e321f6  USER29425   \n",
      "...            ...                                   ...        ...   \n",
      "117168      499982  ceafa665-307f-4c9e-b1bd-79577a450eb9  USER17572   \n",
      "117169      499986  f628455c-ad0a-444f-96c3-931f6a1912e9  USER21194   \n",
      "117170      499987  38973532-903e-49e6-9d13-61dd5fdebf6e  USER14772   \n",
      "117171      499990  6a5163c2-ba62-461c-a729-5b06fe266bd9  USER40321   \n",
      "117172      499991  883e2fe2-bbdf-4b5e-8348-c2bcba07da0e  USER54177   \n",
      "\n",
      "       estimated arrival transaction_date  \n",
      "0                 12days       2022-08-13  \n",
      "1                  9days       2022-11-11  \n",
      "2                  8days       2022-01-05  \n",
      "3                  8days       2022-05-29  \n",
      "4                  8days       2022-11-17  \n",
      "...                  ...              ...  \n",
      "117168            12days       2022-02-14  \n",
      "117169             9days       2022-01-23  \n",
      "117170            11days       2022-06-06  \n",
      "117171            12days       2022-04-14  \n",
      "117172            15days       2022-11-23  \n",
      "\n",
      "[117173 rows x 5 columns]\n",
      "Index(['Unnamed: 0', 'order_id', 'user_id', 'estimated arrival',\n",
      "       'transaction_date'],\n",
      "      dtype='object')\n"
     ]
    },
    {
     "data": {
      "text/plain": [
       "Unnamed: 0           0\n",
       "order_id             0\n",
       "user_id              0\n",
       "estimated arrival    0\n",
       "transaction_date     0\n",
       "dtype: int64"
      ]
     },
     "execution_count": 11,
     "metadata": {},
     "output_type": "execute_result"
    }
   ],
   "source": [
    "df_order_data4 = pd.read_excel('Operations Department/order_data_20220101-20221201.xlsx', engine = 'openpyxl')\n",
    "print(df_order_data4)\n",
    "print(df_order_data4.columns.ravel())\n",
    "df_order_data4.isnull().sum()"
   ]
  },
  {
   "cell_type": "markdown",
   "id": "51289a27-1e2b-4d55-86ee-2469a68d654e",
   "metadata": {},
   "source": [
    "## Order Data - December 01, 2022 - June 01, 2023"
   ]
  },
  {
   "cell_type": "code",
   "execution_count": 12,
   "id": "2124a611-ecc1-439a-a102-68ded0311bdf",
   "metadata": {},
   "outputs": [
    {
     "name": "stdout",
     "output_type": "stream",
     "text": [
      "                                    order_id    user_id estimated arrival  \\\n",
      "6       26de6b40-db2d-40b9-a64c-58736eaf0381  USER36943             3days   \n",
      "11      71ef25bd-1146-4ac9-b371-ede0cda08093  USER10211             7days   \n",
      "34      d06a6ad2-b254-4cc6-8397-4c9bf1a2823e  USER28839             3days   \n",
      "44      8bfbd31b-5a72-4c80-9e95-9168e9d822e3  USER00089             4days   \n",
      "45      3fab0712-4542-4779-89cc-29518063ce8f  USER63283            12days   \n",
      "...                                      ...        ...               ...   \n",
      "499975  1823e6f4-8ce3-4e20-b147-afa70f0e6fc1  USER34522             8days   \n",
      "499988  222f2012-ca46-4822-ad1a-ed8d80b824b7  USER31933            13days   \n",
      "499994  1043b5cf-7940-4b3e-93b2-2bdc5d7b7b52  USER59787            14days   \n",
      "499997  2b2e775f-d6cd-4659-9a88-b4950bc326c0  USER55001            15days   \n",
      "499999  4d1c5613-a48e-4b18-b016-bb639a1d5490  USER38370            12days   \n",
      "\n",
      "       transaction_date  \n",
      "6            2023-01-30  \n",
      "11           2023-04-13  \n",
      "34           2023-04-05  \n",
      "44           2023-04-07  \n",
      "45           2023-04-18  \n",
      "...                 ...  \n",
      "499975       2023-02-12  \n",
      "499988       2022-12-23  \n",
      "499994       2023-03-23  \n",
      "499997       2023-03-24  \n",
      "499999       2023-04-03  \n",
      "\n",
      "[63744 rows x 4 columns]\n",
      "Index(['order_id', 'user_id', 'estimated arrival', 'transaction_date'], dtype='object')\n"
     ]
    },
    {
     "data": {
      "text/plain": [
       "order_id             0\n",
       "user_id              0\n",
       "estimated arrival    0\n",
       "transaction_date     0\n",
       "dtype: int64"
      ]
     },
     "execution_count": 12,
     "metadata": {},
     "output_type": "execute_result"
    }
   ],
   "source": [
    "df_order_data5 = pd.read_json('Operations Department/order_data_20221201-20230601.json')\n",
    "print(df_order_data5)\n",
    "print(df_order_data5.columns.ravel())\n",
    "df_order_data5.isnull().sum()"
   ]
  },
  {
   "cell_type": "markdown",
   "id": "4b121ac5-a8d2-4404-92e6-0d19a40041b1",
   "metadata": {},
   "source": [
    "## Order Data - June 01, 2023 - January 01, 2024"
   ]
  },
  {
   "cell_type": "code",
   "execution_count": 13,
   "id": "93ff6804-6c31-42f7-aba5-93deafc6a1b3",
   "metadata": {},
   "outputs": [
    {
     "data": {
      "text/html": [
       "<div>\n",
       "<style scoped>\n",
       "    .dataframe tbody tr th:only-of-type {\n",
       "        vertical-align: middle;\n",
       "    }\n",
       "\n",
       "    .dataframe tbody tr th {\n",
       "        vertical-align: top;\n",
       "    }\n",
       "\n",
       "    .dataframe thead th {\n",
       "        text-align: right;\n",
       "    }\n",
       "</style>\n",
       "<table border=\"1\" class=\"dataframe\">\n",
       "  <thead>\n",
       "    <tr style=\"text-align: right;\">\n",
       "      <th></th>\n",
       "      <th>Unnamed: 0</th>\n",
       "      <th>order_id</th>\n",
       "      <th>user_id</th>\n",
       "      <th>estimated arrival</th>\n",
       "      <th>transaction_date</th>\n",
       "    </tr>\n",
       "  </thead>\n",
       "  <tbody>\n",
       "    <tr>\n",
       "      <th>0</th>\n",
       "      <td>2</td>\n",
       "      <td>0612c246-57f1-40e8-9993-0f8d41992049</td>\n",
       "      <td>USER24284</td>\n",
       "      <td>10days</td>\n",
       "      <td>2023-08-14</td>\n",
       "    </tr>\n",
       "    <tr>\n",
       "      <th>1</th>\n",
       "      <td>5</td>\n",
       "      <td>74e7c07a-d266-492f-a8f7-22987013d7e1</td>\n",
       "      <td>USER47513</td>\n",
       "      <td>15days</td>\n",
       "      <td>2023-10-30</td>\n",
       "    </tr>\n",
       "    <tr>\n",
       "      <th>2</th>\n",
       "      <td>9</td>\n",
       "      <td>4aab29ae-e610-46bf-92af-199f6f420cee</td>\n",
       "      <td>USER50778</td>\n",
       "      <td>14days</td>\n",
       "      <td>2023-09-19</td>\n",
       "    </tr>\n",
       "    <tr>\n",
       "      <th>3</th>\n",
       "      <td>18</td>\n",
       "      <td>89c3c238-2ae5-4883-bba5-08e23dbedee3</td>\n",
       "      <td>USER44062</td>\n",
       "      <td>8days</td>\n",
       "      <td>2023-07-11</td>\n",
       "    </tr>\n",
       "    <tr>\n",
       "      <th>4</th>\n",
       "      <td>20</td>\n",
       "      <td>03c25b03-a7cc-4758-8490-cdd5dd492646</td>\n",
       "      <td>USER48153</td>\n",
       "      <td>15days</td>\n",
       "      <td>2023-07-21</td>\n",
       "    </tr>\n",
       "    <tr>\n",
       "      <th>...</th>\n",
       "      <td>...</td>\n",
       "      <td>...</td>\n",
       "      <td>...</td>\n",
       "      <td>...</td>\n",
       "      <td>...</td>\n",
       "    </tr>\n",
       "    <tr>\n",
       "      <th>64041</th>\n",
       "      <td>499974</td>\n",
       "      <td>567ef043-cc78-42af-90cc-9e92a240479f</td>\n",
       "      <td>USER28093</td>\n",
       "      <td>3days</td>\n",
       "      <td>2023-10-08</td>\n",
       "    </tr>\n",
       "    <tr>\n",
       "      <th>64042</th>\n",
       "      <td>499981</td>\n",
       "      <td>8fd537e1-a0b6-434f-a928-f37a19c54c05</td>\n",
       "      <td>USER14801</td>\n",
       "      <td>3days</td>\n",
       "      <td>2023-10-13</td>\n",
       "    </tr>\n",
       "    <tr>\n",
       "      <th>64043</th>\n",
       "      <td>499989</td>\n",
       "      <td>a2561340-c850-4f85-8e20-e9ceccd10608</td>\n",
       "      <td>USER05932</td>\n",
       "      <td>3days</td>\n",
       "      <td>2023-11-07</td>\n",
       "    </tr>\n",
       "    <tr>\n",
       "      <th>64044</th>\n",
       "      <td>499992</td>\n",
       "      <td>575b0a2d-5539-4565-a10b-1f4f6516cd27</td>\n",
       "      <td>USER59342</td>\n",
       "      <td>12days</td>\n",
       "      <td>2023-07-28</td>\n",
       "    </tr>\n",
       "    <tr>\n",
       "      <th>64045</th>\n",
       "      <td>499998</td>\n",
       "      <td>949eb760-8022-4f0b-9e6c-3ddb049a25fd</td>\n",
       "      <td>USER04177</td>\n",
       "      <td>4days</td>\n",
       "      <td>2023-08-16</td>\n",
       "    </tr>\n",
       "  </tbody>\n",
       "</table>\n",
       "<p>64046 rows × 5 columns</p>\n",
       "</div>"
      ],
      "text/plain": [
       "       Unnamed: 0                              order_id    user_id  \\\n",
       "0               2  0612c246-57f1-40e8-9993-0f8d41992049  USER24284   \n",
       "1               5  74e7c07a-d266-492f-a8f7-22987013d7e1  USER47513   \n",
       "2               9  4aab29ae-e610-46bf-92af-199f6f420cee  USER50778   \n",
       "3              18  89c3c238-2ae5-4883-bba5-08e23dbedee3  USER44062   \n",
       "4              20  03c25b03-a7cc-4758-8490-cdd5dd492646  USER48153   \n",
       "...           ...                                   ...        ...   \n",
       "64041      499974  567ef043-cc78-42af-90cc-9e92a240479f  USER28093   \n",
       "64042      499981  8fd537e1-a0b6-434f-a928-f37a19c54c05  USER14801   \n",
       "64043      499989  a2561340-c850-4f85-8e20-e9ceccd10608  USER05932   \n",
       "64044      499992  575b0a2d-5539-4565-a10b-1f4f6516cd27  USER59342   \n",
       "64045      499998  949eb760-8022-4f0b-9e6c-3ddb049a25fd  USER04177   \n",
       "\n",
       "      estimated arrival transaction_date  \n",
       "0                10days       2023-08-14  \n",
       "1                15days       2023-10-30  \n",
       "2                14days       2023-09-19  \n",
       "3                 8days       2023-07-11  \n",
       "4                15days       2023-07-21  \n",
       "...                 ...              ...  \n",
       "64041             3days       2023-10-08  \n",
       "64042             3days       2023-10-13  \n",
       "64043             3days       2023-11-07  \n",
       "64044            12days       2023-07-28  \n",
       "64045             4days       2023-08-16  \n",
       "\n",
       "[64046 rows x 5 columns]"
      ]
     },
     "execution_count": 13,
     "metadata": {},
     "output_type": "execute_result"
    }
   ],
   "source": [
    "df_order_data6 = pd.read_html('Operations Department/order_data_20230601-20240101.html')\n",
    "df_order_data6[0]"
   ]
  },
  {
   "cell_type": "markdown",
   "id": "d8dfe63c-d554-4682-aa0e-c9c7d63441eb",
   "metadata": {},
   "source": [
    "## Order Delay"
   ]
  },
  {
   "cell_type": "code",
   "execution_count": 14,
   "id": "fdc5c62a-d4ac-41fb-b04d-18e1a9a21c90",
   "metadata": {},
   "outputs": [
    {
     "data": {
      "text/html": [
       "<div>\n",
       "<style scoped>\n",
       "    .dataframe tbody tr th:only-of-type {\n",
       "        vertical-align: middle;\n",
       "    }\n",
       "\n",
       "    .dataframe tbody tr th {\n",
       "        vertical-align: top;\n",
       "    }\n",
       "\n",
       "    .dataframe thead th {\n",
       "        text-align: right;\n",
       "    }\n",
       "</style>\n",
       "<table border=\"1\" class=\"dataframe\">\n",
       "  <thead>\n",
       "    <tr style=\"text-align: right;\">\n",
       "      <th></th>\n",
       "      <th>Unnamed: 0</th>\n",
       "      <th>order_id</th>\n",
       "      <th>delay in days</th>\n",
       "    </tr>\n",
       "  </thead>\n",
       "  <tbody>\n",
       "    <tr>\n",
       "      <th>0</th>\n",
       "      <td>24261</td>\n",
       "      <td>a0c62902-2728-4b38-bf40-89816ebe183f</td>\n",
       "      <td>9</td>\n",
       "    </tr>\n",
       "    <tr>\n",
       "      <th>1</th>\n",
       "      <td>345824</td>\n",
       "      <td>17902aef-e623-48c0-a865-ab427be0f114</td>\n",
       "      <td>7</td>\n",
       "    </tr>\n",
       "    <tr>\n",
       "      <th>2</th>\n",
       "      <td>398475</td>\n",
       "      <td>ce47737b-2253-4ff6-90c6-2b5955d1de1e</td>\n",
       "      <td>7</td>\n",
       "    </tr>\n",
       "    <tr>\n",
       "      <th>3</th>\n",
       "      <td>241232</td>\n",
       "      <td>fc3312cf-f014-4c14-a04d-b26403835c03</td>\n",
       "      <td>5</td>\n",
       "    </tr>\n",
       "    <tr>\n",
       "      <th>4</th>\n",
       "      <td>446720</td>\n",
       "      <td>c0053e4c-5b10-4e31-97f6-2d60866e2fbb</td>\n",
       "      <td>6</td>\n",
       "    </tr>\n",
       "    <tr>\n",
       "      <th>...</th>\n",
       "      <td>...</td>\n",
       "      <td>...</td>\n",
       "      <td>...</td>\n",
       "    </tr>\n",
       "    <tr>\n",
       "      <th>199995</th>\n",
       "      <td>369126</td>\n",
       "      <td>39beb902-0b9f-40ce-a75c-3f9a1186bda1</td>\n",
       "      <td>5</td>\n",
       "    </tr>\n",
       "    <tr>\n",
       "      <th>199996</th>\n",
       "      <td>297765</td>\n",
       "      <td>336c76e4-92fa-463a-b12a-0e67fa177f9c</td>\n",
       "      <td>4</td>\n",
       "    </tr>\n",
       "    <tr>\n",
       "      <th>199997</th>\n",
       "      <td>248134</td>\n",
       "      <td>703941d7-aaff-4f16-b34e-70ec2b3d29bf</td>\n",
       "      <td>0</td>\n",
       "    </tr>\n",
       "    <tr>\n",
       "      <th>199998</th>\n",
       "      <td>274209</td>\n",
       "      <td>f3cdd72c-4a6d-4a34-9388-29b4a46e6b51</td>\n",
       "      <td>2</td>\n",
       "    </tr>\n",
       "    <tr>\n",
       "      <th>199999</th>\n",
       "      <td>330898</td>\n",
       "      <td>5273a961-97c7-48b4-bc81-934ce0833cde</td>\n",
       "      <td>0</td>\n",
       "    </tr>\n",
       "  </tbody>\n",
       "</table>\n",
       "<p>200000 rows × 3 columns</p>\n",
       "</div>"
      ],
      "text/plain": [
       "        Unnamed: 0                              order_id  delay in days\n",
       "0            24261  a0c62902-2728-4b38-bf40-89816ebe183f              9\n",
       "1           345824  17902aef-e623-48c0-a865-ab427be0f114              7\n",
       "2           398475  ce47737b-2253-4ff6-90c6-2b5955d1de1e              7\n",
       "3           241232  fc3312cf-f014-4c14-a04d-b26403835c03              5\n",
       "4           446720  c0053e4c-5b10-4e31-97f6-2d60866e2fbb              6\n",
       "...            ...                                   ...            ...\n",
       "199995      369126  39beb902-0b9f-40ce-a75c-3f9a1186bda1              5\n",
       "199996      297765  336c76e4-92fa-463a-b12a-0e67fa177f9c              4\n",
       "199997      248134  703941d7-aaff-4f16-b34e-70ec2b3d29bf              0\n",
       "199998      274209  f3cdd72c-4a6d-4a34-9388-29b4a46e6b51              2\n",
       "199999      330898  5273a961-97c7-48b4-bc81-934ce0833cde              0\n",
       "\n",
       "[200000 rows x 3 columns]"
      ]
     },
     "execution_count": 14,
     "metadata": {},
     "output_type": "execute_result"
    }
   ],
   "source": [
    "df_order_delays = pd.read_html('Operations Department/order_delays.html')\n",
    "df_order_delays[0]"
   ]
  }
 ],
 "metadata": {
  "kernelspec": {
   "display_name": "Python 3 (ipykernel)",
   "language": "python",
   "name": "python3"
  },
  "language_info": {
   "codemirror_mode": {
    "name": "ipython",
    "version": 3
   },
   "file_extension": ".py",
   "mimetype": "text/x-python",
   "name": "python",
   "nbconvert_exporter": "python",
   "pygments_lexer": "ipython3",
   "version": "3.12.0"
  }
 },
 "nbformat": 4,
 "nbformat_minor": 5
}
