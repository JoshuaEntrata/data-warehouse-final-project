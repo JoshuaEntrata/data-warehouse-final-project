{
 "cells": [
  {
   "cell_type": "code",
   "execution_count": null,
   "id": "ac1c7d61-edb2-428b-b044-35709917ef92",
   "metadata": {},
   "outputs": [],
   "source": [
    "import pandas as pd\n",
    "import numpy as np\n",
    "import openpyxl\n",
    "import html5lib\n",
    "import lxml\n",
    "from bs4 import BeautifulSoup"
   ]
  },
  {
   "cell_type": "markdown",
   "id": "dd26082e-10d8-4276-b8b7-11f90e098955",
   "metadata": {},
   "source": [
    "## Line Item Data Price 1"
   ]
  },
  {
   "cell_type": "code",
   "execution_count": null,
   "id": "a387b146-af5c-4e20-b24d-0e6fd5963b34",
   "metadata": {},
   "outputs": [],
   "source": [
    "df_line_item_prices1 = pd.read_csv('Operations Department/line_item_data_prices1.csv')\n",
    "print(df_line_item_prices1)\n",
    "print(df_line_item_prices1.columns.ravel())\n",
    "df_line_item_prices1.isnull().sum()"
   ]
  },
  {
   "cell_type": "markdown",
   "id": "a4903e25-acc6-4621-8ac0-4060a2c4b3a5",
   "metadata": {},
   "source": [
    "## Line Item Data Price 2"
   ]
  },
  {
   "cell_type": "code",
   "execution_count": null,
   "id": "7692cc42-edf0-4d0e-9ac1-621d975bf8b7",
   "metadata": {},
   "outputs": [],
   "source": [
    "df_line_item_prices2 = pd.read_csv('Operations Department/line_item_data_prices2.csv')\n",
    "print(df_line_item_prices2)\n",
    "print(df_line_item_prices2.columns.ravel())\n",
    "df_line_item_prices2.isnull().sum()"
   ]
  },
  {
   "cell_type": "markdown",
   "id": "394860d1-c976-4d49-807f-5916ec335629",
   "metadata": {},
   "source": [
    "## Line Item Data Price 3"
   ]
  },
  {
   "cell_type": "code",
   "execution_count": null,
   "id": "d3d299b3-35e4-4552-9578-ba05fc009bf2",
   "metadata": {},
   "outputs": [],
   "source": [
    "df_line_item_prices3 = pd.read_parquet('Operations Department/line_item_data_prices3.parquet')\n",
    "print(df_line_item_prices3)\n",
    "print(df_line_item_prices3.columns.ravel())\n",
    "df_line_item_prices3.isnull().sum()"
   ]
  },
  {
   "cell_type": "markdown",
   "id": "2a97ac36-525a-4e96-9005-b66b672f74be",
   "metadata": {},
   "source": [
    "## Line Item Data Products 1"
   ]
  },
  {
   "cell_type": "code",
   "execution_count": null,
   "id": "1fff0993-0321-4d8d-b319-ab11f0913e51",
   "metadata": {},
   "outputs": [],
   "source": [
    "df_line_item_products1 = pd.read_csv('Operations Department/line_item_data_products1.csv')\n",
    "print(df_line_item_products1)\n",
    "print(df_line_item_products1.columns.ravel())\n",
    "df_line_item_products1.isnull().sum()"
   ]
  },
  {
   "cell_type": "markdown",
   "id": "50282b97-c9d9-4917-b0c1-3b52ac394e92",
   "metadata": {
    "jp-MarkdownHeadingCollapsed": true
   },
   "source": [
    "## Line Item Data Products 2"
   ]
  },
  {
   "cell_type": "code",
   "execution_count": null,
   "id": "1c83f33f-385d-458c-a37c-cb85647f6ec7",
   "metadata": {},
   "outputs": [],
   "source": [
    "df_line_item_products2 = pd.read_csv('Operations Department/line_item_data_products2.csv')\n",
    "print(df_line_item_products2)\n",
    "print(df_line_item_products2.columns.ravel())\n",
    "df_line_item_products2.isnull().sum()"
   ]
  },
  {
   "cell_type": "markdown",
   "id": "e0ccaea9-0c4f-4f27-b2d3-78f013c3503a",
   "metadata": {
    "jp-MarkdownHeadingCollapsed": true
   },
   "source": [
    "## Line Item Data Products 3"
   ]
  },
  {
   "cell_type": "code",
   "execution_count": null,
   "id": "ae60198c-36d0-48b7-9b11-21851d7a471f",
   "metadata": {},
   "outputs": [],
   "source": [
    "df_line_item_products3 = pd.read_parquet('Operations Department/line_item_data_products3.parquet')\n",
    "print(df_line_item_products3)\n",
    "print(df_line_item_products3.columns.ravel())\n",
    "df_line_item_products3.isnull().sum()"
   ]
  },
  {
   "cell_type": "markdown",
   "id": "71c131fe-1787-4d0e-9170-3599db2b0ed8",
   "metadata": {},
   "source": [
    "## Order Data - January 01, 2020 - July 01, 2020"
   ]
  },
  {
   "cell_type": "code",
   "execution_count": null,
   "id": "266410a8-4f22-4160-b9fd-c20bdecca22b",
   "metadata": {},
   "outputs": [],
   "source": [
    "df_order_data1 = pd.read_parquet('Operations Department/order_data_20200101-20200701.parquet')\n",
    "print(df_order_data1)\n",
    "print(df_order_data1.columns.ravel())\n",
    "df_order_data1.isnull().sum()\n"
   ]
  },
  {
   "cell_type": "markdown",
   "id": "3638f075-b1cd-4871-a3c5-a0fb092b5efa",
   "metadata": {},
   "source": [
    "## Order Data - July 01, 2020 - October 01, 2021"
   ]
  },
  {
   "cell_type": "code",
   "execution_count": null,
   "id": "8354b24b-0e3b-482c-a34d-95164903b1da",
   "metadata": {},
   "outputs": [],
   "source": [
    "df_order_data2 = pd.read_pickle('Operations Department/order_data_20200701-20211001.pickle')\n",
    "print(df_order_data2)\n",
    "print(df_order_data2.columns.ravel())\n",
    "df_order_data2.isnull().sum()"
   ]
  },
  {
   "cell_type": "markdown",
   "id": "58c445f0-986f-4ef1-bb7c-fbb356c65044",
   "metadata": {},
   "source": [
    "## Order Data - October 01, 2021 - January 01, 2022"
   ]
  },
  {
   "cell_type": "code",
   "execution_count": null,
   "id": "73320bee-29df-478f-b322-9482012022c9",
   "metadata": {},
   "outputs": [],
   "source": [
    "df_order_data3 = pd.read_csv('Operations Department/order_data_20211001-20220101.csv')\n",
    "print(df_order_data3)\n",
    "print(df_order_data3.columns.ravel())\n",
    "df_order_data3.isnull().sum()"
   ]
  },
  {
   "cell_type": "markdown",
   "id": "95aadfa3-608d-4916-b4a9-21fe47e62bc8",
   "metadata": {},
   "source": [
    "## Order Data - January 01, 2022 - December 01, 2022"
   ]
  },
  {
   "cell_type": "code",
   "execution_count": 78,
   "id": "6e5e8507-241a-4421-be49-6a7aeb145ed9",
   "metadata": {},
   "outputs": [
    {
     "name": "stdout",
     "output_type": "stream",
     "text": [
      "        Unnamed: 0                              order_id    user_id  \\\n",
      "0                0  eac330c0-457a-4faa-b15a-52a3c440e7f3  USER23985   \n",
      "1                3  a800f0d9-47d8-455b-b096-622e76156705  USER44549   \n",
      "2                8  26b60a4e-aafe-4b99-bace-034d088a4a53  USER53013   \n",
      "3               13  96c718b3-0de0-482c-8b05-9081d47314c6  USER55595   \n",
      "4               21  0e6eeff9-dc85-4e22-9d0d-0758f2e321f6  USER29425   \n",
      "...            ...                                   ...        ...   \n",
      "117168      499982  ceafa665-307f-4c9e-b1bd-79577a450eb9  USER17572   \n",
      "117169      499986  f628455c-ad0a-444f-96c3-931f6a1912e9  USER21194   \n",
      "117170      499987  38973532-903e-49e6-9d13-61dd5fdebf6e  USER14772   \n",
      "117171      499990  6a5163c2-ba62-461c-a729-5b06fe266bd9  USER40321   \n",
      "117172      499991  883e2fe2-bbdf-4b5e-8348-c2bcba07da0e  USER54177   \n",
      "\n",
      "       estimated arrival transaction_date  \n",
      "0                 12days       2022-08-13  \n",
      "1                  9days       2022-11-11  \n",
      "2                  8days       2022-01-05  \n",
      "3                  8days       2022-05-29  \n",
      "4                  8days       2022-11-17  \n",
      "...                  ...              ...  \n",
      "117168            12days       2022-02-14  \n",
      "117169             9days       2022-01-23  \n",
      "117170            11days       2022-06-06  \n",
      "117171            12days       2022-04-14  \n",
      "117172            15days       2022-11-23  \n",
      "\n",
      "[117173 rows x 5 columns]\n",
      "Index(['Unnamed: 0', 'order_id', 'user_id', 'estimated arrival',\n",
      "       'transaction_date'],\n",
      "      dtype='object')\n"
     ]
    }
   ],
   "source": [
    "df_order_data4 = pd.read_excel('Operations Department/order_data_20220101-20221201.xlsx', engine = 'openpyxl')\n",
    "print(df_order_data4)\n",
    "print(df_order_data4.columns.ravel())\n",
    "df_order_data4.isnull().sum()\n",
    "df_order_data4 = pd.DataFrame(df_order_data4)"
   ]
  },
  {
   "cell_type": "markdown",
   "id": "51289a27-1e2b-4d55-86ee-2469a68d654e",
   "metadata": {},
   "source": [
    "## Order Data - December 01, 2022 - June 01, 2023"
   ]
  },
  {
   "cell_type": "code",
   "execution_count": null,
   "id": "2124a611-ecc1-439a-a102-68ded0311bdf",
   "metadata": {},
   "outputs": [],
   "source": [
    "df_order_data5 = pd.read_json('Operations Department/order_data_20221201-20230601.json')\n",
    "print(df_order_data5)\n",
    "print(df_order_data5.columns.ravel())\n",
    "df_order_data5.isnull().sum()"
   ]
  },
  {
   "cell_type": "markdown",
   "id": "4b121ac5-a8d2-4404-92e6-0d19a40041b1",
   "metadata": {},
   "source": [
    "## Order Data - June 01, 2023 - January 01, 2024"
   ]
  },
  {
   "cell_type": "code",
   "execution_count": 107,
   "id": "93ff6804-6c31-42f7-aba5-93deafc6a1b3",
   "metadata": {},
   "outputs": [
    {
     "name": "stdout",
     "output_type": "stream",
     "text": [
      "       Unnamed: 0                              order_id    user_id  \\\n",
      "0               2  0612c246-57f1-40e8-9993-0f8d41992049  USER24284   \n",
      "1               5  74e7c07a-d266-492f-a8f7-22987013d7e1  USER47513   \n",
      "2               9  4aab29ae-e610-46bf-92af-199f6f420cee  USER50778   \n",
      "3              18  89c3c238-2ae5-4883-bba5-08e23dbedee3  USER44062   \n",
      "4              20  03c25b03-a7cc-4758-8490-cdd5dd492646  USER48153   \n",
      "...           ...                                   ...        ...   \n",
      "64041      499974  567ef043-cc78-42af-90cc-9e92a240479f  USER28093   \n",
      "64042      499981  8fd537e1-a0b6-434f-a928-f37a19c54c05  USER14801   \n",
      "64043      499989  a2561340-c850-4f85-8e20-e9ceccd10608  USER05932   \n",
      "64044      499992  575b0a2d-5539-4565-a10b-1f4f6516cd27  USER59342   \n",
      "64045      499998  949eb760-8022-4f0b-9e6c-3ddb049a25fd  USER04177   \n",
      "\n",
      "      estimated arrival transaction_date  \n",
      "0                10days       2023-08-14  \n",
      "1                15days       2023-10-30  \n",
      "2                14days       2023-09-19  \n",
      "3                 8days       2023-07-11  \n",
      "4                15days       2023-07-21  \n",
      "...                 ...              ...  \n",
      "64041             3days       2023-10-08  \n",
      "64042             3days       2023-10-13  \n",
      "64043             3days       2023-11-07  \n",
      "64044            12days       2023-07-28  \n",
      "64045             4days       2023-08-16  \n",
      "\n",
      "[64046 rows x 5 columns]\n"
     ]
    }
   ],
   "source": [
    "df_order_data6 = pd.read_html('Operations Department/order_data_20230601-20240101.html')\n",
    "df_order_data6 = pd.DataFrame(df_order_data6[0])\n",
    "print(df_order_data6)\n"
   ]
  },
  {
   "cell_type": "markdown",
   "id": "d8dfe63c-d554-4682-aa0e-c9c7d63441eb",
   "metadata": {},
   "source": [
    "## Order Delay"
   ]
  },
  {
   "cell_type": "code",
   "execution_count": 103,
   "metadata": {},
   "outputs": [],
   "source": [
    "df_order_delays = pd.read_html('Operations Department/order_delays.html')\n",
    "df_order_delays[0]\n",
    "df_order_delays = pd.DataFrame(df_order_delays[0])"
   ]
  },
  {
   "cell_type": "markdown",
   "metadata": {},
   "source": [
    "## Merge all order_data"
   ]
  },
  {
   "cell_type": "markdown",
   "metadata": {},
   "source": [
    "#### Convert all order data to parquets"
   ]
  },
  {
   "cell_type": "code",
   "execution_count": 85,
   "metadata": {},
   "outputs": [],
   "source": [
    "df_order_data1.to_parquet(\"Operations Department/parquets/df_order_1.parquet\")\n",
    "df_order_data2.to_parquet(\"Operations Department/parquets/df_order_2.parquet\")\n",
    "df_order_data3.to_parquet(\"Operations Department/parquets/df_order_3.parquet\")\n",
    "df_order_data4.to_parquet(\"Operations Department/parquets/df_order_4.parquet\")\n",
    "df_order_data5.to_parquet(\"Operations Department/parquets/df_order_5.parquet\")\n",
    "df_order_data6.to_parquet(\"Operations Department/parquets/df_order_6.parquet\")"
   ]
  },
  {
   "cell_type": "markdown",
   "metadata": {},
   "source": [
    "#### Merge all parquets"
   ]
  },
  {
   "cell_type": "code",
   "execution_count": 96,
   "metadata": {},
   "outputs": [],
   "source": [
    "p_order_1 = pd.read_parquet(\"Operations Department/parquets/df_order_1.parquet\")\n",
    "p_order_2 = pd.read_parquet(\"Operations Department/parquets/df_order_2.parquet\")\n",
    "p_order_3 = pd.read_parquet(\"Operations Department/parquets/df_order_3.parquet\")\n",
    "p_order_4 = pd.read_parquet(\"Operations Department/parquets/df_order_4.parquet\")\n",
    "p_order_5 = pd.read_parquet(\"Operations Department/parquets/df_order_5.parquet\")\n",
    "p_order_6 = pd.read_parquet(\"Operations Department/parquets/df_order_6.parquet\")\n",
    "\n",
    "frames = [p_order_1, p_order_2, p_order_3, p_order_4, p_order_5, p_order_6]\n",
    "all_Order_data = pd.concat(frames)"
   ]
  },
  {
   "cell_type": "code",
   "execution_count": 97,
   "metadata": {},
   "outputs": [
    {
     "name": "stdout",
     "output_type": "stream",
     "text": [
      "                                   order_id    user_id estimated arrival  \\\n",
      "12     0248bb48-d0d0-4a11-a158-f620640a757a  USER16283            13days   \n",
      "19     14473b59-6c4f-429e-89ef-ce920b209df3  USER08179             8days   \n",
      "25     62b8fabf-4e0a-4383-8b3a-7276c77f9e8c  USER55688            10days   \n",
      "29     96a01cee-071d-4e10-a9e4-56a31b82a9d5  USER34967             8days   \n",
      "37     479b1a6c-3a76-41a7-b15d-71acd4045080  USER07130            15days   \n",
      "...                                     ...        ...               ...   \n",
      "64041  567ef043-cc78-42af-90cc-9e92a240479f  USER28093             3days   \n",
      "64042  8fd537e1-a0b6-434f-a928-f37a19c54c05  USER14801             3days   \n",
      "64043  a2561340-c850-4f85-8e20-e9ceccd10608  USER05932             3days   \n",
      "64044  575b0a2d-5539-4565-a10b-1f4f6516cd27  USER59342            12days   \n",
      "64045  949eb760-8022-4f0b-9e6c-3ddb049a25fd  USER04177             4days   \n",
      "\n",
      "      transaction_date  Unnamed: 0  \n",
      "12          2020-06-04         NaN  \n",
      "19          2020-04-07         NaN  \n",
      "25          2020-05-07         NaN  \n",
      "29          2020-06-05         NaN  \n",
      "37          2020-05-24         NaN  \n",
      "...                ...         ...  \n",
      "64041       2023-10-08    499974.0  \n",
      "64042       2023-10-13    499981.0  \n",
      "64043       2023-11-07    499989.0  \n",
      "64044       2023-07-28    499992.0  \n",
      "64045       2023-08-16    499998.0  \n",
      "\n",
      "[500000 rows x 5 columns]\n"
     ]
    }
   ],
   "source": [
    "print(all_Order_data)"
   ]
  },
  {
   "cell_type": "markdown",
   "metadata": {},
   "source": [
    "## Merge all order data and delayed through order_id"
   ]
  },
  {
   "cell_type": "code",
   "execution_count": 118,
   "metadata": {},
   "outputs": [
    {
     "data": {
      "text/html": [
       "<div>\n",
       "<style scoped>\n",
       "    .dataframe tbody tr th:only-of-type {\n",
       "        vertical-align: middle;\n",
       "    }\n",
       "\n",
       "    .dataframe tbody tr th {\n",
       "        vertical-align: top;\n",
       "    }\n",
       "\n",
       "    .dataframe thead th {\n",
       "        text-align: right;\n",
       "    }\n",
       "</style>\n",
       "<table border=\"1\" class=\"dataframe\">\n",
       "  <thead>\n",
       "    <tr style=\"text-align: right;\">\n",
       "      <th></th>\n",
       "      <th>order_id</th>\n",
       "      <th>user_id</th>\n",
       "      <th>estimated arrival</th>\n",
       "      <th>transaction_date</th>\n",
       "      <th>Unnamed: 0_x</th>\n",
       "      <th>Unnamed: 0_y</th>\n",
       "      <th>delay in days</th>\n",
       "    </tr>\n",
       "  </thead>\n",
       "  <tbody>\n",
       "    <tr>\n",
       "      <th>14</th>\n",
       "      <td>4a500282-9581-49bd-9e1a-8dd5ef9cb1c9</td>\n",
       "      <td>USER61761</td>\n",
       "      <td>6days</td>\n",
       "      <td>2020-04-19</td>\n",
       "      <td>NaN</td>\n",
       "      <td>340</td>\n",
       "      <td>0</td>\n",
       "    </tr>\n",
       "    <tr>\n",
       "      <th>15</th>\n",
       "      <td>01fb171d-36f3-4943-b5d7-3f0b44234309</td>\n",
       "      <td>USER09322</td>\n",
       "      <td>9days</td>\n",
       "      <td>2020-05-05</td>\n",
       "      <td>NaN</td>\n",
       "      <td>347</td>\n",
       "      <td>0</td>\n",
       "    </tr>\n",
       "    <tr>\n",
       "      <th>38</th>\n",
       "      <td>7b97d8be-2445-4141-a007-b7ffc483e11e</td>\n",
       "      <td>USER09918</td>\n",
       "      <td>12days</td>\n",
       "      <td>2020-04-23</td>\n",
       "      <td>NaN</td>\n",
       "      <td>821</td>\n",
       "      <td>0</td>\n",
       "    </tr>\n",
       "    <tr>\n",
       "      <th>55</th>\n",
       "      <td>d296ffaf-8539-48d5-99b9-1855facc101d</td>\n",
       "      <td>USER12116</td>\n",
       "      <td>3days</td>\n",
       "      <td>2020-06-27</td>\n",
       "      <td>NaN</td>\n",
       "      <td>1243</td>\n",
       "      <td>0</td>\n",
       "    </tr>\n",
       "    <tr>\n",
       "      <th>59</th>\n",
       "      <td>530b7c78-4b1c-4e08-bafd-381305b3dfea</td>\n",
       "      <td>USER57291</td>\n",
       "      <td>13days</td>\n",
       "      <td>2020-04-11</td>\n",
       "      <td>NaN</td>\n",
       "      <td>1358</td>\n",
       "      <td>0</td>\n",
       "    </tr>\n",
       "  </tbody>\n",
       "</table>\n",
       "</div>"
      ],
      "text/plain": [
       "                                order_id    user_id estimated arrival  \\\n",
       "14  4a500282-9581-49bd-9e1a-8dd5ef9cb1c9  USER61761             6days   \n",
       "15  01fb171d-36f3-4943-b5d7-3f0b44234309  USER09322             9days   \n",
       "38  7b97d8be-2445-4141-a007-b7ffc483e11e  USER09918            12days   \n",
       "55  d296ffaf-8539-48d5-99b9-1855facc101d  USER12116             3days   \n",
       "59  530b7c78-4b1c-4e08-bafd-381305b3dfea  USER57291            13days   \n",
       "\n",
       "   transaction_date  Unnamed: 0_x  Unnamed: 0_y  delay in days  \n",
       "14       2020-04-19           NaN           340              0  \n",
       "15       2020-05-05           NaN           347              0  \n",
       "38       2020-04-23           NaN           821              0  \n",
       "55       2020-06-27           NaN          1243              0  \n",
       "59       2020-04-11           NaN          1358              0  "
      ]
     },
     "execution_count": 118,
     "metadata": {},
     "output_type": "execute_result"
    }
   ],
   "source": [
    "merged_data = pd.merge(all_Order_data, df_order_delays, on=\"order_id\")\n",
    "merged_data[merged_data['delay in days'] <= 0].head()"
   ]
  }
 ],
 "metadata": {
  "kernelspec": {
   "display_name": "Python 3 (ipykernel)",
   "language": "python",
   "name": "python3"
  }
 },
 "nbformat": 4,
 "nbformat_minor": 5
}
