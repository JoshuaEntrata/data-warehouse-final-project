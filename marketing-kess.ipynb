{
 "cells": [
  {
   "cell_type": "code",
   "execution_count": 96,
   "metadata": {},
   "outputs": [],
   "source": [
    "import pandas as pd\n",
    "from datetime import datetime"
   ]
  },
  {
   "cell_type": "markdown",
   "metadata": {},
   "source": [
    "# Campaign Data\n"
   ]
  },
  {
   "cell_type": "code",
   "execution_count": 67,
   "metadata": {},
   "outputs": [
    {
     "data": {
      "text/html": [
       "<div>\n",
       "<style scoped>\n",
       "    .dataframe tbody tr th:only-of-type {\n",
       "        vertical-align: middle;\n",
       "    }\n",
       "\n",
       "    .dataframe tbody tr th {\n",
       "        vertical-align: top;\n",
       "    }\n",
       "\n",
       "    .dataframe thead th {\n",
       "        text-align: right;\n",
       "    }\n",
       "</style>\n",
       "<table border=\"1\" class=\"dataframe\">\n",
       "  <thead>\n",
       "    <tr style=\"text-align: right;\">\n",
       "      <th></th>\n",
       "      <th>Unnamed: 0</th>\n",
       "      <th>campaign_id</th>\n",
       "      <th>campaign_name</th>\n",
       "      <th>campaign_description</th>\n",
       "      <th>discount</th>\n",
       "    </tr>\n",
       "  </thead>\n",
       "  <tbody>\n",
       "    <tr>\n",
       "      <th>0</th>\n",
       "      <td>0</td>\n",
       "      <td>CAMPAIGN24776</td>\n",
       "      <td>wouldn't you know it</td>\n",
       "      <td>\"Twee retro vinyl single-origin coffee sartori...</td>\n",
       "      <td>1%</td>\n",
       "    </tr>\n",
       "    <tr>\n",
       "      <th>1</th>\n",
       "      <td>1</td>\n",
       "      <td>CAMPAIGN33679</td>\n",
       "      <td>could be written on the back of a postage stamp</td>\n",
       "      <td>\"Fanny pack gentrify cardigan messenger bag.\" ...</td>\n",
       "      <td>1pct</td>\n",
       "    </tr>\n",
       "    <tr>\n",
       "      <th>2</th>\n",
       "      <td>2</td>\n",
       "      <td>CAMPAIGN49972</td>\n",
       "      <td>me neither</td>\n",
       "      <td>\"DIY pug leggings everyday craft beer cardigan...</td>\n",
       "      <td>10%%</td>\n",
       "    </tr>\n",
       "    <tr>\n",
       "      <th>3</th>\n",
       "      <td>3</td>\n",
       "      <td>CAMPAIGN61872</td>\n",
       "      <td>on the huh</td>\n",
       "      <td>\"Trust fund pinterest chambray.\" - Claude Aufd...</td>\n",
       "      <td>5%</td>\n",
       "    </tr>\n",
       "    <tr>\n",
       "      <th>4</th>\n",
       "      <td>4</td>\n",
       "      <td>CAMPAIGN03110</td>\n",
       "      <td>stick a fork in it</td>\n",
       "      <td>\"YOLO tumblr Yuccie austin.\" - Jordi Kunde</td>\n",
       "      <td>1percent</td>\n",
       "    </tr>\n",
       "    <tr>\n",
       "      <th>5</th>\n",
       "      <td>5</td>\n",
       "      <td>CAMPAIGN46302</td>\n",
       "      <td>you must be new here</td>\n",
       "      <td>\"Craft beer XOXO hella tacos chillwave cred or...</td>\n",
       "      <td>1pct</td>\n",
       "    </tr>\n",
       "    <tr>\n",
       "      <th>6</th>\n",
       "      <td>6</td>\n",
       "      <td>CAMPAIGN11190</td>\n",
       "      <td>mind your own beeswax</td>\n",
       "      <td>\"Street shoreditch viral before they sold out ...</td>\n",
       "      <td>10pct</td>\n",
       "    </tr>\n",
       "    <tr>\n",
       "      <th>7</th>\n",
       "      <td>7</td>\n",
       "      <td>CAMPAIGN53595</td>\n",
       "      <td>how do I get to the train station</td>\n",
       "      <td>\"Craft beer venmo lomo fixie readymade marfa.\"...</td>\n",
       "      <td>20pct</td>\n",
       "    </tr>\n",
       "    <tr>\n",
       "      <th>8</th>\n",
       "      <td>8</td>\n",
       "      <td>CAMPAIGN29983</td>\n",
       "      <td>would it hurt</td>\n",
       "      <td>\"Vegan migas ramps keytar wolf cray kickstarte...</td>\n",
       "      <td>1%</td>\n",
       "    </tr>\n",
       "    <tr>\n",
       "      <th>9</th>\n",
       "      <td>9</td>\n",
       "      <td>CAMPAIGN52447</td>\n",
       "      <td>pound for pound</td>\n",
       "      <td>\"Semiotics biodiesel everyday craft beer etsy ...</td>\n",
       "      <td>1percent</td>\n",
       "    </tr>\n",
       "  </tbody>\n",
       "</table>\n",
       "</div>"
      ],
      "text/plain": [
       "   Unnamed: 0    campaign_id                                    campaign_name  \\\n",
       "0           0  CAMPAIGN24776                             wouldn't you know it   \n",
       "1           1  CAMPAIGN33679  could be written on the back of a postage stamp   \n",
       "2           2  CAMPAIGN49972                                       me neither   \n",
       "3           3  CAMPAIGN61872                                       on the huh   \n",
       "4           4  CAMPAIGN03110                               stick a fork in it   \n",
       "5           5  CAMPAIGN46302                             you must be new here   \n",
       "6           6  CAMPAIGN11190                            mind your own beeswax   \n",
       "7           7  CAMPAIGN53595                how do I get to the train station   \n",
       "8           8  CAMPAIGN29983                                    would it hurt   \n",
       "9           9  CAMPAIGN52447                                  pound for pound   \n",
       "\n",
       "                                campaign_description  discount  \n",
       "0  \"Twee retro vinyl single-origin coffee sartori...        1%  \n",
       "1  \"Fanny pack gentrify cardigan messenger bag.\" ...      1pct  \n",
       "2  \"DIY pug leggings everyday craft beer cardigan...      10%%  \n",
       "3  \"Trust fund pinterest chambray.\" - Claude Aufd...        5%  \n",
       "4         \"YOLO tumblr Yuccie austin.\" - Jordi Kunde  1percent  \n",
       "5  \"Craft beer XOXO hella tacos chillwave cred or...      1pct  \n",
       "6  \"Street shoreditch viral before they sold out ...     10pct  \n",
       "7  \"Craft beer venmo lomo fixie readymade marfa.\"...     20pct  \n",
       "8  \"Vegan migas ramps keytar wolf cray kickstarte...        1%  \n",
       "9  \"Semiotics biodiesel everyday craft beer etsy ...  1percent  "
      ]
     },
     "execution_count": 67,
     "metadata": {},
     "output_type": "execute_result"
    }
   ],
   "source": [
    "df_campaign = pd.read_csv('Marketing Department/campaign_data.csv', sep='\\t')\n",
    "df_campaign"
   ]
  },
  {
   "cell_type": "markdown",
   "metadata": {},
   "source": [
    "#### Check for nulls\n"
   ]
  },
  {
   "cell_type": "code",
   "execution_count": 68,
   "metadata": {},
   "outputs": [
    {
     "data": {
      "text/plain": [
       "Unnamed: 0              0\n",
       "campaign_id             0\n",
       "campaign_name           0\n",
       "campaign_description    0\n",
       "discount                0\n",
       "dtype: int64"
      ]
     },
     "execution_count": 68,
     "metadata": {},
     "output_type": "execute_result"
    }
   ],
   "source": [
    "df_campaign.isnull().sum()"
   ]
  },
  {
   "cell_type": "markdown",
   "metadata": {},
   "source": [
    "#### Check for duplicates\n"
   ]
  },
  {
   "cell_type": "code",
   "execution_count": 69,
   "metadata": {},
   "outputs": [
    {
     "data": {
      "text/html": [
       "<div>\n",
       "<style scoped>\n",
       "    .dataframe tbody tr th:only-of-type {\n",
       "        vertical-align: middle;\n",
       "    }\n",
       "\n",
       "    .dataframe tbody tr th {\n",
       "        vertical-align: top;\n",
       "    }\n",
       "\n",
       "    .dataframe thead th {\n",
       "        text-align: right;\n",
       "    }\n",
       "</style>\n",
       "<table border=\"1\" class=\"dataframe\">\n",
       "  <thead>\n",
       "    <tr style=\"text-align: right;\">\n",
       "      <th></th>\n",
       "      <th>Unnamed: 0</th>\n",
       "      <th>campaign_id</th>\n",
       "      <th>campaign_name</th>\n",
       "      <th>campaign_description</th>\n",
       "      <th>discount</th>\n",
       "    </tr>\n",
       "  </thead>\n",
       "  <tbody>\n",
       "  </tbody>\n",
       "</table>\n",
       "</div>"
      ],
      "text/plain": [
       "Empty DataFrame\n",
       "Columns: [Unnamed: 0, campaign_id, campaign_name, campaign_description, discount]\n",
       "Index: []"
      ]
     },
     "execution_count": 69,
     "metadata": {},
     "output_type": "execute_result"
    }
   ],
   "source": [
    "df_campaign[df_campaign.duplicated()]"
   ]
  },
  {
   "cell_type": "code",
   "execution_count": 70,
   "metadata": {},
   "outputs": [
    {
     "data": {
      "text/html": [
       "<div>\n",
       "<style scoped>\n",
       "    .dataframe tbody tr th:only-of-type {\n",
       "        vertical-align: middle;\n",
       "    }\n",
       "\n",
       "    .dataframe tbody tr th {\n",
       "        vertical-align: top;\n",
       "    }\n",
       "\n",
       "    .dataframe thead th {\n",
       "        text-align: right;\n",
       "    }\n",
       "</style>\n",
       "<table border=\"1\" class=\"dataframe\">\n",
       "  <thead>\n",
       "    <tr style=\"text-align: right;\">\n",
       "      <th></th>\n",
       "      <th>Unnamed: 0</th>\n",
       "      <th>campaign_id</th>\n",
       "      <th>campaign_name</th>\n",
       "      <th>campaign_description</th>\n",
       "      <th>discount</th>\n",
       "    </tr>\n",
       "  </thead>\n",
       "  <tbody>\n",
       "  </tbody>\n",
       "</table>\n",
       "</div>"
      ],
      "text/plain": [
       "Empty DataFrame\n",
       "Columns: [Unnamed: 0, campaign_id, campaign_name, campaign_description, discount]\n",
       "Index: []"
      ]
     },
     "execution_count": 70,
     "metadata": {},
     "output_type": "execute_result"
    }
   ],
   "source": [
    "df_campaign[df_campaign['campaign_id'].duplicated()]"
   ]
  },
  {
   "cell_type": "code",
   "execution_count": 71,
   "metadata": {},
   "outputs": [
    {
     "data": {
      "text/html": [
       "<div>\n",
       "<style scoped>\n",
       "    .dataframe tbody tr th:only-of-type {\n",
       "        vertical-align: middle;\n",
       "    }\n",
       "\n",
       "    .dataframe tbody tr th {\n",
       "        vertical-align: top;\n",
       "    }\n",
       "\n",
       "    .dataframe thead th {\n",
       "        text-align: right;\n",
       "    }\n",
       "</style>\n",
       "<table border=\"1\" class=\"dataframe\">\n",
       "  <thead>\n",
       "    <tr style=\"text-align: right;\">\n",
       "      <th></th>\n",
       "      <th>Unnamed: 0</th>\n",
       "      <th>campaign_id</th>\n",
       "      <th>campaign_name</th>\n",
       "      <th>campaign_description</th>\n",
       "      <th>discount</th>\n",
       "    </tr>\n",
       "  </thead>\n",
       "  <tbody>\n",
       "  </tbody>\n",
       "</table>\n",
       "</div>"
      ],
      "text/plain": [
       "Empty DataFrame\n",
       "Columns: [Unnamed: 0, campaign_id, campaign_name, campaign_description, discount]\n",
       "Index: []"
      ]
     },
     "execution_count": 71,
     "metadata": {},
     "output_type": "execute_result"
    }
   ],
   "source": [
    "df_campaign[df_campaign['campaign_name'].duplicated()]"
   ]
  },
  {
   "cell_type": "code",
   "execution_count": 72,
   "metadata": {},
   "outputs": [
    {
     "data": {
      "text/html": [
       "<div>\n",
       "<style scoped>\n",
       "    .dataframe tbody tr th:only-of-type {\n",
       "        vertical-align: middle;\n",
       "    }\n",
       "\n",
       "    .dataframe tbody tr th {\n",
       "        vertical-align: top;\n",
       "    }\n",
       "\n",
       "    .dataframe thead th {\n",
       "        text-align: right;\n",
       "    }\n",
       "</style>\n",
       "<table border=\"1\" class=\"dataframe\">\n",
       "  <thead>\n",
       "    <tr style=\"text-align: right;\">\n",
       "      <th></th>\n",
       "      <th>Unnamed: 0</th>\n",
       "      <th>campaign_id</th>\n",
       "      <th>campaign_name</th>\n",
       "      <th>campaign_description</th>\n",
       "      <th>discount</th>\n",
       "    </tr>\n",
       "  </thead>\n",
       "  <tbody>\n",
       "  </tbody>\n",
       "</table>\n",
       "</div>"
      ],
      "text/plain": [
       "Empty DataFrame\n",
       "Columns: [Unnamed: 0, campaign_id, campaign_name, campaign_description, discount]\n",
       "Index: []"
      ]
     },
     "execution_count": 72,
     "metadata": {},
     "output_type": "execute_result"
    }
   ],
   "source": [
    "df_campaign[df_campaign['campaign_description'].duplicated()]"
   ]
  },
  {
   "cell_type": "code",
   "execution_count": 73,
   "metadata": {},
   "outputs": [
    {
     "data": {
      "text/html": [
       "<div>\n",
       "<style scoped>\n",
       "    .dataframe tbody tr th:only-of-type {\n",
       "        vertical-align: middle;\n",
       "    }\n",
       "\n",
       "    .dataframe tbody tr th {\n",
       "        vertical-align: top;\n",
       "    }\n",
       "\n",
       "    .dataframe thead th {\n",
       "        text-align: right;\n",
       "    }\n",
       "</style>\n",
       "<table border=\"1\" class=\"dataframe\">\n",
       "  <thead>\n",
       "    <tr style=\"text-align: right;\">\n",
       "      <th></th>\n",
       "      <th>Unnamed: 0</th>\n",
       "      <th>campaign_id</th>\n",
       "      <th>campaign_name</th>\n",
       "      <th>campaign_description</th>\n",
       "      <th>discount</th>\n",
       "    </tr>\n",
       "  </thead>\n",
       "  <tbody>\n",
       "    <tr>\n",
       "      <th>5</th>\n",
       "      <td>5</td>\n",
       "      <td>CAMPAIGN46302</td>\n",
       "      <td>you must be new here</td>\n",
       "      <td>\"Craft beer XOXO hella tacos chillwave cred or...</td>\n",
       "      <td>1pct</td>\n",
       "    </tr>\n",
       "    <tr>\n",
       "      <th>8</th>\n",
       "      <td>8</td>\n",
       "      <td>CAMPAIGN29983</td>\n",
       "      <td>would it hurt</td>\n",
       "      <td>\"Vegan migas ramps keytar wolf cray kickstarte...</td>\n",
       "      <td>1%</td>\n",
       "    </tr>\n",
       "    <tr>\n",
       "      <th>9</th>\n",
       "      <td>9</td>\n",
       "      <td>CAMPAIGN52447</td>\n",
       "      <td>pound for pound</td>\n",
       "      <td>\"Semiotics biodiesel everyday craft beer etsy ...</td>\n",
       "      <td>1percent</td>\n",
       "    </tr>\n",
       "  </tbody>\n",
       "</table>\n",
       "</div>"
      ],
      "text/plain": [
       "   Unnamed: 0    campaign_id         campaign_name  \\\n",
       "5           5  CAMPAIGN46302  you must be new here   \n",
       "8           8  CAMPAIGN29983         would it hurt   \n",
       "9           9  CAMPAIGN52447       pound for pound   \n",
       "\n",
       "                                campaign_description  discount  \n",
       "5  \"Craft beer XOXO hella tacos chillwave cred or...      1pct  \n",
       "8  \"Vegan migas ramps keytar wolf cray kickstarte...        1%  \n",
       "9  \"Semiotics biodiesel everyday craft beer etsy ...  1percent  "
      ]
     },
     "execution_count": 73,
     "metadata": {},
     "output_type": "execute_result"
    }
   ],
   "source": [
    "df_campaign[df_campaign['discount'].duplicated()]"
   ]
  },
  {
   "cell_type": "markdown",
   "metadata": {},
   "source": [
    "#### Check unique values of campaign names\n"
   ]
  },
  {
   "cell_type": "code",
   "execution_count": 74,
   "metadata": {},
   "outputs": [
    {
     "data": {
      "text/plain": [
       "array([\"wouldn't you know it\",\n",
       "       'could be written on the back of a postage stamp', 'me neither',\n",
       "       'on the huh', 'stick a fork in it', 'you must be new here',\n",
       "       'mind your own beeswax', 'how do I get to the train station',\n",
       "       'would it hurt', 'pound for pound'], dtype=object)"
      ]
     },
     "execution_count": 74,
     "metadata": {},
     "output_type": "execute_result"
    }
   ],
   "source": [
    "unique_campaign_names = df_campaign['campaign_name'].unique()\n",
    "unique_campaign_names"
   ]
  },
  {
   "cell_type": "markdown",
   "metadata": {},
   "source": [
    "#### Check unique values of campaign description\n"
   ]
  },
  {
   "cell_type": "code",
   "execution_count": 75,
   "metadata": {},
   "outputs": [
    {
     "data": {
      "text/plain": [
       "array(['\"Twee retro vinyl single-origin coffee sartorial fanny pack brunch offal health.\" - Raleigh Senger',\n",
       "       '\"Fanny pack gentrify cardigan messenger bag.\" - Bradley Stamm',\n",
       "       '\"DIY pug leggings everyday craft beer cardigan knausgaard +1 crucifix flannel.\" - Tremayne Nader',\n",
       "       '\"Trust fund pinterest chambray.\" - Claude Aufderhar',\n",
       "       '\"YOLO tumblr Yuccie austin.\" - Jordi Kunde',\n",
       "       '\"Craft beer XOXO hella tacos chillwave cred organic letterpress disrupt artisan.\" - Rodrick Lebsack',\n",
       "       '\"Street shoreditch viral before they sold out yr ramps skateboard skateboard bitters pabst.\" - Brendan Miller',\n",
       "       '\"Craft beer venmo lomo fixie readymade marfa.\" - Benny Bogan',\n",
       "       '\"Vegan migas ramps keytar wolf cray kickstarter five dollar toast.\" - Adeline Brakus',\n",
       "       '\"Semiotics biodiesel everyday craft beer etsy semiotics keffiyeh meditation single-origin coffee.\" - Bernadette Pollich'],\n",
       "      dtype=object)"
      ]
     },
     "execution_count": 75,
     "metadata": {},
     "output_type": "execute_result"
    }
   ],
   "source": [
    "unique_campaign_description = df_campaign['campaign_description'].unique()\n",
    "unique_campaign_description"
   ]
  },
  {
   "cell_type": "markdown",
   "metadata": {},
   "source": [
    "#### Check unique values of discount\n"
   ]
  },
  {
   "cell_type": "code",
   "execution_count": 76,
   "metadata": {},
   "outputs": [
    {
     "data": {
      "text/plain": [
       "array(['1%', '1pct', '10%%', '5%', '1percent', '10pct', '20pct'],\n",
       "      dtype=object)"
      ]
     },
     "execution_count": 76,
     "metadata": {},
     "output_type": "execute_result"
    }
   ],
   "source": [
    "unique_campaign_discount = df_campaign['discount'].unique()\n",
    "unique_campaign_discount"
   ]
  },
  {
   "cell_type": "markdown",
   "metadata": {},
   "source": [
    "### Drop \"Unnamed: 0\" column\n"
   ]
  },
  {
   "cell_type": "code",
   "execution_count": 77,
   "metadata": {},
   "outputs": [
    {
     "data": {
      "text/html": [
       "<div>\n",
       "<style scoped>\n",
       "    .dataframe tbody tr th:only-of-type {\n",
       "        vertical-align: middle;\n",
       "    }\n",
       "\n",
       "    .dataframe tbody tr th {\n",
       "        vertical-align: top;\n",
       "    }\n",
       "\n",
       "    .dataframe thead th {\n",
       "        text-align: right;\n",
       "    }\n",
       "</style>\n",
       "<table border=\"1\" class=\"dataframe\">\n",
       "  <thead>\n",
       "    <tr style=\"text-align: right;\">\n",
       "      <th></th>\n",
       "      <th>campaign_id</th>\n",
       "      <th>campaign_name</th>\n",
       "      <th>campaign_description</th>\n",
       "      <th>discount</th>\n",
       "    </tr>\n",
       "  </thead>\n",
       "  <tbody>\n",
       "    <tr>\n",
       "      <th>0</th>\n",
       "      <td>CAMPAIGN24776</td>\n",
       "      <td>wouldn't you know it</td>\n",
       "      <td>\"Twee retro vinyl single-origin coffee sartori...</td>\n",
       "      <td>1%</td>\n",
       "    </tr>\n",
       "    <tr>\n",
       "      <th>1</th>\n",
       "      <td>CAMPAIGN33679</td>\n",
       "      <td>could be written on the back of a postage stamp</td>\n",
       "      <td>\"Fanny pack gentrify cardigan messenger bag.\" ...</td>\n",
       "      <td>1pct</td>\n",
       "    </tr>\n",
       "    <tr>\n",
       "      <th>2</th>\n",
       "      <td>CAMPAIGN49972</td>\n",
       "      <td>me neither</td>\n",
       "      <td>\"DIY pug leggings everyday craft beer cardigan...</td>\n",
       "      <td>10%%</td>\n",
       "    </tr>\n",
       "    <tr>\n",
       "      <th>3</th>\n",
       "      <td>CAMPAIGN61872</td>\n",
       "      <td>on the huh</td>\n",
       "      <td>\"Trust fund pinterest chambray.\" - Claude Aufd...</td>\n",
       "      <td>5%</td>\n",
       "    </tr>\n",
       "    <tr>\n",
       "      <th>4</th>\n",
       "      <td>CAMPAIGN03110</td>\n",
       "      <td>stick a fork in it</td>\n",
       "      <td>\"YOLO tumblr Yuccie austin.\" - Jordi Kunde</td>\n",
       "      <td>1percent</td>\n",
       "    </tr>\n",
       "    <tr>\n",
       "      <th>5</th>\n",
       "      <td>CAMPAIGN46302</td>\n",
       "      <td>you must be new here</td>\n",
       "      <td>\"Craft beer XOXO hella tacos chillwave cred or...</td>\n",
       "      <td>1pct</td>\n",
       "    </tr>\n",
       "    <tr>\n",
       "      <th>6</th>\n",
       "      <td>CAMPAIGN11190</td>\n",
       "      <td>mind your own beeswax</td>\n",
       "      <td>\"Street shoreditch viral before they sold out ...</td>\n",
       "      <td>10pct</td>\n",
       "    </tr>\n",
       "    <tr>\n",
       "      <th>7</th>\n",
       "      <td>CAMPAIGN53595</td>\n",
       "      <td>how do I get to the train station</td>\n",
       "      <td>\"Craft beer venmo lomo fixie readymade marfa.\"...</td>\n",
       "      <td>20pct</td>\n",
       "    </tr>\n",
       "    <tr>\n",
       "      <th>8</th>\n",
       "      <td>CAMPAIGN29983</td>\n",
       "      <td>would it hurt</td>\n",
       "      <td>\"Vegan migas ramps keytar wolf cray kickstarte...</td>\n",
       "      <td>1%</td>\n",
       "    </tr>\n",
       "    <tr>\n",
       "      <th>9</th>\n",
       "      <td>CAMPAIGN52447</td>\n",
       "      <td>pound for pound</td>\n",
       "      <td>\"Semiotics biodiesel everyday craft beer etsy ...</td>\n",
       "      <td>1percent</td>\n",
       "    </tr>\n",
       "  </tbody>\n",
       "</table>\n",
       "</div>"
      ],
      "text/plain": [
       "     campaign_id                                    campaign_name  \\\n",
       "0  CAMPAIGN24776                             wouldn't you know it   \n",
       "1  CAMPAIGN33679  could be written on the back of a postage stamp   \n",
       "2  CAMPAIGN49972                                       me neither   \n",
       "3  CAMPAIGN61872                                       on the huh   \n",
       "4  CAMPAIGN03110                               stick a fork in it   \n",
       "5  CAMPAIGN46302                             you must be new here   \n",
       "6  CAMPAIGN11190                            mind your own beeswax   \n",
       "7  CAMPAIGN53595                how do I get to the train station   \n",
       "8  CAMPAIGN29983                                    would it hurt   \n",
       "9  CAMPAIGN52447                                  pound for pound   \n",
       "\n",
       "                                campaign_description  discount  \n",
       "0  \"Twee retro vinyl single-origin coffee sartori...        1%  \n",
       "1  \"Fanny pack gentrify cardigan messenger bag.\" ...      1pct  \n",
       "2  \"DIY pug leggings everyday craft beer cardigan...      10%%  \n",
       "3  \"Trust fund pinterest chambray.\" - Claude Aufd...        5%  \n",
       "4         \"YOLO tumblr Yuccie austin.\" - Jordi Kunde  1percent  \n",
       "5  \"Craft beer XOXO hella tacos chillwave cred or...      1pct  \n",
       "6  \"Street shoreditch viral before they sold out ...     10pct  \n",
       "7  \"Craft beer venmo lomo fixie readymade marfa.\"...     20pct  \n",
       "8  \"Vegan migas ramps keytar wolf cray kickstarte...        1%  \n",
       "9  \"Semiotics biodiesel everyday craft beer etsy ...  1percent  "
      ]
     },
     "execution_count": 77,
     "metadata": {},
     "output_type": "execute_result"
    }
   ],
   "source": [
    "df_campaign = df_campaign.drop('Unnamed: 0', axis=1)\n",
    "df_campaign"
   ]
  },
  {
   "cell_type": "markdown",
   "metadata": {},
   "source": [
    "### Clean discount values\n"
   ]
  },
  {
   "cell_type": "markdown",
   "metadata": {},
   "source": [
    "#### Remove non-numeric characters\n"
   ]
  },
  {
   "cell_type": "code",
   "execution_count": 78,
   "metadata": {},
   "outputs": [
    {
     "data": {
      "text/html": [
       "<div>\n",
       "<style scoped>\n",
       "    .dataframe tbody tr th:only-of-type {\n",
       "        vertical-align: middle;\n",
       "    }\n",
       "\n",
       "    .dataframe tbody tr th {\n",
       "        vertical-align: top;\n",
       "    }\n",
       "\n",
       "    .dataframe thead th {\n",
       "        text-align: right;\n",
       "    }\n",
       "</style>\n",
       "<table border=\"1\" class=\"dataframe\">\n",
       "  <thead>\n",
       "    <tr style=\"text-align: right;\">\n",
       "      <th></th>\n",
       "      <th>campaign_id</th>\n",
       "      <th>campaign_name</th>\n",
       "      <th>campaign_description</th>\n",
       "      <th>discount</th>\n",
       "    </tr>\n",
       "  </thead>\n",
       "  <tbody>\n",
       "    <tr>\n",
       "      <th>0</th>\n",
       "      <td>CAMPAIGN24776</td>\n",
       "      <td>wouldn't you know it</td>\n",
       "      <td>\"Twee retro vinyl single-origin coffee sartori...</td>\n",
       "      <td>1</td>\n",
       "    </tr>\n",
       "    <tr>\n",
       "      <th>1</th>\n",
       "      <td>CAMPAIGN33679</td>\n",
       "      <td>could be written on the back of a postage stamp</td>\n",
       "      <td>\"Fanny pack gentrify cardigan messenger bag.\" ...</td>\n",
       "      <td>1</td>\n",
       "    </tr>\n",
       "    <tr>\n",
       "      <th>2</th>\n",
       "      <td>CAMPAIGN49972</td>\n",
       "      <td>me neither</td>\n",
       "      <td>\"DIY pug leggings everyday craft beer cardigan...</td>\n",
       "      <td>10</td>\n",
       "    </tr>\n",
       "    <tr>\n",
       "      <th>3</th>\n",
       "      <td>CAMPAIGN61872</td>\n",
       "      <td>on the huh</td>\n",
       "      <td>\"Trust fund pinterest chambray.\" - Claude Aufd...</td>\n",
       "      <td>5</td>\n",
       "    </tr>\n",
       "    <tr>\n",
       "      <th>4</th>\n",
       "      <td>CAMPAIGN03110</td>\n",
       "      <td>stick a fork in it</td>\n",
       "      <td>\"YOLO tumblr Yuccie austin.\" - Jordi Kunde</td>\n",
       "      <td>1</td>\n",
       "    </tr>\n",
       "  </tbody>\n",
       "</table>\n",
       "</div>"
      ],
      "text/plain": [
       "     campaign_id                                    campaign_name  \\\n",
       "0  CAMPAIGN24776                             wouldn't you know it   \n",
       "1  CAMPAIGN33679  could be written on the back of a postage stamp   \n",
       "2  CAMPAIGN49972                                       me neither   \n",
       "3  CAMPAIGN61872                                       on the huh   \n",
       "4  CAMPAIGN03110                               stick a fork in it   \n",
       "\n",
       "                                campaign_description discount  \n",
       "0  \"Twee retro vinyl single-origin coffee sartori...        1  \n",
       "1  \"Fanny pack gentrify cardigan messenger bag.\" ...        1  \n",
       "2  \"DIY pug leggings everyday craft beer cardigan...       10  \n",
       "3  \"Trust fund pinterest chambray.\" - Claude Aufd...        5  \n",
       "4         \"YOLO tumblr Yuccie austin.\" - Jordi Kunde        1  "
      ]
     },
     "execution_count": 78,
     "metadata": {},
     "output_type": "execute_result"
    }
   ],
   "source": [
    "def clean_discount(discount):\n",
    "    cleaned_discount = ''.join(char for char in discount if char.isdigit())\n",
    "    return cleaned_discount\n",
    "\n",
    "\n",
    "df_campaign['discount'] = df_campaign['discount'].apply(clean_discount)\n",
    "df_campaign.head()"
   ]
  },
  {
   "cell_type": "markdown",
   "metadata": {},
   "source": [
    "#### Add % to the discount column\n"
   ]
  },
  {
   "cell_type": "code",
   "execution_count": 79,
   "metadata": {},
   "outputs": [
    {
     "data": {
      "text/html": [
       "<div>\n",
       "<style scoped>\n",
       "    .dataframe tbody tr th:only-of-type {\n",
       "        vertical-align: middle;\n",
       "    }\n",
       "\n",
       "    .dataframe tbody tr th {\n",
       "        vertical-align: top;\n",
       "    }\n",
       "\n",
       "    .dataframe thead th {\n",
       "        text-align: right;\n",
       "    }\n",
       "</style>\n",
       "<table border=\"1\" class=\"dataframe\">\n",
       "  <thead>\n",
       "    <tr style=\"text-align: right;\">\n",
       "      <th></th>\n",
       "      <th>campaign_id</th>\n",
       "      <th>campaign_name</th>\n",
       "      <th>campaign_description</th>\n",
       "      <th>discount</th>\n",
       "    </tr>\n",
       "  </thead>\n",
       "  <tbody>\n",
       "    <tr>\n",
       "      <th>0</th>\n",
       "      <td>CAMPAIGN24776</td>\n",
       "      <td>wouldn't you know it</td>\n",
       "      <td>\"Twee retro vinyl single-origin coffee sartori...</td>\n",
       "      <td>1%</td>\n",
       "    </tr>\n",
       "    <tr>\n",
       "      <th>1</th>\n",
       "      <td>CAMPAIGN33679</td>\n",
       "      <td>could be written on the back of a postage stamp</td>\n",
       "      <td>\"Fanny pack gentrify cardigan messenger bag.\" ...</td>\n",
       "      <td>1%</td>\n",
       "    </tr>\n",
       "    <tr>\n",
       "      <th>2</th>\n",
       "      <td>CAMPAIGN49972</td>\n",
       "      <td>me neither</td>\n",
       "      <td>\"DIY pug leggings everyday craft beer cardigan...</td>\n",
       "      <td>10%</td>\n",
       "    </tr>\n",
       "    <tr>\n",
       "      <th>3</th>\n",
       "      <td>CAMPAIGN61872</td>\n",
       "      <td>on the huh</td>\n",
       "      <td>\"Trust fund pinterest chambray.\" - Claude Aufd...</td>\n",
       "      <td>5%</td>\n",
       "    </tr>\n",
       "    <tr>\n",
       "      <th>4</th>\n",
       "      <td>CAMPAIGN03110</td>\n",
       "      <td>stick a fork in it</td>\n",
       "      <td>\"YOLO tumblr Yuccie austin.\" - Jordi Kunde</td>\n",
       "      <td>1%</td>\n",
       "    </tr>\n",
       "  </tbody>\n",
       "</table>\n",
       "</div>"
      ],
      "text/plain": [
       "     campaign_id                                    campaign_name  \\\n",
       "0  CAMPAIGN24776                             wouldn't you know it   \n",
       "1  CAMPAIGN33679  could be written on the back of a postage stamp   \n",
       "2  CAMPAIGN49972                                       me neither   \n",
       "3  CAMPAIGN61872                                       on the huh   \n",
       "4  CAMPAIGN03110                               stick a fork in it   \n",
       "\n",
       "                                campaign_description discount  \n",
       "0  \"Twee retro vinyl single-origin coffee sartori...       1%  \n",
       "1  \"Fanny pack gentrify cardigan messenger bag.\" ...       1%  \n",
       "2  \"DIY pug leggings everyday craft beer cardigan...      10%  \n",
       "3  \"Trust fund pinterest chambray.\" - Claude Aufd...       5%  \n",
       "4         \"YOLO tumblr Yuccie austin.\" - Jordi Kunde       1%  "
      ]
     },
     "execution_count": 79,
     "metadata": {},
     "output_type": "execute_result"
    }
   ],
   "source": [
    "df_campaign['discount'] = df_campaign['discount'] + '%'\n",
    "df_campaign.head()"
   ]
  },
  {
   "cell_type": "markdown",
   "metadata": {},
   "source": [
    "### Export to a parquet file\n"
   ]
  },
  {
   "cell_type": "code",
   "execution_count": 80,
   "metadata": {},
   "outputs": [],
   "source": [
    "df_campaign.to_parquet(\n",
    "    'Marketing Department/campaign_data.parquet', index=False)"
   ]
  },
  {
   "cell_type": "markdown",
   "metadata": {},
   "source": [
    "# Transactional Campaign Data\n"
   ]
  },
  {
   "cell_type": "code",
   "execution_count": 81,
   "metadata": {},
   "outputs": [
    {
     "data": {
      "text/html": [
       "<div>\n",
       "<style scoped>\n",
       "    .dataframe tbody tr th:only-of-type {\n",
       "        vertical-align: middle;\n",
       "    }\n",
       "\n",
       "    .dataframe tbody tr th {\n",
       "        vertical-align: top;\n",
       "    }\n",
       "\n",
       "    .dataframe thead th {\n",
       "        text-align: right;\n",
       "    }\n",
       "</style>\n",
       "<table border=\"1\" class=\"dataframe\">\n",
       "  <thead>\n",
       "    <tr style=\"text-align: right;\">\n",
       "      <th></th>\n",
       "      <th>Unnamed: 0</th>\n",
       "      <th>transaction_date</th>\n",
       "      <th>campaign_id</th>\n",
       "      <th>order_id</th>\n",
       "      <th>estimated arrival</th>\n",
       "      <th>availed</th>\n",
       "    </tr>\n",
       "  </thead>\n",
       "  <tbody>\n",
       "    <tr>\n",
       "      <th>0</th>\n",
       "      <td>2</td>\n",
       "      <td>2023-08-14</td>\n",
       "      <td>CAMPAIGN49972</td>\n",
       "      <td>0612c246-57f1-40e8-9993-0f8d41992049</td>\n",
       "      <td>10days</td>\n",
       "      <td>1</td>\n",
       "    </tr>\n",
       "    <tr>\n",
       "      <th>1</th>\n",
       "      <td>4</td>\n",
       "      <td>2021-10-12</td>\n",
       "      <td>CAMPAIGN46302</td>\n",
       "      <td>b4c411de-2fd3-4806-91ae-165edc9baa12</td>\n",
       "      <td>13days</td>\n",
       "      <td>0</td>\n",
       "    </tr>\n",
       "    <tr>\n",
       "      <th>2</th>\n",
       "      <td>6</td>\n",
       "      <td>2023-01-30</td>\n",
       "      <td>CAMPAIGN29983</td>\n",
       "      <td>26de6b40-db2d-40b9-a64c-58736eaf0381</td>\n",
       "      <td>3days</td>\n",
       "      <td>1</td>\n",
       "    </tr>\n",
       "    <tr>\n",
       "      <th>3</th>\n",
       "      <td>8</td>\n",
       "      <td>2022-01-05</td>\n",
       "      <td>CAMPAIGN46302</td>\n",
       "      <td>26b60a4e-aafe-4b99-bace-034d088a4a53</td>\n",
       "      <td>8days</td>\n",
       "      <td>1</td>\n",
       "    </tr>\n",
       "    <tr>\n",
       "      <th>4</th>\n",
       "      <td>9</td>\n",
       "      <td>2023-09-19</td>\n",
       "      <td>CAMPAIGN46302</td>\n",
       "      <td>4aab29ae-e610-46bf-92af-199f6f420cee</td>\n",
       "      <td>14days</td>\n",
       "      <td>1</td>\n",
       "    </tr>\n",
       "    <tr>\n",
       "      <th>...</th>\n",
       "      <td>...</td>\n",
       "      <td>...</td>\n",
       "      <td>...</td>\n",
       "      <td>...</td>\n",
       "      <td>...</td>\n",
       "      <td>...</td>\n",
       "    </tr>\n",
       "    <tr>\n",
       "      <th>124882</th>\n",
       "      <td>499990</td>\n",
       "      <td>2022-04-14</td>\n",
       "      <td>CAMPAIGN61872</td>\n",
       "      <td>6a5163c2-ba62-461c-a729-5b06fe266bd9</td>\n",
       "      <td>12days</td>\n",
       "      <td>0</td>\n",
       "    </tr>\n",
       "    <tr>\n",
       "      <th>124883</th>\n",
       "      <td>499991</td>\n",
       "      <td>2022-11-23</td>\n",
       "      <td>CAMPAIGN11190</td>\n",
       "      <td>883e2fe2-bbdf-4b5e-8348-c2bcba07da0e</td>\n",
       "      <td>15days</td>\n",
       "      <td>1</td>\n",
       "    </tr>\n",
       "    <tr>\n",
       "      <th>124884</th>\n",
       "      <td>499992</td>\n",
       "      <td>2023-07-28</td>\n",
       "      <td>CAMPAIGN33679</td>\n",
       "      <td>575b0a2d-5539-4565-a10b-1f4f6516cd27</td>\n",
       "      <td>12days</td>\n",
       "      <td>1</td>\n",
       "    </tr>\n",
       "    <tr>\n",
       "      <th>124885</th>\n",
       "      <td>499995</td>\n",
       "      <td>2020-04-12</td>\n",
       "      <td>CAMPAIGN49972</td>\n",
       "      <td>ba506489-1505-481d-b0b1-8cdbf04a515f</td>\n",
       "      <td>6days</td>\n",
       "      <td>1</td>\n",
       "    </tr>\n",
       "    <tr>\n",
       "      <th>124886</th>\n",
       "      <td>499997</td>\n",
       "      <td>2023-03-24</td>\n",
       "      <td>CAMPAIGN52447</td>\n",
       "      <td>2b2e775f-d6cd-4659-9a88-b4950bc326c0</td>\n",
       "      <td>15days</td>\n",
       "      <td>1</td>\n",
       "    </tr>\n",
       "  </tbody>\n",
       "</table>\n",
       "<p>124887 rows × 6 columns</p>\n",
       "</div>"
      ],
      "text/plain": [
       "        Unnamed: 0 transaction_date    campaign_id  \\\n",
       "0                2       2023-08-14  CAMPAIGN49972   \n",
       "1                4       2021-10-12  CAMPAIGN46302   \n",
       "2                6       2023-01-30  CAMPAIGN29983   \n",
       "3                8       2022-01-05  CAMPAIGN46302   \n",
       "4                9       2023-09-19  CAMPAIGN46302   \n",
       "...            ...              ...            ...   \n",
       "124882      499990       2022-04-14  CAMPAIGN61872   \n",
       "124883      499991       2022-11-23  CAMPAIGN11190   \n",
       "124884      499992       2023-07-28  CAMPAIGN33679   \n",
       "124885      499995       2020-04-12  CAMPAIGN49972   \n",
       "124886      499997       2023-03-24  CAMPAIGN52447   \n",
       "\n",
       "                                    order_id estimated arrival  availed  \n",
       "0       0612c246-57f1-40e8-9993-0f8d41992049            10days        1  \n",
       "1       b4c411de-2fd3-4806-91ae-165edc9baa12            13days        0  \n",
       "2       26de6b40-db2d-40b9-a64c-58736eaf0381             3days        1  \n",
       "3       26b60a4e-aafe-4b99-bace-034d088a4a53             8days        1  \n",
       "4       4aab29ae-e610-46bf-92af-199f6f420cee            14days        1  \n",
       "...                                      ...               ...      ...  \n",
       "124882  6a5163c2-ba62-461c-a729-5b06fe266bd9            12days        0  \n",
       "124883  883e2fe2-bbdf-4b5e-8348-c2bcba07da0e            15days        1  \n",
       "124884  575b0a2d-5539-4565-a10b-1f4f6516cd27            12days        1  \n",
       "124885  ba506489-1505-481d-b0b1-8cdbf04a515f             6days        1  \n",
       "124886  2b2e775f-d6cd-4659-9a88-b4950bc326c0            15days        1  \n",
       "\n",
       "[124887 rows x 6 columns]"
      ]
     },
     "execution_count": 81,
     "metadata": {},
     "output_type": "execute_result"
    }
   ],
   "source": [
    "df_transactional_campaign = pd.read_csv(\n",
    "    'Marketing Department/transactional_campaign_data.csv')\n",
    "df_transactional_campaign"
   ]
  },
  {
   "cell_type": "markdown",
   "metadata": {},
   "source": [
    "#### Check for nulls\n"
   ]
  },
  {
   "cell_type": "code",
   "execution_count": 82,
   "metadata": {},
   "outputs": [
    {
     "data": {
      "text/plain": [
       "Unnamed: 0           0\n",
       "transaction_date     0\n",
       "campaign_id          0\n",
       "order_id             0\n",
       "estimated arrival    0\n",
       "availed              0\n",
       "dtype: int64"
      ]
     },
     "execution_count": 82,
     "metadata": {},
     "output_type": "execute_result"
    }
   ],
   "source": [
    "df_transactional_campaign.isnull().sum()"
   ]
  },
  {
   "cell_type": "markdown",
   "metadata": {},
   "source": [
    "#### Check for duplicates\n"
   ]
  },
  {
   "cell_type": "code",
   "execution_count": 83,
   "metadata": {},
   "outputs": [
    {
     "data": {
      "text/html": [
       "<div>\n",
       "<style scoped>\n",
       "    .dataframe tbody tr th:only-of-type {\n",
       "        vertical-align: middle;\n",
       "    }\n",
       "\n",
       "    .dataframe tbody tr th {\n",
       "        vertical-align: top;\n",
       "    }\n",
       "\n",
       "    .dataframe thead th {\n",
       "        text-align: right;\n",
       "    }\n",
       "</style>\n",
       "<table border=\"1\" class=\"dataframe\">\n",
       "  <thead>\n",
       "    <tr style=\"text-align: right;\">\n",
       "      <th></th>\n",
       "      <th>Unnamed: 0</th>\n",
       "      <th>transaction_date</th>\n",
       "      <th>campaign_id</th>\n",
       "      <th>order_id</th>\n",
       "      <th>estimated arrival</th>\n",
       "      <th>availed</th>\n",
       "    </tr>\n",
       "  </thead>\n",
       "  <tbody>\n",
       "  </tbody>\n",
       "</table>\n",
       "</div>"
      ],
      "text/plain": [
       "Empty DataFrame\n",
       "Columns: [Unnamed: 0, transaction_date, campaign_id, order_id, estimated arrival, availed]\n",
       "Index: []"
      ]
     },
     "execution_count": 83,
     "metadata": {},
     "output_type": "execute_result"
    }
   ],
   "source": [
    "df_transactional_campaign[df_transactional_campaign.duplicated()]"
   ]
  },
  {
   "cell_type": "code",
   "execution_count": 84,
   "metadata": {},
   "outputs": [
    {
     "name": "stdout",
     "output_type": "stream",
     "text": [
      "Number of duplicated rows:  124877\n"
     ]
    }
   ],
   "source": [
    "campaign_duplicates = df_transactional_campaign['campaign_id'].duplicated(\n",
    ").sum()\n",
    "print('Number of duplicated rows: ', campaign_duplicates)"
   ]
  },
  {
   "cell_type": "code",
   "execution_count": 85,
   "metadata": {},
   "outputs": [
    {
     "name": "stdout",
     "output_type": "stream",
     "text": [
      "campaign_id\n",
      "CAMPAIGN46302    12732\n",
      "CAMPAIGN49972    12719\n",
      "CAMPAIGN03110    12652\n",
      "CAMPAIGN53595    12626\n",
      "CAMPAIGN11190    12449\n",
      "CAMPAIGN52447    12447\n",
      "CAMPAIGN24776    12433\n",
      "CAMPAIGN29983    12352\n",
      "CAMPAIGN33679    12345\n",
      "CAMPAIGN61872    12132\n",
      "Name: count, dtype: int64\n"
     ]
    }
   ],
   "source": [
    "campaign_id_duplicates = df_transactional_campaign['campaign_id'].value_counts(\n",
    ")\n",
    "print(campaign_id_duplicates)"
   ]
  },
  {
   "cell_type": "code",
   "execution_count": 86,
   "metadata": {},
   "outputs": [
    {
     "name": "stdout",
     "output_type": "stream",
     "text": [
      "Number of duplicated rows:  0\n"
     ]
    }
   ],
   "source": [
    "order_duplicates = df_transactional_campaign['order_id'].duplicated().sum()\n",
    "print('Number of duplicated rows: ', order_duplicates)"
   ]
  },
  {
   "cell_type": "code",
   "execution_count": 87,
   "metadata": {},
   "outputs": [
    {
     "name": "stdout",
     "output_type": "stream",
     "text": [
      "Number of duplicated rows:  124874\n"
     ]
    }
   ],
   "source": [
    "arrival_duplicates = df_transactional_campaign['estimated arrival'].duplicated(\n",
    ").sum()\n",
    "print('Number of duplicated rows: ', arrival_duplicates)"
   ]
  },
  {
   "cell_type": "code",
   "execution_count": 88,
   "metadata": {},
   "outputs": [
    {
     "name": "stdout",
     "output_type": "stream",
     "text": [
      "estimated arrival\n",
      "10days    9894\n",
      "12days    9788\n",
      "14days    9671\n",
      "15days    9650\n",
      "5days     9643\n",
      "7days     9636\n",
      "8days     9620\n",
      "4days     9587\n",
      "3days     9545\n",
      "9days     9500\n",
      "6days     9469\n",
      "13days    9459\n",
      "11days    9425\n",
      "Name: count, dtype: int64\n"
     ]
    }
   ],
   "source": [
    "arrival_value_duplicates = df_transactional_campaign['estimated arrival'].value_counts(\n",
    ")\n",
    "print(arrival_value_duplicates)"
   ]
  },
  {
   "cell_type": "markdown",
   "metadata": {},
   "source": [
    "#### Check unique values of estimated arrival\n"
   ]
  },
  {
   "cell_type": "code",
   "execution_count": 89,
   "metadata": {},
   "outputs": [
    {
     "data": {
      "text/plain": [
       "array(['10days', '13days', '3days', '8days', '14days', '11days', '7days',\n",
       "       '9days', '4days', '5days', '12days', '6days', '15days'],\n",
       "      dtype=object)"
      ]
     },
     "execution_count": 89,
     "metadata": {},
     "output_type": "execute_result"
    }
   ],
   "source": [
    "unique_estimated_arrival = df_transactional_campaign['estimated arrival'].unique(\n",
    ")\n",
    "unique_estimated_arrival"
   ]
  },
  {
   "cell_type": "markdown",
   "metadata": {},
   "source": [
    "### Drop 'Unnamed: 0' column\n"
   ]
  },
  {
   "cell_type": "code",
   "execution_count": 90,
   "metadata": {},
   "outputs": [
    {
     "data": {
      "text/html": [
       "<div>\n",
       "<style scoped>\n",
       "    .dataframe tbody tr th:only-of-type {\n",
       "        vertical-align: middle;\n",
       "    }\n",
       "\n",
       "    .dataframe tbody tr th {\n",
       "        vertical-align: top;\n",
       "    }\n",
       "\n",
       "    .dataframe thead th {\n",
       "        text-align: right;\n",
       "    }\n",
       "</style>\n",
       "<table border=\"1\" class=\"dataframe\">\n",
       "  <thead>\n",
       "    <tr style=\"text-align: right;\">\n",
       "      <th></th>\n",
       "      <th>transaction_date</th>\n",
       "      <th>campaign_id</th>\n",
       "      <th>order_id</th>\n",
       "      <th>estimated arrival</th>\n",
       "      <th>availed</th>\n",
       "    </tr>\n",
       "  </thead>\n",
       "  <tbody>\n",
       "    <tr>\n",
       "      <th>0</th>\n",
       "      <td>2023-08-14</td>\n",
       "      <td>CAMPAIGN49972</td>\n",
       "      <td>0612c246-57f1-40e8-9993-0f8d41992049</td>\n",
       "      <td>10days</td>\n",
       "      <td>1</td>\n",
       "    </tr>\n",
       "    <tr>\n",
       "      <th>1</th>\n",
       "      <td>2021-10-12</td>\n",
       "      <td>CAMPAIGN46302</td>\n",
       "      <td>b4c411de-2fd3-4806-91ae-165edc9baa12</td>\n",
       "      <td>13days</td>\n",
       "      <td>0</td>\n",
       "    </tr>\n",
       "    <tr>\n",
       "      <th>2</th>\n",
       "      <td>2023-01-30</td>\n",
       "      <td>CAMPAIGN29983</td>\n",
       "      <td>26de6b40-db2d-40b9-a64c-58736eaf0381</td>\n",
       "      <td>3days</td>\n",
       "      <td>1</td>\n",
       "    </tr>\n",
       "    <tr>\n",
       "      <th>3</th>\n",
       "      <td>2022-01-05</td>\n",
       "      <td>CAMPAIGN46302</td>\n",
       "      <td>26b60a4e-aafe-4b99-bace-034d088a4a53</td>\n",
       "      <td>8days</td>\n",
       "      <td>1</td>\n",
       "    </tr>\n",
       "    <tr>\n",
       "      <th>4</th>\n",
       "      <td>2023-09-19</td>\n",
       "      <td>CAMPAIGN46302</td>\n",
       "      <td>4aab29ae-e610-46bf-92af-199f6f420cee</td>\n",
       "      <td>14days</td>\n",
       "      <td>1</td>\n",
       "    </tr>\n",
       "  </tbody>\n",
       "</table>\n",
       "</div>"
      ],
      "text/plain": [
       "  transaction_date    campaign_id                              order_id  \\\n",
       "0       2023-08-14  CAMPAIGN49972  0612c246-57f1-40e8-9993-0f8d41992049   \n",
       "1       2021-10-12  CAMPAIGN46302  b4c411de-2fd3-4806-91ae-165edc9baa12   \n",
       "2       2023-01-30  CAMPAIGN29983  26de6b40-db2d-40b9-a64c-58736eaf0381   \n",
       "3       2022-01-05  CAMPAIGN46302  26b60a4e-aafe-4b99-bace-034d088a4a53   \n",
       "4       2023-09-19  CAMPAIGN46302  4aab29ae-e610-46bf-92af-199f6f420cee   \n",
       "\n",
       "  estimated arrival  availed  \n",
       "0            10days        1  \n",
       "1            13days        0  \n",
       "2             3days        1  \n",
       "3             8days        1  \n",
       "4            14days        1  "
      ]
     },
     "execution_count": 90,
     "metadata": {},
     "output_type": "execute_result"
    }
   ],
   "source": [
    "df_transactional_campaign = df_transactional_campaign.drop(\n",
    "    'Unnamed: 0', axis=1)\n",
    "df_transactional_campaign.head()"
   ]
  },
  {
   "cell_type": "markdown",
   "metadata": {},
   "source": [
    "### Remove future dates\n"
   ]
  },
  {
   "cell_type": "code",
   "execution_count": 91,
   "metadata": {},
   "outputs": [
    {
     "name": "stdout",
     "output_type": "stream",
     "text": [
      "       transaction_date    campaign_id                              order_id  \\\n",
      "1088         2023-12-15  CAMPAIGN03110  e2ea2e06-8c22-4f02-b693-141d98569690   \n",
      "13944        2023-12-15  CAMPAIGN53595  d9b02147-3618-4042-b7ed-eba59d73b7fc   \n",
      "15067        2023-12-30  CAMPAIGN53595  5c135515-dfed-4d0c-aaca-3e55b52568e3   \n",
      "29062        2023-12-30  CAMPAIGN11190  0c74f772-6b56-4d93-b34e-221bbb2c5196   \n",
      "30926        2023-12-30  CAMPAIGN03110  ac7a088a-54ce-4c60-b3c7-8609ffcd29bc   \n",
      "40511        2023-12-15  CAMPAIGN11190  32662310-c738-4081-8754-3372191a50b0   \n",
      "43293        2023-12-15  CAMPAIGN24776  e63ece5b-bde7-442f-93ef-14d3d2b43081   \n",
      "44233        2023-12-15  CAMPAIGN29983  13e03f63-4ded-4730-a6fc-0d981f91e5d6   \n",
      "57142        2023-12-15  CAMPAIGN29983  a1f3bf82-15f5-4e07-827d-426ea89fa1e4   \n",
      "62337        2023-12-30  CAMPAIGN29983  feba40be-b208-4112-9d4e-62dabb9ceb87   \n",
      "67276        2023-12-30  CAMPAIGN53595  4466db03-bb85-4bfc-ae74-e78ae738c5c6   \n",
      "68445        2023-12-15  CAMPAIGN53595  f6e0f563-17fe-45ce-811e-c788b6fe9078   \n",
      "70033        2023-12-15  CAMPAIGN11190  e54c9e9f-8f85-421b-908e-85db8b3e1033   \n",
      "71370        2023-12-30  CAMPAIGN33679  745f8c7a-dc73-4b38-88c6-f1cdac942074   \n",
      "72091        2023-12-30  CAMPAIGN61872  e7eb73ad-00fd-40fc-9866-8439cc875373   \n",
      "79236        2023-12-15  CAMPAIGN29983  3c69abe3-07ac-423e-a0e2-55f33de4f006   \n",
      "81793        2023-12-15  CAMPAIGN11190  e7c946de-8249-4f58-a91e-44b062b83e39   \n",
      "90217        2023-12-30  CAMPAIGN49972  b2721b3e-4a50-42c4-83f4-1a835d6fbf22   \n",
      "104748       2023-12-15  CAMPAIGN52447  b168e050-1e9f-477e-96b4-2a16ae09da16   \n",
      "111866       2023-12-15  CAMPAIGN33679  6316359e-f8a9-4912-85e1-ef4d3f8abd70   \n",
      "116434       2023-12-30  CAMPAIGN03110  15eade05-6c2b-41ab-8f8b-9efb8262a535   \n",
      "119263       2023-12-15  CAMPAIGN03110  c632fa1b-7bb0-435e-9174-59f58e0df113   \n",
      "122751       2023-12-30  CAMPAIGN11190  1e43b590-c238-4ff4-9300-84c1cd7f6408   \n",
      "\n",
      "       estimated arrival  availed  \n",
      "1088               9days        0  \n",
      "13944              5days        1  \n",
      "15067             15days        1  \n",
      "29062              9days        1  \n",
      "30926             10days        1  \n",
      "40511              9days        1  \n",
      "43293              3days        0  \n",
      "44233             12days        1  \n",
      "57142             14days        1  \n",
      "62337              9days        0  \n",
      "67276              4days        0  \n",
      "68445              8days        1  \n",
      "70033              7days        0  \n",
      "71370              9days        1  \n",
      "72091              3days        1  \n",
      "79236              4days        1  \n",
      "81793              6days        1  \n",
      "90217             14days        1  \n",
      "104748            14days        1  \n",
      "111866             6days        0  \n",
      "116434            12days        1  \n",
      "119263             8days        1  \n",
      "122751            15days        0  \n"
     ]
    }
   ],
   "source": [
    "df_transactional_campaign['transaction_date'] = pd.to_datetime(\n",
    "    df_transactional_campaign['transaction_date'])\n",
    "\n",
    "now = datetime.now()\n",
    "future_dates = df_transactional_campaign[df_transactional_campaign['transaction_date'] > now]\n",
    "\n",
    "print(future_dates)"
   ]
  },
  {
   "cell_type": "code",
   "execution_count": 92,
   "metadata": {},
   "outputs": [
    {
     "name": "stdout",
     "output_type": "stream",
     "text": [
      "Empty DataFrame\n",
      "Columns: [transaction_date, campaign_id, order_id, estimated arrival, availed]\n",
      "Index: []\n"
     ]
    }
   ],
   "source": [
    "df_transactional_campaign = df_transactional_campaign[\n",
    "    df_transactional_campaign['transaction_date'] <= now]\n",
    "\n",
    "future_dates = df_transactional_campaign[df_transactional_campaign['transaction_date'] > now]\n",
    "\n",
    "print(future_dates)"
   ]
  },
  {
   "cell_type": "code",
   "execution_count": 93,
   "metadata": {},
   "outputs": [
    {
     "data": {
      "text/html": [
       "<div>\n",
       "<style scoped>\n",
       "    .dataframe tbody tr th:only-of-type {\n",
       "        vertical-align: middle;\n",
       "    }\n",
       "\n",
       "    .dataframe tbody tr th {\n",
       "        vertical-align: top;\n",
       "    }\n",
       "\n",
       "    .dataframe thead th {\n",
       "        text-align: right;\n",
       "    }\n",
       "</style>\n",
       "<table border=\"1\" class=\"dataframe\">\n",
       "  <thead>\n",
       "    <tr style=\"text-align: right;\">\n",
       "      <th></th>\n",
       "      <th>transaction_date</th>\n",
       "      <th>campaign_id</th>\n",
       "      <th>order_id</th>\n",
       "      <th>estimated arrival</th>\n",
       "      <th>availed</th>\n",
       "    </tr>\n",
       "  </thead>\n",
       "  <tbody>\n",
       "    <tr>\n",
       "      <th>0</th>\n",
       "      <td>2023-08-14</td>\n",
       "      <td>CAMPAIGN49972</td>\n",
       "      <td>0612c246-57f1-40e8-9993-0f8d41992049</td>\n",
       "      <td>10days</td>\n",
       "      <td>1</td>\n",
       "    </tr>\n",
       "    <tr>\n",
       "      <th>1</th>\n",
       "      <td>2021-10-12</td>\n",
       "      <td>CAMPAIGN46302</td>\n",
       "      <td>b4c411de-2fd3-4806-91ae-165edc9baa12</td>\n",
       "      <td>13days</td>\n",
       "      <td>0</td>\n",
       "    </tr>\n",
       "    <tr>\n",
       "      <th>2</th>\n",
       "      <td>2023-01-30</td>\n",
       "      <td>CAMPAIGN29983</td>\n",
       "      <td>26de6b40-db2d-40b9-a64c-58736eaf0381</td>\n",
       "      <td>3days</td>\n",
       "      <td>1</td>\n",
       "    </tr>\n",
       "    <tr>\n",
       "      <th>3</th>\n",
       "      <td>2022-01-05</td>\n",
       "      <td>CAMPAIGN46302</td>\n",
       "      <td>26b60a4e-aafe-4b99-bace-034d088a4a53</td>\n",
       "      <td>8days</td>\n",
       "      <td>1</td>\n",
       "    </tr>\n",
       "    <tr>\n",
       "      <th>4</th>\n",
       "      <td>2023-09-19</td>\n",
       "      <td>CAMPAIGN46302</td>\n",
       "      <td>4aab29ae-e610-46bf-92af-199f6f420cee</td>\n",
       "      <td>14days</td>\n",
       "      <td>1</td>\n",
       "    </tr>\n",
       "  </tbody>\n",
       "</table>\n",
       "</div>"
      ],
      "text/plain": [
       "  transaction_date    campaign_id                              order_id  \\\n",
       "0       2023-08-14  CAMPAIGN49972  0612c246-57f1-40e8-9993-0f8d41992049   \n",
       "1       2021-10-12  CAMPAIGN46302  b4c411de-2fd3-4806-91ae-165edc9baa12   \n",
       "2       2023-01-30  CAMPAIGN29983  26de6b40-db2d-40b9-a64c-58736eaf0381   \n",
       "3       2022-01-05  CAMPAIGN46302  26b60a4e-aafe-4b99-bace-034d088a4a53   \n",
       "4       2023-09-19  CAMPAIGN46302  4aab29ae-e610-46bf-92af-199f6f420cee   \n",
       "\n",
       "  estimated arrival  availed  \n",
       "0            10days        1  \n",
       "1            13days        0  \n",
       "2             3days        1  \n",
       "3             8days        1  \n",
       "4            14days        1  "
      ]
     },
     "execution_count": 93,
     "metadata": {},
     "output_type": "execute_result"
    }
   ],
   "source": [
    "df_transactional_campaign.head()"
   ]
  },
  {
   "cell_type": "markdown",
   "metadata": {},
   "source": [
    "### Fix the format of the estimated arrival column\n"
   ]
  },
  {
   "cell_type": "code",
   "execution_count": 94,
   "metadata": {},
   "outputs": [
    {
     "data": {
      "text/html": [
       "<div>\n",
       "<style scoped>\n",
       "    .dataframe tbody tr th:only-of-type {\n",
       "        vertical-align: middle;\n",
       "    }\n",
       "\n",
       "    .dataframe tbody tr th {\n",
       "        vertical-align: top;\n",
       "    }\n",
       "\n",
       "    .dataframe thead th {\n",
       "        text-align: right;\n",
       "    }\n",
       "</style>\n",
       "<table border=\"1\" class=\"dataframe\">\n",
       "  <thead>\n",
       "    <tr style=\"text-align: right;\">\n",
       "      <th></th>\n",
       "      <th>transaction_date</th>\n",
       "      <th>campaign_id</th>\n",
       "      <th>order_id</th>\n",
       "      <th>estimated arrival</th>\n",
       "      <th>availed</th>\n",
       "    </tr>\n",
       "  </thead>\n",
       "  <tbody>\n",
       "    <tr>\n",
       "      <th>0</th>\n",
       "      <td>2023-08-14</td>\n",
       "      <td>CAMPAIGN49972</td>\n",
       "      <td>0612c246-57f1-40e8-9993-0f8d41992049</td>\n",
       "      <td>10 days</td>\n",
       "      <td>1</td>\n",
       "    </tr>\n",
       "    <tr>\n",
       "      <th>1</th>\n",
       "      <td>2021-10-12</td>\n",
       "      <td>CAMPAIGN46302</td>\n",
       "      <td>b4c411de-2fd3-4806-91ae-165edc9baa12</td>\n",
       "      <td>13 days</td>\n",
       "      <td>0</td>\n",
       "    </tr>\n",
       "    <tr>\n",
       "      <th>2</th>\n",
       "      <td>2023-01-30</td>\n",
       "      <td>CAMPAIGN29983</td>\n",
       "      <td>26de6b40-db2d-40b9-a64c-58736eaf0381</td>\n",
       "      <td>3 days</td>\n",
       "      <td>1</td>\n",
       "    </tr>\n",
       "    <tr>\n",
       "      <th>3</th>\n",
       "      <td>2022-01-05</td>\n",
       "      <td>CAMPAIGN46302</td>\n",
       "      <td>26b60a4e-aafe-4b99-bace-034d088a4a53</td>\n",
       "      <td>8 days</td>\n",
       "      <td>1</td>\n",
       "    </tr>\n",
       "    <tr>\n",
       "      <th>4</th>\n",
       "      <td>2023-09-19</td>\n",
       "      <td>CAMPAIGN46302</td>\n",
       "      <td>4aab29ae-e610-46bf-92af-199f6f420cee</td>\n",
       "      <td>14 days</td>\n",
       "      <td>1</td>\n",
       "    </tr>\n",
       "  </tbody>\n",
       "</table>\n",
       "</div>"
      ],
      "text/plain": [
       "  transaction_date    campaign_id                              order_id  \\\n",
       "0       2023-08-14  CAMPAIGN49972  0612c246-57f1-40e8-9993-0f8d41992049   \n",
       "1       2021-10-12  CAMPAIGN46302  b4c411de-2fd3-4806-91ae-165edc9baa12   \n",
       "2       2023-01-30  CAMPAIGN29983  26de6b40-db2d-40b9-a64c-58736eaf0381   \n",
       "3       2022-01-05  CAMPAIGN46302  26b60a4e-aafe-4b99-bace-034d088a4a53   \n",
       "4       2023-09-19  CAMPAIGN46302  4aab29ae-e610-46bf-92af-199f6f420cee   \n",
       "\n",
       "  estimated arrival  availed  \n",
       "0           10 days        1  \n",
       "1           13 days        0  \n",
       "2            3 days        1  \n",
       "3            8 days        1  \n",
       "4           14 days        1  "
      ]
     },
     "execution_count": 94,
     "metadata": {},
     "output_type": "execute_result"
    }
   ],
   "source": [
    "df_transactional_campaign['estimated arrival'] = df_transactional_campaign['estimated arrival'].astype(\n",
    "    str).str.replace('days', ' days')\n",
    "\n",
    "df_transactional_campaign.head()"
   ]
  },
  {
   "cell_type": "markdown",
   "metadata": {},
   "source": [
    "### Export to a parquet file\n"
   ]
  },
  {
   "cell_type": "code",
   "execution_count": 95,
   "metadata": {},
   "outputs": [],
   "source": [
    "df_transactional_campaign.to_parquet(\n",
    "    'Marketing Department/transactional_campaign_data.parquet', index=False)"
   ]
  },
  {
   "cell_type": "code",
   "execution_count": null,
   "metadata": {},
   "outputs": [],
   "source": []
  }
 ],
 "metadata": {
  "kernelspec": {
   "display_name": "Python 3",
   "language": "python",
   "name": "python3"
  },
  "language_info": {
   "codemirror_mode": {
    "name": "ipython",
    "version": 3
   },
   "file_extension": ".py",
   "mimetype": "text/x-python",
   "name": "python",
   "nbconvert_exporter": "python",
   "pygments_lexer": "ipython3",
   "version": "3.11.4"
  }
 },
 "nbformat": 4,
 "nbformat_minor": 2
}
