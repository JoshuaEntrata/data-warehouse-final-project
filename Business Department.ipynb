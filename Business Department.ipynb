{
 "cells": [
  {
   "cell_type": "code",
   "execution_count": 1,
   "id": "d6cac671-13c4-47c4-95d7-a9a984780532",
   "metadata": {},
   "outputs": [],
   "source": [
    "import pandas as pd\n",
    "import numpy as np\n",
    "import openpyxl"
   ]
  },
  {
   "cell_type": "markdown",
   "id": "c4f8ad05-97e3-4fbb-b053-41d44bf3f16e",
   "metadata": {},
   "source": [
    "## Business Department Data Profile"
   ]
  },
  {
   "cell_type": "code",
   "execution_count": 9,
   "id": "5ce7dbe0-cd50-4eda-98e7-ab0f0b52464b",
   "metadata": {},
   "outputs": [
    {
     "name": "stdout",
     "output_type": "stream",
     "text": [
      "     Unnamed: 0    product_id                    product_name  \\\n",
      "0             0  PRODUCT16794  Grandmas swedish thin pancakes   \n",
      "1             1  PRODUCT61957          Chili jack oven omelet   \n",
      "2             2  PRODUCT23890                     Baked pears   \n",
      "3             3  PRODUCT52912        Best buttermilk pancakes   \n",
      "4             4  PRODUCT56387       Blackberry breakfast bars   \n",
      "..          ...           ...                             ...   \n",
      "745         445  PRODUCT35203                          tomato   \n",
      "746         446  PRODUCT34682                            bowl   \n",
      "747         447  PRODUCT07137                    dehumidifier   \n",
      "748         448  PRODUCT29484                            rice   \n",
      "749         449  PRODUCT22046                  dove deodorant   \n",
      "\n",
      "                   product_type  price  \n",
      "0           readymade_breakfast  12.81  \n",
      "1           readymade_breakfast   9.95  \n",
      "2           readymade_breakfast  10.04  \n",
      "3           readymade_breakfast   5.83  \n",
      "4           readymade_breakfast  14.00  \n",
      "..                          ...    ...  \n",
      "745                     grocery  17.28  \n",
      "746                 kitchenware  17.28  \n",
      "747  electronics and technology  38.07  \n",
      "748                     grocery  17.28  \n",
      "749          health and hygiene   6.11  \n",
      "\n",
      "[750 rows x 5 columns]\n",
      "Index(['Unnamed: 0', 'product_id', 'product_name', 'product_type', 'price'], dtype='object')\n"
     ]
    }
   ],
   "source": [
    "df_products_lists = pd.read_excel('Business Department/product_list.xlsx', engine = 'openpyxl')\n",
    "print(df_products_lists)\n",
    "print(df_products_lists.columns.ravel())"
   ]
  },
  {
   "cell_type": "code",
   "execution_count": 8,
   "id": "a85284a3-7df1-4f62-8d2b-8e8ebed81160",
   "metadata": {},
   "outputs": [
    {
     "data": {
      "text/html": [
       "<div>\n",
       "<style scoped>\n",
       "    .dataframe tbody tr th:only-of-type {\n",
       "        vertical-align: middle;\n",
       "    }\n",
       "\n",
       "    .dataframe tbody tr th {\n",
       "        vertical-align: top;\n",
       "    }\n",
       "\n",
       "    .dataframe thead th {\n",
       "        text-align: right;\n",
       "    }\n",
       "</style>\n",
       "<table border=\"1\" class=\"dataframe\">\n",
       "  <thead>\n",
       "    <tr style=\"text-align: right;\">\n",
       "      <th></th>\n",
       "      <th>Unnamed: 0</th>\n",
       "      <th>product_name</th>\n",
       "      <th>product_type</th>\n",
       "      <th>price</th>\n",
       "    </tr>\n",
       "    <tr>\n",
       "      <th>product_id</th>\n",
       "      <th></th>\n",
       "      <th></th>\n",
       "      <th></th>\n",
       "      <th></th>\n",
       "    </tr>\n",
       "  </thead>\n",
       "  <tbody>\n",
       "    <tr>\n",
       "      <th>PRODUCT16794</th>\n",
       "      <td>0</td>\n",
       "      <td>Grandmas swedish thin pancakes</td>\n",
       "      <td>readymade_breakfast</td>\n",
       "      <td>12.81</td>\n",
       "    </tr>\n",
       "    <tr>\n",
       "      <th>PRODUCT61957</th>\n",
       "      <td>1</td>\n",
       "      <td>Chili jack oven omelet</td>\n",
       "      <td>readymade_breakfast</td>\n",
       "      <td>9.95</td>\n",
       "    </tr>\n",
       "    <tr>\n",
       "      <th>PRODUCT23890</th>\n",
       "      <td>2</td>\n",
       "      <td>Baked pears</td>\n",
       "      <td>readymade_breakfast</td>\n",
       "      <td>10.04</td>\n",
       "    </tr>\n",
       "    <tr>\n",
       "      <th>PRODUCT52912</th>\n",
       "      <td>3</td>\n",
       "      <td>Best buttermilk pancakes</td>\n",
       "      <td>readymade_breakfast</td>\n",
       "      <td>5.83</td>\n",
       "    </tr>\n",
       "    <tr>\n",
       "      <th>PRODUCT56387</th>\n",
       "      <td>4</td>\n",
       "      <td>Blackberry breakfast bars</td>\n",
       "      <td>readymade_breakfast</td>\n",
       "      <td>14.00</td>\n",
       "    </tr>\n",
       "  </tbody>\n",
       "</table>\n",
       "</div>"
      ],
      "text/plain": [
       "              Unnamed: 0                    product_name         product_type  \\\n",
       "product_id                                                                      \n",
       "PRODUCT16794           0  Grandmas swedish thin pancakes  readymade_breakfast   \n",
       "PRODUCT61957           1          Chili jack oven omelet  readymade_breakfast   \n",
       "PRODUCT23890           2                     Baked pears  readymade_breakfast   \n",
       "PRODUCT52912           3        Best buttermilk pancakes  readymade_breakfast   \n",
       "PRODUCT56387           4       Blackberry breakfast bars  readymade_breakfast   \n",
       "\n",
       "              price  \n",
       "product_id           \n",
       "PRODUCT16794  12.81  \n",
       "PRODUCT61957   9.95  \n",
       "PRODUCT23890  10.04  \n",
       "PRODUCT52912   5.83  \n",
       "PRODUCT56387  14.00  "
      ]
     },
     "execution_count": 8,
     "metadata": {},
     "output_type": "execute_result"
    }
   ],
   "source": [
    "products = df_products_lists.set_index('product_id')\n",
    "products.head()"
   ]
  },
  {
   "cell_type": "markdown",
   "id": "26915652-df4e-48ee-913e-955162db4fe3",
   "metadata": {},
   "source": [
    "## Checking for Nullity"
   ]
  },
  {
   "cell_type": "code",
   "execution_count": 10,
   "id": "4d30e8b8-22f5-4a72-be69-6513f0784cbd",
   "metadata": {},
   "outputs": [
    {
     "data": {
      "text/plain": [
       "Unnamed: 0      0\n",
       "product_id      0\n",
       "product_name    0\n",
       "product_type    1\n",
       "price           0\n",
       "dtype: int64"
      ]
     },
     "execution_count": 10,
     "metadata": {},
     "output_type": "execute_result"
    }
   ],
   "source": [
    "df_products_lists.isnull().sum()"
   ]
  },
  {
   "cell_type": "code",
   "execution_count": null,
   "id": "01a989aa-5d80-47e5-8a57-ba2d43f0f9a3",
   "metadata": {},
   "outputs": [],
   "source": []
  }
 ],
 "metadata": {
  "kernelspec": {
   "display_name": "Python 3 (ipykernel)",
   "language": "python",
   "name": "python3"
  },
  "language_info": {
   "codemirror_mode": {
    "name": "ipython",
    "version": 3
   },
   "file_extension": ".py",
   "mimetype": "text/x-python",
   "name": "python",
   "nbconvert_exporter": "python",
   "pygments_lexer": "ipython3",
   "version": "3.12.0"
  }
 },
 "nbformat": 4,
 "nbformat_minor": 5
}
