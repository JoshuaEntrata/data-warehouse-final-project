{
 "cells": [
  {
   "cell_type": "code",
   "execution_count": null,
   "id": "ac1c7d61-edb2-428b-b044-35709917ef92",
   "metadata": {
    "vscode": {
     "languageId": "python"
    }
   },
   "outputs": [],
   "source": [
    "import pandas as pd\n",
    "import numpy as np\n",
    "import openpyxl\n",
    "import html5lib\n",
    "import lxml\n",
    "from bs4 import BeautifulSoup"
   ]
  },
  {
   "cell_type": "markdown",
   "id": "dd26082e-10d8-4276-b8b7-11f90e098955",
   "metadata": {},
   "source": [
    "## Line Item Data Price 1"
   ]
  },
  {
   "cell_type": "code",
   "execution_count": null,
   "id": "a387b146-af5c-4e20-b24d-0e6fd5963b34",
   "metadata": {
    "vscode": {
     "languageId": "python"
    }
   },
   "outputs": [],
   "source": [
    "df_line_item_prices1 = pd.read_csv('Operations Department/line_item_data_prices1.csv')\n",
    "print(df_line_item_prices1)\n",
    "print(df_line_item_prices1.columns.ravel())\n",
    "df_line_item_prices1.isnull().sum()"
   ]
  },
  {
   "cell_type": "markdown",
   "id": "a4903e25-acc6-4621-8ac0-4060a2c4b3a5",
   "metadata": {},
   "source": [
    "## Line Item Data Price 2"
   ]
  },
  {
   "cell_type": "code",
   "execution_count": null,
   "id": "7692cc42-edf0-4d0e-9ac1-621d975bf8b7",
   "metadata": {
    "vscode": {
     "languageId": "python"
    }
   },
   "outputs": [],
   "source": [
    "df_line_item_prices2 = pd.read_csv('Operations Department/line_item_data_prices2.csv')\n",
    "print(df_line_item_prices2)\n",
    "print(df_line_item_prices2.columns.ravel())\n",
    "df_line_item_prices2.isnull().sum()"
   ]
  },
  {
   "cell_type": "markdown",
   "id": "394860d1-c976-4d49-807f-5916ec335629",
   "metadata": {},
   "source": [
    "## Line Item Data Price 3"
   ]
  },
  {
   "cell_type": "code",
   "execution_count": null,
   "id": "d3d299b3-35e4-4552-9578-ba05fc009bf2",
   "metadata": {
    "vscode": {
     "languageId": "python"
    }
   },
   "outputs": [],
   "source": [
    "df_line_item_prices3 = pd.read_parquet('Operations Department/line_item_data_prices3.parquet')\n",
    "print(df_line_item_prices3)\n",
    "print(df_line_item_prices3.columns.ravel())\n",
    "df_line_item_prices3.isnull().sum()"
   ]
  },
  {
   "cell_type": "code",
   "execution_count": null,
   "id": "2d761494-d700-4c08-a1f1-14bd36c11cd6",
   "metadata": {},
   "outputs": [],
   "source": [
    "df_line_item_prices1.to_parquet(\"Operations Department/parquets/df_line_item_prices1.parquet\")\n",
    "df_line_item_prices2.to_parquet(\"Operations Department/parquets/df_line_item_prices2.parquet\")\n",
    "df_line_item_prices3.to_parquet(\"Operations Department/parquets/df_line_item_prices3.parquet\")\n",
    "print(\"Export complete\")"
   ]
  },
  {
   "cell_type": "code",
   "execution_count": null,
   "id": "66c9f645-a749-4fb5-b9bc-d0fb37352165",
   "metadata": {},
   "outputs": [],
   "source": [
    "p_item_prices1 = pd.read_parquet(\"Operations Department/parquets/df_line_item_prices1.parquet\")\n",
    "p_item_prices2 = pd.read_parquet(\"Operations Department/parquets/df_line_item_prices2.parquet\")\n",
    "p_item_prices3 = pd.read_parquet(\"Operations Department/parquets/df_line_item_prices3.parquet\")\n",
    "\n",
    "framesIP = [p_item_prices1, p_item_prices2, p_item_prices3]\n",
    "all_item_prices = pd.concat(framesIP)"
   ]
  },
  {
   "cell_type": "code",
   "execution_count": null,
   "id": "89e2d454-0979-4f54-940e-6bc24834b31d",
   "metadata": {},
   "outputs": [],
   "source": [
    "all_item_prices[all_item_prices['order_id'] == \"060d9363-3ce4-4acf-9195-5c9e6d835fc5\"].head()\n"
   ]
  },
  {
   "cell_type": "markdown",
   "id": "2a97ac36-525a-4e96-9005-b66b672f74be",
   "metadata": {},
   "source": [
    "## Line Item Data Products 1"
   ]
  },
  {
   "cell_type": "code",
   "execution_count": null,
   "id": "1fff0993-0321-4d8d-b319-ab11f0913e51",
   "metadata": {
    "vscode": {
     "languageId": "python"
    }
   },
   "outputs": [],
   "source": [
    "df_line_item_products1 = pd.read_csv('Operations Department/line_item_data_products1.csv')\n",
    "print(df_line_item_products1)\n",
    "print(df_line_item_products1.columns.ravel())\n",
    "df_line_item_products1.isnull().sum()"
   ]
  },
  {
   "cell_type": "markdown",
   "id": "50282b97-c9d9-4917-b0c1-3b52ac394e92",
   "metadata": {},
   "source": [
    "## Line Item Data Products 2"
   ]
  },
  {
   "cell_type": "code",
   "execution_count": null,
   "id": "1c83f33f-385d-458c-a37c-cb85647f6ec7",
   "metadata": {
    "vscode": {
     "languageId": "python"
    }
   },
   "outputs": [],
   "source": [
    "df_line_item_products2 = pd.read_csv('Operations Department/line_item_data_products2.csv')\n",
    "print(df_line_item_products2)\n",
    "print(df_line_item_products2.columns.ravel())\n",
    "df_line_item_products2.isnull().sum()"
   ]
  },
  {
   "cell_type": "markdown",
   "id": "e0ccaea9-0c4f-4f27-b2d3-78f013c3503a",
   "metadata": {},
   "source": [
    "## Line Item Data Products 3"
   ]
  },
  {
   "cell_type": "code",
   "execution_count": null,
   "id": "7f59e2ce-64b8-42ac-920f-4b04c9db0900",
   "metadata": {},
   "outputs": [],
   "source": []
  },
  {
   "cell_type": "code",
   "execution_count": null,
   "id": "ae60198c-36d0-48b7-9b11-21851d7a471f",
   "metadata": {
    "vscode": {
     "languageId": "python"
    }
   },
   "outputs": [],
   "source": [
    "df_line_item_products3 = pd.read_parquet('Operations Department/line_item_data_products3.parquet')\n",
    "print(df_line_item_products3)\n",
    "print(df_line_item_products3.columns.ravel())\n",
    "df_line_item_products3.isnull().sum()"
   ]
  },
  {
   "cell_type": "code",
   "execution_count": null,
   "id": "23a38638-f0e1-44b7-85ee-07b6ab59328c",
   "metadata": {},
   "outputs": [],
   "source": [
    "df_line_item_products1.to_parquet(\"Operations Department/parquets/df_line_item_products1.parquet\")\n",
    "df_line_item_products2.to_parquet(\"Operations Department/parquets/df_line_item_products2.parquet\")\n",
    "df_line_item_products3.to_parquet(\"Operations Department/parquets/df_line_item_products3.parquet\")\n"
   ]
  },
  {
   "cell_type": "markdown",
   "id": "71c131fe-1787-4d0e-9170-3599db2b0ed8",
   "metadata": {},
   "source": [
    "## Order Data - January 01, 2020 - July 01, 2020"
   ]
  },
  {
   "cell_type": "code",
   "execution_count": null,
   "id": "266410a8-4f22-4160-b9fd-c20bdecca22b",
   "metadata": {
    "vscode": {
     "languageId": "python"
    }
   },
   "outputs": [],
   "source": [
    "df_order_data1 = pd.read_parquet('Operations Department/order_data_20200101-20200701.parquet')\n",
    "print(df_order_data1)\n",
    "print(df_order_data1.columns.ravel())\n",
    "df_order_data1.isnull().sum()\n"
   ]
  },
  {
   "cell_type": "markdown",
   "id": "3638f075-b1cd-4871-a3c5-a0fb092b5efa",
   "metadata": {},
   "source": [
    "## Order Data - July 01, 2020 - October 01, 2021"
   ]
  },
  {
   "cell_type": "code",
   "execution_count": null,
   "id": "8354b24b-0e3b-482c-a34d-95164903b1da",
   "metadata": {
    "vscode": {
     "languageId": "python"
    }
   },
   "outputs": [],
   "source": [
    "df_order_data2 = pd.read_pickle('Operations Department/order_data_20200701-20211001.pickle')\n",
    "print(df_order_data2)\n",
    "print(df_order_data2.columns.ravel())\n",
    "df_order_data2.isnull().sum()"
   ]
  },
  {
   "cell_type": "markdown",
   "id": "58c445f0-986f-4ef1-bb7c-fbb356c65044",
   "metadata": {},
   "source": [
    "## Order Data - October 01, 2021 - January 01, 2022"
   ]
  },
  {
   "cell_type": "code",
   "execution_count": null,
   "id": "73320bee-29df-478f-b322-9482012022c9",
   "metadata": {
    "vscode": {
     "languageId": "python"
    }
   },
   "outputs": [],
   "source": [
    "df_order_data3 = pd.read_csv('Operations Department/order_data_20211001-20220101.csv')\n",
    "print(df_order_data3)\n",
    "print(df_order_data3.columns.ravel())\n",
    "df_order_data3.isnull().sum()"
   ]
  },
  {
   "cell_type": "markdown",
   "id": "95aadfa3-608d-4916-b4a9-21fe47e62bc8",
   "metadata": {},
   "source": [
    "## Order Data - January 01, 2022 - December 01, 2022"
   ]
  },
  {
   "cell_type": "code",
   "execution_count": null,
   "id": "6e5e8507-241a-4421-be49-6a7aeb145ed9",
   "metadata": {
    "vscode": {
     "languageId": "python"
    }
   },
   "outputs": [],
   "source": [
    "df_order_data4 = pd.read_excel('Operations Department/order_data_20220101-20221201.xlsx', engine = 'openpyxl')\n",
    "print(df_order_data4)\n",
    "print(df_order_data4.columns.ravel())\n",
    "df_order_data4.isnull().sum()\n",
    "df_order_data4 = pd.DataFrame(df_order_data4)"
   ]
  },
  {
   "cell_type": "markdown",
   "id": "51289a27-1e2b-4d55-86ee-2469a68d654e",
   "metadata": {},
   "source": [
    "## Order Data - December 01, 2022 - June 01, 2023"
   ]
  },
  {
   "cell_type": "code",
   "execution_count": null,
   "id": "2124a611-ecc1-439a-a102-68ded0311bdf",
   "metadata": {
    "vscode": {
     "languageId": "python"
    }
   },
   "outputs": [],
   "source": [
    "df_order_data5 = pd.read_json('Operations Department/order_data_20221201-20230601.json')\n",
    "print(df_order_data5)\n",
    "print(df_order_data5.columns.ravel())\n",
    "df_order_data5.isnull().sum()"
   ]
  },
  {
   "cell_type": "markdown",
   "id": "4b121ac5-a8d2-4404-92e6-0d19a40041b1",
   "metadata": {},
   "source": [
    "## Order Data - June 01, 2023 - January 01, 2024"
   ]
  },
  {
   "cell_type": "code",
   "execution_count": null,
   "id": "93ff6804-6c31-42f7-aba5-93deafc6a1b3",
   "metadata": {
    "vscode": {
     "languageId": "python"
    }
   },
   "outputs": [],
   "source": [
    "df_order_data6 = pd.read_html('Operations Department/order_data_20230601-20240101.html')\n",
    "df_order_data6 = pd.DataFrame(df_order_data6[0])\n",
    "print(df_order_data6)\n"
   ]
  },
  {
   "cell_type": "markdown",
   "id": "d8dfe63c-d554-4682-aa0e-c9c7d63441eb",
   "metadata": {},
   "source": [
    "## Order Delay"
   ]
  },
  {
   "cell_type": "code",
   "execution_count": 139,
   "id": "9b5a3efd",
   "metadata": {
    "vscode": {
     "languageId": "python"
    }
   },
   "outputs": [],
   "source": [
    "df_order_delays = pd.read_html('Operations Department/order_delays.html')\n",
    "df_order_delays[0]\n",
    "df_order_delays = pd.DataFrame(df_order_delays[0])\n",
    "df_order_delays.head()"
   ]
  },
  {
   "cell_type": "markdown",
   "id": "db9d052e",
   "metadata": {},
   "source": [
    "## Merge all order_data"
   ]
  },
  {
   "cell_type": "markdown",
   "id": "ed047bf9",
   "metadata": {},
   "source": [
    "#### Convert all order data to parquets"
   ]
  },
  {
   "cell_type": "code",
   "execution_count": null,
   "id": "f8995ff7",
   "metadata": {
    "vscode": {
     "languageId": "python"
    }
   },
   "outputs": [],
   "source": [
    "df_order_data1.to_parquet(\"Operations Department/parquets/df_order_1.parquet\")\n",
    "df_order_data2.to_parquet(\"Operations Department/parquets/df_order_2.parquet\")\n",
    "df_order_data3.to_parquet(\"Operations Department/parquets/df_order_3.parquet\")\n",
    "df_order_data4.to_parquet(\"Operations Department/parquets/df_order_4.parquet\")\n",
    "df_order_data5.to_parquet(\"Operations Department/parquets/df_order_5.parquet\")\n",
    "df_order_data6.to_parquet(\"Operations Department/parquets/df_order_6.parquet\")"
   ]
  },
  {
   "cell_type": "markdown",
   "id": "fbd73b44",
   "metadata": {},
   "source": [
    "#### Merge all parquets"
   ]
  },
  {
   "cell_type": "code",
   "execution_count": null,
   "id": "43fb4774",
   "metadata": {
    "vscode": {
     "languageId": "python"
    }
   },
   "outputs": [],
   "source": [
    "p_order_1 = pd.read_parquet(\"Operations Department/parquets/df_order_1.parquet\")\n",
    "p_order_2 = pd.read_parquet(\"Operations Department/parquets/df_order_2.parquet\")\n",
    "p_order_3 = pd.read_parquet(\"Operations Department/parquets/df_order_3.parquet\")\n",
    "p_order_4 = pd.read_parquet(\"Operations Department/parquets/df_order_4.parquet\")\n",
    "p_order_5 = pd.read_parquet(\"Operations Department/parquets/df_order_5.parquet\")\n",
    "p_order_6 = pd.read_parquet(\"Operations Department/parquets/df_order_6.parquet\")\n",
    "\n",
    "frames = [p_order_1, p_order_2, p_order_3, p_order_4, p_order_5, p_order_6]\n",
    "all_Order_data = pd.concat(frames)"
   ]
  },
  {
   "cell_type": "code",
   "execution_count": null,
   "id": "8fb95794",
   "metadata": {
    "vscode": {
     "languageId": "python"
    }
   },
   "outputs": [],
   "source": [
    "print(all_Order_data)"
   ]
  },
  {
   "cell_type": "markdown",
   "id": "096d7074",
   "metadata": {},
   "source": [
    "## Merge all order data and delayed through order_id"
   ]
  },
  {
   "cell_type": "code",
   "execution_count": null,
   "id": "3d8d30fb",
   "metadata": {
    "vscode": {
     "languageId": "python"
    }
   },
   "outputs": [],
   "source": [
    "merged_data = pd.merge(all_Order_data, df_order_delays, on=\"order_id\")\n",
    "merged_data[merged_data['delay in days'] <= 0].head()"
   ]
  },
  {
   "cell_type": "code",
   "execution_count": null,
   "id": "be9753f3-522b-4264-af63-b1377c3037d0",
   "metadata": {},
   "outputs": [],
   "source": [
    "## COMBINE ALLL DATA"
   ]
  },
  {
   "cell_type": "code",
   "execution_count": null,
   "id": "11799da6-423b-472d-b0da-2232f5d2761d",
   "metadata": {},
   "outputs": [],
   "source": [
    "p_item_prices1 = pd.read_parquet(\"Operations Department/parquets/df_line_item_prices1.parquet\")\n",
    "p_item_prices2 = pd.read_parquet(\"Operations Department/parquets/df_line_item_prices2.parquet\")\n",
    "p_item_prices3 = pd.read_parquet(\"Operations Department/parquets/df_line_item_prices3.parquet\")\n",
    "p_order_1 = pd.read_parquet(\"Operations Department/parquets/df_order_1.parquet\")\n",
    "p_order_2 = pd.read_parquet(\"Operations Department/parquets/df_order_2.parquet\")\n",
    "p_order_3 = pd.read_parquet(\"Operations Department/parquets/df_order_3.parquet\")\n",
    "p_order_4 = pd.read_parquet(\"Operations Department/parquets/df_order_4.parquet\")\n",
    "p_order_5 = pd.read_parquet(\"Operations Department/parquets/df_order_5.parquet\")\n",
    "p_order_6 = pd.read_parquet(\"Operations Department/parquets/df_order_6.parquet\")\n",
    "p_line_item_products1 = pd.read_parquet(\"Operations Department/parquets/df_line_item_products1.parquet\")\n",
    "p_line_item_products2 = pd.read_parquet(\"Operations Department/parquets/df_line_item_products2.parquet\")\n",
    "p_line_item_products3 = pd.read_parquet(\"Operations Department/parquets/df_line_item_products3.parquet\")\n",
    "\n",
    "frame1 = [p_item_prices1, p_item_prices2, p_item_prices3]\n",
    "frame2 = [p_order_1, p_order_2, p_order_3, p_order_4, p_order_5, p_order_6]\n",
    "frame3 = [p_line_item_products1, p_line_item_products2, p_line_item_products3]\n",
    "conFrame1 = pd.concat(frame1)\n",
    "conFrame2 = pd.concat(frame2)\n",
    "conFrame3 = pd.concat(frame3)\n",
    "\n",
    "Merged1 = pd.merge(conFrame1, conFrame2, on=\"order_id\")\n",
    "FinalMerged = pd.merge(Merged1, conFrame3, on=\"order_id\")\n",
    "\n",
    "# WALANG PRICE POTANG INA "
   ]
  },
  {
   "cell_type": "code",
   "execution_count": 130,
   "id": "db582387-354c-49cb-be20-5f6f9e275601",
   "metadata": {},
   "outputs": [
    {
     "data": {
      "text/html": [
       "<div>\n",
       "<style scoped>\n",
       "    .dataframe tbody tr th:only-of-type {\n",
       "        vertical-align: middle;\n",
       "    }\n",
       "\n",
       "    .dataframe tbody tr th {\n",
       "        vertical-align: top;\n",
       "    }\n",
       "\n",
       "    .dataframe thead th {\n",
       "        text-align: right;\n",
       "    }\n",
       "</style>\n",
       "<table border=\"1\" class=\"dataframe\">\n",
       "  <thead>\n",
       "    <tr style=\"text-align: right;\">\n",
       "      <th></th>\n",
       "      <th>Unnamed: 0_x</th>\n",
       "      <th>order_id</th>\n",
       "      <th>price</th>\n",
       "      <th>quantity</th>\n",
       "      <th>user_id</th>\n",
       "      <th>estimated arrival</th>\n",
       "      <th>transaction_date</th>\n",
       "      <th>Unnamed: 0_y</th>\n",
       "    </tr>\n",
       "  </thead>\n",
       "  <tbody>\n",
       "    <tr>\n",
       "      <th>0</th>\n",
       "      <td>0</td>\n",
       "      <td>8d8acbac-ccbb-4609-a978-98dee3ac3088</td>\n",
       "      <td>12.81</td>\n",
       "      <td>6px</td>\n",
       "      <td>USER13754</td>\n",
       "      <td>9days</td>\n",
       "      <td>2023-10-11</td>\n",
       "      <td>136.0</td>\n",
       "    </tr>\n",
       "    <tr>\n",
       "      <th>1</th>\n",
       "      <td>1</td>\n",
       "      <td>59e4c308-5262-486d-9f1a-12b1278e3c44</td>\n",
       "      <td>14.00</td>\n",
       "      <td>6pieces</td>\n",
       "      <td>USER13754</td>\n",
       "      <td>5days</td>\n",
       "      <td>2023-06-05</td>\n",
       "      <td>309929.0</td>\n",
       "    </tr>\n",
       "    <tr>\n",
       "      <th>2</th>\n",
       "      <td>77</td>\n",
       "      <td>59e4c308-5262-486d-9f1a-12b1278e3c44</td>\n",
       "      <td>5.74</td>\n",
       "      <td>5px</td>\n",
       "      <td>USER13754</td>\n",
       "      <td>5days</td>\n",
       "      <td>2023-06-05</td>\n",
       "      <td>309929.0</td>\n",
       "    </tr>\n",
       "    <tr>\n",
       "      <th>3</th>\n",
       "      <td>237</td>\n",
       "      <td>59e4c308-5262-486d-9f1a-12b1278e3c44</td>\n",
       "      <td>17.28</td>\n",
       "      <td>3pcs</td>\n",
       "      <td>USER13754</td>\n",
       "      <td>5days</td>\n",
       "      <td>2023-06-05</td>\n",
       "      <td>309929.0</td>\n",
       "    </tr>\n",
       "    <tr>\n",
       "      <th>4</th>\n",
       "      <td>274</td>\n",
       "      <td>59e4c308-5262-486d-9f1a-12b1278e3c44</td>\n",
       "      <td>38.07</td>\n",
       "      <td>4pcs</td>\n",
       "      <td>USER13754</td>\n",
       "      <td>5days</td>\n",
       "      <td>2023-06-05</td>\n",
       "      <td>309929.0</td>\n",
       "    </tr>\n",
       "  </tbody>\n",
       "</table>\n",
       "</div>"
      ],
      "text/plain": [
       "   Unnamed: 0_x                              order_id  price quantity  \\\n",
       "0             0  8d8acbac-ccbb-4609-a978-98dee3ac3088  12.81      6px   \n",
       "1             1  59e4c308-5262-486d-9f1a-12b1278e3c44  14.00  6pieces   \n",
       "2            77  59e4c308-5262-486d-9f1a-12b1278e3c44   5.74      5px   \n",
       "3           237  59e4c308-5262-486d-9f1a-12b1278e3c44  17.28     3pcs   \n",
       "4           274  59e4c308-5262-486d-9f1a-12b1278e3c44  38.07     4pcs   \n",
       "\n",
       "     user_id estimated arrival transaction_date  Unnamed: 0_y  \n",
       "0  USER13754             9days       2023-10-11         136.0  \n",
       "1  USER13754             5days       2023-06-05      309929.0  \n",
       "2  USER13754             5days       2023-06-05      309929.0  \n",
       "3  USER13754             5days       2023-06-05      309929.0  \n",
       "4  USER13754             5days       2023-06-05      309929.0  "
      ]
     },
     "execution_count": 130,
     "metadata": {},
     "output_type": "execute_result"
    }
   ],
   "source": [
    "Merged1.head()"
   ]
  },
  {
   "cell_type": "code",
   "execution_count": 131,
   "id": "a33b095f-183a-4883-8216-3f081dee6fa6",
   "metadata": {},
   "outputs": [
    {
     "data": {
      "text/html": [
       "<div>\n",
       "<style scoped>\n",
       "    .dataframe tbody tr th:only-of-type {\n",
       "        vertical-align: middle;\n",
       "    }\n",
       "\n",
       "    .dataframe tbody tr th {\n",
       "        vertical-align: top;\n",
       "    }\n",
       "\n",
       "    .dataframe thead th {\n",
       "        text-align: right;\n",
       "    }\n",
       "</style>\n",
       "<table border=\"1\" class=\"dataframe\">\n",
       "  <thead>\n",
       "    <tr style=\"text-align: right;\">\n",
       "      <th></th>\n",
       "      <th>Unnamed: 0_x</th>\n",
       "      <th>order_id</th>\n",
       "      <th>price</th>\n",
       "      <th>quantity</th>\n",
       "      <th>user_id</th>\n",
       "      <th>estimated arrival</th>\n",
       "      <th>transaction_date</th>\n",
       "      <th>Unnamed: 0_y</th>\n",
       "      <th>Unnamed: 0</th>\n",
       "      <th>product_name</th>\n",
       "      <th>product_id</th>\n",
       "    </tr>\n",
       "  </thead>\n",
       "  <tbody>\n",
       "    <tr>\n",
       "      <th>0</th>\n",
       "      <td>0</td>\n",
       "      <td>8d8acbac-ccbb-4609-a978-98dee3ac3088</td>\n",
       "      <td>12.81</td>\n",
       "      <td>6px</td>\n",
       "      <td>USER13754</td>\n",
       "      <td>9days</td>\n",
       "      <td>2023-10-11</td>\n",
       "      <td>136.0</td>\n",
       "      <td>0</td>\n",
       "      <td>Grandmas swedish thin pancakes</td>\n",
       "      <td>PRODUCT16794</td>\n",
       "    </tr>\n",
       "    <tr>\n",
       "      <th>1</th>\n",
       "      <td>1</td>\n",
       "      <td>59e4c308-5262-486d-9f1a-12b1278e3c44</td>\n",
       "      <td>14.00</td>\n",
       "      <td>6pieces</td>\n",
       "      <td>USER13754</td>\n",
       "      <td>5days</td>\n",
       "      <td>2023-06-05</td>\n",
       "      <td>309929.0</td>\n",
       "      <td>1</td>\n",
       "      <td>Blackberry breakfast bars</td>\n",
       "      <td>PRODUCT56387</td>\n",
       "    </tr>\n",
       "    <tr>\n",
       "      <th>2</th>\n",
       "      <td>1</td>\n",
       "      <td>59e4c308-5262-486d-9f1a-12b1278e3c44</td>\n",
       "      <td>14.00</td>\n",
       "      <td>6pieces</td>\n",
       "      <td>USER13754</td>\n",
       "      <td>5days</td>\n",
       "      <td>2023-06-05</td>\n",
       "      <td>309929.0</td>\n",
       "      <td>77</td>\n",
       "      <td>bookmark</td>\n",
       "      <td>PRODUCT47288</td>\n",
       "    </tr>\n",
       "    <tr>\n",
       "      <th>3</th>\n",
       "      <td>1</td>\n",
       "      <td>59e4c308-5262-486d-9f1a-12b1278e3c44</td>\n",
       "      <td>14.00</td>\n",
       "      <td>6pieces</td>\n",
       "      <td>USER13754</td>\n",
       "      <td>5days</td>\n",
       "      <td>2023-06-05</td>\n",
       "      <td>309929.0</td>\n",
       "      <td>237</td>\n",
       "      <td>saw</td>\n",
       "      <td>PRODUCT33489</td>\n",
       "    </tr>\n",
       "    <tr>\n",
       "      <th>4</th>\n",
       "      <td>1</td>\n",
       "      <td>59e4c308-5262-486d-9f1a-12b1278e3c44</td>\n",
       "      <td>14.00</td>\n",
       "      <td>6pieces</td>\n",
       "      <td>USER13754</td>\n",
       "      <td>5days</td>\n",
       "      <td>2023-06-05</td>\n",
       "      <td>309929.0</td>\n",
       "      <td>274</td>\n",
       "      <td>air fryer</td>\n",
       "      <td>PRODUCT49814</td>\n",
       "    </tr>\n",
       "  </tbody>\n",
       "</table>\n",
       "</div>"
      ],
      "text/plain": [
       "   Unnamed: 0_x                              order_id  price quantity  \\\n",
       "0             0  8d8acbac-ccbb-4609-a978-98dee3ac3088  12.81      6px   \n",
       "1             1  59e4c308-5262-486d-9f1a-12b1278e3c44  14.00  6pieces   \n",
       "2             1  59e4c308-5262-486d-9f1a-12b1278e3c44  14.00  6pieces   \n",
       "3             1  59e4c308-5262-486d-9f1a-12b1278e3c44  14.00  6pieces   \n",
       "4             1  59e4c308-5262-486d-9f1a-12b1278e3c44  14.00  6pieces   \n",
       "\n",
       "     user_id estimated arrival transaction_date  Unnamed: 0_y  Unnamed: 0  \\\n",
       "0  USER13754             9days       2023-10-11         136.0           0   \n",
       "1  USER13754             5days       2023-06-05      309929.0           1   \n",
       "2  USER13754             5days       2023-06-05      309929.0          77   \n",
       "3  USER13754             5days       2023-06-05      309929.0         237   \n",
       "4  USER13754             5days       2023-06-05      309929.0         274   \n",
       "\n",
       "                     product_name    product_id  \n",
       "0  Grandmas swedish thin pancakes  PRODUCT16794  \n",
       "1       Blackberry breakfast bars  PRODUCT56387  \n",
       "2                        bookmark  PRODUCT47288  \n",
       "3                             saw  PRODUCT33489  \n",
       "4                       air fryer  PRODUCT49814  "
      ]
     },
     "execution_count": 131,
     "metadata": {},
     "output_type": "execute_result"
    }
   ],
   "source": [
    "FinalMerged.head()"
   ]
  },
  {
   "cell_type": "code",
   "execution_count": 132,
   "id": "4c541f86-3877-4c5b-b186-7b111f45d0f5",
   "metadata": {},
   "outputs": [
    {
     "data": {
      "text/html": [
       "<div>\n",
       "<style scoped>\n",
       "    .dataframe tbody tr th:only-of-type {\n",
       "        vertical-align: middle;\n",
       "    }\n",
       "\n",
       "    .dataframe tbody tr th {\n",
       "        vertical-align: top;\n",
       "    }\n",
       "\n",
       "    .dataframe thead th {\n",
       "        text-align: right;\n",
       "    }\n",
       "</style>\n",
       "<table border=\"1\" class=\"dataframe\">\n",
       "  <thead>\n",
       "    <tr style=\"text-align: right;\">\n",
       "      <th></th>\n",
       "      <th>Unnamed: 0_x</th>\n",
       "      <th>order_id</th>\n",
       "      <th>price</th>\n",
       "      <th>quantity</th>\n",
       "      <th>user_id</th>\n",
       "      <th>estimated arrival</th>\n",
       "      <th>transaction_date</th>\n",
       "      <th>Unnamed: 0_y</th>\n",
       "      <th>Unnamed: 0</th>\n",
       "      <th>product_name</th>\n",
       "      <th>product_id</th>\n",
       "    </tr>\n",
       "  </thead>\n",
       "  <tbody>\n",
       "    <tr>\n",
       "      <th>1</th>\n",
       "      <td>1</td>\n",
       "      <td>59e4c308-5262-486d-9f1a-12b1278e3c44</td>\n",
       "      <td>14.0</td>\n",
       "      <td>6pieces</td>\n",
       "      <td>USER13754</td>\n",
       "      <td>5days</td>\n",
       "      <td>2023-06-05</td>\n",
       "      <td>309929.0</td>\n",
       "      <td>1</td>\n",
       "      <td>Blackberry breakfast bars</td>\n",
       "      <td>PRODUCT56387</td>\n",
       "    </tr>\n",
       "    <tr>\n",
       "      <th>2</th>\n",
       "      <td>1</td>\n",
       "      <td>59e4c308-5262-486d-9f1a-12b1278e3c44</td>\n",
       "      <td>14.0</td>\n",
       "      <td>6pieces</td>\n",
       "      <td>USER13754</td>\n",
       "      <td>5days</td>\n",
       "      <td>2023-06-05</td>\n",
       "      <td>309929.0</td>\n",
       "      <td>77</td>\n",
       "      <td>bookmark</td>\n",
       "      <td>PRODUCT47288</td>\n",
       "    </tr>\n",
       "    <tr>\n",
       "      <th>3</th>\n",
       "      <td>1</td>\n",
       "      <td>59e4c308-5262-486d-9f1a-12b1278e3c44</td>\n",
       "      <td>14.0</td>\n",
       "      <td>6pieces</td>\n",
       "      <td>USER13754</td>\n",
       "      <td>5days</td>\n",
       "      <td>2023-06-05</td>\n",
       "      <td>309929.0</td>\n",
       "      <td>237</td>\n",
       "      <td>saw</td>\n",
       "      <td>PRODUCT33489</td>\n",
       "    </tr>\n",
       "    <tr>\n",
       "      <th>4</th>\n",
       "      <td>1</td>\n",
       "      <td>59e4c308-5262-486d-9f1a-12b1278e3c44</td>\n",
       "      <td>14.0</td>\n",
       "      <td>6pieces</td>\n",
       "      <td>USER13754</td>\n",
       "      <td>5days</td>\n",
       "      <td>2023-06-05</td>\n",
       "      <td>309929.0</td>\n",
       "      <td>274</td>\n",
       "      <td>air fryer</td>\n",
       "      <td>PRODUCT49814</td>\n",
       "    </tr>\n",
       "    <tr>\n",
       "      <th>5</th>\n",
       "      <td>1</td>\n",
       "      <td>59e4c308-5262-486d-9f1a-12b1278e3c44</td>\n",
       "      <td>14.0</td>\n",
       "      <td>6pieces</td>\n",
       "      <td>USER13754</td>\n",
       "      <td>5days</td>\n",
       "      <td>2023-06-05</td>\n",
       "      <td>309929.0</td>\n",
       "      <td>350</td>\n",
       "      <td>handheld game system</td>\n",
       "      <td>PRODUCT27609</td>\n",
       "    </tr>\n",
       "  </tbody>\n",
       "</table>\n",
       "</div>"
      ],
      "text/plain": [
       "   Unnamed: 0_x                              order_id  price quantity  \\\n",
       "1             1  59e4c308-5262-486d-9f1a-12b1278e3c44   14.0  6pieces   \n",
       "2             1  59e4c308-5262-486d-9f1a-12b1278e3c44   14.0  6pieces   \n",
       "3             1  59e4c308-5262-486d-9f1a-12b1278e3c44   14.0  6pieces   \n",
       "4             1  59e4c308-5262-486d-9f1a-12b1278e3c44   14.0  6pieces   \n",
       "5             1  59e4c308-5262-486d-9f1a-12b1278e3c44   14.0  6pieces   \n",
       "\n",
       "     user_id estimated arrival transaction_date  Unnamed: 0_y  Unnamed: 0  \\\n",
       "1  USER13754             5days       2023-06-05      309929.0           1   \n",
       "2  USER13754             5days       2023-06-05      309929.0          77   \n",
       "3  USER13754             5days       2023-06-05      309929.0         237   \n",
       "4  USER13754             5days       2023-06-05      309929.0         274   \n",
       "5  USER13754             5days       2023-06-05      309929.0         350   \n",
       "\n",
       "                product_name    product_id  \n",
       "1  Blackberry breakfast bars  PRODUCT56387  \n",
       "2                   bookmark  PRODUCT47288  \n",
       "3                        saw  PRODUCT33489  \n",
       "4                  air fryer  PRODUCT49814  \n",
       "5       handheld game system  PRODUCT27609  "
      ]
     },
     "execution_count": 132,
     "metadata": {},
     "output_type": "execute_result"
    }
   ],
   "source": [
    "FinalMerged[FinalMerged['order_id'] == '59e4c308-5262-486d-9f1a-12b1278e3c44'].head()"
   ]
  },
  {
   "cell_type": "code",
   "execution_count": null,
   "id": "0d520436-885f-4d72-9c68-3c76c51625e7",
   "metadata": {},
   "outputs": [],
   "source": [
    "## One price and one quantity combining all of the items "
   ]
  },
  {
   "cell_type": "code",
   "execution_count": 134,
   "id": "986aace7-2d0f-4bd9-bfe1-e2d87016b5a6",
   "metadata": {},
   "outputs": [
    {
     "data": {
      "text/html": [
       "<div>\n",
       "<style scoped>\n",
       "    .dataframe tbody tr th:only-of-type {\n",
       "        vertical-align: middle;\n",
       "    }\n",
       "\n",
       "    .dataframe tbody tr th {\n",
       "        vertical-align: top;\n",
       "    }\n",
       "\n",
       "    .dataframe thead th {\n",
       "        text-align: right;\n",
       "    }\n",
       "</style>\n",
       "<table border=\"1\" class=\"dataframe\">\n",
       "  <thead>\n",
       "    <tr style=\"text-align: right;\">\n",
       "      <th></th>\n",
       "      <th>Unnamed: 0_x</th>\n",
       "      <th>order_id</th>\n",
       "      <th>price</th>\n",
       "      <th>quantity</th>\n",
       "      <th>user_id</th>\n",
       "      <th>estimated arrival</th>\n",
       "      <th>transaction_date</th>\n",
       "      <th>Unnamed: 0_y</th>\n",
       "      <th>Unnamed: 0</th>\n",
       "      <th>product_name</th>\n",
       "      <th>product_id</th>\n",
       "    </tr>\n",
       "  </thead>\n",
       "  <tbody>\n",
       "    <tr>\n",
       "      <th>0</th>\n",
       "      <td>0</td>\n",
       "      <td>8d8acbac-ccbb-4609-a978-98dee3ac3088</td>\n",
       "      <td>12.81</td>\n",
       "      <td>6px</td>\n",
       "      <td>USER13754</td>\n",
       "      <td>9days</td>\n",
       "      <td>2023-10-11</td>\n",
       "      <td>136.0</td>\n",
       "      <td>0</td>\n",
       "      <td>Grandmas swedish thin pancakes</td>\n",
       "      <td>PRODUCT16794</td>\n",
       "    </tr>\n",
       "  </tbody>\n",
       "</table>\n",
       "</div>"
      ],
      "text/plain": [
       "   Unnamed: 0_x                              order_id  price quantity  \\\n",
       "0             0  8d8acbac-ccbb-4609-a978-98dee3ac3088  12.81      6px   \n",
       "\n",
       "     user_id estimated arrival transaction_date  Unnamed: 0_y  Unnamed: 0  \\\n",
       "0  USER13754             9days       2023-10-11         136.0           0   \n",
       "\n",
       "                     product_name    product_id  \n",
       "0  Grandmas swedish thin pancakes  PRODUCT16794  "
      ]
     },
     "execution_count": 134,
     "metadata": {},
     "output_type": "execute_result"
    }
   ],
   "source": [
    "FinalMerged[FinalMerged['order_id'] == '8d8acbac-ccbb-4609-a978-98dee3ac3088'].head()"
   ]
  },
  {
   "cell_type": "code",
   "execution_count": 137,
   "id": "90a46696-63c4-44e3-baa7-05cffff361b7",
   "metadata": {},
   "outputs": [
    {
     "data": {
      "text/html": [
       "<div>\n",
       "<style scoped>\n",
       "    .dataframe tbody tr th:only-of-type {\n",
       "        vertical-align: middle;\n",
       "    }\n",
       "\n",
       "    .dataframe tbody tr th {\n",
       "        vertical-align: top;\n",
       "    }\n",
       "\n",
       "    .dataframe thead th {\n",
       "        text-align: right;\n",
       "    }\n",
       "</style>\n",
       "<table border=\"1\" class=\"dataframe\">\n",
       "  <thead>\n",
       "    <tr style=\"text-align: right;\">\n",
       "      <th></th>\n",
       "      <th>Unnamed: 0</th>\n",
       "      <th>order_id</th>\n",
       "      <th>product_name</th>\n",
       "      <th>product_id</th>\n",
       "    </tr>\n",
       "  </thead>\n",
       "  <tbody>\n",
       "    <tr>\n",
       "      <th>532034</th>\n",
       "      <td>1532034</td>\n",
       "      <td>0612c246-57f1-40e8-9993-0f8d41992049</td>\n",
       "      <td>carton of ice cream</td>\n",
       "      <td>PRODUCT08237</td>\n",
       "    </tr>\n",
       "    <tr>\n",
       "      <th>532051</th>\n",
       "      <td>1532051</td>\n",
       "      <td>0612c246-57f1-40e8-9993-0f8d41992049</td>\n",
       "      <td>sponge</td>\n",
       "      <td>PRODUCT46596</td>\n",
       "    </tr>\n",
       "    <tr>\n",
       "      <th>532206</th>\n",
       "      <td>1532206</td>\n",
       "      <td>0612c246-57f1-40e8-9993-0f8d41992049</td>\n",
       "      <td>jar of jam</td>\n",
       "      <td>PRODUCT38404</td>\n",
       "    </tr>\n",
       "    <tr>\n",
       "      <th>532213</th>\n",
       "      <td>1532213</td>\n",
       "      <td>0612c246-57f1-40e8-9993-0f8d41992049</td>\n",
       "      <td>vodafone mobile phone</td>\n",
       "      <td>PRODUCT49554</td>\n",
       "    </tr>\n",
       "    <tr>\n",
       "      <th>532283</th>\n",
       "      <td>1532283</td>\n",
       "      <td>0612c246-57f1-40e8-9993-0f8d41992049</td>\n",
       "      <td>tomato</td>\n",
       "      <td>PRODUCT35203</td>\n",
       "    </tr>\n",
       "  </tbody>\n",
       "</table>\n",
       "</div>"
      ],
      "text/plain": [
       "        Unnamed: 0                              order_id  \\\n",
       "532034     1532034  0612c246-57f1-40e8-9993-0f8d41992049   \n",
       "532051     1532051  0612c246-57f1-40e8-9993-0f8d41992049   \n",
       "532206     1532206  0612c246-57f1-40e8-9993-0f8d41992049   \n",
       "532213     1532213  0612c246-57f1-40e8-9993-0f8d41992049   \n",
       "532283     1532283  0612c246-57f1-40e8-9993-0f8d41992049   \n",
       "\n",
       "                 product_name    product_id  \n",
       "532034    carton of ice cream  PRODUCT08237  \n",
       "532051                 sponge  PRODUCT46596  \n",
       "532206             jar of jam  PRODUCT38404  \n",
       "532213  vodafone mobile phone  PRODUCT49554  \n",
       "532283                 tomato  PRODUCT35203  "
      ]
     },
     "execution_count": 137,
     "metadata": {},
     "output_type": "execute_result"
    }
   ],
   "source": [
    "conFrame3[conFrame3['order_id'] == '0612c246-57f1-40e8-9993-0f8d41992049'].head()"
   ]
  },
  {
   "cell_type": "code",
   "execution_count": null,
   "id": "ec445699-16e0-4e97-9fe0-a8a1af6a7a1c",
   "metadata": {},
   "outputs": [],
   "source": []
  },
  {
   "cell_type": "code",
   "execution_count": null,
   "id": "3b2e6911-8095-465b-b469-d50e516a7a09",
   "metadata": {},
   "outputs": [],
   "source": []
  }
 ],
 "metadata": {
  "kernelspec": {
   "display_name": "Python 3 (ipykernel)",
   "language": "python",
   "name": "python3"
  },
  "language_info": {
   "codemirror_mode": {
    "name": "ipython",
    "version": 3
   },
   "file_extension": ".py",
   "mimetype": "text/x-python",
   "name": "python",
   "nbconvert_exporter": "python",
   "pygments_lexer": "ipython3",
   "version": "3.12.0"
  }
 },
 "nbformat": 4,
 "nbformat_minor": 5
}
