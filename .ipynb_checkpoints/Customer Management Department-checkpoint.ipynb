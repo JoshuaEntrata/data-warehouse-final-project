{
 "cells": [
  {
   "cell_type": "code",
   "execution_count": 1,
   "id": "8ff60291-52d6-4ffa-9dc1-c695c8476c79",
   "metadata": {},
   "outputs": [],
   "source": [
    "import pandas as pd\n",
    "import numpy as np"
   ]
  },
  {
   "cell_type": "markdown",
   "id": "f49ae384-d873-4cc4-ac58-58c0e857ea9c",
   "metadata": {},
   "source": [
    "## User Credit Card"
   ]
  },
  {
   "cell_type": "code",
   "execution_count": 2,
   "id": "00c1acf2-1843-4751-80a9-2858e54c0c9e",
   "metadata": {},
   "outputs": [
    {
     "name": "stdout",
     "output_type": "stream",
     "text": [
      "        user_id              name  credit_card_number   issuing_bank\n",
      "0     USER40678        Zion Feest          4294956114            bpi\n",
      "1     USER08728  Kattie Bergstrom          2742902159            bdo\n",
      "2     USER29759      Aiden Corwin          1917471950            bdo\n",
      "3     USER16806    Vince Gislason          3290792253      chinabank\n",
      "4     USER27644     Adele Okuneva          2313395832      chinabank\n",
      "...         ...               ...                 ...            ...\n",
      "4995  USER49969   Kendall Waelchi          1870581879      chinabank\n",
      "4996  USER57209  Lucious Kshlerin          1139377065       mayabank\n",
      "4997  USER36424    Cordie Jenkins          2187584552  robinsonsbank\n",
      "4998  USER45166        Tyrel Feil          2542420860            bdo\n",
      "4999  USER54154       Betty Zieme          4104712921   securitybank\n",
      "\n",
      "[5000 rows x 4 columns]\n",
      "Index(['user_id', 'name', 'credit_card_number', 'issuing_bank'], dtype='object')\n"
     ]
    }
   ],
   "source": [
    "df_user_cc = pd.read_pickle('Customer Management Department/user_credit_card.pickle')\n",
    "print(df_user_cc)\n",
    "print(df_user_cc.columns.ravel())"
   ]
  },
  {
   "cell_type": "markdown",
   "id": "faf01cc9-8ab1-4cac-a5f5-f37b80bdd4ee",
   "metadata": {},
   "source": [
    "## Checking for Nulls"
   ]
  },
  {
   "cell_type": "code",
   "execution_count": 31,
   "id": "1ba89503-2e8e-4d30-bf4a-0d0110177fb8",
   "metadata": {},
   "outputs": [
    {
     "data": {
      "text/plain": [
       "user_id               0\n",
       "name                  0\n",
       "credit_card_number    0\n",
       "issuing_bank          0\n",
       "dtype: int64"
      ]
     },
     "execution_count": 31,
     "metadata": {},
     "output_type": "execute_result"
    }
   ],
   "source": [
    "df_user_cc.isnull().sum()"
   ]
  },
  {
   "cell_type": "markdown",
   "id": "9f2135a5-1d12-4cc0-83f1-223a6d15d2bf",
   "metadata": {},
   "source": [
    "## User Data"
   ]
  },
  {
   "cell_type": "code",
   "execution_count": 11,
   "id": "b5b2bd54-4f17-43e3-a012-e4f67139ec55",
   "metadata": {},
   "outputs": [
    {
     "name": "stdout",
     "output_type": "stream",
     "text": [
      "        user_id        creation_date              name  \\\n",
      "0     USER40678  2021-03-17 22:56:13        Zion Feest   \n",
      "1     USER08728  2022-10-10 12:53:20  Kattie Bergstrom   \n",
      "2     USER29759  2020-05-20 04:34:44      Aiden Corwin   \n",
      "3     USER16806  2021-05-28 07:36:30    Vince Gislason   \n",
      "4     USER27644  2023-03-16 19:25:35     Adele Okuneva   \n",
      "...         ...                  ...               ...   \n",
      "4995  USER49969  2021-11-18 19:04:30   Kendall Waelchi   \n",
      "4996  USER57209  2022-03-27 09:17:43  Lucious Kshlerin   \n",
      "4997  USER36424  2022-10-05 21:36:56    Cordie Jenkins   \n",
      "4998  USER45166  2020-07-20 03:51:41        Tyrel Feil   \n",
      "4999  USER54154  2020-05-13 08:43:26       Betty Zieme   \n",
      "\n",
      "                          street           state        city  \\\n",
      "0          14938 West Trace side      New Jersey  Birmingham   \n",
      "1           4476 West Haven fort         Alabama      Irvine   \n",
      "2      59980 North Crest chester  North Carolina       Tampa   \n",
      "3               541 Radial mouth        Illinois     Orlando   \n",
      "4                  896 Glen bury         Arizona        Reno   \n",
      "...                          ...             ...         ...   \n",
      "4995      792 North Manors haven         Florida   San Diego   \n",
      "4996         48282 Burgs chester        Kentucky     Garland   \n",
      "4997  8928 North Mountains haven    North Dakota  Scottsdale   \n",
      "4998          920 New Manor port    Rhode Island   Arlington   \n",
      "4999       19808 North Pass side        Colorado     Detroit   \n",
      "\n",
      "                    country            birthdate  gender     device_address  \\\n",
      "0                 Hong Kong  1998-04-06 05:29:37    male  17:fb:f2:60:94:4b   \n",
      "1                   Mayotte  2003-05-22 11:16:19    male  b0:17:a7:0b:d6:67   \n",
      "2                      Iraq  2008-08-29 16:42:05  female  24:f2:0b:88:2f:bd   \n",
      "3               New Zealand  2012-02-09 14:12:37    male  a4:f5:fd:fe:07:f9   \n",
      "4                    Mexico  1976-10-13 00:53:54    male  ac:80:b3:bc:8d:5f   \n",
      "...                     ...                  ...     ...                ...   \n",
      "4995                 Jersey  1996-03-11 09:05:32  female  8e:57:7e:62:90:b4   \n",
      "4996               Ethiopia  2013-07-07 08:53:27  female  00:35:b5:e4:e1:aa   \n",
      "4997                  Tonga  1991-05-18 05:07:36    male  0b:0d:57:d6:c1:ab   \n",
      "4998  Virgin Islands (U.S.)  1975-12-19 02:27:16    male  83:c9:1e:4e:52:f4   \n",
      "4999                 Zambia  2010-02-21 02:56:06  female  4c:fb:dc:fb:b7:e7   \n",
      "\n",
      "     user_type  \n",
      "0        basic  \n",
      "1      premium  \n",
      "2        basic  \n",
      "3        basic  \n",
      "4      premium  \n",
      "...        ...  \n",
      "4995     basic  \n",
      "4996     basic  \n",
      "4997     basic  \n",
      "4998   premium  \n",
      "4999   premium  \n",
      "\n",
      "[5000 rows x 11 columns]\n",
      "Index(['user_id', 'creation_date', 'name', 'street', 'state', 'city',\n",
      "       'country', 'birthdate', 'gender', 'device_address', 'user_type'],\n",
      "      dtype='object')\n"
     ]
    }
   ],
   "source": [
    "df_user_data = pd.read_json('Customer Management Department/user_data.json')\n",
    "print(df_user_data)\n",
    "print(df_user_data.columns.ravel())"
   ]
  },
  {
   "cell_type": "markdown",
   "id": "43c6aebf-b4e8-414a-8d44-04b687048373",
   "metadata": {
    "jp-MarkdownHeadingCollapsed": true
   },
   "source": [
    "## Checking For Nulls"
   ]
  },
  {
   "cell_type": "code",
   "execution_count": 30,
   "id": "59070770-1bc4-4f30-8d7b-38dca9122405",
   "metadata": {
    "scrolled": true
   },
   "outputs": [
    {
     "data": {
      "text/plain": [
       "user_id           0\n",
       "creation_date     0\n",
       "name              0\n",
       "street            0\n",
       "state             0\n",
       "city              0\n",
       "country           0\n",
       "birthdate         0\n",
       "gender            0\n",
       "device_address    0\n",
       "user_type         0\n",
       "dtype: int64"
      ]
     },
     "execution_count": 30,
     "metadata": {},
     "output_type": "execute_result"
    }
   ],
   "source": [
    "df_user_data.isnull().sum()"
   ]
  },
  {
   "cell_type": "markdown",
   "id": "79c2697a-7277-4144-b8f3-7d47ca743cc6",
   "metadata": {},
   "source": [
    "## User Job"
   ]
  },
  {
   "cell_type": "code",
   "execution_count": 24,
   "id": "85df4d89-0a18-4bb6-a5bd-fe589f00e327",
   "metadata": {},
   "outputs": [
    {
     "name": "stdout",
     "output_type": "stream",
     "text": [
      "      Unnamed: 0    user_id              name       job_title   job_level\n",
      "0              0  USER40678        Zion Feest      Technician    Accounts\n",
      "1              1  USER08728  Kattie Bergstrom      Technician   Solutions\n",
      "2              2  USER29759      Aiden Corwin         Student         NaN\n",
      "3              3  USER16806    Vince Gislason         Student         NaN\n",
      "4              4  USER27644     Adele Okuneva       Associate   Usability\n",
      "...          ...        ...               ...             ...         ...\n",
      "4995        4995  USER49969   Kendall Waelchi     Facilitator  Directives\n",
      "4996        4996  USER57209  Lucious Kshlerin         Student         NaN\n",
      "4997        4997  USER36424    Cordie Jenkins  Representative  Directives\n",
      "4998        4998  USER45166        Tyrel Feil      Supervisor     Metrics\n",
      "4999        4999  USER54154       Betty Zieme         Student         NaN\n",
      "\n",
      "[5000 rows x 5 columns]\n",
      "Index(['Unnamed: 0', 'user_id', 'name', 'job_title', 'job_level'], dtype='object')\n"
     ]
    }
   ],
   "source": [
    "df_user_job = pd.read_csv('Customer Management Department/user_job.csv')\n",
    "print(df_user_job)\n",
    "print(df_user_job.columns.ravel())"
   ]
  },
  {
   "cell_type": "markdown",
   "id": "1d7e1ba7-4237-4353-87a4-32ef453763ea",
   "metadata": {
    "jp-MarkdownHeadingCollapsed": true
   },
   "source": [
    "## Checking for Nulls"
   ]
  },
  {
   "cell_type": "code",
   "execution_count": 32,
   "id": "90a93337-9010-48b4-9275-58e564725b01",
   "metadata": {},
   "outputs": [
    {
     "data": {
      "text/plain": [
       "Unnamed: 0       0\n",
       "user_id          0\n",
       "name             0\n",
       "job_title        0\n",
       "job_level     1629\n",
       "dtype: int64"
      ]
     },
     "execution_count": 32,
     "metadata": {},
     "output_type": "execute_result"
    }
   ],
   "source": [
    "df_user_job.isnull().sum()"
   ]
  },
  {
   "cell_type": "code",
   "execution_count": null,
   "id": "9844204f-813b-451b-b244-05eaea0035de",
   "metadata": {},
   "outputs": [],
   "source": []
  }
 ],
 "metadata": {
  "kernelspec": {
   "display_name": "Python 3 (ipykernel)",
   "language": "python",
   "name": "python3"
  },
  "language_info": {
   "codemirror_mode": {
    "name": "ipython",
    "version": 3
   },
   "file_extension": ".py",
   "mimetype": "text/x-python",
   "name": "python",
   "nbconvert_exporter": "python",
   "pygments_lexer": "ipython3",
   "version": "3.12.0"
  }
 },
 "nbformat": 4,
 "nbformat_minor": 5
}
