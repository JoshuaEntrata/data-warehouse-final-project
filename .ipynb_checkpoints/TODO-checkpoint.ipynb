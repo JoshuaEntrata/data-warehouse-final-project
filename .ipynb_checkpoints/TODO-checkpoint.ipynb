{
 "cells": [
  {
   "cell_type": "markdown",
   "id": "c1333ccf-12e5-4ba7-8fb8-e43952250793",
   "metadata": {},
   "source": [
    "## TODO\n",
    "\n",
    "**Improve data model**\n",
    "- Same Product but different price (Business Department)\n",
    "- Fix format of the csv file (Marketing Department) \n",
    "- Incosistent prices on the orders (Operations Department) "
   ]
  },
  {
   "cell_type": "code",
   "execution_count": null,
   "id": "4560effc-7b42-46d6-bbe9-e9336e1dee7d",
   "metadata": {},
   "outputs": [],
   "source": []
  },
  {
   "cell_type": "code",
   "execution_count": null,
   "id": "ec6d91c1-a928-47a3-9244-212941738bdd",
   "metadata": {},
   "outputs": [],
   "source": []
  }
 ],
 "metadata": {
  "kernelspec": {
   "display_name": "Python 3 (ipykernel)",
   "language": "python",
   "name": "python3"
  },
  "language_info": {
   "codemirror_mode": {
    "name": "ipython",
    "version": 3
   },
   "file_extension": ".py",
   "mimetype": "text/x-python",
   "name": "python",
   "nbconvert_exporter": "python",
   "pygments_lexer": "ipython3",
   "version": "3.12.0"
  }
 },
 "nbformat": 4,
 "nbformat_minor": 5
}
