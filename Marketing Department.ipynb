{
 "cells": [
  {
   "cell_type": "code",
   "execution_count": 1,
   "id": "5c1262dc-4c51-4a38-a298-9cbca1f4337f",
   "metadata": {},
   "outputs": [],
   "source": [
    "import pandas as pd\n",
    "import numpy as np"
   ]
  },
  {
   "cell_type": "markdown",
   "id": "04445a15-6019-4108-9c22-a9ea1457e8b3",
   "metadata": {},
   "source": [
    "## Campaign Data"
   ]
  },
  {
   "cell_type": "code",
   "execution_count": 2,
   "id": "d35a9c9e-16df-4988-907a-2179bed8cda2",
   "metadata": {},
   "outputs": [
    {
     "name": "stdout",
     "output_type": "stream",
     "text": [
      "  \\tcampaign_id\\tcampaign_name\\tcampaign_description\\tdiscount\n",
      "0  0\\tCAMPAIGN24776\\twouldn't you know it\\t\"\"\"Twe...          \n",
      "1  1\\tCAMPAIGN33679\\tcould be written on the back...          \n",
      "2  2\\tCAMPAIGN49972\\tme neither\\t\"\"\"DIY pug leggi...          \n",
      "3  3\\tCAMPAIGN61872\\ton the huh\\t\"\"\"Trust fund pi...          \n",
      "4  4\\tCAMPAIGN03110\\tstick a fork in it\\t\"\"\"YOLO ...          \n",
      "5  5\\tCAMPAIGN46302\\tyou must be new here\\t\"\"\"Cra...          \n",
      "6  6\\tCAMPAIGN11190\\tmind your own beeswax\\t\"\"\"St...          \n",
      "7  7\\tCAMPAIGN53595\\thow do I get to the train st...          \n",
      "8  8\\tCAMPAIGN29983\\twould it hurt\\t\"\"\"Vegan miga...          \n",
      "9  9\\tCAMPAIGN52447\\tpound for pound\\t\"\"\"Semiotic...          \n",
      "Index(['\\tcampaign_id\\tcampaign_name\\tcampaign_description\\tdiscount'], dtype='object')\n"
     ]
    },
    {
     "data": {
      "text/plain": [
       "\\tcampaign_id\\tcampaign_name\\tcampaign_description\\tdiscount    0\n",
       "dtype: int64"
      ]
     },
     "execution_count": 2,
     "metadata": {},
     "output_type": "execute_result"
    }
   ],
   "source": [
    "df_campaign = pd.read_csv('Marketing Department/campaign_data.csv')\n",
    "print(df_campaign)\n",
    "print(df_campaign.columns.ravel())\n",
    "df_campaign.isnull().sum()"
   ]
  },
  {
   "cell_type": "markdown",
   "id": "5d7ab58a-0482-4762-a716-89806adfdfbf",
   "metadata": {},
   "source": [
    "## Transactional Campaign Data"
   ]
  },
  {
   "cell_type": "code",
   "execution_count": 4,
   "id": "c04b20a8-a2d7-494d-9002-62eb54843ffb",
   "metadata": {},
   "outputs": [
    {
     "name": "stdout",
     "output_type": "stream",
     "text": [
      "        Unnamed: 0 transaction_date    campaign_id  \\\n",
      "0                2       2023-08-14  CAMPAIGN49972   \n",
      "1                4       2021-10-12  CAMPAIGN46302   \n",
      "2                6       2023-01-30  CAMPAIGN29983   \n",
      "3                8       2022-01-05  CAMPAIGN46302   \n",
      "4                9       2023-09-19  CAMPAIGN46302   \n",
      "...            ...              ...            ...   \n",
      "124882      499990       2022-04-14  CAMPAIGN61872   \n",
      "124883      499991       2022-11-23  CAMPAIGN11190   \n",
      "124884      499992       2023-07-28  CAMPAIGN33679   \n",
      "124885      499995       2020-04-12  CAMPAIGN49972   \n",
      "124886      499997       2023-03-24  CAMPAIGN52447   \n",
      "\n",
      "                                    order_id estimated arrival  availed  \n",
      "0       0612c246-57f1-40e8-9993-0f8d41992049            10days        1  \n",
      "1       b4c411de-2fd3-4806-91ae-165edc9baa12            13days        0  \n",
      "2       26de6b40-db2d-40b9-a64c-58736eaf0381             3days        1  \n",
      "3       26b60a4e-aafe-4b99-bace-034d088a4a53             8days        1  \n",
      "4       4aab29ae-e610-46bf-92af-199f6f420cee            14days        1  \n",
      "...                                      ...               ...      ...  \n",
      "124882  6a5163c2-ba62-461c-a729-5b06fe266bd9            12days        0  \n",
      "124883  883e2fe2-bbdf-4b5e-8348-c2bcba07da0e            15days        1  \n",
      "124884  575b0a2d-5539-4565-a10b-1f4f6516cd27            12days        1  \n",
      "124885  ba506489-1505-481d-b0b1-8cdbf04a515f             6days        1  \n",
      "124886  2b2e775f-d6cd-4659-9a88-b4950bc326c0            15days        1  \n",
      "\n",
      "[124887 rows x 6 columns]\n",
      "Index(['Unnamed: 0', 'transaction_date', 'campaign_id', 'order_id',\n",
      "       'estimated arrival', 'availed'],\n",
      "      dtype='object')\n"
     ]
    },
    {
     "data": {
      "text/plain": [
       "Unnamed: 0           0\n",
       "transaction_date     0\n",
       "campaign_id          0\n",
       "order_id             0\n",
       "estimated arrival    0\n",
       "availed              0\n",
       "dtype: int64"
      ]
     },
     "execution_count": 4,
     "metadata": {},
     "output_type": "execute_result"
    }
   ],
   "source": [
    "df_transactional_campaign = pd.read_csv('Marketing Department/transactional_campaign_data.csv')\n",
    "print(df_transactional_campaign)\n",
    "print(df_transactional_campaign.columns.ravel())\n",
    "df_transactional_campaign.isnull().sum()"
   ]
  },
  {
   "cell_type": "code",
   "execution_count": null,
   "id": "65c62ce0-edb2-41e2-9b83-7ee8346fda0f",
   "metadata": {},
   "outputs": [],
   "source": []
  }
 ],
 "metadata": {
  "kernelspec": {
   "display_name": "Python 3 (ipykernel)",
   "language": "python",
   "name": "python3"
  },
  "language_info": {
   "codemirror_mode": {
    "name": "ipython",
    "version": 3
   },
   "file_extension": ".py",
   "mimetype": "text/x-python",
   "name": "python",
   "nbconvert_exporter": "python",
   "pygments_lexer": "ipython3",
   "version": "3.12.0"
  }
 },
 "nbformat": 4,
 "nbformat_minor": 5
}
