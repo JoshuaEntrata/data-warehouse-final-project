{
 "cells": [
  {
   "cell_type": "code",
   "execution_count": 1,
   "id": "5c1262dc-4c51-4a38-a298-9cbca1f4337f",
   "metadata": {},
   "outputs": [],
   "source": [
    "import pandas as pd\n",
    "import numpy as np"
   ]
  },
  {
   "cell_type": "markdown",
   "id": "04445a15-6019-4108-9c22-a9ea1457e8b3",
   "metadata": {
    "jp-MarkdownHeadingCollapsed": true
   },
   "source": [
    "## Campaign Data"
   ]
  },
  {
   "cell_type": "code",
   "execution_count": 2,
   "id": "d35a9c9e-16df-4988-907a-2179bed8cda2",
   "metadata": {},
   "outputs": [
    {
     "name": "stdout",
     "output_type": "stream",
     "text": [
      "   Unnamed: 0    campaign_id                                    campaign_name  \\\n",
      "0           0  CAMPAIGN24776                             wouldn't you know it   \n",
      "1           1  CAMPAIGN33679  could be written on the back of a postage stamp   \n",
      "2           2  CAMPAIGN49972                                       me neither   \n",
      "3           3  CAMPAIGN61872                                       on the huh   \n",
      "4           4  CAMPAIGN03110                               stick a fork in it   \n",
      "5           5  CAMPAIGN46302                             you must be new here   \n",
      "6           6  CAMPAIGN11190                            mind your own beeswax   \n",
      "7           7  CAMPAIGN53595                how do I get to the train station   \n",
      "8           8  CAMPAIGN29983                                    would it hurt   \n",
      "9           9  CAMPAIGN52447                                  pound for pound   \n",
      "\n",
      "                                campaign_description  discount  \n",
      "0  \"Twee retro vinyl single-origin coffee sartori...        1%  \n",
      "1  \"Fanny pack gentrify cardigan messenger bag.\" ...      1pct  \n",
      "2  \"DIY pug leggings everyday craft beer cardigan...      10%%  \n",
      "3  \"Trust fund pinterest chambray.\" - Claude Aufd...        5%  \n",
      "4         \"YOLO tumblr Yuccie austin.\" - Jordi Kunde  1percent  \n",
      "5  \"Craft beer XOXO hella tacos chillwave cred or...      1pct  \n",
      "6  \"Street shoreditch viral before they sold out ...     10pct  \n",
      "7  \"Craft beer venmo lomo fixie readymade marfa.\"...     20pct  \n",
      "8  \"Vegan migas ramps keytar wolf cray kickstarte...        1%  \n",
      "9  \"Semiotics biodiesel everyday craft beer etsy ...  1percent  \n",
      "Index(['Unnamed: 0', 'campaign_id', 'campaign_name', 'campaign_description',\n",
      "       'discount'],\n",
      "      dtype='object')\n"
     ]
    },
    {
     "data": {
      "text/plain": [
       "Unnamed: 0              0\n",
       "campaign_id             0\n",
       "campaign_name           0\n",
       "campaign_description    0\n",
       "discount                0\n",
       "dtype: int64"
      ]
     },
     "execution_count": 2,
     "metadata": {},
     "output_type": "execute_result"
    }
   ],
   "source": [
    "df_campaign = pd.read_csv('Marketing Department/campaign_data.csv', sep = '\\t')\n",
    "print(df_campaign)\n",
    "print(df_campaign.columns.ravel())\n",
    "df_campaign.isnull().sum()"
   ]
  },
  {
   "cell_type": "markdown",
   "id": "93f4de8a-efcf-4704-94e2-0bac0e175412",
   "metadata": {},
   "source": [
    "## Data Profiling for Campaign Data"
   ]
  },
  {
   "cell_type": "code",
   "execution_count": 3,
   "id": "e1887a12-79f7-42ea-8277-cf3b07285e3e",
   "metadata": {},
   "outputs": [
    {
     "data": {
      "text/html": [
       "<div>\n",
       "<style scoped>\n",
       "    .dataframe tbody tr th:only-of-type {\n",
       "        vertical-align: middle;\n",
       "    }\n",
       "\n",
       "    .dataframe tbody tr th {\n",
       "        vertical-align: top;\n",
       "    }\n",
       "\n",
       "    .dataframe thead th {\n",
       "        text-align: right;\n",
       "    }\n",
       "</style>\n",
       "<table border=\"1\" class=\"dataframe\">\n",
       "  <thead>\n",
       "    <tr style=\"text-align: right;\">\n",
       "      <th></th>\n",
       "      <th>Unnamed: 0</th>\n",
       "      <th>campaign_id</th>\n",
       "      <th>campaign_name</th>\n",
       "      <th>campaign_description</th>\n",
       "      <th>discount</th>\n",
       "    </tr>\n",
       "  </thead>\n",
       "  <tbody>\n",
       "  </tbody>\n",
       "</table>\n",
       "</div>"
      ],
      "text/plain": [
       "Empty DataFrame\n",
       "Columns: [Unnamed: 0, campaign_id, campaign_name, campaign_description, discount]\n",
       "Index: []"
      ]
     },
     "execution_count": 3,
     "metadata": {},
     "output_type": "execute_result"
    }
   ],
   "source": [
    "df_campaign[df_campaign.duplicated()] # No Dupes"
   ]
  },
  {
   "cell_type": "code",
   "execution_count": 4,
   "id": "9dafa48d-a25d-4ad1-8fbb-042db4f683a5",
   "metadata": {},
   "outputs": [
    {
     "data": {
      "text/html": [
       "<div>\n",
       "<style scoped>\n",
       "    .dataframe tbody tr th:only-of-type {\n",
       "        vertical-align: middle;\n",
       "    }\n",
       "\n",
       "    .dataframe tbody tr th {\n",
       "        vertical-align: top;\n",
       "    }\n",
       "\n",
       "    .dataframe thead th {\n",
       "        text-align: right;\n",
       "    }\n",
       "</style>\n",
       "<table border=\"1\" class=\"dataframe\">\n",
       "  <thead>\n",
       "    <tr style=\"text-align: right;\">\n",
       "      <th></th>\n",
       "      <th>Unnamed: 0</th>\n",
       "      <th>campaign_id</th>\n",
       "      <th>campaign_name</th>\n",
       "      <th>campaign_description</th>\n",
       "      <th>discount</th>\n",
       "    </tr>\n",
       "  </thead>\n",
       "  <tbody>\n",
       "  </tbody>\n",
       "</table>\n",
       "</div>"
      ],
      "text/plain": [
       "Empty DataFrame\n",
       "Columns: [Unnamed: 0, campaign_id, campaign_name, campaign_description, discount]\n",
       "Index: []"
      ]
     },
     "execution_count": 4,
     "metadata": {},
     "output_type": "execute_result"
    }
   ],
   "source": [
    "df_campaign[df_campaign['campaign_id'].duplicated()]"
   ]
  },
  {
   "cell_type": "code",
   "execution_count": 5,
   "id": "a0438c70-9144-4977-82b8-d1b1286f110a",
   "metadata": {},
   "outputs": [
    {
     "data": {
      "text/html": [
       "<div>\n",
       "<style scoped>\n",
       "    .dataframe tbody tr th:only-of-type {\n",
       "        vertical-align: middle;\n",
       "    }\n",
       "\n",
       "    .dataframe tbody tr th {\n",
       "        vertical-align: top;\n",
       "    }\n",
       "\n",
       "    .dataframe thead th {\n",
       "        text-align: right;\n",
       "    }\n",
       "</style>\n",
       "<table border=\"1\" class=\"dataframe\">\n",
       "  <thead>\n",
       "    <tr style=\"text-align: right;\">\n",
       "      <th></th>\n",
       "      <th>Unnamed: 0</th>\n",
       "      <th>campaign_id</th>\n",
       "      <th>campaign_name</th>\n",
       "      <th>campaign_description</th>\n",
       "      <th>discount</th>\n",
       "    </tr>\n",
       "  </thead>\n",
       "  <tbody>\n",
       "  </tbody>\n",
       "</table>\n",
       "</div>"
      ],
      "text/plain": [
       "Empty DataFrame\n",
       "Columns: [Unnamed: 0, campaign_id, campaign_name, campaign_description, discount]\n",
       "Index: []"
      ]
     },
     "execution_count": 5,
     "metadata": {},
     "output_type": "execute_result"
    }
   ],
   "source": [
    "df_campaign[df_campaign['campaign_name'].duplicated()]"
   ]
  },
  {
   "cell_type": "code",
   "execution_count": 6,
   "id": "ffd58d25-38d1-4180-b829-fe565e0993e5",
   "metadata": {},
   "outputs": [
    {
     "data": {
      "text/html": [
       "<div>\n",
       "<style scoped>\n",
       "    .dataframe tbody tr th:only-of-type {\n",
       "        vertical-align: middle;\n",
       "    }\n",
       "\n",
       "    .dataframe tbody tr th {\n",
       "        vertical-align: top;\n",
       "    }\n",
       "\n",
       "    .dataframe thead th {\n",
       "        text-align: right;\n",
       "    }\n",
       "</style>\n",
       "<table border=\"1\" class=\"dataframe\">\n",
       "  <thead>\n",
       "    <tr style=\"text-align: right;\">\n",
       "      <th></th>\n",
       "      <th>Unnamed: 0</th>\n",
       "      <th>campaign_id</th>\n",
       "      <th>campaign_name</th>\n",
       "      <th>campaign_description</th>\n",
       "      <th>discount</th>\n",
       "    </tr>\n",
       "  </thead>\n",
       "  <tbody>\n",
       "  </tbody>\n",
       "</table>\n",
       "</div>"
      ],
      "text/plain": [
       "Empty DataFrame\n",
       "Columns: [Unnamed: 0, campaign_id, campaign_name, campaign_description, discount]\n",
       "Index: []"
      ]
     },
     "execution_count": 6,
     "metadata": {},
     "output_type": "execute_result"
    }
   ],
   "source": [
    "df_campaign[df_campaign['campaign_description'].duplicated()]"
   ]
  },
  {
   "cell_type": "code",
   "execution_count": 7,
   "id": "55698ce9-18c8-4185-a7fc-9fe6b6a156c9",
   "metadata": {},
   "outputs": [
    {
     "data": {
      "text/html": [
       "<div>\n",
       "<style scoped>\n",
       "    .dataframe tbody tr th:only-of-type {\n",
       "        vertical-align: middle;\n",
       "    }\n",
       "\n",
       "    .dataframe tbody tr th {\n",
       "        vertical-align: top;\n",
       "    }\n",
       "\n",
       "    .dataframe thead th {\n",
       "        text-align: right;\n",
       "    }\n",
       "</style>\n",
       "<table border=\"1\" class=\"dataframe\">\n",
       "  <thead>\n",
       "    <tr style=\"text-align: right;\">\n",
       "      <th></th>\n",
       "      <th>Unnamed: 0</th>\n",
       "      <th>campaign_id</th>\n",
       "      <th>campaign_name</th>\n",
       "      <th>campaign_description</th>\n",
       "      <th>discount</th>\n",
       "    </tr>\n",
       "  </thead>\n",
       "  <tbody>\n",
       "    <tr>\n",
       "      <th>5</th>\n",
       "      <td>5</td>\n",
       "      <td>CAMPAIGN46302</td>\n",
       "      <td>you must be new here</td>\n",
       "      <td>\"Craft beer XOXO hella tacos chillwave cred or...</td>\n",
       "      <td>1pct</td>\n",
       "    </tr>\n",
       "    <tr>\n",
       "      <th>8</th>\n",
       "      <td>8</td>\n",
       "      <td>CAMPAIGN29983</td>\n",
       "      <td>would it hurt</td>\n",
       "      <td>\"Vegan migas ramps keytar wolf cray kickstarte...</td>\n",
       "      <td>1%</td>\n",
       "    </tr>\n",
       "    <tr>\n",
       "      <th>9</th>\n",
       "      <td>9</td>\n",
       "      <td>CAMPAIGN52447</td>\n",
       "      <td>pound for pound</td>\n",
       "      <td>\"Semiotics biodiesel everyday craft beer etsy ...</td>\n",
       "      <td>1percent</td>\n",
       "    </tr>\n",
       "  </tbody>\n",
       "</table>\n",
       "</div>"
      ],
      "text/plain": [
       "   Unnamed: 0    campaign_id         campaign_name  \\\n",
       "5           5  CAMPAIGN46302  you must be new here   \n",
       "8           8  CAMPAIGN29983         would it hurt   \n",
       "9           9  CAMPAIGN52447       pound for pound   \n",
       "\n",
       "                                campaign_description  discount  \n",
       "5  \"Craft beer XOXO hella tacos chillwave cred or...      1pct  \n",
       "8  \"Vegan migas ramps keytar wolf cray kickstarte...        1%  \n",
       "9  \"Semiotics biodiesel everyday craft beer etsy ...  1percent  "
      ]
     },
     "execution_count": 7,
     "metadata": {},
     "output_type": "execute_result"
    }
   ],
   "source": [
    "df_campaign[df_campaign['discount'].duplicated()]"
   ]
  },
  {
   "cell_type": "markdown",
   "id": "4022603d-1412-4ef8-88a8-0c3c6ff13ed6",
   "metadata": {},
   "source": [
    "## Converting discount percentages to float"
   ]
  },
  {
   "cell_type": "code",
   "execution_count": 8,
   "id": "96435ee5-aca6-4816-a46d-0c2f55537bee",
   "metadata": {},
   "outputs": [],
   "source": [
    "df_campaign['discount'] = df_campaign['discount'].str.rstrip('%pctpercent').astype(float)/100\n",
    "df_campaign.head()\n",
    "df_campaign.to_parquet(\"Marketing Department/parquets/cleaned_campaign.parquet\")"
   ]
  },
  {
   "cell_type": "markdown",
   "id": "5d7ab58a-0482-4762-a716-89806adfdfbf",
   "metadata": {},
   "source": [
    "## Transactional Campaign Data"
   ]
  },
  {
   "cell_type": "code",
   "execution_count": 9,
   "id": "c04b20a8-a2d7-494d-9002-62eb54843ffb",
   "metadata": {},
   "outputs": [
    {
     "name": "stdout",
     "output_type": "stream",
     "text": [
      "        Unnamed: 0 transaction_date    campaign_id  \\\n",
      "0                2       2023-08-14  CAMPAIGN49972   \n",
      "1                4       2021-10-12  CAMPAIGN46302   \n",
      "2                6       2023-01-30  CAMPAIGN29983   \n",
      "3                8       2022-01-05  CAMPAIGN46302   \n",
      "4                9       2023-09-19  CAMPAIGN46302   \n",
      "...            ...              ...            ...   \n",
      "124882      499990       2022-04-14  CAMPAIGN61872   \n",
      "124883      499991       2022-11-23  CAMPAIGN11190   \n",
      "124884      499992       2023-07-28  CAMPAIGN33679   \n",
      "124885      499995       2020-04-12  CAMPAIGN49972   \n",
      "124886      499997       2023-03-24  CAMPAIGN52447   \n",
      "\n",
      "                                    order_id estimated arrival  availed  \n",
      "0       0612c246-57f1-40e8-9993-0f8d41992049            10days        1  \n",
      "1       b4c411de-2fd3-4806-91ae-165edc9baa12            13days        0  \n",
      "2       26de6b40-db2d-40b9-a64c-58736eaf0381             3days        1  \n",
      "3       26b60a4e-aafe-4b99-bace-034d088a4a53             8days        1  \n",
      "4       4aab29ae-e610-46bf-92af-199f6f420cee            14days        1  \n",
      "...                                      ...               ...      ...  \n",
      "124882  6a5163c2-ba62-461c-a729-5b06fe266bd9            12days        0  \n",
      "124883  883e2fe2-bbdf-4b5e-8348-c2bcba07da0e            15days        1  \n",
      "124884  575b0a2d-5539-4565-a10b-1f4f6516cd27            12days        1  \n",
      "124885  ba506489-1505-481d-b0b1-8cdbf04a515f             6days        1  \n",
      "124886  2b2e775f-d6cd-4659-9a88-b4950bc326c0            15days        1  \n",
      "\n",
      "[124887 rows x 6 columns]\n",
      "Index(['Unnamed: 0', 'transaction_date', 'campaign_id', 'order_id',\n",
      "       'estimated arrival', 'availed'],\n",
      "      dtype='object')\n"
     ]
    },
    {
     "data": {
      "text/plain": [
       "Unnamed: 0           0\n",
       "transaction_date     0\n",
       "campaign_id          0\n",
       "order_id             0\n",
       "estimated arrival    0\n",
       "availed              0\n",
       "dtype: int64"
      ]
     },
     "execution_count": 9,
     "metadata": {},
     "output_type": "execute_result"
    }
   ],
   "source": [
    "df_transactional_campaign = pd.read_csv('Marketing Department/transactional_campaign_data.csv')\n",
    "print(df_transactional_campaign)\n",
    "print(df_transactional_campaign.columns.ravel())\n",
    "df_transactional_campaign.isnull().sum()"
   ]
  },
  {
   "cell_type": "markdown",
   "id": "8c1a5db3-b025-4413-b967-b0dff96ba84c",
   "metadata": {},
   "source": [
    "## Data Profiling for Transactional Campaign Data"
   ]
  },
  {
   "cell_type": "code",
   "execution_count": 10,
   "id": "b6c78764-9877-4cf9-a1b3-28acdbe08c3c",
   "metadata": {},
   "outputs": [
    {
     "data": {
      "text/html": [
       "<div>\n",
       "<style scoped>\n",
       "    .dataframe tbody tr th:only-of-type {\n",
       "        vertical-align: middle;\n",
       "    }\n",
       "\n",
       "    .dataframe tbody tr th {\n",
       "        vertical-align: top;\n",
       "    }\n",
       "\n",
       "    .dataframe thead th {\n",
       "        text-align: right;\n",
       "    }\n",
       "</style>\n",
       "<table border=\"1\" class=\"dataframe\">\n",
       "  <thead>\n",
       "    <tr style=\"text-align: right;\">\n",
       "      <th></th>\n",
       "      <th>Unnamed: 0</th>\n",
       "      <th>transaction_date</th>\n",
       "      <th>campaign_id</th>\n",
       "      <th>order_id</th>\n",
       "      <th>estimated arrival</th>\n",
       "      <th>availed</th>\n",
       "    </tr>\n",
       "  </thead>\n",
       "  <tbody>\n",
       "  </tbody>\n",
       "</table>\n",
       "</div>"
      ],
      "text/plain": [
       "Empty DataFrame\n",
       "Columns: [Unnamed: 0, transaction_date, campaign_id, order_id, estimated arrival, availed]\n",
       "Index: []"
      ]
     },
     "execution_count": 10,
     "metadata": {},
     "output_type": "execute_result"
    }
   ],
   "source": [
    "df_transactional_campaign[df_transactional_campaign['order_id'].duplicated()] # No Dupes"
   ]
  },
  {
   "cell_type": "markdown",
   "id": "5300dd16-288b-454c-9bed-4f454ac9c917",
   "metadata": {},
   "source": [
    "### Checking for future dates"
   ]
  },
  {
   "cell_type": "code",
   "execution_count": 11,
   "id": "446a86bd-4af3-45e2-87a9-2bc06a3e433e",
   "metadata": {},
   "outputs": [
    {
     "data": {
      "text/html": [
       "<div>\n",
       "<style scoped>\n",
       "    .dataframe tbody tr th:only-of-type {\n",
       "        vertical-align: middle;\n",
       "    }\n",
       "\n",
       "    .dataframe tbody tr th {\n",
       "        vertical-align: top;\n",
       "    }\n",
       "\n",
       "    .dataframe thead th {\n",
       "        text-align: right;\n",
       "    }\n",
       "</style>\n",
       "<table border=\"1\" class=\"dataframe\">\n",
       "  <thead>\n",
       "    <tr style=\"text-align: right;\">\n",
       "      <th></th>\n",
       "      <th>Unnamed: 0</th>\n",
       "      <th>transaction_date</th>\n",
       "      <th>campaign_id</th>\n",
       "      <th>order_id</th>\n",
       "      <th>estimated arrival</th>\n",
       "      <th>availed</th>\n",
       "    </tr>\n",
       "  </thead>\n",
       "  <tbody>\n",
       "  </tbody>\n",
       "</table>\n",
       "</div>"
      ],
      "text/plain": [
       "Empty DataFrame\n",
       "Columns: [Unnamed: 0, transaction_date, campaign_id, order_id, estimated arrival, availed]\n",
       "Index: []"
      ]
     },
     "execution_count": 11,
     "metadata": {},
     "output_type": "execute_result"
    }
   ],
   "source": [
    "cond = pd.to_datetime(df_transactional_campaign['transaction_date']) > pd.Timestamp(2024,1,1)\n",
    "df_transactional_campaign.loc[cond]"
   ]
  },
  {
   "cell_type": "code",
   "execution_count": 12,
   "id": "fa0d9138-ca0b-4774-93ed-24a30d6c9d1c",
   "metadata": {},
   "outputs": [
    {
     "data": {
      "text/html": [
       "<div>\n",
       "<style scoped>\n",
       "    .dataframe tbody tr th:only-of-type {\n",
       "        vertical-align: middle;\n",
       "    }\n",
       "\n",
       "    .dataframe tbody tr th {\n",
       "        vertical-align: top;\n",
       "    }\n",
       "\n",
       "    .dataframe thead th {\n",
       "        text-align: right;\n",
       "    }\n",
       "</style>\n",
       "<table border=\"1\" class=\"dataframe\">\n",
       "  <thead>\n",
       "    <tr style=\"text-align: right;\">\n",
       "      <th></th>\n",
       "      <th>Unnamed: 0</th>\n",
       "      <th>transaction_date</th>\n",
       "      <th>campaign_id</th>\n",
       "      <th>order_id</th>\n",
       "      <th>estimated arrival</th>\n",
       "      <th>availed</th>\n",
       "    </tr>\n",
       "  </thead>\n",
       "  <tbody>\n",
       "    <tr>\n",
       "      <th>0</th>\n",
       "      <td>2</td>\n",
       "      <td>2023-08-14</td>\n",
       "      <td>CAMPAIGN49972</td>\n",
       "      <td>0612c246-57f1-40e8-9993-0f8d41992049</td>\n",
       "      <td>10days</td>\n",
       "      <td>1</td>\n",
       "    </tr>\n",
       "    <tr>\n",
       "      <th>1</th>\n",
       "      <td>4</td>\n",
       "      <td>2021-10-12</td>\n",
       "      <td>CAMPAIGN46302</td>\n",
       "      <td>b4c411de-2fd3-4806-91ae-165edc9baa12</td>\n",
       "      <td>13days</td>\n",
       "      <td>0</td>\n",
       "    </tr>\n",
       "    <tr>\n",
       "      <th>2</th>\n",
       "      <td>6</td>\n",
       "      <td>2023-01-30</td>\n",
       "      <td>CAMPAIGN29983</td>\n",
       "      <td>26de6b40-db2d-40b9-a64c-58736eaf0381</td>\n",
       "      <td>3days</td>\n",
       "      <td>1</td>\n",
       "    </tr>\n",
       "    <tr>\n",
       "      <th>3</th>\n",
       "      <td>8</td>\n",
       "      <td>2022-01-05</td>\n",
       "      <td>CAMPAIGN46302</td>\n",
       "      <td>26b60a4e-aafe-4b99-bace-034d088a4a53</td>\n",
       "      <td>8days</td>\n",
       "      <td>1</td>\n",
       "    </tr>\n",
       "    <tr>\n",
       "      <th>4</th>\n",
       "      <td>9</td>\n",
       "      <td>2023-09-19</td>\n",
       "      <td>CAMPAIGN46302</td>\n",
       "      <td>4aab29ae-e610-46bf-92af-199f6f420cee</td>\n",
       "      <td>14days</td>\n",
       "      <td>1</td>\n",
       "    </tr>\n",
       "    <tr>\n",
       "      <th>...</th>\n",
       "      <td>...</td>\n",
       "      <td>...</td>\n",
       "      <td>...</td>\n",
       "      <td>...</td>\n",
       "      <td>...</td>\n",
       "      <td>...</td>\n",
       "    </tr>\n",
       "    <tr>\n",
       "      <th>124882</th>\n",
       "      <td>499990</td>\n",
       "      <td>2022-04-14</td>\n",
       "      <td>CAMPAIGN61872</td>\n",
       "      <td>6a5163c2-ba62-461c-a729-5b06fe266bd9</td>\n",
       "      <td>12days</td>\n",
       "      <td>0</td>\n",
       "    </tr>\n",
       "    <tr>\n",
       "      <th>124883</th>\n",
       "      <td>499991</td>\n",
       "      <td>2022-11-23</td>\n",
       "      <td>CAMPAIGN11190</td>\n",
       "      <td>883e2fe2-bbdf-4b5e-8348-c2bcba07da0e</td>\n",
       "      <td>15days</td>\n",
       "      <td>1</td>\n",
       "    </tr>\n",
       "    <tr>\n",
       "      <th>124884</th>\n",
       "      <td>499992</td>\n",
       "      <td>2023-07-28</td>\n",
       "      <td>CAMPAIGN33679</td>\n",
       "      <td>575b0a2d-5539-4565-a10b-1f4f6516cd27</td>\n",
       "      <td>12days</td>\n",
       "      <td>1</td>\n",
       "    </tr>\n",
       "    <tr>\n",
       "      <th>124885</th>\n",
       "      <td>499995</td>\n",
       "      <td>2020-04-12</td>\n",
       "      <td>CAMPAIGN49972</td>\n",
       "      <td>ba506489-1505-481d-b0b1-8cdbf04a515f</td>\n",
       "      <td>6days</td>\n",
       "      <td>1</td>\n",
       "    </tr>\n",
       "    <tr>\n",
       "      <th>124886</th>\n",
       "      <td>499997</td>\n",
       "      <td>2023-03-24</td>\n",
       "      <td>CAMPAIGN52447</td>\n",
       "      <td>2b2e775f-d6cd-4659-9a88-b4950bc326c0</td>\n",
       "      <td>15days</td>\n",
       "      <td>1</td>\n",
       "    </tr>\n",
       "  </tbody>\n",
       "</table>\n",
       "<p>124887 rows × 6 columns</p>\n",
       "</div>"
      ],
      "text/plain": [
       "        Unnamed: 0 transaction_date    campaign_id  \\\n",
       "0                2       2023-08-14  CAMPAIGN49972   \n",
       "1                4       2021-10-12  CAMPAIGN46302   \n",
       "2                6       2023-01-30  CAMPAIGN29983   \n",
       "3                8       2022-01-05  CAMPAIGN46302   \n",
       "4                9       2023-09-19  CAMPAIGN46302   \n",
       "...            ...              ...            ...   \n",
       "124882      499990       2022-04-14  CAMPAIGN61872   \n",
       "124883      499991       2022-11-23  CAMPAIGN11190   \n",
       "124884      499992       2023-07-28  CAMPAIGN33679   \n",
       "124885      499995       2020-04-12  CAMPAIGN49972   \n",
       "124886      499997       2023-03-24  CAMPAIGN52447   \n",
       "\n",
       "                                    order_id estimated arrival  availed  \n",
       "0       0612c246-57f1-40e8-9993-0f8d41992049            10days        1  \n",
       "1       b4c411de-2fd3-4806-91ae-165edc9baa12            13days        0  \n",
       "2       26de6b40-db2d-40b9-a64c-58736eaf0381             3days        1  \n",
       "3       26b60a4e-aafe-4b99-bace-034d088a4a53             8days        1  \n",
       "4       4aab29ae-e610-46bf-92af-199f6f420cee            14days        1  \n",
       "...                                      ...               ...      ...  \n",
       "124882  6a5163c2-ba62-461c-a729-5b06fe266bd9            12days        0  \n",
       "124883  883e2fe2-bbdf-4b5e-8348-c2bcba07da0e            15days        1  \n",
       "124884  575b0a2d-5539-4565-a10b-1f4f6516cd27            12days        1  \n",
       "124885  ba506489-1505-481d-b0b1-8cdbf04a515f             6days        1  \n",
       "124886  2b2e775f-d6cd-4659-9a88-b4950bc326c0            15days        1  \n",
       "\n",
       "[124887 rows x 6 columns]"
      ]
     },
     "execution_count": 12,
     "metadata": {},
     "output_type": "execute_result"
    }
   ],
   "source": [
    "df_transactional_campaign[df_transactional_campaign['estimated arrival'].str.contains('days')] # No Dupes"
   ]
  },
  {
   "cell_type": "code",
   "execution_count": 13,
   "id": "6628c8b4-d21b-40cf-b111-ce7315ccfe26",
   "metadata": {},
   "outputs": [],
   "source": [
    "df_transactional_campaign.to_parquet(\"Marketing Department/parquets/cleaned_transaction_campaign.parquet\")"
   ]
  }
 ],
 "metadata": {
  "kernelspec": {
   "display_name": "Python 3 (ipykernel)",
   "language": "python",
   "name": "python3"
  },
  "language_info": {
   "codemirror_mode": {
    "name": "ipython",
    "version": 3
   },
   "file_extension": ".py",
   "mimetype": "text/x-python",
   "name": "python",
   "nbconvert_exporter": "python",
   "pygments_lexer": "ipython3",
   "version": "3.12.0"
  }
 },
 "nbformat": 4,
 "nbformat_minor": 5
}
